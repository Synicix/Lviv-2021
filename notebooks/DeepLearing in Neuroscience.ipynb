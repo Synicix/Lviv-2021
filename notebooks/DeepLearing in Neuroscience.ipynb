{
 "cells": [
  {
   "cell_type": "markdown",
   "metadata": {},
   "source": [
    "<table class=\"ee-notebook-buttons\" align=\"left\"><td>\n",
    "<a target=\"_blank\"  href=\"https://colab.research.google.com/github/eywalker/LVIV-2021/blob/main/notebooks/DeepLearing%20in%20Neuroscience.ipynb\">\n",
    "    <img src=\"https://www.tensorflow.org/images/colab_logo_32px.png\" /> Run in Google Colab</a>\n",
    "</td><td>\n",
    "<a target=\"_blank\"  href=\"https://github.com/eywalker/LVIV-2021/blob/main/notebooks/DeepLearing%20in%20Neuroscience.ipynb\"><img width=32px src=\"https://www.tensorflow.org/images/GitHub-Mark-32px.png\" /> View source on GitHub</a></td></table>"
   ]
  },
  {
   "cell_type": "markdown",
   "metadata": {
    "id": "xp0SO4gr2D7w"
   },
   "source": [
    "# Welcome to Deep Learning in Neuroscience by Edgar Y. Walker"
   ]
  },
  {
   "cell_type": "markdown",
   "metadata": {},
   "source": [
    "This is a Jupyter notebook to accompany the course on \"Deep Learning in Neuroscience\" taught as part of the Lviv Data Science Summer School 2021. This notebook as well as any other relevant information can be found in the [GitHub repository](https://github.com/eywalker/lviv-2021)!\n",
    "\n",
    "In this course, we will learn how deep learning is getting utilized in studying neuroscience, specifically in building models of neuronal responses to complex sensory inputs such as natural images. We will start by going through some neuroscience primer in slides. We will then get our hands dirty by taking real neuronal responses recorded from mouse primary visual cortex (V1) as the mouse observes a bunch of natural images and developing models to predict these responses. By the end of this course, you will gain basic familiarity in utilizing deep learning models to predict responses of 1000s of neurons to natural images!"
   ]
  },
  {
   "cell_type": "markdown",
   "metadata": {},
   "source": [
    "## Preparing the environment"
   ]
  },
  {
   "cell_type": "markdown",
   "metadata": {},
   "source": [
    "#### <font color='red'>NOTE: Please run this section at the very beginning of the first session!</font>"
   ]
  },
  {
   "cell_type": "markdown",
   "metadata": {},
   "source": [
    "Before we get to dive in and learn how deep learning is used in neuroscience and get your first neural predictive model trained, we need to install some prerequisite packages and download some neuronal data!"
   ]
  },
  {
   "cell_type": "markdown",
   "metadata": {},
   "source": [
    "### Getting the code"
   ]
  },
  {
   "cell_type": "markdown",
   "metadata": {},
   "source": [
    "We are going to primarily use [PyTorch](https://pytorch.org) to build, train and evaluate our deep learning models and I am going to assume some familiarity with PyTorch already.\n",
    "\n",
    "Also to be able to handle the dataset containing neuronal activities, we are going to make our life easier by using a few existing libraries. I have prepared a library called [Lviv-2021](https://github.com/eywalker/lviv-2021). This library has a dependency on [neuralpredictors](https://github.com/sinzlab/neuralpredictors), which is a collection of PyTorch layers, tools and other utilities that would prove helpful to train networks to predict neuronal responses prepared by [Sinz Lab](https://sinzlab.org/).\n",
    "\n",
    "Let's go ahead and install this inside the Colab environment (you can skip this if you are running this inside a Docker environment)."
   ]
  },
  {
   "cell_type": "code",
   "execution_count": null,
   "metadata": {
    "colab": {
     "base_uri": "https://localhost:8080/",
     "height": 0
    },
    "id": "m7dJ_i-tSPEq",
    "outputId": "bdc3f3f8-e451-4bd3-83d5-3f126b88f431"
   },
   "outputs": [],
   "source": [
    "# Install PyTorch dependency\n",
    "!pip3 install torch==1.9.0+cu102 torchvision==0.10.0+cu102 -f https://download.pytorch.org/whl/torch_stable.html\n",
    "    \n",
    "# Install \n",
    "!pip3 install git+https://github.com/eywalker/lviv-2021.git"
   ]
  },
  {
   "cell_type": "markdown",
   "metadata": {},
   "source": [
    "### Getting the dataset"
   ]
  },
  {
   "cell_type": "markdown",
   "metadata": {},
   "source": [
    "We are going to use the dataset made available for our recent paper [Lurz et al. ICLR 2021](https://github.com/sinzlab/Lurz_2020_code), predicting responses of mouse visual cortex to natural images. \n",
    "\n",
    "The dataset can take anywhere from 5-10 min to download, so please be sure to **run the following at the very beginning of the session!** We are going to first spend some time learning the basics of neuroscience and it would be best that you let the download take place during that time!\n",
    "\n",
    "To download the data, simply execute the following cell, and let it run till completion."
   ]
  },
  {
   "cell_type": "code",
   "execution_count": null,
   "metadata": {
    "colab": {
     "base_uri": "https://localhost:8080/"
    },
    "id": "tsNehEZlTSL4",
    "outputId": "8e2984ad-9f32-4dfd-b8b7-4536f2e53823"
   },
   "outputs": [],
   "source": [
    "!git clone https://gin.g-node.org/cajal/Lurz2020.git /content/data"
   ]
  },
  {
   "cell_type": "markdown",
   "metadata": {},
   "source": [
    "# Slide presentation on primer on computational neuroscience"
   ]
  },
  {
   "cell_type": "markdown",
   "metadata": {},
   "source": [
    "Come back to complete the rest of the notebook after the slide presentation."
   ]
  },
  {
   "cell_type": "markdown",
   "metadata": {},
   "source": [
    "# Developing models of neural population responses to natural images"
   ]
  },
  {
   "cell_type": "markdown",
   "metadata": {},
   "source": [
    "Now that you have been primed with some background neuroscience knowledge, let's get our hands dirty and try to build our first neural predictive model.\n",
    "\n",
    "As part of the setup, we have downloaded a 2-photon imaging dataset from mouse primary visual cortex as we present 1000s of natural images (if not done yet, please do so immediately by stepping through the beginning sections of this notebook).\n",
    "\n",
    "Let's go ahead and import a bunch of standard libraries that'll prove useful in exploring our data."
   ]
  },
  {
   "cell_type": "code",
   "execution_count": 36,
   "metadata": {},
   "outputs": [],
   "source": [
    "import numpy as np\n",
    "import torch\n",
    "from torch import nn\n",
    "from torch.nn import functional as F\n",
    "import matplotlib.pyplot as plt\n",
    "import seaborn as sns"
   ]
  },
  {
   "cell_type": "markdown",
   "metadata": {},
   "source": [
    "## Navigating the neuroscience data"
   ]
  },
  {
   "cell_type": "markdown",
   "metadata": {},
   "source": [
    "As with any data science project, you must start by understanding your data! Let's take some time to navigate the data you downloaded."
   ]
  },
  {
   "cell_type": "code",
   "execution_count": 2,
   "metadata": {},
   "outputs": [
    {
     "name": "stdout",
     "output_type": "stream",
     "text": [
      "change.log  config.json  \u001b[0m\u001b[01;34mdata\u001b[0m/  \u001b[01;34mmeta\u001b[0m/\n"
     ]
    }
   ],
   "source": [
    "ls ./data/static20457-5-9-preproc0/"
   ]
  },
  {
   "cell_type": "code",
   "execution_count": 3,
   "metadata": {},
   "outputs": [
    {
     "name": "stdout",
     "output_type": "stream",
     "text": [
      "\u001b[0m\u001b[01;34mbehavior\u001b[0m/  \u001b[01;34mimages\u001b[0m/  \u001b[01;34mpupil_center\u001b[0m/  \u001b[01;34mresponses\u001b[0m/\n"
     ]
    }
   ],
   "source": [
    "ls ./data/static20457-5-9-preproc0/data"
   ]
  },
  {
   "cell_type": "code",
   "execution_count": 4,
   "metadata": {},
   "outputs": [
    {
     "name": "stdout",
     "output_type": "stream",
     "text": [
      "0.npy\n",
      "1.npy\n",
      "10.npy\n",
      "100.npy\n",
      "1000.npy\n",
      "1001.npy\n",
      "1002.npy\n",
      "1003.npy\n",
      "1004.npy\n",
      "1005.npy\n",
      "1006.npy\n",
      "1007.npy\n",
      "1008.npy\n",
      "1009.npy\n",
      "101.npy\n",
      "1010.npy\n",
      "1011.npy\n",
      "1012.npy\n",
      "1013.npy\n",
      "1014.npy\n",
      "1015.npy\n",
      "1016.npy\n",
      "1017.npy\n",
      "1018.npy\n",
      "1019.npy\n",
      "102.npy\n",
      "1020.npy\n",
      "1021.npy\n",
      "1022.npy\n",
      "1023.npy\n",
      "ls: write error: Broken pipe\n"
     ]
    }
   ],
   "source": [
    "ls ./data/static20457-5-9-preproc0/data/responses | head -30"
   ]
  },
  {
   "cell_type": "code",
   "execution_count": 5,
   "metadata": {},
   "outputs": [
    {
     "name": "stdout",
     "output_type": "stream",
     "text": [
      "0.npy\n",
      "1.npy\n",
      "10.npy\n",
      "100.npy\n",
      "1000.npy\n",
      "1001.npy\n",
      "1002.npy\n",
      "1003.npy\n",
      "1004.npy\n",
      "1005.npy\n",
      "1006.npy\n",
      "1007.npy\n",
      "1008.npy\n",
      "1009.npy\n",
      "101.npy\n",
      "1010.npy\n",
      "1011.npy\n",
      "1012.npy\n",
      "1013.npy\n",
      "1014.npy\n",
      "1015.npy\n",
      "1016.npy\n",
      "1017.npy\n",
      "1018.npy\n",
      "1019.npy\n",
      "102.npy\n",
      "1020.npy\n",
      "1021.npy\n",
      "1022.npy\n",
      "1023.npy\n",
      "ls: write error: Broken pipe\n"
     ]
    }
   ],
   "source": [
    "ls ./data/static20457-5-9-preproc0/data/images | head -30"
   ]
  },
  {
   "cell_type": "markdown",
   "metadata": {},
   "source": [
    "You can see that both responses and images are contained in collections of `numpy` files named like `1.npy` or `31.npy`. The number here corresponds to a specific **trial** or simply different image presentation during an experiment.\n",
    "\n",
    "Let's take a look at some of these files."
   ]
  },
  {
   "cell_type": "markdown",
   "metadata": {},
   "source": [
    "### Loading data files one at a time"
   ]
  },
  {
   "cell_type": "markdown",
   "metadata": {},
   "source": [
    "Let's pick some trial and load the image as well as the response"
   ]
  },
  {
   "cell_type": "code",
   "execution_count": 7,
   "metadata": {},
   "outputs": [],
   "source": [
    "trial_idx = 1100\n",
    "trial_image = np.load(f'./data/static20457-5-9-preproc0/data/images/{trial_idx}.npy')\n",
    "trial_responses = np.load(f'./data/static20457-5-9-preproc0/data/responses/{trial_idx}.npy')"
   ]
  },
  {
   "cell_type": "markdown",
   "metadata": {},
   "source": [
    "The image is shaped as $\\text{channel} \\times \\text{height} \\times \\text{width}$"
   ]
  },
  {
   "cell_type": "code",
   "execution_count": 8,
   "metadata": {},
   "outputs": [
    {
     "data": {
      "text/plain": [
       "(1, 36, 64)"
      ]
     },
     "execution_count": 8,
     "metadata": {},
     "output_type": "execute_result"
    }
   ],
   "source": [
    "trial_image.shape"
   ]
  },
  {
   "cell_type": "code",
   "execution_count": 9,
   "metadata": {},
   "outputs": [
    {
     "data": {
      "text/plain": [
       "(-0.5, 63.5, 35.5, -0.5)"
      ]
     },
     "execution_count": 9,
     "metadata": {},
     "output_type": "execute_result"
    },
    {
     "data": {
      "image/png": "[encoded data removed]",
      "text/plain": [
       "<Figure size 432x288 with 1 Axes>"
      ]
     },
     "metadata": {
      "needs_background": "light"
     },
     "output_type": "display_data"
    }
   ],
   "source": [
    "plt.imshow(trial_image.squeeze(), cmap='gray', vmin=0, vmax=255)\n",
    "plt.axis('off')"
   ]
  },
  {
   "cell_type": "markdown",
   "metadata": {},
   "source": [
    "In contrast, the shape of `trial_response` is simply the number of neurons"
   ]
  },
  {
   "cell_type": "code",
   "execution_count": 12,
   "metadata": {},
   "outputs": [
    {
     "data": {
      "text/plain": [
       "(5335,)"
      ]
     },
     "execution_count": 12,
     "metadata": {},
     "output_type": "execute_result"
    }
   ],
   "source": [
    "trial_responses.shape"
   ]
  },
  {
   "cell_type": "code",
   "execution_count": 13,
   "metadata": {},
   "outputs": [
    {
     "data": {
      "text/plain": [
       "-5.409307320414307e-10"
      ]
     },
     "execution_count": 13,
     "metadata": {},
     "output_type": "execute_result"
    }
   ],
   "source": [
    "trial_responses.min() # responses are practically always >= 0"
   ]
  },
  {
   "cell_type": "code",
   "execution_count": 14,
   "metadata": {},
   "outputs": [
    {
     "data": {
      "text/plain": [
       "53.39189366955226"
      ]
     },
     "execution_count": 14,
     "metadata": {},
     "output_type": "execute_result"
    }
   ],
   "source": [
    "trial_responses.max()"
   ]
  },
  {
   "cell_type": "code",
   "execution_count": 41,
   "metadata": {},
   "outputs": [
    {
     "data": {
      "image/png": "[encoded data removed]",
      "text/plain": [
       "<Figure size 900x600 with 1 Axes>"
      ]
     },
     "metadata": {
      "needs_background": "light"
     },
     "output_type": "display_data"
    }
   ],
   "source": [
    "fig, ax = plt.subplots(1, 1, dpi=150)\n",
    "ax.hist(trial_responses, 100);\n",
    "ax.set_title('Neural activity over all neurons responding to an image')\n",
    "ax.set_xlabel('Neuron activity')\n",
    "ax.set_ylabel('Neuron counts')\n",
    "sns.despine()"
   ]
  },
  {
   "cell_type": "markdown",
   "metadata": {},
   "source": [
    "You can see most neuron's responses stay very close to 0 - signifying no activity."
   ]
  },
  {
   "cell_type": "markdown",
   "metadata": {},
   "source": [
    "### Loading the entire dataset"
   ]
  },
  {
   "cell_type": "markdown",
   "metadata": {},
   "source": [
    "While we can inspect the image and the corresponding neural population responses one image at a time, this is quite cumbersome and also impractical for use in network training. Fortunately, the `lviv` package provides us with a convenience function that will help to load the entire dataset as PyTorch dataloaders."
   ]
  },
  {
   "cell_type": "code",
   "execution_count": 18,
   "metadata": {},
   "outputs": [],
   "source": [
    "from lviv.dataset import load_dataset"
   ]
  },
  {
   "cell_type": "markdown",
   "metadata": {},
   "source": [
    "As we prepare the dataloaders, we get to specify the batch size."
   ]
  },
  {
   "cell_type": "code",
   "execution_count": 19,
   "metadata": {},
   "outputs": [],
   "source": [
    "dataloaders = load_dataset(path = './data/static20457-5-9-preproc0', batch_size=60)"
   ]
  },
  {
   "cell_type": "markdown",
   "metadata": {},
   "source": [
    "The function returns a dictionary consisting of three dataloaders for training, validation, and test set."
   ]
  },
  {
   "cell_type": "code",
   "execution_count": 20,
   "metadata": {},
   "outputs": [
    {
     "data": {
      "text/plain": [
       "{'train': <torch.utils.data.dataloader.DataLoader at 0x7f1100aeee80>,\n",
       " 'validation': <torch.utils.data.dataloader.DataLoader at 0x7f1100879400>,\n",
       " 'test': <torch.utils.data.dataloader.DataLoader at 0x7f1100879310>}"
      ]
     },
     "execution_count": 20,
     "metadata": {},
     "output_type": "execute_result"
    }
   ],
   "source": [
    "dataloaders"
   ]
  },
  {
   "cell_type": "markdown",
   "metadata": {},
   "source": [
    "Let's specifically look at the trainset dataloader"
   ]
  },
  {
   "cell_type": "code",
   "execution_count": 21,
   "metadata": {},
   "outputs": [],
   "source": [
    "train_loader = dataloaders['train']"
   ]
  },
  {
   "cell_type": "markdown",
   "metadata": {},
   "source": [
    "Total number of images can be checked as follows:"
   ]
  },
  {
   "cell_type": "code",
   "execution_count": 22,
   "metadata": {},
   "outputs": [
    {
     "data": {
      "text/plain": [
       "4472"
      ]
     },
     "execution_count": 22,
     "metadata": {},
     "output_type": "execute_result"
    }
   ],
   "source": [
    "len(train_loader.sampler)"
   ]
  },
  {
   "cell_type": "markdown",
   "metadata": {},
   "source": [
    "We can inspect what it returns per batch:"
   ]
  },
  {
   "cell_type": "code",
   "execution_count": 23,
   "metadata": {},
   "outputs": [],
   "source": [
    "images, responses = next(iter(train_loader))"
   ]
  },
  {
   "cell_type": "code",
   "execution_count": 24,
   "metadata": {},
   "outputs": [
    {
     "data": {
      "text/plain": [
       "torch.Size([60, 1, 36, 64])"
      ]
     },
     "execution_count": 24,
     "metadata": {},
     "output_type": "execute_result"
    }
   ],
   "source": [
    "images.shape"
   ]
  },
  {
   "cell_type": "code",
   "execution_count": 25,
   "metadata": {},
   "outputs": [
    {
     "data": {
      "text/plain": [
       "torch.Size([60, 5335])"
      ]
     },
     "execution_count": 25,
     "metadata": {},
     "output_type": "execute_result"
    }
   ],
   "source": [
    "responses.shape"
   ]
  },
  {
   "cell_type": "markdown",
   "metadata": {},
   "source": [
    "As expected, you can see it returns a batch size of 60 images and responses for all neurons."
   ]
  },
  {
   "cell_type": "markdown",
   "metadata": {},
   "source": [
    "Similar inspection can be done on the **validation** and **testing** dataloaders."
   ]
  },
  {
   "cell_type": "code",
   "execution_count": 26,
   "metadata": {},
   "outputs": [
    {
     "data": {
      "text/plain": [
       "522"
      ]
     },
     "execution_count": 26,
     "metadata": {},
     "output_type": "execute_result"
    }
   ],
   "source": [
    "# number of images in validation set\n",
    "len(dataloaders['validation'].sampler)"
   ]
  },
  {
   "cell_type": "code",
   "execution_count": 27,
   "metadata": {},
   "outputs": [
    {
     "data": {
      "text/plain": [
       "999"
      ]
     },
     "execution_count": 27,
     "metadata": {},
     "output_type": "execute_result"
    }
   ],
   "source": [
    "# number of images in test set\n",
    "len(dataloaders['test'].sampler)"
   ]
  },
  {
   "cell_type": "markdown",
   "metadata": {},
   "source": [
    "You might think that we have a lot of images in test set, but this is because test set consists of repeated images."
   ]
  },
  {
   "cell_type": "markdown",
   "metadata": {},
   "source": [
    "Some additional trial information can be observed by accessing the underlying PyTorch dataset object and looking at the `trial_info`. Note that this is not part of the standard PyTorch dataset/dataloader interface, but rather a feature specifically provided by our `lviv` library!"
   ]
  },
  {
   "cell_type": "code",
   "execution_count": 29,
   "metadata": {},
   "outputs": [],
   "source": [
    "# Access to the dataset object that underlies all dataloaders\n",
    "dataset = dataloaders['test'].dataset"
   ]
  },
  {
   "cell_type": "code",
   "execution_count": 30,
   "metadata": {},
   "outputs": [],
   "source": [
    "# get trials that are marked as \"test\" set\n",
    "test_trials = np.where(dataset.trial_info['tiers'] == 'test')[0]"
   ]
  },
  {
   "cell_type": "code",
   "execution_count": 31,
   "metadata": {},
   "outputs": [],
   "source": [
    "# get information about the presented image for ALL trials\n",
    "image_ids = dataset.trial_info['frame_image_id']"
   ]
  },
  {
   "cell_type": "code",
   "execution_count": 32,
   "metadata": {},
   "outputs": [
    {
     "data": {
      "text/plain": [
       "array([ 104,  128,  183,  355,  479,  483,  656,  803,  830,  936, 1201,\n",
       "       1494, 1596, 1652, 1656, 1682, 1731, 1756, 1796, 2005, 2008, 2014,\n",
       "       2159, 2214, 2389, 2586, 2710, 2746, 2747, 2803, 2816, 2825, 2954,\n",
       "       3018, 3107, 3144, 3163, 3372, 3427, 3438, 3487, 3507, 3562, 3702,\n",
       "       3847, 3924, 4231, 4295, 4373, 4397, 4400, 4430, 4594, 4619, 4667,\n",
       "       4674, 4717, 4739, 4782, 4812, 4814, 4821, 4923, 4953, 5034, 5128,\n",
       "       5166, 5225, 5264, 5288, 5322, 5334, 5399, 5402, 5504, 5640, 5671,\n",
       "       5679, 5754, 5782, 6013, 6034, 6066, 6082, 6205, 6238, 6248, 6490,\n",
       "       6562, 6773, 6790, 6831, 6886, 7017, 7028, 7107, 7119, 7120, 7154,\n",
       "       7495])"
      ]
     },
     "execution_count": 32,
     "metadata": {},
     "output_type": "execute_result"
    }
   ],
   "source": [
    "# find IDs of all unique images presented during test trials\n",
    "unique_test_images = np.unique(image_ids[test_trials])\n",
    "unique_test_images"
   ]
  },
  {
   "cell_type": "code",
   "execution_count": 34,
   "metadata": {},
   "outputs": [
    {
     "data": {
      "text/plain": [
       "100"
      ]
     },
     "execution_count": 34,
     "metadata": {},
     "output_type": "execute_result"
    }
   ],
   "source": [
    "len(unique_test_images)"
   ]
  },
  {
   "cell_type": "markdown",
   "metadata": {},
   "source": [
    "We can see that the test set consists of 100 unique images, each repeated up to 10 times."
   ]
  },
  {
   "cell_type": "markdown",
   "metadata": {},
   "source": [
    "Let's now take a look at how a neuron responds to these repeated presentations of an identical image."
   ]
  },
  {
   "cell_type": "code",
   "execution_count": 62,
   "metadata": {},
   "outputs": [],
   "source": [
    "# noisiness of neural responses: plot one neuron's responses to 20 images (x axis) each shown 10 repeats (y axis)\n",
    "import pandas as pd\n",
    "condition_hash = np.load(\n",
    "    \"/content/data/static20457-5-9-preproc0/meta/trials/condition_hash.npy\"\n",
    ")\n",
    "responses = [\n",
    "    np.load(f\"/content/data/static20457-5-9-preproc0/data/responses/{i}.npy\")\n",
    "    for i in range(len(condition_hash))\n",
    "]\n",
    "\n",
    "df = pd.DataFrame({\"condition_hash\": condition_hash, \"response\": responses})\n",
    "df['repeats'] = df.groupby(\"condition_hash\").transform('count')\n",
    "df = df.loc[df['repeats'] == 10]  # only keep trials with 10 repeats"
   ]
  },
  {
   "cell_type": "code",
   "execution_count": 63,
   "metadata": {},
   "outputs": [
    {
     "data": {
      "image/png": "[encoded data removed]",
      "text/plain": [
       "<Figure size 900x600 with 1 Axes>"
      ]
     },
     "metadata": {
      "needs_background": "light"
     },
     "output_type": "display_data"
    }
   ],
   "source": [
    "neuron_idx = 3  # choose one neuron to inspect its responses\n",
    "\n",
    "fig, ax = plt.subplots(1, 1, dpi=150)\n",
    "for i, (_, repeats) in enumerate(list(df.groupby(\"condition_hash\"))[:20]):\n",
    "    ax.scatter(np.ones(10) * i, np.stack(repeats.response)[:, neuron_idx], c='k', s=0.5)\n",
    "ax.set_title(f'Neuron {neuron_idx} responses to repeated image presentations')\n",
    "ax.set_xlabel('Images')\n",
    "ax.set_ylabel('Responses')\n",
    "sns.despine()"
   ]
  },
  {
   "cell_type": "markdown",
   "metadata": {},
   "source": [
    "You can see that indeed a single neuorn's responses vary widely even to repeated presentations of an identical stimulus! This **noiseness** of neural responses make predicting the respones of the neurons to images fundamentally challenging and also esssentially make it impossible to yield perfect fit! Instead, we would often try to fit the **distribution of responses** the best we can, and we will briefly visit this point later."
   ]
  },
  {
   "cell_type": "markdown",
   "metadata": {},
   "source": [
    "# Modeling the neuronal responses"
   ]
  },
  {
   "cell_type": "markdown",
   "metadata": {},
   "source": [
    "Now that we have successfully loaded the dataset and inspected its contents, it's time for us to start **modeling** the responses.\n",
    "\n",
    "We will start by building a very basic **Linear-Nonlinear model** - which is nothing more than a shallow neural network with single linear layer followed by an activation function."
   ]
  },
  {
   "cell_type": "markdown",
   "metadata": {
    "id": "TcVMbaG9xXNY"
   },
   "source": [
    "## Linear-Nonlinear (LN) model"
   ]
  },
  {
   "cell_type": "markdown",
   "metadata": {},
   "source": [
    "### Background"
   ]
  },
  {
   "cell_type": "markdown",
   "metadata": {},
   "source": [
    "Arguably one of the simplest model of a neuron's response to a stimulus is the **linear-nonlinear (LN) model**. \n",
    "\n",
    "Given an image $I \\in \\mathbb{R}^{h\\,\\times\\,w}$ where $h$ and $w$ are the height and the width of the image, respectively, let us collapse the image into a vector $x \\in \\mathbb{R}^{hw}$.\n",
    "\n",
    "A single neuron's response $r$ under linear-nonlinear model can then be expressed as:\n",
    "$$\n",
    "r = a(u^\\top x + b),\n",
    "$$\n",
    "where $u \\in \\mathbb{R}^{hw}$ and $b \\in \\mathbb{R}$ are **weight** and **bias**, and $a:\\mathbb{R}\\mapsto\\mathbb{R}$ is a scalar **activating function**.\n",
    "\n",
    "We can in fact extend to capture the responses of all $N$ neurons simultaneously as:\n",
    "\n",
    "$$\n",
    "\\mathbf{r} = a(\\mathbf{U} x + \\mathbf{b}),\n",
    "$$\n",
    "where $\\mathbf{r} \\in \\mathbb{R}^{N}$, $\\mathbf{U} \\in \\mathbb{R}^{N\\,\\times\\,hw}$ and $\\mathbf{b} \\in \\mathbb{R}^{N}$.\n",
    "\n",
    "Hence, each neuron weighs each pixel of the image according to the weight $u$ (corresopnds to a row of $\\mathbf{U}$) and thus characterizes how much the each neuron \"cares\" about a specific pixel.\n",
    "\n",
    "The weight $u$ can be thought of as a **filter** that's the same size as the image and is overlaid on top of the image to determine what pixel would contribute to the neuron's response. \n",
    "\n",
    "This *image filter* is typically referred to as the **receptive field** of the neuron!"
   ]
  },
  {
   "cell_type": "markdown",
   "metadata": {},
   "source": [
    "The nonlinear activation function $a(\\cdot)$ ensures, among other things, that the output of the network stays above 0. In fitting neuronal responses, we tend to use $a(x) = ELU(x) + 1$ where ELU (Exponential Linear Unit) is defined as follows:\n",
    "\n",
    "$$\n",
    "    ELU(x) = \n",
    "\\begin{cases}\n",
    "    e^x - 1, & x \\lt 0 \\\\\n",
    "    x,   & x \\ge 0\n",
    "\\end{cases}\n",
    "$$"
   ]
  },
  {
   "cell_type": "code",
   "execution_count": 49,
   "metadata": {},
   "outputs": [
    {
     "data": {
      "image/png": "[encoded data removed]",
      "text/plain": [
       "<Figure size 900x600 with 1 Axes>"
      ]
     },
     "metadata": {
      "needs_background": "light"
     },
     "output_type": "display_data"
    }
   ],
   "source": [
    "# Plotting ELU function\n",
    "fig, ax = plt.subplots(1, 1, dpi=150)\n",
    "x = np.linspace(-2, 2)\n",
    "ax.plot(x, F.elu(torch.Tensor(x)))\n",
    "ax.axhline(0, c='r', ls='--')\n",
    "ax.set_xlabel(r'Input, $x$')\n",
    "ax.set_ylabel(r'Activation, $ELU(x)$')\n",
    "ax.set_ylim([-1, 3])\n",
    "sns.despine()"
   ]
  },
  {
   "cell_type": "markdown",
   "metadata": {},
   "source": [
    "We shift it by 1 to ensure it will always remain positive"
   ]
  },
  {
   "cell_type": "code",
   "execution_count": 50,
   "metadata": {},
   "outputs": [
    {
     "data": {
      "image/png": "[encoded data removed]",
      "text/plain": [
       "<Figure size 900x600 with 1 Axes>"
      ]
     },
     "metadata": {
      "needs_background": "light"
     },
     "output_type": "display_data"
    }
   ],
   "source": [
    "# Plotting ELU+1 function\n",
    "fig, ax = plt.subplots(1, 1, dpi=150)\n",
    "x = np.linspace(-2, 2)\n",
    "ax.plot(x, F.elu(torch.Tensor(x))+1)\n",
    "ax.axhline(0, c='r', ls='--')\n",
    "ax.axhline(0, c='r', ls='--')\n",
    "ax.set_xlabel(r'Input, $x$')\n",
    "ax.set_ylabel(r'Activation, $ELU(x) + 1$')\n",
    "ax.set_ylim([-1, 3.0])\n",
    "sns.despine()"
   ]
  },
  {
   "cell_type": "markdown",
   "metadata": {},
   "source": [
    "Overall, it can be seen that a linear-nonlinear (LN) model is nothing more than a single linear layer applied on a flattened image input, followed by a nonlinear activation function (i.e. $ELU(x)+1$). \n",
    "\n",
    "Now let's go ahead and implment our LN model in PyTorch!"
   ]
  },
  {
   "cell_type": "markdown",
   "metadata": {},
   "source": [
    "### Implementation"
   ]
  },
  {
   "cell_type": "markdown",
   "metadata": {},
   "source": [
    "We implement a simple network consisting of a linear layer followed by ELU + 1 activation"
   ]
  },
  {
   "cell_type": "code",
   "execution_count": 78,
   "metadata": {},
   "outputs": [],
   "source": [
    "class Linear(nn.Module):\n",
    "    def __init__(\n",
    "        self,\n",
    "        input_height,\n",
    "        input_width,\n",
    "        n_neurons,\n",
    "        momentum=0.1,\n",
    "        init_std=1e-3,\n",
    "        gamma=0.0,\n",
    "    ):\n",
    "        super().__init__()\n",
    "        self.bn = nn.BatchNorm2d(1, momentum=momentum, affine=False)\n",
    "        self.linear = nn.Linear(input_height * input_width, n_neurons)\n",
    "        self.gamma = gamma\n",
    "        self.init_std = init_std\n",
    "        self.initialize()\n",
    "        \n",
    "    \n",
    "    def forward(self, x):\n",
    "        x = self.bn(x)\n",
    "        x = self.linear(x.flatten(1))\n",
    "        return nn.functional.elu(x) + 1\n",
    "        \n",
    "\n",
    "    def initialize(self, std=None):\n",
    "        if std is None:\n",
    "            std = self.init_std\n",
    "        nn.init.normal_(self.linear.weight.data, std=std)\n",
    "\n",
    "\n",
    "    def regularizer(self):\n",
    "        return self.gamma * self.linear.weight.abs().sum()\n"
   ]
  },
  {
   "cell_type": "markdown",
   "metadata": {},
   "source": [
    "And that's it! We have now designed our first network model of the neuron's responses!"
   ]
  },
  {
   "cell_type": "markdown",
   "metadata": {},
   "source": [
    "**BONUS**: notice that we used batch normalization (BN) layer right before the linear layer? This empirically helps to stabilize the training, allowing us to be not too sensitive to the weight and bias initialization. You could totally implement and train a LN network without such BN layer and you are more than welcome to try! However if you do, be very aware of the network weight initializations and the chocie of learning rate during the training."
   ]
  },
  {
   "cell_type": "markdown",
   "metadata": {},
   "source": [
    "Finally, let's instantiate the model before we move onto the next step of training the model!"
   ]
  },
  {
   "cell_type": "code",
   "execution_count": 79,
   "metadata": {},
   "outputs": [],
   "source": [
    "ln_model = Linear(input_height=64, input_width=36, n_neurons=5335, gamma=0.1)"
   ]
  },
  {
   "cell_type": "markdown",
   "metadata": {},
   "source": [
    "### Training the network"
   ]
  },
  {
   "cell_type": "markdown",
   "metadata": {},
   "source": [
    "Now that we have a candidate model designed, it's time to train it. While we could use standard set of optimizers as provided by PyTorch to implement our training routine, here we are provided with a convenience function `train_model` that would handle a lot of the training boiler plate."
   ]
  },
  {
   "cell_type": "code",
   "execution_count": 80,
   "metadata": {},
   "outputs": [],
   "source": [
    "from lviv.trainers import train_model"
   ]
  },
  {
   "cell_type": "markdown",
   "metadata": {},
   "source": [
    "Critically, `train_model` sets up the training based on **Poisson loss** and also perform early stopping based on **correlation** of the predicted neuronal responses with the actual neuronal responses on the **validation set**. Let's now talk briefly about our objective (loss) function of choice in training neuron response models - the Poisson loss."
   ]
  },
  {
   "cell_type": "markdown",
   "metadata": {},
   "source": [
    "### Mathematical aside: Poisson Loss"
   ]
  },
  {
   "cell_type": "markdown",
   "metadata": {},
   "source": [
    "#### How we are **actually** modeling the noisy neuronal responses"
   ]
  },
  {
   "cell_type": "markdown",
   "metadata": {},
   "source": [
    "The use of **Poisson loss** follows from the assumption that, *conditioned on the stimulus*, the neurons' responses follow an **independent Poisson** distribution. That is, given an input image $x$, the population response $\\mathbf{r}$ is distributed as:\n",
    "\n",
    "$$\n",
    "p(\\mathbf{r} | x) = \\prod_i^N \\text{Poiss}(r_i; \\lambda_i(x))\n",
    "$$"
   ]
  },
  {
   "cell_type": "markdown",
   "metadata": {},
   "source": [
    "where $r_i$ is the $i^\\text{th}$ neuron in the population $\\mathbf{r}$. The $\\lambda_i$ is the parameter for Poisson distribution that controls its **average value**. Here we express $\\lambda_i(x)$ to indicate the fact that the average response for each neuron is expected to vary *as a function of the input image*. We can express this average matching as:\n",
    "\n",
    "$$\n",
    "\\mathbb{E}[r_i|x] = \\lambda_i(x)\n",
    "$$"
   ]
  },
  {
   "cell_type": "markdown",
   "metadata": {},
   "source": [
    "In fact, it is precisely this function $\\lambda_i(x)$ that we are modeling using LN models and, in the next step, more complex neural networks. In otherwords, we are learning $\\lambda_i(x) = f_i(x, \\theta)$, where $\\theta$ is the trainable parameters of the model."
   ]
  },
  {
   "cell_type": "markdown",
   "metadata": {},
   "source": [
    "Putting all together, this means that, our model $f(x, \\theta)$ is really modeling the average activity of the neurons,\n",
    "\n",
    "$$\n",
    "\\mathbb{E}[\\mathbf{r}|x] = \\mathbf{f}(x, \\theta)\n",
    "$$\n",
    "\n",
    "while we are assuming that the neurons are distributed according to **independent Poisson** distribution around the average responses predicted by our model $\\mathbf{f}(x, \\theta)$."
   ]
  },
  {
   "cell_type": "markdown",
   "metadata": {},
   "source": [
    "#### Deriving the objective function"
   ]
  },
  {
   "cell_type": "markdown",
   "metadata": {},
   "source": [
    "Poisson distribution is defined as follows:\n",
    "\n",
    "$$\n",
    "p(r) = \\text{Poiss}(r; \\lambda) = \\frac{e^{-\\lambda}\\lambda^{r}}{r!}\n",
    "$$\n",
    "\n",
    "During the training, we would want to adjust the model parameter $\\theta$ to maximize the chance of observing the response $\\mathbf{r}$ to a known image $x$. This is achieved by **maximizing** the log-likelihood function $\\log p(\\mathbf{r}|x, \\theta)$, or equivalently by **minimzing the negative log-likelihood function** as the objective function $L(x, \\mathbf{r}, \\theta)$:\n",
    "\n",
    "$$\n",
    "\\begin{align}\n",
    "L(x, \\mathbf{r}, \\theta) &= -\\log p(\\mathbf{r}|x, \\theta) \\\\\n",
    "&= -\\log \\prod_i \\text{Poiss}(r_i; f_i(x, \\theta)) \\\\\n",
    "&= -\\sum_i \\log \\frac{e^{-f_i(x, \\theta)}f_i(x, \\theta)^{r_i}}{r_i!} \\\\\n",
    "&= \\sum_i \\left(f_i(x, \\theta) - r_i \\log f_i(x, \\theta) + \\log r_i! \\right)\n",
    "\\end{align}\n",
    "$$\n"
   ]
  },
  {
   "cell_type": "markdown",
   "metadata": {},
   "source": [
    "During the optimization, we seek for $\\theta$ that would minimize the loss $L$. Note that since the term $\\log r_i!$ does not depend on $\\theta$, it can be safely dropped from Poisson loss. Hence you would commonly see the following expression as the definition of the **Poisson loss**\n",
    "\n",
    "$$\n",
    "L_\\text{Poiss}(x, \\mathbf{r}, \\theta) = \\sum_i \\left(f_i(x, \\theta) - r_i \\log f_i(x, \\theta)\\right)\n",
    "$$"
   ]
  },
  {
   "cell_type": "markdown",
   "metadata": {},
   "source": [
    "### Performing the training"
   ]
  },
  {
   "cell_type": "markdown",
   "metadata": {},
   "source": [
    "Now that we have the theoretical foundation for the training and the choice of the objective function under our belt, let's go ahead and train the network. Because the function `train_model` handles a lot underneath the hood, training a model is just as easy as invoking the function by passing it the model to be trained and the dataloaders!"
   ]
  },
  {
   "cell_type": "code",
   "execution_count": 81,
   "metadata": {},
   "outputs": [],
   "source": [
    "from lviv.trainers import train_model"
   ]
  },
  {
   "cell_type": "code",
   "execution_count": 82,
   "metadata": {
    "colab": {
     "base_uri": "https://localhost:8080/"
    },
    "collapsed": true,
    "id": "vnIjtCeERCjk",
    "jupyter": {
     "outputs_hidden": true
    },
    "outputId": "569f4934-9cb5-4253-ae02-001b6a9d7828"
   },
   "outputs": [
    {
     "name": "stdout",
     "output_type": "stream",
     "text": [
      "=======================================\n",
      "correlation -0.0028376007\n",
      "poisson_loss 9536425.0\n"
     ]
    },
    {
     "name": "stderr",
     "output_type": "stream",
     "text": [
      "Epoch 1: 100%|██████████| 75/75 [00:04<00:00, 15.25it/s]\n"
     ]
    },
    {
     "name": "stdout",
     "output_type": "stream",
     "text": [
      "[001|00/05] ---> 0.06291262805461884\n",
      "=======================================\n",
      "correlation 0.06291263\n",
      "poisson_loss 3233414.0\n"
     ]
    },
    {
     "name": "stderr",
     "output_type": "stream",
     "text": [
      "Epoch 2: 100%|██████████| 75/75 [00:00<00:00, 82.23it/s]\n"
     ]
    },
    {
     "name": "stdout",
     "output_type": "stream",
     "text": [
      "[002|00/05] ---> 0.07530715316534042\n",
      "=======================================\n",
      "correlation 0.07530715\n",
      "poisson_loss 2823158.8\n"
     ]
    },
    {
     "name": "stderr",
     "output_type": "stream",
     "text": [
      "Epoch 3: 100%|██████████| 75/75 [00:00<00:00, 84.48it/s]\n"
     ]
    },
    {
     "name": "stdout",
     "output_type": "stream",
     "text": [
      "[003|00/05] ---> 0.08148764073848724\n",
      "=======================================\n",
      "correlation 0.08148764\n",
      "poisson_loss 2646291.5\n"
     ]
    },
    {
     "name": "stderr",
     "output_type": "stream",
     "text": [
      "Epoch 4: 100%|██████████| 75/75 [00:00<00:00, 79.08it/s]\n"
     ]
    },
    {
     "name": "stdout",
     "output_type": "stream",
     "text": [
      "[004|01/05] -/-> 0.07675723731517792\n",
      "=======================================\n",
      "correlation 0.07675724\n",
      "poisson_loss 2614737.5\n"
     ]
    },
    {
     "name": "stderr",
     "output_type": "stream",
     "text": [
      "Epoch 5: 100%|██████████| 75/75 [00:00<00:00, 84.55it/s]\n"
     ]
    },
    {
     "name": "stdout",
     "output_type": "stream",
     "text": [
      "[005|01/05] ---> 0.0831238180398941\n",
      "=======================================\n",
      "correlation 0.08312382\n",
      "poisson_loss 2618676.0\n"
     ]
    },
    {
     "name": "stderr",
     "output_type": "stream",
     "text": [
      "Epoch 6: 100%|██████████| 75/75 [00:00<00:00, 84.46it/s]\n"
     ]
    },
    {
     "name": "stdout",
     "output_type": "stream",
     "text": [
      "[006|00/05] ---> 0.08651387691497803\n",
      "=======================================\n",
      "correlation 0.08651388\n",
      "poisson_loss 2535143.0\n"
     ]
    },
    {
     "name": "stderr",
     "output_type": "stream",
     "text": [
      "Epoch 7: 100%|██████████| 75/75 [00:00<00:00, 84.79it/s]\n"
     ]
    },
    {
     "name": "stdout",
     "output_type": "stream",
     "text": [
      "[007|00/05] ---> 0.08859601616859436\n",
      "=======================================\n",
      "correlation 0.088596016\n",
      "poisson_loss 2492160.0\n"
     ]
    },
    {
     "name": "stderr",
     "output_type": "stream",
     "text": [
      "Epoch 8: 100%|██████████| 75/75 [00:00<00:00, 82.08it/s]\n"
     ]
    },
    {
     "name": "stdout",
     "output_type": "stream",
     "text": [
      "[008|00/05] ---> 0.0907663106918335\n",
      "=======================================\n",
      "correlation 0.09076631\n",
      "poisson_loss 2553214.2\n"
     ]
    },
    {
     "name": "stderr",
     "output_type": "stream",
     "text": [
      "Epoch 9: 100%|██████████| 75/75 [00:01<00:00, 74.58it/s]\n"
     ]
    },
    {
     "name": "stdout",
     "output_type": "stream",
     "text": [
      "[009|01/05] -/-> 0.08925200253725052\n",
      "=======================================\n",
      "correlation 0.089252\n",
      "poisson_loss 2550302.2\n"
     ]
    },
    {
     "name": "stderr",
     "output_type": "stream",
     "text": [
      "Epoch 10: 100%|██████████| 75/75 [00:00<00:00, 83.80it/s]\n"
     ]
    },
    {
     "name": "stdout",
     "output_type": "stream",
     "text": [
      "[010|02/05] -/-> 0.08571925759315491\n",
      "=======================================\n",
      "correlation 0.08571926\n",
      "poisson_loss 2573360.5\n"
     ]
    },
    {
     "name": "stderr",
     "output_type": "stream",
     "text": [
      "Epoch 11: 100%|██████████| 75/75 [00:00<00:00, 80.87it/s]\n"
     ]
    },
    {
     "name": "stdout",
     "output_type": "stream",
     "text": [
      "[011|03/05] -/-> 0.08661939948797226\n",
      "=======================================\n",
      "correlation 0.0866194\n",
      "poisson_loss 2674216.0\n"
     ]
    },
    {
     "name": "stderr",
     "output_type": "stream",
     "text": [
      "Epoch 12: 100%|██████████| 75/75 [00:00<00:00, 78.25it/s]\n"
     ]
    },
    {
     "name": "stdout",
     "output_type": "stream",
     "text": [
      "[012|04/05] -/-> 0.08475182950496674\n",
      "=======================================\n",
      "correlation 0.08475183\n",
      "poisson_loss 2640827.0\n"
     ]
    },
    {
     "name": "stderr",
     "output_type": "stream",
     "text": [
      "Epoch 13: 100%|██████████| 75/75 [00:00<00:00, 84.00it/s]\n"
     ]
    },
    {
     "name": "stdout",
     "output_type": "stream",
     "text": [
      "[013|05/05] -/-> 0.08563712239265442\n",
      "Restoring best model after lr decay! 0.085637 ---> 0.090766\n",
      "=======================================\n",
      "correlation 0.09076631\n",
      "poisson_loss 2553214.2\n"
     ]
    },
    {
     "name": "stderr",
     "output_type": "stream",
     "text": [
      "Epoch 14: 100%|██████████| 75/75 [00:00<00:00, 83.38it/s]\n"
     ]
    },
    {
     "name": "stdout",
     "output_type": "stream",
     "text": [
      "Epoch    14: reducing learning rate of group 0 to 1.5000e-03.\n",
      "[014|01/05] -/-> 0.08135292679071426\n",
      "=======================================\n",
      "correlation 0.08135293\n",
      "poisson_loss 2619570.5\n"
     ]
    },
    {
     "name": "stderr",
     "output_type": "stream",
     "text": [
      "Epoch 15: 100%|██████████| 75/75 [00:00<00:00, 78.23it/s]\n"
     ]
    },
    {
     "name": "stdout",
     "output_type": "stream",
     "text": [
      "[015|01/05] ---> 0.1087164357304573\n",
      "=======================================\n",
      "correlation 0.108716436\n",
      "poisson_loss 2224880.0\n"
     ]
    },
    {
     "name": "stderr",
     "output_type": "stream",
     "text": [
      "Epoch 16: 100%|██████████| 75/75 [00:00<00:00, 83.09it/s]\n"
     ]
    },
    {
     "name": "stdout",
     "output_type": "stream",
     "text": [
      "[016|01/05] -/-> 0.10778597742319107\n",
      "=======================================\n",
      "correlation 0.10778598\n",
      "poisson_loss 2203862.2\n"
     ]
    },
    {
     "name": "stderr",
     "output_type": "stream",
     "text": [
      "Epoch 17: 100%|██████████| 75/75 [00:00<00:00, 81.61it/s]\n"
     ]
    },
    {
     "name": "stdout",
     "output_type": "stream",
     "text": [
      "[017|02/05] -/-> 0.10817896574735641\n",
      "=======================================\n",
      "correlation 0.108178966\n",
      "poisson_loss 2206134.0\n"
     ]
    },
    {
     "name": "stderr",
     "output_type": "stream",
     "text": [
      "Epoch 18: 100%|██████████| 75/75 [00:00<00:00, 79.73it/s]\n"
     ]
    },
    {
     "name": "stdout",
     "output_type": "stream",
     "text": [
      "[018|03/05] -/-> 0.10457243025302887\n",
      "=======================================\n",
      "correlation 0.10457243\n",
      "poisson_loss 2235500.5\n"
     ]
    },
    {
     "name": "stderr",
     "output_type": "stream",
     "text": [
      "Epoch 19: 100%|██████████| 75/75 [00:00<00:00, 83.66it/s]\n"
     ]
    },
    {
     "name": "stdout",
     "output_type": "stream",
     "text": [
      "[019|04/05] -/-> 0.10566174983978271\n",
      "=======================================\n",
      "correlation 0.10566175\n",
      "poisson_loss 2214932.5\n"
     ]
    },
    {
     "name": "stderr",
     "output_type": "stream",
     "text": [
      "Epoch 20: 100%|██████████| 75/75 [00:00<00:00, 76.61it/s]\n"
     ]
    },
    {
     "name": "stdout",
     "output_type": "stream",
     "text": [
      "[020|05/05] -/-> 0.10366460680961609\n",
      "Restoring best model after lr decay! 0.103665 ---> 0.108716\n",
      "=======================================\n",
      "correlation 0.108716436\n",
      "poisson_loss 2224880.0\n"
     ]
    },
    {
     "name": "stderr",
     "output_type": "stream",
     "text": [
      "Epoch 21: 100%|██████████| 75/75 [00:00<00:00, 84.06it/s]\n"
     ]
    },
    {
     "name": "stdout",
     "output_type": "stream",
     "text": [
      "Epoch    21: reducing learning rate of group 0 to 4.5000e-04.\n",
      "[021|01/05] -/-> 0.10407443344593048\n",
      "=======================================\n",
      "correlation 0.10407443\n",
      "poisson_loss 2212213.8\n"
     ]
    },
    {
     "name": "stderr",
     "output_type": "stream",
     "text": [
      "Epoch 22: 100%|██████████| 75/75 [00:00<00:00, 83.28it/s]\n"
     ]
    },
    {
     "name": "stdout",
     "output_type": "stream",
     "text": [
      "[022|01/05] ---> 0.1141660287976265\n",
      "=======================================\n",
      "correlation 0.11416603\n",
      "poisson_loss 2135080.5\n"
     ]
    },
    {
     "name": "stderr",
     "output_type": "stream",
     "text": [
      "Epoch 23: 100%|██████████| 75/75 [00:00<00:00, 79.38it/s]\n"
     ]
    },
    {
     "name": "stdout",
     "output_type": "stream",
     "text": [
      "[023|00/05] ---> 0.1154339537024498\n",
      "=======================================\n",
      "correlation 0.11543395\n",
      "poisson_loss 2140812.5\n"
     ]
    },
    {
     "name": "stderr",
     "output_type": "stream",
     "text": [
      "Epoch 24: 100%|██████████| 75/75 [00:00<00:00, 83.30it/s]\n"
     ]
    },
    {
     "name": "stdout",
     "output_type": "stream",
     "text": [
      "[024|01/05] -/-> 0.11267277598381042\n",
      "=======================================\n",
      "correlation 0.112672776\n",
      "poisson_loss 2145623.5\n"
     ]
    },
    {
     "name": "stderr",
     "output_type": "stream",
     "text": [
      "Epoch 25: 100%|██████████| 75/75 [00:00<00:00, 84.19it/s]\n"
     ]
    },
    {
     "name": "stdout",
     "output_type": "stream",
     "text": [
      "[025|02/05] -/-> 0.11420059949159622\n",
      "=======================================\n",
      "correlation 0.1142006\n",
      "poisson_loss 2142161.2\n"
     ]
    },
    {
     "name": "stderr",
     "output_type": "stream",
     "text": [
      "Epoch 26: 100%|██████████| 75/75 [00:00<00:00, 84.52it/s]\n"
     ]
    },
    {
     "name": "stdout",
     "output_type": "stream",
     "text": [
      "[026|03/05] -/-> 0.11442482471466064\n",
      "=======================================\n",
      "correlation 0.114424825\n",
      "poisson_loss 2131446.8\n"
     ]
    },
    {
     "name": "stderr",
     "output_type": "stream",
     "text": [
      "Epoch 27: 100%|██████████| 75/75 [00:00<00:00, 83.87it/s]\n"
     ]
    },
    {
     "name": "stdout",
     "output_type": "stream",
     "text": [
      "[027|04/05] -/-> 0.11402616649866104\n",
      "=======================================\n",
      "correlation 0.11402617\n",
      "poisson_loss 2143431.0\n"
     ]
    },
    {
     "name": "stderr",
     "output_type": "stream",
     "text": [
      "Epoch 28: 100%|██████████| 75/75 [00:00<00:00, 83.13it/s]\n"
     ]
    },
    {
     "name": "stdout",
     "output_type": "stream",
     "text": [
      "[028|05/05] -/-> 0.11184372752904892\n",
      "Restoring best model after lr decay! 0.111844 ---> 0.115434\n",
      "Restoring best model! 0.115434 ---> 0.115434\n"
     ]
    }
   ],
   "source": [
    "score, output, model_state = train_model(model=ln_model, dataloader=dataloaders)"
   ]
  },
  {
   "cell_type": "markdown",
   "metadata": {},
   "source": [
    "### Analyzing the trained network"
   ]
  },
  {
   "cell_type": "markdown",
   "metadata": {},
   "source": [
    "Woohoo! We have now successfully trained our very first LN model on real neuronal responses! But really, how good is the model?\n",
    "\n",
    "During the training, the `train_model` function iteratively reported two values: the loss function (Poisson loss) value and the average correlation. \n",
    "\n",
    "But what is this correlation? It's simply the correlation computed between our predicted neuronal responses $\\hat{r}_i$ and the actual neuronal responses $r_i$ across images in the validation set. We then take the average correlation value **across neurons** to get average correlation."
   ]
  },
  {
   "cell_type": "markdown",
   "metadata": {},
   "source": [
    "Being a correlation, the highest possible value is of course 1.0. Practically speaking, this is never reached both due to 1) imperfection of our model and more fundamentally due to 2) the noiseness of the neuron's responses. Because of the noise, even a perfect model would never reach a correlation of 1.0."
   ]
  },
  {
   "cell_type": "markdown",
   "metadata": {},
   "source": [
    "Let's actually go ahead and look at the model's predicted responses on the test set and compare them against the actual responses. The package `lviv` provides for a convenient function to quickly gather the model's responses and the actual responses."
   ]
  },
  {
   "cell_type": "code",
   "execution_count": 173,
   "metadata": {},
   "outputs": [],
   "source": [
    "from lviv.utility import measures\n",
    "from scipy.stats import pearsonr\n",
    "\n",
    "actual_responses, model_responses = measures.model_predictions(ln_model, dataloaders['test'], device='cuda')"
   ]
  },
  {
   "cell_type": "code",
   "execution_count": 176,
   "metadata": {},
   "outputs": [
    {
     "data": {
      "image/png": "[encoded data removed]",
      "text/plain": [
       "<Figure size 900x600 with 1 Axes>"
      ]
     },
     "metadata": {
      "needs_background": "light"
     },
     "output_type": "display_data"
    }
   ],
   "source": [
    "# pick a neuron to generate the plot for\n",
    "neuron_idx = 988\n",
    "\n",
    "# compute Pearson correlation\n",
    "r, _ = pearsonr(model_responses[:, neuron_idx], actual_responses[:, neuron_idx])\n",
    "fig, ax = plt.subplots(1, 1, dpi=150)\n",
    "ax.scatter(model_responses[:, neuron_idx], actual_responses[:, neuron_idx], c='k', s=1.0)\n",
    "ax.set_title(f'Responses for neuron {neuron_idx}: $\\\\rho = {r:.3f}$')\n",
    "ax.set_xlabel('Model responses')\n",
    "ax.set_ylabel('Actual responses')\n",
    "sns.despine()"
   ]
  },
  {
   "cell_type": "markdown",
   "metadata": {},
   "source": [
    "Let's take a look at how this correlation is distributed across neurons. This time, we'll use `get_gorrelations` function to compute correation for all neurons quickly."
   ]
  },
  {
   "cell_type": "code",
   "execution_count": 186,
   "metadata": {},
   "outputs": [
    {
     "data": {
      "image/png": "[encoded data removed]",
      "text/plain": [
       "<Figure size 900x600 with 1 Axes>"
      ]
     },
     "metadata": {
      "needs_background": "light"
     },
     "output_type": "display_data"
    }
   ],
   "source": [
    "# compute correlation on test set\n",
    "ln_test_correlations = measures.get_correlations(\n",
    "    ln_model, dataloaders[\"test\"], device=\"cuda\", per_neuron=True\n",
    ")\n",
    "\n",
    "fig, ax = plt.subplots(1, 1, dpi=150)\n",
    "n, bins, _ = ax.hist(ln_test_correlations, bins=100, color='k')\n",
    "ax.axvline(np.mean(ln_test_correlations), color=\"r\")\n",
    "ax.text(\n",
    "    x=np.mean(ln_test_correlations) + 0.01,\n",
    "    y=np.max(n),\n",
    "    s=\"mean = {:.3f}\".format(np.mean(ln_test_correlations)),\n",
    ")\n",
    "ax.set_title('Testset correlation of LN model')\n",
    "ax.set_xlabel('Correlation')\n",
    "sns.despine()"
   ]
  },
  {
   "cell_type": "markdown",
   "metadata": {},
   "source": [
    "You can see that value of achieved correlation on the test set widely varies among the neurons. Some neurons are quite well predicted, reaching correlation above 0.6, where as many neurons have correlation well below 0.1."
   ]
  },
  {
   "cell_type": "markdown",
   "metadata": {},
   "source": [
    "## Going beyond Linear-Nonlinear model by using CNN"
   ]
  },
  {
   "cell_type": "markdown",
   "metadata": {},
   "source": [
    "We saw that a simple LN model can be trained to achieve above chance performance in predicting the responses of mouse V1 neurons to natural images. But we certainly must be able to do better than that, right?\n",
    "\n",
    "In the past decase, what has really driven system identification of visual neurons has been the use of convolutional neural networks (CNN). Below, we will try out a very simple CNN to see if we can already reach better performance than LN."
   ]
  },
  {
   "cell_type": "code",
   "execution_count": 179,
   "metadata": {},
   "outputs": [],
   "source": [
    "from collections import OrderedDict\n",
    "class CNN(nn.Module):\n",
    "    def __init__(\n",
    "        self,\n",
    "        input_height,\n",
    "        input_width,\n",
    "        n_neurons,\n",
    "        momentum=0.1,\n",
    "        init_std=1e-3,\n",
    "        gamma=0.1,\n",
    "        hidden_channels=8,\n",
    "    ):\n",
    "        super(CNN, self).__init__()\n",
    "        self.init_std = init_std\n",
    "        self.gamma = gamma\n",
    "\n",
    "        # CNN core\n",
    "        self.cnn_core = nn.Sequential(\n",
    "            OrderedDict(\n",
    "                [\n",
    "                    (\"conv1\", nn.Conv2d(1, hidden_channels, 15, padding=15 // 2, bias=False)),\n",
    "                    (\"bn1\", nn.BatchNorm2d(hidden_channels, momentum=momentum)),\n",
    "                    (\"elu1\", nn.ELU()),\n",
    "                    (\"conv2\", nn.Conv2d(hidden_channels, hidden_channels, 13, padding=13 // 2, bias=False)),\n",
    "                    (\"bn2\", nn.BatchNorm2d(hidden_channels, momentum=momentum)),\n",
    "                    (\"elu2\", nn.ELU()),\n",
    "                    (\"conv3\", nn.Conv2d(hidden_channels, hidden_channels, 13, padding=13 // 2, bias=False)),\n",
    "                    (\"bn3\", nn.BatchNorm2d(hidden_channels, momentum=momentum)),\n",
    "                    (\"elu3\", nn.ELU()),\n",
    "                    (\"conv4\", nn.Conv2d(hidden_channels, hidden_channels, 13, padding=13 // 2, bias=False)),\n",
    "                    (\"bn4\", nn.BatchNorm2d(hidden_channels, momentum=momentum)),\n",
    "                    (\"elu4\", nn.ELU()),\n",
    "                ]\n",
    "            )\n",
    "        )\n",
    "\n",
    "        # Fully connected readout\n",
    "        self.readout = nn.Sequential(\n",
    "            OrderedDict(\n",
    "                [\n",
    "                    ('fc_ro', nn.Linear(input_height * input_width * hidden_channels, n_neurons)),\n",
    "                    ('bn_ro', nn.BatchNorm1d(n_neurons, momentum=momentum)),\n",
    "                ]\n",
    "            )\n",
    "        )\n",
    "\n",
    "\n",
    "    def initialize(self, std=None):\n",
    "        if std is None:\n",
    "            std = self.init_std\n",
    "        for m in self.modules():\n",
    "            if isinstance(m, nn.Conv2d) or isinstance(m, nn.Linear):\n",
    "                nn.init.normal_(m.weight.data, std=std)\n",
    "\n",
    "    def forward(self, x):\n",
    "        x = self.cnn_core(x)\n",
    "        x = x.view(x.size(0), -1)\n",
    "        x = self.readout(x)\n",
    "        return nn.functional.elu(x) + 1\n",
    "    \n",
    "    def regularizer(self):\n",
    "        return self.readout[0].weight.abs().sum() * self.gamma\n"
   ]
  },
  {
   "cell_type": "markdown",
   "metadata": {},
   "source": [
    "Let us now instantiate the model and train it!"
   ]
  },
  {
   "cell_type": "code",
   "execution_count": 88,
   "metadata": {},
   "outputs": [
    {
     "name": "stdout",
     "output_type": "stream",
     "text": [
      "=======================================\n",
      "correlation -0.00045015095\n",
      "poisson_loss 4177012.8\n"
     ]
    },
    {
     "name": "stderr",
     "output_type": "stream",
     "text": [
      "Epoch 1: 100%|██████████| 75/75 [00:04<00:00, 15.26it/s]\n"
     ]
    },
    {
     "name": "stdout",
     "output_type": "stream",
     "text": [
      "[001|00/05] ---> 0.053945496678352356\n",
      "=======================================\n",
      "correlation 0.053945497\n",
      "poisson_loss 2966264.5\n"
     ]
    },
    {
     "name": "stderr",
     "output_type": "stream",
     "text": [
      "Epoch 2: 100%|██████████| 75/75 [00:04<00:00, 15.51it/s]\n"
     ]
    },
    {
     "name": "stdout",
     "output_type": "stream",
     "text": [
      "[002|00/05] ---> 0.10886244475841522\n",
      "=======================================\n",
      "correlation 0.108862445\n",
      "poisson_loss 2061814.6\n"
     ]
    },
    {
     "name": "stderr",
     "output_type": "stream",
     "text": [
      "Epoch 3: 100%|██████████| 75/75 [00:04<00:00, 15.41it/s]\n"
     ]
    },
    {
     "name": "stdout",
     "output_type": "stream",
     "text": [
      "[003|00/05] ---> 0.14153477549552917\n",
      "=======================================\n",
      "correlation 0.14153478\n",
      "poisson_loss 1919906.2\n"
     ]
    },
    {
     "name": "stderr",
     "output_type": "stream",
     "text": [
      "Epoch 4: 100%|██████████| 75/75 [00:04<00:00, 15.29it/s]\n"
     ]
    },
    {
     "name": "stdout",
     "output_type": "stream",
     "text": [
      "[004|00/05] ---> 0.1499428153038025\n",
      "=======================================\n",
      "correlation 0.14994282\n",
      "poisson_loss 1901764.0\n"
     ]
    },
    {
     "name": "stderr",
     "output_type": "stream",
     "text": [
      "Epoch 5: 100%|██████████| 75/75 [00:04<00:00, 15.34it/s]\n"
     ]
    },
    {
     "name": "stdout",
     "output_type": "stream",
     "text": [
      "[005|00/05] ---> 0.16296586394309998\n",
      "=======================================\n",
      "correlation 0.16296586\n",
      "poisson_loss 1864801.8\n"
     ]
    },
    {
     "name": "stderr",
     "output_type": "stream",
     "text": [
      "Epoch 6: 100%|██████████| 75/75 [00:04<00:00, 15.50it/s]\n"
     ]
    },
    {
     "name": "stdout",
     "output_type": "stream",
     "text": [
      "[006|00/05] ---> 0.18991662561893463\n",
      "=======================================\n",
      "correlation 0.18991663\n",
      "poisson_loss 1816717.0\n"
     ]
    },
    {
     "name": "stderr",
     "output_type": "stream",
     "text": [
      "Epoch 7: 100%|██████████| 75/75 [00:04<00:00, 15.33it/s]\n"
     ]
    },
    {
     "name": "stdout",
     "output_type": "stream",
     "text": [
      "[007|00/05] ---> 0.19636401534080505\n",
      "=======================================\n",
      "correlation 0.19636402\n",
      "poisson_loss 1824522.8\n"
     ]
    },
    {
     "name": "stderr",
     "output_type": "stream",
     "text": [
      "Epoch 8: 100%|██████████| 75/75 [00:04<00:00, 15.37it/s]\n"
     ]
    },
    {
     "name": "stdout",
     "output_type": "stream",
     "text": [
      "[008|00/05] ---> 0.20466706156730652\n",
      "=======================================\n",
      "correlation 0.20466706\n",
      "poisson_loss 1804877.4\n"
     ]
    },
    {
     "name": "stderr",
     "output_type": "stream",
     "text": [
      "Epoch 9: 100%|██████████| 75/75 [00:04<00:00, 15.37it/s]\n"
     ]
    },
    {
     "name": "stdout",
     "output_type": "stream",
     "text": [
      "[009|00/05] ---> 0.20793630182743073\n",
      "=======================================\n",
      "correlation 0.2079363\n",
      "poisson_loss 1799221.1\n"
     ]
    },
    {
     "name": "stderr",
     "output_type": "stream",
     "text": [
      "Epoch 10: 100%|██████████| 75/75 [00:04<00:00, 15.38it/s]\n"
     ]
    },
    {
     "name": "stdout",
     "output_type": "stream",
     "text": [
      "[010|01/05] -/-> 0.20705397427082062\n",
      "=======================================\n",
      "correlation 0.20705397\n",
      "poisson_loss 1806472.5\n"
     ]
    },
    {
     "name": "stderr",
     "output_type": "stream",
     "text": [
      "Epoch 11: 100%|██████████| 75/75 [00:04<00:00, 15.41it/s]\n"
     ]
    },
    {
     "name": "stdout",
     "output_type": "stream",
     "text": [
      "[011|02/05] -/-> 0.2040378600358963\n",
      "=======================================\n",
      "correlation 0.20403786\n",
      "poisson_loss 1846206.5\n"
     ]
    },
    {
     "name": "stderr",
     "output_type": "stream",
     "text": [
      "Epoch 12: 100%|██████████| 75/75 [00:04<00:00, 15.48it/s]\n"
     ]
    },
    {
     "name": "stdout",
     "output_type": "stream",
     "text": [
      "[012|03/05] -/-> 0.1922161877155304\n",
      "=======================================\n",
      "correlation 0.19221619\n",
      "poisson_loss 1884127.5\n"
     ]
    },
    {
     "name": "stderr",
     "output_type": "stream",
     "text": [
      "Epoch 13: 100%|██████████| 75/75 [00:04<00:00, 15.21it/s]\n"
     ]
    },
    {
     "name": "stdout",
     "output_type": "stream",
     "text": [
      "[013|04/05] -/-> 0.18458996713161469\n",
      "=======================================\n",
      "correlation 0.18458997\n",
      "poisson_loss 1897588.4\n"
     ]
    },
    {
     "name": "stderr",
     "output_type": "stream",
     "text": [
      "Epoch 14: 100%|██████████| 75/75 [00:04<00:00, 15.51it/s]\n"
     ]
    },
    {
     "name": "stdout",
     "output_type": "stream",
     "text": [
      "[014|05/05] -/-> 0.17324768006801605\n",
      "Restoring best model after lr decay! 0.173248 ---> 0.207936\n",
      "=======================================\n",
      "correlation 0.2079363\n",
      "poisson_loss 1799221.1\n"
     ]
    },
    {
     "name": "stderr",
     "output_type": "stream",
     "text": [
      "Epoch 15: 100%|██████████| 75/75 [00:04<00:00, 15.49it/s]\n"
     ]
    },
    {
     "name": "stdout",
     "output_type": "stream",
     "text": [
      "Epoch    15: reducing learning rate of group 0 to 1.5000e-03.\n",
      "[015|01/05] -/-> 0.20133435726165771\n",
      "=======================================\n",
      "correlation 0.20133436\n",
      "poisson_loss 1817016.5\n"
     ]
    },
    {
     "name": "stderr",
     "output_type": "stream",
     "text": [
      "Epoch 16: 100%|██████████| 75/75 [00:04<00:00, 15.39it/s]\n"
     ]
    },
    {
     "name": "stdout",
     "output_type": "stream",
     "text": [
      "[016|02/05] -/-> 0.20695102214813232\n",
      "=======================================\n",
      "correlation 0.20695102\n",
      "poisson_loss 1803929.9\n"
     ]
    },
    {
     "name": "stderr",
     "output_type": "stream",
     "text": [
      "Epoch 17: 100%|██████████| 75/75 [00:04<00:00, 15.60it/s]\n"
     ]
    },
    {
     "name": "stdout",
     "output_type": "stream",
     "text": [
      "[017|03/05] -/-> 0.20145919919013977\n",
      "=======================================\n",
      "correlation 0.2014592\n",
      "poisson_loss 1822813.8\n"
     ]
    },
    {
     "name": "stderr",
     "output_type": "stream",
     "text": [
      "Epoch 18: 100%|██████████| 75/75 [00:04<00:00, 15.49it/s]\n"
     ]
    },
    {
     "name": "stdout",
     "output_type": "stream",
     "text": [
      "[018|04/05] -/-> 0.1929115504026413\n",
      "=======================================\n",
      "correlation 0.19291155\n",
      "poisson_loss 1847443.2\n"
     ]
    },
    {
     "name": "stderr",
     "output_type": "stream",
     "text": [
      "Epoch 19: 100%|██████████| 75/75 [00:04<00:00, 15.57it/s]\n"
     ]
    },
    {
     "name": "stdout",
     "output_type": "stream",
     "text": [
      "[019|05/05] -/-> 0.18579795956611633\n",
      "Restoring best model after lr decay! 0.185798 ---> 0.207936\n",
      "=======================================\n",
      "correlation 0.2079363\n",
      "poisson_loss 1799221.1\n"
     ]
    },
    {
     "name": "stderr",
     "output_type": "stream",
     "text": [
      "Epoch 20: 100%|██████████| 75/75 [00:04<00:00, 15.60it/s]\n"
     ]
    },
    {
     "name": "stdout",
     "output_type": "stream",
     "text": [
      "[020|00/05] ---> 0.21430984139442444\n",
      "=======================================\n",
      "correlation 0.21430984\n",
      "poisson_loss 1789777.2\n"
     ]
    },
    {
     "name": "stderr",
     "output_type": "stream",
     "text": [
      "Epoch 21: 100%|██████████| 75/75 [00:04<00:00, 15.55it/s]\n"
     ]
    },
    {
     "name": "stdout",
     "output_type": "stream",
     "text": [
      "[021|01/05] -/-> 0.20966924726963043\n",
      "=======================================\n",
      "correlation 0.20966925\n",
      "poisson_loss 1800760.5\n"
     ]
    },
    {
     "name": "stderr",
     "output_type": "stream",
     "text": [
      "Epoch 22: 100%|██████████| 75/75 [00:04<00:00, 15.41it/s]\n"
     ]
    },
    {
     "name": "stdout",
     "output_type": "stream",
     "text": [
      "[022|02/05] -/-> 0.20322349667549133\n",
      "=======================================\n",
      "correlation 0.2032235\n",
      "poisson_loss 1815298.0\n"
     ]
    },
    {
     "name": "stderr",
     "output_type": "stream",
     "text": [
      "Epoch 23: 100%|██████████| 75/75 [00:04<00:00, 15.57it/s]\n"
     ]
    },
    {
     "name": "stdout",
     "output_type": "stream",
     "text": [
      "[023|03/05] -/-> 0.19595438241958618\n",
      "=======================================\n",
      "correlation 0.19595438\n",
      "poisson_loss 1833899.8\n"
     ]
    },
    {
     "name": "stderr",
     "output_type": "stream",
     "text": [
      "Epoch 24: 100%|██████████| 75/75 [00:04<00:00, 15.35it/s]\n"
     ]
    },
    {
     "name": "stdout",
     "output_type": "stream",
     "text": [
      "[024|04/05] -/-> 0.1888420134782791\n",
      "=======================================\n",
      "correlation 0.18884201\n",
      "poisson_loss 1869610.0\n"
     ]
    },
    {
     "name": "stderr",
     "output_type": "stream",
     "text": [
      "Epoch 25: 100%|██████████| 75/75 [00:04<00:00, 15.31it/s]\n"
     ]
    },
    {
     "name": "stdout",
     "output_type": "stream",
     "text": [
      "[025|05/05] -/-> 0.18056949973106384\n",
      "Restoring best model after lr decay! 0.180569 ---> 0.214310\n",
      "Restoring best model! 0.214310 ---> 0.214310\n"
     ]
    }
   ],
   "source": [
    "cnn_model = CNN(input_height=64, input_width=36, n_neurons=5335)\n",
    "score, output, model_state = train_model(model=cnn_model, dataloader=dataloaders)"
   ]
  },
  {
   "cell_type": "code",
   "execution_count": 184,
   "metadata": {},
   "outputs": [
    {
     "data": {
      "image/png": "[encoded data removed]",
      "text/plain": [
       "<Figure size 900x600 with 1 Axes>"
      ]
     },
     "metadata": {
      "needs_background": "light"
     },
     "output_type": "display_data"
    }
   ],
   "source": [
    "# compute correlation on test set\n",
    "cnn_test_correlations = measures.get_correlations(\n",
    "    cnn_model, dataloaders[\"test\"], device=\"cuda\", per_neuron=True\n",
    ")\n",
    "\n",
    "fig, ax = plt.subplots(1, 1, dpi=150)\n",
    "n, bins, _ = ax.hist(cnn_test_correlations, bins=100, color='k')\n",
    "mean_corr = np.mean(cnn_test_correlations)\n",
    "ax.axvline(mean_corr, color=\"r\")\n",
    "ax.text(\n",
    "    x=mean_corr + 0.01,\n",
    "    y=np.max(n),\n",
    "    s=\"mean = {:.3f}\".format(mean_corr),\n",
    ")\n",
    "ax.set_title('Testset correlation of CNN model')\n",
    "ax.set_xlabel('Correlation')\n",
    "sns.despine()"
   ]
  },
  {
   "cell_type": "markdown",
   "metadata": {},
   "source": [
    "So on average, it seems to do better than our simple LN model. Let's compare the performance for each neuron between the two models."
   ]
  },
  {
   "cell_type": "code",
   "execution_count": 188,
   "metadata": {},
   "outputs": [
    {
     "data": {
      "image/png": "[encoded data removed]",
      "text/plain": [
       "<Figure size 900x600 with 1 Axes>"
      ]
     },
     "metadata": {
      "needs_background": "light"
     },
     "output_type": "display_data"
    }
   ],
   "source": [
    "# compare model performance\n",
    "fig, ax = plt.subplots(1, 1, dpi=150)\n",
    "ax.scatter(ln_test_correlations, cnn_test_correlations, color=\"k\", s=1)\n",
    "ax.set_xlabel('LN correlation')\n",
    "ax.set_ylabel('CNN correlation')\n",
    "ax.set_title('LN vs CNN model performance comparison')\n",
    "ax.plot([0, 1], [0, 1], color='r')\n",
    "ax.axis('square')\n",
    "sns.despine()"
   ]
  },
  {
   "cell_type": "markdown",
   "metadata": {},
   "source": [
    "You can appreciate that for vast majority of neurons (each black point), the CNN model yields better predictive performance than the LN model."
   ]
  },
  {
   "cell_type": "markdown",
   "metadata": {},
   "source": [
    "## Trying out the State-of-the-Art (SOTA) model"
   ]
  },
  {
   "cell_type": "markdown",
   "metadata": {},
   "source": [
    "Now that we got some sense on how we could go about training linear and nonlinear network models to predict V1 neuron responses to natural images, and we just saw how using a CNN model brings significant improvement to the performance beyond the LN model.\n",
    "\n",
    "You might now be wondering, how good can we get? To get a sense of this, let's go ahead and train a state-of-the-art (SOTA) CNN model for mouse V1 responses to natual images as published in our recent work in [Lurz et al. ICLR 2021](https://github.com/sinzlab/Lurz_2020_code).\n",
    "\n",
    "To keep things simple, I have provided for the network implementation in the `lviv` package, so you can build the model just by invoking a function!"
   ]
  },
  {
   "cell_type": "code",
   "execution_count": 189,
   "metadata": {},
   "outputs": [],
   "source": [
    "from lviv.models import build_lurz2020_model\n",
    "model_config = {'init_mu_range': 0.55,\n",
    "                'init_sigma': 0.4,\n",
    "                'input_kern': 15,\n",
    "                'hidden_kern': 13,\n",
    "                'gamma_input': 1.0,\n",
    "                'grid_mean_predictor': {'type': 'cortex',\n",
    "                                        'input_dimensions': 2,\n",
    "                                        'hidden_layers': 0,\n",
    "                                        'hidden_features': 0,\n",
    "                                        'final_tanh': False},\n",
    "                'gamma_readout': 2.439\n",
    "               }\n",
    "\n",
    "sota_cnn_model = build_lurz2020_model(**model_config, dataloaders=dataloaders, seed=1234)"
   ]
  },
  {
   "cell_type": "code",
   "execution_count": 190,
   "metadata": {},
   "outputs": [
    {
     "name": "stdout",
     "output_type": "stream",
     "text": [
      "=======================================\n",
      "correlation 0.00034033312\n",
      "poisson_loss 3467926.2\n"
     ]
    },
    {
     "name": "stderr",
     "output_type": "stream",
     "text": [
      "Epoch 1: 100%|██████████| 75/75 [00:03<00:00, 23.75it/s]\n"
     ]
    },
    {
     "name": "stdout",
     "output_type": "stream",
     "text": [
      "[001|00/05] ---> 0.06787307560443878\n",
      "=======================================\n",
      "correlation 0.067873076\n",
      "poisson_loss 1935524.5\n"
     ]
    },
    {
     "name": "stderr",
     "output_type": "stream",
     "text": [
      "Epoch 2: 100%|██████████| 75/75 [00:03<00:00, 23.51it/s]\n"
     ]
    },
    {
     "name": "stdout",
     "output_type": "stream",
     "text": [
      "[002|00/05] ---> 0.10996364057064056\n",
      "=======================================\n",
      "correlation 0.10996364\n",
      "poisson_loss 1894918.6\n"
     ]
    },
    {
     "name": "stderr",
     "output_type": "stream",
     "text": [
      "Epoch 3: 100%|██████████| 75/75 [00:03<00:00, 24.14it/s]\n"
     ]
    },
    {
     "name": "stdout",
     "output_type": "stream",
     "text": [
      "[003|00/05] ---> 0.1375318467617035\n",
      "=======================================\n",
      "correlation 0.13753185\n",
      "poisson_loss 1863867.0\n"
     ]
    },
    {
     "name": "stderr",
     "output_type": "stream",
     "text": [
      "Epoch 4: 100%|██████████| 75/75 [00:03<00:00, 24.61it/s]\n"
     ]
    },
    {
     "name": "stdout",
     "output_type": "stream",
     "text": [
      "[004|00/05] ---> 0.16539742052555084\n",
      "=======================================\n",
      "correlation 0.16539742\n",
      "poisson_loss 1837474.8\n"
     ]
    },
    {
     "name": "stderr",
     "output_type": "stream",
     "text": [
      "Epoch 5: 100%|██████████| 75/75 [00:03<00:00, 24.70it/s]\n"
     ]
    },
    {
     "name": "stdout",
     "output_type": "stream",
     "text": [
      "[005|00/05] ---> 0.1886771321296692\n",
      "=======================================\n",
      "correlation 0.18867713\n",
      "poisson_loss 1809697.5\n"
     ]
    },
    {
     "name": "stderr",
     "output_type": "stream",
     "text": [
      "Epoch 6: 100%|██████████| 75/75 [00:03<00:00, 24.73it/s]\n"
     ]
    },
    {
     "name": "stdout",
     "output_type": "stream",
     "text": [
      "[006|00/05] ---> 0.20710888504981995\n",
      "=======================================\n",
      "correlation 0.20710889\n",
      "poisson_loss 1788869.2\n"
     ]
    },
    {
     "name": "stderr",
     "output_type": "stream",
     "text": [
      "Epoch 7: 100%|██████████| 75/75 [00:03<00:00, 24.85it/s]\n"
     ]
    },
    {
     "name": "stdout",
     "output_type": "stream",
     "text": [
      "[007|00/05] ---> 0.2210845947265625\n",
      "=======================================\n",
      "correlation 0.2210846\n",
      "poisson_loss 1776406.6\n"
     ]
    },
    {
     "name": "stderr",
     "output_type": "stream",
     "text": [
      "Epoch 8: 100%|██████████| 75/75 [00:03<00:00, 23.44it/s]\n"
     ]
    },
    {
     "name": "stdout",
     "output_type": "stream",
     "text": [
      "[008|00/05] ---> 0.22940734028816223\n",
      "=======================================\n",
      "correlation 0.22940734\n",
      "poisson_loss 1774091.2\n"
     ]
    },
    {
     "name": "stderr",
     "output_type": "stream",
     "text": [
      "Epoch 9: 100%|██████████| 75/75 [00:03<00:00, 24.51it/s]\n"
     ]
    },
    {
     "name": "stdout",
     "output_type": "stream",
     "text": [
      "[009|00/05] ---> 0.2410404235124588\n",
      "=======================================\n",
      "correlation 0.24104042\n",
      "poisson_loss 1752204.5\n"
     ]
    },
    {
     "name": "stderr",
     "output_type": "stream",
     "text": [
      "Epoch 10: 100%|██████████| 75/75 [00:03<00:00, 24.37it/s]\n"
     ]
    },
    {
     "name": "stdout",
     "output_type": "stream",
     "text": [
      "[010|00/05] ---> 0.2530755400657654\n",
      "=======================================\n",
      "correlation 0.25307554\n",
      "poisson_loss 1736116.6\n"
     ]
    },
    {
     "name": "stderr",
     "output_type": "stream",
     "text": [
      "Epoch 11: 100%|██████████| 75/75 [00:03<00:00, 24.80it/s]\n"
     ]
    },
    {
     "name": "stdout",
     "output_type": "stream",
     "text": [
      "[011|00/05] ---> 0.26200374960899353\n",
      "=======================================\n",
      "correlation 0.26200375\n",
      "poisson_loss 1726259.4\n"
     ]
    },
    {
     "name": "stderr",
     "output_type": "stream",
     "text": [
      "Epoch 12: 100%|██████████| 75/75 [00:03<00:00, 23.58it/s]\n"
     ]
    },
    {
     "name": "stdout",
     "output_type": "stream",
     "text": [
      "[012|01/05] -/-> 0.26140353083610535\n",
      "=======================================\n",
      "correlation 0.26140353\n",
      "poisson_loss 1732223.8\n"
     ]
    },
    {
     "name": "stderr",
     "output_type": "stream",
     "text": [
      "Epoch 13: 100%|██████████| 75/75 [00:03<00:00, 23.82it/s]\n"
     ]
    },
    {
     "name": "stdout",
     "output_type": "stream",
     "text": [
      "[013|01/05] ---> 0.2666929066181183\n",
      "=======================================\n",
      "correlation 0.2666929\n",
      "poisson_loss 1719308.0\n"
     ]
    },
    {
     "name": "stderr",
     "output_type": "stream",
     "text": [
      "Epoch 14: 100%|██████████| 75/75 [00:03<00:00, 24.10it/s]\n"
     ]
    },
    {
     "name": "stdout",
     "output_type": "stream",
     "text": [
      "[014|00/05] ---> 0.27275601029396057\n",
      "=======================================\n",
      "correlation 0.272756\n",
      "poisson_loss 1715621.9\n"
     ]
    },
    {
     "name": "stderr",
     "output_type": "stream",
     "text": [
      "Epoch 15: 100%|██████████| 75/75 [00:03<00:00, 24.38it/s]\n"
     ]
    },
    {
     "name": "stdout",
     "output_type": "stream",
     "text": [
      "[015|00/05] ---> 0.2757464647293091\n",
      "=======================================\n",
      "correlation 0.27574646\n",
      "poisson_loss 1706096.2\n"
     ]
    },
    {
     "name": "stderr",
     "output_type": "stream",
     "text": [
      "Epoch 16: 100%|██████████| 75/75 [00:03<00:00, 23.69it/s]\n"
     ]
    },
    {
     "name": "stdout",
     "output_type": "stream",
     "text": [
      "[016|00/05] ---> 0.27953892946243286\n",
      "=======================================\n",
      "correlation 0.27953893\n",
      "poisson_loss 1705926.1\n"
     ]
    },
    {
     "name": "stderr",
     "output_type": "stream",
     "text": [
      "Epoch 17: 100%|██████████| 75/75 [00:03<00:00, 23.45it/s]\n"
     ]
    },
    {
     "name": "stdout",
     "output_type": "stream",
     "text": [
      "[017|01/05] -/-> 0.27851811051368713\n",
      "=======================================\n",
      "correlation 0.2785181\n",
      "poisson_loss 1702321.5\n"
     ]
    },
    {
     "name": "stderr",
     "output_type": "stream",
     "text": [
      "Epoch 18: 100%|██████████| 75/75 [00:03<00:00, 23.73it/s]\n"
     ]
    },
    {
     "name": "stdout",
     "output_type": "stream",
     "text": [
      "[018|01/05] ---> 0.28035420179367065\n",
      "=======================================\n",
      "correlation 0.2803542\n",
      "poisson_loss 1700415.2\n"
     ]
    },
    {
     "name": "stderr",
     "output_type": "stream",
     "text": [
      "Epoch 19: 100%|██████████| 75/75 [00:03<00:00, 23.76it/s]\n"
     ]
    },
    {
     "name": "stdout",
     "output_type": "stream",
     "text": [
      "[019|00/05] ---> 0.28100690245628357\n",
      "=======================================\n",
      "correlation 0.2810069\n",
      "poisson_loss 1702571.2\n"
     ]
    },
    {
     "name": "stderr",
     "output_type": "stream",
     "text": [
      "Epoch 20: 100%|██████████| 75/75 [00:03<00:00, 23.53it/s]\n"
     ]
    },
    {
     "name": "stdout",
     "output_type": "stream",
     "text": [
      "[020|00/05] ---> 0.28109103441238403\n",
      "=======================================\n",
      "correlation 0.28109103\n",
      "poisson_loss 1701695.4\n"
     ]
    },
    {
     "name": "stderr",
     "output_type": "stream",
     "text": [
      "Epoch 21: 100%|██████████| 75/75 [00:03<00:00, 24.10it/s]\n"
     ]
    },
    {
     "name": "stdout",
     "output_type": "stream",
     "text": [
      "[021|00/05] ---> 0.28441017866134644\n",
      "=======================================\n",
      "correlation 0.28441018\n",
      "poisson_loss 1697016.2\n"
     ]
    },
    {
     "name": "stderr",
     "output_type": "stream",
     "text": [
      "Epoch 22: 100%|██████████| 75/75 [00:03<00:00, 23.80it/s]\n"
     ]
    },
    {
     "name": "stdout",
     "output_type": "stream",
     "text": [
      "[022|01/05] -/-> 0.2838843762874603\n",
      "=======================================\n",
      "correlation 0.28388438\n",
      "poisson_loss 1698947.2\n"
     ]
    },
    {
     "name": "stderr",
     "output_type": "stream",
     "text": [
      "Epoch 23: 100%|██████████| 75/75 [00:03<00:00, 20.24it/s]\n"
     ]
    },
    {
     "name": "stdout",
     "output_type": "stream",
     "text": [
      "[023|01/05] ---> 0.2875996530056\n",
      "=======================================\n",
      "correlation 0.28759965\n",
      "poisson_loss 1692793.8\n"
     ]
    },
    {
     "name": "stderr",
     "output_type": "stream",
     "text": [
      "Epoch 24: 100%|██████████| 75/75 [00:03<00:00, 23.29it/s]\n"
     ]
    },
    {
     "name": "stdout",
     "output_type": "stream",
     "text": [
      "[024|01/05] -/-> 0.2802520990371704\n",
      "=======================================\n",
      "correlation 0.2802521\n",
      "poisson_loss 1707437.5\n"
     ]
    },
    {
     "name": "stderr",
     "output_type": "stream",
     "text": [
      "Epoch 25: 100%|██████████| 75/75 [00:03<00:00, 23.47it/s]\n"
     ]
    },
    {
     "name": "stdout",
     "output_type": "stream",
     "text": [
      "[025|02/05] -/-> 0.2814634442329407\n",
      "=======================================\n",
      "correlation 0.28146344\n",
      "poisson_loss 1706788.6\n"
     ]
    },
    {
     "name": "stderr",
     "output_type": "stream",
     "text": [
      "Epoch 26: 100%|██████████| 75/75 [00:03<00:00, 24.09it/s]\n"
     ]
    },
    {
     "name": "stdout",
     "output_type": "stream",
     "text": [
      "[026|03/05] -/-> 0.28642547130584717\n",
      "=======================================\n",
      "correlation 0.28642547\n",
      "poisson_loss 1697333.8\n"
     ]
    },
    {
     "name": "stderr",
     "output_type": "stream",
     "text": [
      "Epoch 27: 100%|██████████| 75/75 [00:03<00:00, 24.36it/s]\n"
     ]
    },
    {
     "name": "stdout",
     "output_type": "stream",
     "text": [
      "[027|04/05] -/-> 0.2831057608127594\n",
      "=======================================\n",
      "correlation 0.28310576\n",
      "poisson_loss 1705624.2\n"
     ]
    },
    {
     "name": "stderr",
     "output_type": "stream",
     "text": [
      "Epoch 28: 100%|██████████| 75/75 [00:03<00:00, 24.52it/s]\n"
     ]
    },
    {
     "name": "stdout",
     "output_type": "stream",
     "text": [
      "[028|05/05] -/-> 0.28724056482315063\n",
      "Restoring best model after lr decay! 0.287241 ---> 0.287600\n",
      "=======================================\n",
      "correlation 0.28759965\n",
      "poisson_loss 1692793.8\n"
     ]
    },
    {
     "name": "stderr",
     "output_type": "stream",
     "text": [
      "Epoch 29: 100%|██████████| 75/75 [00:03<00:00, 23.64it/s]\n"
     ]
    },
    {
     "name": "stdout",
     "output_type": "stream",
     "text": [
      "Epoch    29: reducing learning rate of group 0 to 1.5000e-03.\n",
      "[029|01/05] -/-> 0.2806972563266754\n",
      "=======================================\n",
      "correlation 0.28069726\n",
      "poisson_loss 1707878.4\n"
     ]
    },
    {
     "name": "stderr",
     "output_type": "stream",
     "text": [
      "Epoch 30: 100%|██████████| 75/75 [00:03<00:00, 24.05it/s]\n"
     ]
    },
    {
     "name": "stdout",
     "output_type": "stream",
     "text": [
      "[030|01/05] ---> 0.29481175541877747\n",
      "=======================================\n",
      "correlation 0.29481176\n",
      "poisson_loss 1679872.0\n"
     ]
    },
    {
     "name": "stderr",
     "output_type": "stream",
     "text": [
      "Epoch 31: 100%|██████████| 75/75 [00:03<00:00, 24.64it/s]\n"
     ]
    },
    {
     "name": "stdout",
     "output_type": "stream",
     "text": [
      "[031|00/05] ---> 0.29728567600250244\n",
      "=======================================\n",
      "correlation 0.29728568\n",
      "poisson_loss 1678024.9\n"
     ]
    },
    {
     "name": "stderr",
     "output_type": "stream",
     "text": [
      "Epoch 32: 100%|██████████| 75/75 [00:03<00:00, 24.52it/s]\n"
     ]
    },
    {
     "name": "stdout",
     "output_type": "stream",
     "text": [
      "[032|01/05] -/-> 0.29440122842788696\n",
      "=======================================\n",
      "correlation 0.29440123\n",
      "poisson_loss 1681929.2\n"
     ]
    },
    {
     "name": "stderr",
     "output_type": "stream",
     "text": [
      "Epoch 33: 100%|██████████| 75/75 [00:03<00:00, 23.19it/s]\n"
     ]
    },
    {
     "name": "stdout",
     "output_type": "stream",
     "text": [
      "[033|02/05] -/-> 0.29145699739456177\n",
      "=======================================\n",
      "correlation 0.291457\n",
      "poisson_loss 1686285.4\n"
     ]
    },
    {
     "name": "stderr",
     "output_type": "stream",
     "text": [
      "Epoch 34: 100%|██████████| 75/75 [00:03<00:00, 23.40it/s]\n"
     ]
    },
    {
     "name": "stdout",
     "output_type": "stream",
     "text": [
      "[034|03/05] -/-> 0.2954012453556061\n",
      "=======================================\n",
      "correlation 0.29540125\n",
      "poisson_loss 1684492.0\n"
     ]
    },
    {
     "name": "stderr",
     "output_type": "stream",
     "text": [
      "Epoch 35: 100%|██████████| 75/75 [00:03<00:00, 23.81it/s]\n"
     ]
    },
    {
     "name": "stdout",
     "output_type": "stream",
     "text": [
      "[035|04/05] -/-> 0.28988325595855713\n",
      "=======================================\n",
      "correlation 0.28988326\n",
      "poisson_loss 1687171.6\n"
     ]
    },
    {
     "name": "stderr",
     "output_type": "stream",
     "text": [
      "Epoch 36: 100%|██████████| 75/75 [00:03<00:00, 23.52it/s]\n"
     ]
    },
    {
     "name": "stdout",
     "output_type": "stream",
     "text": [
      "[036|05/05] -/-> 0.28831052780151367\n",
      "Restoring best model after lr decay! 0.288311 ---> 0.297286\n",
      "=======================================\n",
      "correlation 0.29728568\n",
      "poisson_loss 1678024.9\n"
     ]
    },
    {
     "name": "stderr",
     "output_type": "stream",
     "text": [
      "Epoch 37: 100%|██████████| 75/75 [00:03<00:00, 24.53it/s]\n"
     ]
    },
    {
     "name": "stdout",
     "output_type": "stream",
     "text": [
      "Epoch    37: reducing learning rate of group 0 to 4.5000e-04.\n",
      "[037|01/05] -/-> 0.2952514886856079\n",
      "=======================================\n",
      "correlation 0.2952515\n",
      "poisson_loss 1681833.0\n"
     ]
    },
    {
     "name": "stderr",
     "output_type": "stream",
     "text": [
      "Epoch 38: 100%|██████████| 75/75 [00:03<00:00, 23.84it/s]\n"
     ]
    },
    {
     "name": "stdout",
     "output_type": "stream",
     "text": [
      "[038|02/05] -/-> 0.29708340764045715\n",
      "=======================================\n",
      "correlation 0.2970834\n",
      "poisson_loss 1677903.0\n"
     ]
    },
    {
     "name": "stderr",
     "output_type": "stream",
     "text": [
      "Epoch 39: 100%|██████████| 75/75 [00:03<00:00, 23.63it/s]\n"
     ]
    },
    {
     "name": "stdout",
     "output_type": "stream",
     "text": [
      "[039|03/05] -/-> 0.2962174713611603\n",
      "=======================================\n",
      "correlation 0.29621747\n",
      "poisson_loss 1677434.4\n"
     ]
    },
    {
     "name": "stderr",
     "output_type": "stream",
     "text": [
      "Epoch 40: 100%|██████████| 75/75 [00:03<00:00, 23.34it/s]\n"
     ]
    },
    {
     "name": "stdout",
     "output_type": "stream",
     "text": [
      "[040|04/05] -/-> 0.29502999782562256\n",
      "=======================================\n",
      "correlation 0.29503\n",
      "poisson_loss 1681873.8\n"
     ]
    },
    {
     "name": "stderr",
     "output_type": "stream",
     "text": [
      "Epoch 41: 100%|██████████| 75/75 [00:03<00:00, 23.45it/s]\n"
     ]
    },
    {
     "name": "stdout",
     "output_type": "stream",
     "text": [
      "[041|05/05] -/-> 0.2950746417045593\n",
      "Restoring best model after lr decay! 0.295075 ---> 0.297286\n",
      "Restoring best model! 0.297286 ---> 0.297286\n"
     ]
    }
   ],
   "source": [
    "score, output, model_state = train_model(model=sota_cnn_model, dataloader=dataloaders)"
   ]
  },
  {
   "cell_type": "markdown",
   "metadata": {},
   "source": [
    "As usual, let's take a look at the testset performance."
   ]
  },
  {
   "cell_type": "code",
   "execution_count": 194,
   "metadata": {},
   "outputs": [
    {
     "data": {
      "image/png": "[encoded data removed]",
      "text/plain": [
       "<Figure size 900x600 with 1 Axes>"
      ]
     },
     "metadata": {
      "needs_background": "light"
     },
     "output_type": "display_data"
    }
   ],
   "source": [
    "# compute correlation on test set\n",
    "sota_cnn_test_correlations = measures.get_correlations(\n",
    "    sota_cnn_model, dataloaders[\"test\"], device=\"cuda\", per_neuron=True\n",
    ")\n",
    "\n",
    "fig, ax = plt.subplots(1, 1, dpi=150)\n",
    "n, bins, _ = ax.hist(sota_cnn_test_correlations, bins=100, color='k')\n",
    "mean_corr = np.mean(sota_cnn_test_correlations)\n",
    "ax.axvline(mean_corr, color=\"r\")\n",
    "ax.text(\n",
    "    x=mean_corr + 0.01,\n",
    "    y=np.max(n),\n",
    "    s=\"mean = {:.3f}\".format(mean_corr),\n",
    ")\n",
    "ax.set_title('Testset correlation of SOTA CNN model')\n",
    "ax.set_xlabel('Correlation')\n",
    "sns.despine()"
   ]
  },
  {
   "cell_type": "markdown",
   "metadata": {},
   "source": [
    "It turns out that we can have *linearized* version of the SOTA model. This effectively removes all nonlinear operations within the network except for the very last nonlinear activation, rendering the network into a **LN model** but with more complex architecture."
   ]
  },
  {
   "cell_type": "code",
   "execution_count": 196,
   "metadata": {},
   "outputs": [],
   "source": [
    "linear_model_config = dict(model_config) # copy the config\n",
    "linear_model_config['linear'] = True # set linear to True to make it a LN model!\n",
    "\n",
    "sota_ln_model = build_lurz2020_model(**linear_model_config, dataloaders=dataloaders, seed=1234)"
   ]
  },
  {
   "cell_type": "code",
   "execution_count": 197,
   "metadata": {},
   "outputs": [
    {
     "name": "stdout",
     "output_type": "stream",
     "text": [
      "=======================================\n",
      "correlation 0.00037260386\n",
      "poisson_loss 3467901.0\n"
     ]
    },
    {
     "name": "stderr",
     "output_type": "stream",
     "text": [
      "Epoch 1: 100%|██████████| 75/75 [00:03<00:00, 23.81it/s]\n"
     ]
    },
    {
     "name": "stdout",
     "output_type": "stream",
     "text": [
      "[001|00/05] ---> 0.031154120340943336\n",
      "=======================================\n",
      "correlation 0.03115412\n",
      "poisson_loss 2004979.6\n"
     ]
    },
    {
     "name": "stderr",
     "output_type": "stream",
     "text": [
      "Epoch 2: 100%|██████████| 75/75 [00:03<00:00, 24.24it/s]\n"
     ]
    },
    {
     "name": "stdout",
     "output_type": "stream",
     "text": [
      "[002|00/05] ---> 0.06628101319074631\n",
      "=======================================\n",
      "correlation 0.06628101\n",
      "poisson_loss 1938707.6\n"
     ]
    },
    {
     "name": "stderr",
     "output_type": "stream",
     "text": [
      "Epoch 3: 100%|██████████| 75/75 [00:03<00:00, 23.89it/s]\n"
     ]
    },
    {
     "name": "stdout",
     "output_type": "stream",
     "text": [
      "[003|00/05] ---> 0.10129044204950333\n",
      "=======================================\n",
      "correlation 0.10129044\n",
      "poisson_loss 1896883.6\n"
     ]
    },
    {
     "name": "stderr",
     "output_type": "stream",
     "text": [
      "Epoch 4: 100%|██████████| 75/75 [00:03<00:00, 24.27it/s]\n"
     ]
    },
    {
     "name": "stdout",
     "output_type": "stream",
     "text": [
      "[004|00/05] ---> 0.11133434623479843\n",
      "=======================================\n",
      "correlation 0.111334346\n",
      "poisson_loss 1889438.8\n"
     ]
    },
    {
     "name": "stderr",
     "output_type": "stream",
     "text": [
      "Epoch 5: 100%|██████████| 75/75 [00:03<00:00, 23.81it/s]\n"
     ]
    },
    {
     "name": "stdout",
     "output_type": "stream",
     "text": [
      "[005|00/05] ---> 0.1422801911830902\n",
      "=======================================\n",
      "correlation 0.14228019\n",
      "poisson_loss 1866141.4\n"
     ]
    },
    {
     "name": "stderr",
     "output_type": "stream",
     "text": [
      "Epoch 6: 100%|██████████| 75/75 [00:03<00:00, 24.76it/s]\n"
     ]
    },
    {
     "name": "stdout",
     "output_type": "stream",
     "text": [
      "[006|00/05] ---> 0.1523531973361969\n",
      "=======================================\n",
      "correlation 0.1523532\n",
      "poisson_loss 1856250.8\n"
     ]
    },
    {
     "name": "stderr",
     "output_type": "stream",
     "text": [
      "Epoch 7: 100%|██████████| 75/75 [00:03<00:00, 23.95it/s]\n"
     ]
    },
    {
     "name": "stdout",
     "output_type": "stream",
     "text": [
      "[007|00/05] ---> 0.1694387048482895\n",
      "=======================================\n",
      "correlation 0.1694387\n",
      "poisson_loss 1838175.6\n"
     ]
    },
    {
     "name": "stderr",
     "output_type": "stream",
     "text": [
      "Epoch 8: 100%|██████████| 75/75 [00:03<00:00, 25.00it/s]\n"
     ]
    },
    {
     "name": "stdout",
     "output_type": "stream",
     "text": [
      "[008|00/05] ---> 0.17451056838035583\n",
      "=======================================\n",
      "correlation 0.17451057\n",
      "poisson_loss 1830370.5\n"
     ]
    },
    {
     "name": "stderr",
     "output_type": "stream",
     "text": [
      "Epoch 9: 100%|██████████| 75/75 [00:03<00:00, 24.17it/s]\n"
     ]
    },
    {
     "name": "stdout",
     "output_type": "stream",
     "text": [
      "[009|00/05] ---> 0.18366901576519012\n",
      "=======================================\n",
      "correlation 0.18366902\n",
      "poisson_loss 1819281.1\n"
     ]
    },
    {
     "name": "stderr",
     "output_type": "stream",
     "text": [
      "Epoch 10: 100%|██████████| 75/75 [00:03<00:00, 23.80it/s]\n"
     ]
    },
    {
     "name": "stdout",
     "output_type": "stream",
     "text": [
      "[010|00/05] ---> 0.18900378048419952\n",
      "=======================================\n",
      "correlation 0.18900378\n",
      "poisson_loss 1814585.8\n"
     ]
    },
    {
     "name": "stderr",
     "output_type": "stream",
     "text": [
      "Epoch 11: 100%|██████████| 75/75 [00:03<00:00, 23.57it/s]\n"
     ]
    },
    {
     "name": "stdout",
     "output_type": "stream",
     "text": [
      "[011|00/05] ---> 0.19559316337108612\n",
      "=======================================\n",
      "correlation 0.19559316\n",
      "poisson_loss 1809078.8\n"
     ]
    },
    {
     "name": "stderr",
     "output_type": "stream",
     "text": [
      "Epoch 12: 100%|██████████| 75/75 [00:03<00:00, 23.64it/s]\n"
     ]
    },
    {
     "name": "stdout",
     "output_type": "stream",
     "text": [
      "[012|00/05] ---> 0.19598908722400665\n",
      "=======================================\n",
      "correlation 0.19598909\n",
      "poisson_loss 1812337.2\n"
     ]
    },
    {
     "name": "stderr",
     "output_type": "stream",
     "text": [
      "Epoch 13: 100%|██████████| 75/75 [00:03<00:00, 23.85it/s]\n"
     ]
    },
    {
     "name": "stdout",
     "output_type": "stream",
     "text": [
      "[013|00/05] ---> 0.19925911724567413\n",
      "=======================================\n",
      "correlation 0.19925912\n",
      "poisson_loss 1802411.1\n"
     ]
    },
    {
     "name": "stderr",
     "output_type": "stream",
     "text": [
      "Epoch 14: 100%|██████████| 75/75 [00:03<00:00, 23.96it/s]\n"
     ]
    },
    {
     "name": "stdout",
     "output_type": "stream",
     "text": [
      "[014|01/05] -/-> 0.19721285998821259\n",
      "=======================================\n",
      "correlation 0.19721286\n",
      "poisson_loss 1813778.1\n"
     ]
    },
    {
     "name": "stderr",
     "output_type": "stream",
     "text": [
      "Epoch 15: 100%|██████████| 75/75 [00:03<00:00, 23.68it/s]\n"
     ]
    },
    {
     "name": "stdout",
     "output_type": "stream",
     "text": [
      "[015|01/05] ---> 0.19943396747112274\n",
      "=======================================\n",
      "correlation 0.19943397\n",
      "poisson_loss 1805019.9\n"
     ]
    },
    {
     "name": "stderr",
     "output_type": "stream",
     "text": [
      "Epoch 16: 100%|██████████| 75/75 [00:02<00:00, 25.11it/s]\n"
     ]
    },
    {
     "name": "stdout",
     "output_type": "stream",
     "text": [
      "[016|00/05] ---> 0.20473770797252655\n",
      "=======================================\n",
      "correlation 0.20473771\n",
      "poisson_loss 1800555.1\n"
     ]
    },
    {
     "name": "stderr",
     "output_type": "stream",
     "text": [
      "Epoch 17: 100%|██████████| 75/75 [00:03<00:00, 24.19it/s]\n"
     ]
    },
    {
     "name": "stdout",
     "output_type": "stream",
     "text": [
      "[017|01/05] -/-> 0.20269884169101715\n",
      "=======================================\n",
      "correlation 0.20269884\n",
      "poisson_loss 1800096.5\n"
     ]
    },
    {
     "name": "stderr",
     "output_type": "stream",
     "text": [
      "Epoch 18: 100%|██████████| 75/75 [00:03<00:00, 23.90it/s]\n"
     ]
    },
    {
     "name": "stdout",
     "output_type": "stream",
     "text": [
      "[018|01/05] ---> 0.2061077207326889\n",
      "=======================================\n",
      "correlation 0.20610772\n",
      "poisson_loss 1795254.0\n"
     ]
    },
    {
     "name": "stderr",
     "output_type": "stream",
     "text": [
      "Epoch 19: 100%|██████████| 75/75 [00:03<00:00, 23.87it/s]\n"
     ]
    },
    {
     "name": "stdout",
     "output_type": "stream",
     "text": [
      "[019|01/05] -/-> 0.20485205948352814\n",
      "=======================================\n",
      "correlation 0.20485206\n",
      "poisson_loss 1798792.5\n"
     ]
    },
    {
     "name": "stderr",
     "output_type": "stream",
     "text": [
      "Epoch 20: 100%|██████████| 75/75 [00:03<00:00, 23.81it/s]\n"
     ]
    },
    {
     "name": "stdout",
     "output_type": "stream",
     "text": [
      "[020|02/05] -/-> 0.2048516720533371\n",
      "=======================================\n",
      "correlation 0.20485167\n",
      "poisson_loss 1797439.4\n"
     ]
    },
    {
     "name": "stderr",
     "output_type": "stream",
     "text": [
      "Epoch 21: 100%|██████████| 75/75 [00:03<00:00, 23.53it/s]\n"
     ]
    },
    {
     "name": "stdout",
     "output_type": "stream",
     "text": [
      "[021|02/05] ---> 0.20937415957450867\n",
      "=======================================\n",
      "correlation 0.20937416\n",
      "poisson_loss 1793138.4\n"
     ]
    },
    {
     "name": "stderr",
     "output_type": "stream",
     "text": [
      "Epoch 22: 100%|██████████| 75/75 [00:03<00:00, 24.88it/s]\n"
     ]
    },
    {
     "name": "stdout",
     "output_type": "stream",
     "text": [
      "[022|01/05] -/-> 0.20609386265277863\n",
      "=======================================\n",
      "correlation 0.20609386\n",
      "poisson_loss 1797882.2\n"
     ]
    },
    {
     "name": "stderr",
     "output_type": "stream",
     "text": [
      "Epoch 23: 100%|██████████| 75/75 [00:03<00:00, 23.52it/s]\n"
     ]
    },
    {
     "name": "stdout",
     "output_type": "stream",
     "text": [
      "[023|02/05] -/-> 0.20404353737831116\n",
      "=======================================\n",
      "correlation 0.20404354\n",
      "poisson_loss 1799685.6\n"
     ]
    },
    {
     "name": "stderr",
     "output_type": "stream",
     "text": [
      "Epoch 24: 100%|██████████| 75/75 [00:03<00:00, 23.73it/s]\n"
     ]
    },
    {
     "name": "stdout",
     "output_type": "stream",
     "text": [
      "[024|03/05] -/-> 0.20454750955104828\n",
      "=======================================\n",
      "correlation 0.20454751\n",
      "poisson_loss 1798025.9\n"
     ]
    },
    {
     "name": "stderr",
     "output_type": "stream",
     "text": [
      "Epoch 25: 100%|██████████| 75/75 [00:03<00:00, 23.99it/s]\n"
     ]
    },
    {
     "name": "stdout",
     "output_type": "stream",
     "text": [
      "[025|03/05] ---> 0.20941472053527832\n",
      "=======================================\n",
      "correlation 0.20941472\n",
      "poisson_loss 1793924.2\n"
     ]
    },
    {
     "name": "stderr",
     "output_type": "stream",
     "text": [
      "Epoch 26: 100%|██████████| 75/75 [00:03<00:00, 24.90it/s]\n"
     ]
    },
    {
     "name": "stdout",
     "output_type": "stream",
     "text": [
      "[026|01/05] -/-> 0.20531687140464783\n",
      "=======================================\n",
      "correlation 0.20531687\n",
      "poisson_loss 1796690.5\n"
     ]
    },
    {
     "name": "stderr",
     "output_type": "stream",
     "text": [
      "Epoch 27: 100%|██████████| 75/75 [00:03<00:00, 25.00it/s]\n"
     ]
    },
    {
     "name": "stdout",
     "output_type": "stream",
     "text": [
      "[027|02/05] -/-> 0.20843307673931122\n",
      "=======================================\n",
      "correlation 0.20843308\n",
      "poisson_loss 1792562.0\n"
     ]
    },
    {
     "name": "stderr",
     "output_type": "stream",
     "text": [
      "Epoch 28: 100%|██████████| 75/75 [00:03<00:00, 24.12it/s]\n"
     ]
    },
    {
     "name": "stdout",
     "output_type": "stream",
     "text": [
      "[028|03/05] -/-> 0.20856915414333344\n",
      "=======================================\n",
      "correlation 0.20856915\n",
      "poisson_loss 1793297.0\n"
     ]
    },
    {
     "name": "stderr",
     "output_type": "stream",
     "text": [
      "Epoch 29: 100%|██████████| 75/75 [00:03<00:00, 24.91it/s]\n"
     ]
    },
    {
     "name": "stdout",
     "output_type": "stream",
     "text": [
      "[029|03/05] ---> 0.21146723628044128\n",
      "=======================================\n",
      "correlation 0.21146724\n",
      "poisson_loss 1791831.0\n"
     ]
    },
    {
     "name": "stderr",
     "output_type": "stream",
     "text": [
      "Epoch 30: 100%|██████████| 75/75 [00:03<00:00, 23.65it/s]\n"
     ]
    },
    {
     "name": "stdout",
     "output_type": "stream",
     "text": [
      "[030|01/05] -/-> 0.20582225918769836\n",
      "=======================================\n",
      "correlation 0.20582226\n",
      "poisson_loss 1795871.8\n"
     ]
    },
    {
     "name": "stderr",
     "output_type": "stream",
     "text": [
      "Epoch 31: 100%|██████████| 75/75 [00:02<00:00, 25.05it/s]\n"
     ]
    },
    {
     "name": "stdout",
     "output_type": "stream",
     "text": [
      "[031|02/05] -/-> 0.20788462460041046\n",
      "=======================================\n",
      "correlation 0.20788462\n",
      "poisson_loss 1791888.0\n"
     ]
    },
    {
     "name": "stderr",
     "output_type": "stream",
     "text": [
      "Epoch 32: 100%|██████████| 75/75 [00:02<00:00, 25.15it/s]\n"
     ]
    },
    {
     "name": "stdout",
     "output_type": "stream",
     "text": [
      "[032|02/05] ---> 0.21289031207561493\n",
      "=======================================\n",
      "correlation 0.21289031\n",
      "poisson_loss 1788401.1\n"
     ]
    },
    {
     "name": "stderr",
     "output_type": "stream",
     "text": [
      "Epoch 33: 100%|██████████| 75/75 [00:03<00:00, 23.82it/s]\n"
     ]
    },
    {
     "name": "stdout",
     "output_type": "stream",
     "text": [
      "[033|00/05] ---> 0.2130030393600464\n",
      "=======================================\n",
      "correlation 0.21300304\n",
      "poisson_loss 1788108.2\n"
     ]
    },
    {
     "name": "stderr",
     "output_type": "stream",
     "text": [
      "Epoch 34: 100%|██████████| 75/75 [00:03<00:00, 23.84it/s]\n"
     ]
    },
    {
     "name": "stdout",
     "output_type": "stream",
     "text": [
      "[034|01/05] -/-> 0.21205812692642212\n",
      "=======================================\n",
      "correlation 0.21205813\n",
      "poisson_loss 1790667.8\n"
     ]
    },
    {
     "name": "stderr",
     "output_type": "stream",
     "text": [
      "Epoch 35: 100%|██████████| 75/75 [00:03<00:00, 24.95it/s]\n"
     ]
    },
    {
     "name": "stdout",
     "output_type": "stream",
     "text": [
      "[035|02/05] -/-> 0.2101009488105774\n",
      "=======================================\n",
      "correlation 0.21010095\n",
      "poisson_loss 1789697.5\n"
     ]
    },
    {
     "name": "stderr",
     "output_type": "stream",
     "text": [
      "Epoch 36: 100%|██████████| 75/75 [00:03<00:00, 23.59it/s]\n"
     ]
    },
    {
     "name": "stdout",
     "output_type": "stream",
     "text": [
      "[036|03/05] -/-> 0.20937992632389069\n",
      "=======================================\n",
      "correlation 0.20937993\n",
      "poisson_loss 1793023.4\n"
     ]
    },
    {
     "name": "stderr",
     "output_type": "stream",
     "text": [
      "Epoch 37: 100%|██████████| 75/75 [00:03<00:00, 23.44it/s]\n"
     ]
    },
    {
     "name": "stdout",
     "output_type": "stream",
     "text": [
      "[037|04/05] -/-> 0.2109660506248474\n",
      "=======================================\n",
      "correlation 0.21096605\n",
      "poisson_loss 1791269.8\n"
     ]
    },
    {
     "name": "stderr",
     "output_type": "stream",
     "text": [
      "Epoch 38: 100%|██████████| 75/75 [00:03<00:00, 23.56it/s]\n"
     ]
    },
    {
     "name": "stdout",
     "output_type": "stream",
     "text": [
      "[038|05/05] -/-> 0.21128803491592407\n",
      "Restoring best model after lr decay! 0.211288 ---> 0.213003\n",
      "=======================================\n",
      "correlation 0.21300304\n",
      "poisson_loss 1788108.2\n"
     ]
    },
    {
     "name": "stderr",
     "output_type": "stream",
     "text": [
      "Epoch 39: 100%|██████████| 75/75 [00:03<00:00, 24.45it/s]\n"
     ]
    },
    {
     "name": "stdout",
     "output_type": "stream",
     "text": [
      "Epoch    39: reducing learning rate of group 0 to 1.5000e-03.\n",
      "[039|01/05] -/-> 0.20972859859466553\n",
      "=======================================\n",
      "correlation 0.2097286\n",
      "poisson_loss 1791484.4\n"
     ]
    },
    {
     "name": "stderr",
     "output_type": "stream",
     "text": [
      "Epoch 40: 100%|██████████| 75/75 [00:03<00:00, 23.66it/s]\n"
     ]
    },
    {
     "name": "stdout",
     "output_type": "stream",
     "text": [
      "[040|01/05] ---> 0.21579156816005707\n",
      "=======================================\n",
      "correlation 0.21579157\n",
      "poisson_loss 1781386.6\n"
     ]
    },
    {
     "name": "stderr",
     "output_type": "stream",
     "text": [
      "Epoch 41: 100%|██████████| 75/75 [00:03<00:00, 24.31it/s]\n"
     ]
    },
    {
     "name": "stdout",
     "output_type": "stream",
     "text": [
      "[041|01/05] -/-> 0.2157527655363083\n",
      "=======================================\n",
      "correlation 0.21575277\n",
      "poisson_loss 1781553.0\n"
     ]
    },
    {
     "name": "stderr",
     "output_type": "stream",
     "text": [
      "Epoch 42: 100%|██████████| 75/75 [00:03<00:00, 23.97it/s]\n"
     ]
    },
    {
     "name": "stdout",
     "output_type": "stream",
     "text": [
      "[042|01/05] ---> 0.21590964496135712\n",
      "=======================================\n",
      "correlation 0.21590964\n",
      "poisson_loss 1783046.2\n"
     ]
    },
    {
     "name": "stderr",
     "output_type": "stream",
     "text": [
      "Epoch 43: 100%|██████████| 75/75 [00:03<00:00, 24.96it/s]\n"
     ]
    },
    {
     "name": "stdout",
     "output_type": "stream",
     "text": [
      "[043|01/05] -/-> 0.21569781005382538\n",
      "=======================================\n",
      "correlation 0.21569781\n",
      "poisson_loss 1783103.1\n"
     ]
    },
    {
     "name": "stderr",
     "output_type": "stream",
     "text": [
      "Epoch 44: 100%|██████████| 75/75 [00:03<00:00, 23.70it/s]\n"
     ]
    },
    {
     "name": "stdout",
     "output_type": "stream",
     "text": [
      "[044|02/05] -/-> 0.21519061923027039\n",
      "=======================================\n",
      "correlation 0.21519062\n",
      "poisson_loss 1782805.5\n"
     ]
    },
    {
     "name": "stderr",
     "output_type": "stream",
     "text": [
      "Epoch 45: 100%|██████████| 75/75 [00:03<00:00, 24.61it/s]\n"
     ]
    },
    {
     "name": "stdout",
     "output_type": "stream",
     "text": [
      "[045|03/05] -/-> 0.21451957523822784\n",
      "=======================================\n",
      "correlation 0.21451958\n",
      "poisson_loss 1782807.6\n"
     ]
    },
    {
     "name": "stderr",
     "output_type": "stream",
     "text": [
      "Epoch 46: 100%|██████████| 75/75 [00:03<00:00, 23.88it/s]\n"
     ]
    },
    {
     "name": "stdout",
     "output_type": "stream",
     "text": [
      "[046|04/05] -/-> 0.21560446918010712\n",
      "=======================================\n",
      "correlation 0.21560447\n",
      "poisson_loss 1787998.4\n"
     ]
    },
    {
     "name": "stderr",
     "output_type": "stream",
     "text": [
      "Epoch 47: 100%|██████████| 75/75 [00:03<00:00, 24.81it/s]\n"
     ]
    },
    {
     "name": "stdout",
     "output_type": "stream",
     "text": [
      "[047|05/05] -/-> 0.21534429490566254\n",
      "Restoring best model after lr decay! 0.215344 ---> 0.215910\n",
      "=======================================\n",
      "correlation 0.21590964\n",
      "poisson_loss 1783046.2\n"
     ]
    },
    {
     "name": "stderr",
     "output_type": "stream",
     "text": [
      "Epoch 48: 100%|██████████| 75/75 [00:02<00:00, 25.11it/s]\n"
     ]
    },
    {
     "name": "stdout",
     "output_type": "stream",
     "text": [
      "Epoch    48: reducing learning rate of group 0 to 4.5000e-04.\n",
      "[048|01/05] -/-> 0.21533653140068054\n",
      "=======================================\n",
      "correlation 0.21533653\n",
      "poisson_loss 1785094.5\n"
     ]
    },
    {
     "name": "stderr",
     "output_type": "stream",
     "text": [
      "Epoch 49: 100%|██████████| 75/75 [00:03<00:00, 24.99it/s]\n"
     ]
    },
    {
     "name": "stdout",
     "output_type": "stream",
     "text": [
      "[049|01/05] ---> 0.21647505462169647\n",
      "=======================================\n",
      "correlation 0.21647505\n",
      "poisson_loss 1780531.8\n"
     ]
    },
    {
     "name": "stderr",
     "output_type": "stream",
     "text": [
      "Epoch 50: 100%|██████████| 75/75 [00:03<00:00, 23.91it/s]\n"
     ]
    },
    {
     "name": "stdout",
     "output_type": "stream",
     "text": [
      "[050|00/05] ---> 0.21651552617549896\n",
      "=======================================\n",
      "correlation 0.21651553\n",
      "poisson_loss 1782287.0\n"
     ]
    },
    {
     "name": "stderr",
     "output_type": "stream",
     "text": [
      "Epoch 51: 100%|██████████| 75/75 [00:03<00:00, 24.97it/s]\n"
     ]
    },
    {
     "name": "stdout",
     "output_type": "stream",
     "text": [
      "[051|01/05] -/-> 0.21584616601467133\n",
      "=======================================\n",
      "correlation 0.21584617\n",
      "poisson_loss 1781882.2\n"
     ]
    },
    {
     "name": "stderr",
     "output_type": "stream",
     "text": [
      "Epoch 52: 100%|██████████| 75/75 [00:03<00:00, 24.19it/s]\n"
     ]
    },
    {
     "name": "stdout",
     "output_type": "stream",
     "text": [
      "[052|02/05] -/-> 0.21620571613311768\n",
      "=======================================\n",
      "correlation 0.21620572\n",
      "poisson_loss 1781055.1\n"
     ]
    },
    {
     "name": "stderr",
     "output_type": "stream",
     "text": [
      "Epoch 53: 100%|██████████| 75/75 [00:03<00:00, 23.84it/s]\n"
     ]
    },
    {
     "name": "stdout",
     "output_type": "stream",
     "text": [
      "[053|03/05] -/-> 0.21597759425640106\n",
      "=======================================\n",
      "correlation 0.2159776\n",
      "poisson_loss 1781875.1\n"
     ]
    },
    {
     "name": "stderr",
     "output_type": "stream",
     "text": [
      "Epoch 54: 100%|██████████| 75/75 [00:03<00:00, 24.00it/s]\n"
     ]
    },
    {
     "name": "stdout",
     "output_type": "stream",
     "text": [
      "[054|04/05] -/-> 0.21607860922813416\n",
      "=======================================\n",
      "correlation 0.21607861\n",
      "poisson_loss 1781580.5\n"
     ]
    },
    {
     "name": "stderr",
     "output_type": "stream",
     "text": [
      "Epoch 55: 100%|██████████| 75/75 [00:03<00:00, 23.45it/s]\n"
     ]
    },
    {
     "name": "stdout",
     "output_type": "stream",
     "text": [
      "[055|05/05] -/-> 0.21634235978126526\n",
      "Restoring best model after lr decay! 0.216342 ---> 0.216516\n",
      "Restoring best model! 0.216516 ---> 0.216516\n"
     ]
    }
   ],
   "source": [
    "score, output, model_state = train_model(model=sota_ln_model, dataloader=dataloaders)"
   ]
  },
  {
   "cell_type": "code",
   "execution_count": 198,
   "metadata": {},
   "outputs": [
    {
     "data": {
      "image/png": "[encoded data removed]",
      "text/plain": [
       "<Figure size 900x600 with 1 Axes>"
      ]
     },
     "metadata": {
      "needs_background": "light"
     },
     "output_type": "display_data"
    }
   ],
   "source": [
    "# compute correlation on test set\n",
    "sota_ln_test_correlations = measures.get_correlations(\n",
    "    sota_ln_model, dataloaders[\"test\"], device=\"cuda\", per_neuron=True\n",
    ")\n",
    "\n",
    "fig, ax = plt.subplots(1, 1, dpi=150)\n",
    "n, bins, _ = ax.hist(sota_ln_test_correlations, bins=100, color='k')\n",
    "mean_corr = np.mean(sota_ln_test_correlations)\n",
    "ax.axvline(mean_corr, color=\"r\")\n",
    "ax.text(\n",
    "    x=mean_corr + 0.01,\n",
    "    y=np.max(n),\n",
    "    s=\"mean = {:.3f}\".format(mean_corr),\n",
    ")\n",
    "ax.set_title('Testset correlation of SOTA LN model')\n",
    "ax.set_xlabel('Correlation')\n",
    "sns.despine()"
   ]
  },
  {
   "cell_type": "markdown",
   "metadata": {},
   "source": [
    "Interestingly, you can see that compared to our simple LN model, the SOTA LN model actually attains much better performance. This, among other things, reflects the **ease of training** the CNN based network compared to our *fully-connected* simple linear model. Despite the architectural complexity of the SOTA LN model, it is still a LN model as was described mathematically as:\n",
    "\n",
    "$$\n",
    "\\mathbf{r} = a(\\mathbf{U} x + \\mathbf{b})\n",
    "$$"
   ]
  },
  {
   "cell_type": "markdown",
   "metadata": {},
   "source": [
    "### Compare model performance between SOTA CNN and SOTA LN model"
   ]
  },
  {
   "cell_type": "markdown",
   "metadata": {},
   "source": [
    "Just as before, let's compare the performanc of SOTA CNN vs SOTA LN."
   ]
  },
  {
   "cell_type": "code",
   "execution_count": 200,
   "metadata": {},
   "outputs": [
    {
     "data": {
      "image/png": "[encoded data removed]",
      "text/plain": [
       "<Figure size 900x600 with 1 Axes>"
      ]
     },
     "metadata": {
      "needs_background": "light"
     },
     "output_type": "display_data"
    }
   ],
   "source": [
    "# compare model performance\n",
    "fig, ax = plt.subplots(1, 1, dpi=150)\n",
    "ax.scatter(sota_ln_test_correlations, sota_cnn_test_correlations, color=\"k\", s=1)\n",
    "ax.set_xlabel('SOTA LN correlation')\n",
    "ax.set_ylabel('SOTA CNN correlation')\n",
    "ax.set_title('SOTA LN vs CNN model performance comparison')\n",
    "ax.plot([0, 1], [0, 1], color='r')\n",
    "ax.axis('square')\n",
    "sns.despine()"
   ]
  },
  {
   "cell_type": "markdown",
   "metadata": {},
   "source": [
    "We can see that SOTA CNN model still performans better than the SOTA LN model across most of the neurons."
   ]
  },
  {
   "cell_type": "markdown",
   "metadata": {},
   "source": [
    "# Analyzing the trained models to gain insights into the brain"
   ]
  },
  {
   "cell_type": "markdown",
   "metadata": {},
   "source": [
    "<font color='green'>\n",
    "    NOTE to collaborators: \n",
    "    Please provide code for generating gradient receptive field and MEI for the sota networks. By this point, they should have `sota_model` and `sota_ln_model` corresponding to the best nonlinear and linear model based on the model architecture as found in Lurz et al. 2021.\n",
    "</font>"
   ]
  },
  {
   "cell_type": "code",
   "execution_count": null,
   "metadata": {},
   "outputs": [],
   "source": [
    "# select neuron to compute RFs and MEIs\n",
    "neuron_idx = 1\n",
    "# choose input mean as starting point\n",
    "input_mean = np.load(\n",
    "    \"/content/data/static20457-5-9-preproc0/meta/statistics/images/all/mean.npy\"\n",
    ").squeeze()\n",
    "input_std =np.load(\n",
    "    \"/content/data/static20457-5-9-preproc0/meta/statistics/images/all/std.npy\"\n",
    ").squeeze()"
   ]
  },
  {
   "cell_type": "code",
   "execution_count": null,
   "metadata": {},
   "outputs": [],
   "source": [
    "def generate_grad_rf(model, starting_point, neuron_idx):\n",
    "    assert starting_point.ndim == 2\n",
    "    x = torch.tensor(\n",
    "        starting_point.copy()[None, None, ...],\n",
    "        dtype=torch.float,\n",
    "        device=\"cuda\",\n",
    "        requires_grad=True,\n",
    "    )\n",
    "    model_activation = model(x)[:, neuron_idx]\n",
    "    model_activation.backward()\n",
    "    grad_rf = x.grad.data.cpu().numpy().squeeze()\n",
    "    return grad_rf\n",
    "\n",
    "\n",
    "# generate a gradient receptive field from the sota_model and the sota_ln_model\n",
    "grad_rf_sota = generate_grad_rf(\n",
    "    sota_model, starting_point=np.ones((36, 64)) * input_mean, neuron_idx=neuron_idx\n",
    ")\n",
    "grad_rf_sota_ln = generate_grad_rf(\n",
    "    sota_ln_model, starting_point=np.ones((36, 64)) * input_mean, neuron_idx=neuron_idx\n",
    ")\n",
    "\n",
    "# compare the two grad_rfs\n",
    "fig, axes = plt.subplots(nrows=1, ncols=2, figsize=(10, 5))\n",
    "axes[0].imshow(grad_rf_sota, cmap=\"gray\")\n",
    "axes[0].set_title(\"SOTA\")\n",
    "axes[0].axis(\"off\")\n",
    "axes[1].imshow(grad_rf_sota_ln, cmap=\"gray\")\n",
    "axes[1].set_title(\"SOTA_ln\")\n",
    "axes[1].axis(\"off\")\n",
    "plt.suptitle(\"Gradient receptive fields\", y=0.8)\n"
   ]
  },
  {
   "cell_type": "code",
   "execution_count": null,
   "metadata": {},
   "outputs": [],
   "source": [
    "from tqdm import tqdm\n",
    "\n",
    "\n",
    "def generate_mei(\n",
    "    model,\n",
    "    starting_point,\n",
    "    neuron_idx,\n",
    "    iterations,\n",
    "    mean_constr,\n",
    "    std_constr=1,\n",
    "    lr=1,\n",
    "    disable_progress_bar=False,\n",
    "):\n",
    "    std_constr = torch.tensor(std_constr).cuda()\n",
    "    mean_constr = torch.tensor(mean_constr).cuda()\n",
    "    assert starting_point.ndim == 2\n",
    "    x = torch.tensor(\n",
    "        starting_point.copy()[None, None, ...],\n",
    "        dtype=torch.float,\n",
    "        device=\"cuda\",\n",
    "        requires_grad=True,\n",
    "    )\n",
    "    optimizer = torch.optim.SGD([x], lr=lr, momentum=0.9)\n",
    "    model_activations = []\n",
    "    for i in tqdm(range(iterations), disable=disable_progress_bar):\n",
    "        transformed_x = (x - x.mean()) / (x.std() + 1e-4) * std_constr + mean_constr\n",
    "        model_activation = model(transformed_x)[:, neuron_idx]\n",
    "        (-model_activation).backward()\n",
    "        model_activations.append(model_activation.detach().cpu().numpy())\n",
    "        optimizer.step()\n",
    "    x = (x - x.mean()) / (x.std() + 1e-4) * std_constr + mean_constr\n",
    "    return np.array(model_activations), x.detach().cpu().numpy().squeeze()\n",
    "\n"
   ]
  },
  {
   "cell_type": "code",
   "execution_count": null,
   "metadata": {},
   "outputs": [],
   "source": [
    "# generate a gradient receptive field from the sota_model and the sota_ln_model\n",
    "activation_sota, mei_sota = generate_mei(\n",
    "    sota_model,\n",
    "    starting_point=np.random.normal(input_mean, input_std / 10, (36, 64)),\n",
    "    neuron_idx=neuron_idx,\n",
    "    iterations=2000,\n",
    "    mean_constr=input_mean,\n",
    "    std_constr=input_std / 10,\n",
    "    lr=100,\n",
    ")\n",
    "\n",
    "activation_sota_ln, mei_sota_ln = generate_mei(\n",
    "    sota_ln_model,\n",
    "    starting_point=np.random.normal(input_mean, input_std / 10, (36, 64)),\n",
    "    neuron_idx=neuron_idx,\n",
    "    iterations=2000,\n",
    "    mean_constr=input_mean,\n",
    "    std_constr=input_std / 10,\n",
    "    lr=100,\n",
    ")\n"
   ]
  },
  {
   "cell_type": "code",
   "execution_count": null,
   "metadata": {},
   "outputs": [],
   "source": [
    "# compare the two meis\n",
    "fig, axes = plt.subplots(nrows=2, ncols=2, figsize=(10, 5))\n",
    "axes[0,0].imshow(mei_sota, cmap='gray')\n",
    "axes[0,0].axis('off')\n",
    "axes[0,0].set_title('SOTA')\n",
    "axes[1,0].plot(activation_sota)\n",
    "axes[1,0].set_ylabel('SOTA model activation')\n",
    "axes[1,0].set_xlabel('Iterations')\n",
    "axes[0,1].imshow(mei_sota_ln, cmap='gray')\n",
    "axes[0,1].axis('off')\n",
    "axes[0,1].set_title('SOTA_ln')\n",
    "axes[1,1].plot(activation_sota_ln)\n",
    "axes[1,1].set_ylabel('SOTA_ln model activation')\n",
    "axes[1,1].set_xlabel('Iterations')\n",
    "plt.suptitle('MEIs', y=1.02)"
   ]
  },
  {
   "cell_type": "markdown",
   "metadata": {},
   "source": [
    "### MEI cross activation"
   ]
  },
  {
   "cell_type": "code",
   "execution_count": null,
   "metadata": {},
   "outputs": [],
   "source": [
    "neuron_idx_ls = np.random.randint(0, high=5335, size=20)\n",
    "meis = []\n",
    "for i in tqdm(neuron_idx_ls):\n",
    "    _, mei = generate_mei(\n",
    "            sota_model,\n",
    "            starting_point=np.random.normal(input_mean, input_std / 10, (36, 64)),\n",
    "            neuron_idx=i,\n",
    "            iterations=2000,\n",
    "            mean_constr=input_mean,\n",
    "            std_constr=input_std / 10,\n",
    "            disable_progress_bar=True,\n",
    "    )\n",
    "    meis.append(mei)\n"
   ]
  },
  {
   "cell_type": "code",
   "execution_count": null,
   "metadata": {},
   "outputs": [],
   "source": [
    "meis = torch.tensor(np.stack(meis))[:, None, ...].cuda()\n",
    "activations = sota_model(meis).cpu().detach().numpy().squeeze()[:, neuron_idx_ls]\n",
    "activations = activations / activations.max(axis=0, keepdims=True)\n",
    "plt.imshow(activations, cmap='gray')\n",
    "plt.ylabel('MEIs')\n",
    "plt.xlabel('Neurons')"
   ]
  }
 ],
 "metadata": {
  "accelerator": "GPU",
  "colab": {
   "collapsed_sections": [],
   "name": "IVIV_2021.ipynb",
   "provenance": []
  },
  "interpreter": {
   "hash": "df0893f56f349688326838aaeea0de204df53a132722cbd565e54b24a8fec5f6"
  },
  "kernelspec": {
   "display_name": "Python 3",
   "language": "python",
   "name": "python3"
  },
  "language_info": {
   "codemirror_mode": {
    "name": "ipython",
    "version": 3
   },
   "file_extension": ".py",
   "mimetype": "text/x-python",
   "name": "python",
   "nbconvert_exporter": "python",
   "pygments_lexer": "ipython3",
   "version": "3.8.0"
  }
 },
 "nbformat": 4,
 "nbformat_minor": 4
}
