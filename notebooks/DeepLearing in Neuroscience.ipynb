{
 "cells": [
  {
   "cell_type": "markdown",
   "source": [
    "<table class=\"ee-notebook-buttons\" align=\"left\"><td>\n",
    "<a target=\"_blank\"  href=\"https://colab.research.google.com/github/eywalker/LVIV-2021/blob/main/notebooks/DeepLearing%20in%20Neuroscience.ipynb\">\n",
    "    <img src=\"https://www.tensorflow.org/images/colab_logo_32px.png\" /> Run in Google Colab</a>\n",
    "</td><td>\n",
    "<a target=\"_blank\"  href=\"https://github.com/eywalker/LVIV-2021/blob/main/notebooks/DeepLearing%20in%20Neuroscience.ipynb\"><img width=32px src=\"https://www.tensorflow.org/images/GitHub-Mark-32px.png\" /> View source on GitHub</a></td></table>"
   ],
   "metadata": {}
  },
  {
   "cell_type": "markdown",
   "source": [
    "# Welcome to Deep Learning in Neuroscience by Edgar Y. Walker"
   ],
   "metadata": {
    "id": "xp0SO4gr2D7w"
   }
  },
  {
   "cell_type": "markdown",
   "source": [
    "This is a Jupyter notebook to accompany the course on \"Deep Learning in Neuroscience\" taught as part of the Lviv Data Science Summer School 2021. This notebook as well as any other relevant information can be found in the [GitHub repository](https://github.com/eywalker/lviv-2021)!\n",
    "\n",
    "In this course, we will learn how deep learning is getting utilized in studying neuroscience, specifically in building models of neuronal responses to complex sensory inputs such as natural images. We will start by going through some neuroscience primer in slides. We will then get our hands dirty by taking real neuronal responses recorded from mouse primary visual cortex (V1) as the mouse observes a bunch of natural images and developing models to predict these responses. By the end of this course, you will gain basic familiarity in utilizing deep learning models to predict responses of 1000s of neurons to natural images!"
   ],
   "metadata": {}
  },
  {
   "cell_type": "markdown",
   "source": [
    "## Preparing the environment"
   ],
   "metadata": {}
  },
  {
   "cell_type": "markdown",
   "source": [
    "#### <font color='red'>NOTE: Please run this section at the very beginning of the first session!</font>"
   ],
   "metadata": {}
  },
  {
   "cell_type": "markdown",
   "source": [
    "Before we get to dive in and learn how deep learning is used in neuroscience and get your first neural predictive model trained, we need to install some prerequisite packages and download some neuronal data!"
   ],
   "metadata": {}
  },
  {
   "cell_type": "markdown",
   "source": [
    "### Getting the code"
   ],
   "metadata": {}
  },
  {
   "cell_type": "markdown",
   "source": [
    "We are going to primarily use [PyTorch](https://pytorch.org) to build, train and evaluate our deep learning models and I am going to assume some familiarity with PyTorch already.\n",
    "\n",
    "Also to be able to handle the dataset containing neuronal activities, we are going to make our life easier by using a few existing libraries. I have prepared a library called [Lviv-2021](https://github.com/eywalker/lviv-2021). This library has a dependency on [neuralpredictors](https://github.com/sinzlab/neuralpredictors), which is a collection of PyTorch layers, tools and other utilities that would prove helpful to train networks to predict neuronal responses prepared by [Sinz Lab](https://sinzlab.org/).\n",
    "\n",
    "Let's go ahead and install this inside the Colab environment (you can skip this if you are running this inside a Docker environment)."
   ],
   "metadata": {}
  },
  {
   "cell_type": "code",
   "execution_count": null,
   "source": [
    "# Install PyTorch dependency\n",
    "!pip3 install torch==1.9.0+cu102 torchvision==0.10.0+cu102 -f https://download.pytorch.org/whl/torch_stable.html\n",
    "    \n",
    "# Install \n",
    "!pip3 install git+https://github.com/eywalker/lviv-2021.git"
   ],
   "outputs": [],
   "metadata": {
    "colab": {
     "base_uri": "https://localhost:8080/",
     "height": 0
    },
    "id": "m7dJ_i-tSPEq",
    "outputId": "bdc3f3f8-e451-4bd3-83d5-3f126b88f431"
   }
  },
  {
   "cell_type": "markdown",
   "source": [
    "### Getting the dataset"
   ],
   "metadata": {}
  },
  {
   "cell_type": "markdown",
   "source": [
    "We are going to use the dataset made available for our recent paper [Lurz et al. ICLR 2021](https://github.com/sinzlab/Lurz_2020_code), predicting responses of mouse visual cortex to natural images. \n",
    "\n",
    "The dataset can take anywhere from 5-10 min to download, so please be sure to **run the following at the very beginning of the session!** We are going to first spend some time learning the basics of neuroscience and it would be best that you let the download take place during that time!\n",
    "\n",
    "To download the data, simply execute the following cell, and let it run till completion."
   ],
   "metadata": {}
  },
  {
   "cell_type": "code",
   "execution_count": null,
   "source": [
    "!git clone https://gin.g-node.org/cajal/Lurz2020.git /content/data"
   ],
   "outputs": [],
   "metadata": {
    "colab": {
     "base_uri": "https://localhost:8080/"
    },
    "id": "tsNehEZlTSL4",
    "outputId": "8e2984ad-9f32-4dfd-b8b7-4536f2e53823"
   }
  },
  {
   "cell_type": "markdown",
   "source": [
    "# Slide presentation on primer on computational neuroscience"
   ],
   "metadata": {}
  },
  {
   "cell_type": "markdown",
   "source": [
    "Come back to complete the rest of the notebook after the slide presentation."
   ],
   "metadata": {}
  },
  {
   "cell_type": "markdown",
   "source": [
    "# Developing models of neural population responses to natural images"
   ],
   "metadata": {}
  },
  {
   "cell_type": "markdown",
   "source": [
    "Now that you have been primed with some background neuroscience knowledge, let's get our hands dirty and try to build our first neural predictive model.\n",
    "\n",
    "As part of the setup, we have downloaded a 2-photon imaging dataset from mouse primary visual cortex as we present 1000s of natural images (if not done yet, please do so immediately by stepping through the beginning sections of this notebook).\n",
    "\n",
    "Let's go ahead and import a bunch of standard libraries that'll prove useful in exploring our data."
   ],
   "metadata": {}
  },
  {
   "cell_type": "code",
   "execution_count": 1,
   "source": [
    "import numpy as np\n",
    "import torch\n",
    "from torch import nn\n",
    "from torch.nn import functional as F\n",
    "import matplotlib.pyplot as plt\n",
    "import seaborn as sns"
   ],
   "outputs": [],
   "metadata": {}
  },
  {
   "cell_type": "markdown",
   "source": [
    "## Navigating the neuroscience data"
   ],
   "metadata": {}
  },
  {
   "cell_type": "markdown",
   "source": [
    "As with any data science project, you must start by understanding your data! Let's take some time to navigate the data you downloaded."
   ],
   "metadata": {}
  },
  {
   "cell_type": "code",
   "execution_count": 2,
   "source": [
    "ls ./data/static20457-5-9-preproc0/"
   ],
   "outputs": [
    {
     "output_type": "stream",
     "name": "stdout",
     "text": [
      "change.log  config.json  \u001b[0m\u001b[01;34mdata\u001b[0m/  \u001b[01;34mmeta\u001b[0m/\n"
     ]
    }
   ],
   "metadata": {}
  },
  {
   "cell_type": "code",
   "execution_count": 3,
   "source": [
    "ls ./data/static20457-5-9-preproc0/data"
   ],
   "outputs": [
    {
     "output_type": "stream",
     "name": "stdout",
     "text": [
      "\u001b[0m\u001b[01;34mbehavior\u001b[0m/  \u001b[01;34mimages\u001b[0m/  \u001b[01;34mpupil_center\u001b[0m/  \u001b[01;34mresponses\u001b[0m/\n"
     ]
    }
   ],
   "metadata": {}
  },
  {
   "cell_type": "code",
   "execution_count": 4,
   "source": [
    "ls ./data/static20457-5-9-preproc0/data/responses | head -30"
   ],
   "outputs": [
    {
     "output_type": "stream",
     "name": "stdout",
     "text": [
      "0.npy\n",
      "1.npy\n",
      "10.npy\n",
      "100.npy\n",
      "1000.npy\n",
      "1001.npy\n",
      "1002.npy\n",
      "1003.npy\n",
      "1004.npy\n",
      "1005.npy\n",
      "1006.npy\n",
      "1007.npy\n",
      "1008.npy\n",
      "1009.npy\n",
      "101.npy\n",
      "1010.npy\n",
      "1011.npy\n",
      "1012.npy\n",
      "1013.npy\n",
      "1014.npy\n",
      "1015.npy\n",
      "1016.npy\n",
      "1017.npy\n",
      "1018.npy\n",
      "1019.npy\n",
      "102.npy\n",
      "1020.npy\n",
      "1021.npy\n",
      "1022.npy\n",
      "1023.npy\n",
      "ls: write error: Broken pipe\n"
     ]
    }
   ],
   "metadata": {}
  },
  {
   "cell_type": "code",
   "execution_count": 5,
   "source": [
    "ls ./data/static20457-5-9-preproc0/data/images | head -30"
   ],
   "outputs": [
    {
     "output_type": "stream",
     "name": "stdout",
     "text": [
      "0.npy\n",
      "1.npy\n",
      "10.npy\n",
      "100.npy\n",
      "1000.npy\n",
      "1001.npy\n",
      "1002.npy\n",
      "1003.npy\n",
      "1004.npy\n",
      "1005.npy\n",
      "1006.npy\n",
      "1007.npy\n",
      "1008.npy\n",
      "1009.npy\n",
      "101.npy\n",
      "1010.npy\n",
      "1011.npy\n",
      "1012.npy\n",
      "1013.npy\n",
      "1014.npy\n",
      "1015.npy\n",
      "1016.npy\n",
      "1017.npy\n",
      "1018.npy\n",
      "1019.npy\n",
      "102.npy\n",
      "1020.npy\n",
      "1021.npy\n",
      "1022.npy\n",
      "1023.npy\n",
      "ls: write error: Broken pipe\n"
     ]
    }
   ],
   "metadata": {}
  },
  {
   "cell_type": "markdown",
   "source": [
    "You can see that both responses and images are contained in collections of `numpy` files named like `1.npy` or `31.npy`. The number here corresponds to a specific **trial** or simply different image presentation during an experiment.\n",
    "\n",
    "Let's take a look at some of these files."
   ],
   "metadata": {}
  },
  {
   "cell_type": "markdown",
   "source": [
    "### Loading data files one at a time"
   ],
   "metadata": {}
  },
  {
   "cell_type": "markdown",
   "source": [
    "Let's pick some trial and load the image as well as the response"
   ],
   "metadata": {}
  },
  {
   "cell_type": "code",
   "execution_count": 7,
   "source": [
    "trial_idx = 1100\n",
    "trial_image = np.load(f'./data/static20457-5-9-preproc0/data/images/{trial_idx}.npy')\n",
    "trial_responses = np.load(f'./data/static20457-5-9-preproc0/data/responses/{trial_idx}.npy')"
   ],
   "outputs": [],
   "metadata": {}
  },
  {
   "cell_type": "markdown",
   "source": [
    "The image is shaped as $\\text{channel} \\times \\text{height} \\times \\text{width}$"
   ],
   "metadata": {}
  },
  {
   "cell_type": "code",
   "execution_count": 8,
   "source": [
    "trial_image.shape"
   ],
   "outputs": [
    {
     "output_type": "execute_result",
     "data": {
      "text/plain": [
       "(1, 36, 64)"
      ]
     },
     "metadata": {},
     "execution_count": 8
    }
   ],
   "metadata": {}
  },
  {
   "cell_type": "code",
   "execution_count": 9,
   "source": [
    "plt.imshow(trial_image.squeeze(), cmap='gray', vmin=0, vmax=255)\n",
    "plt.axis('off')"
   ],
   "outputs": [
    {
     "output_type": "execute_result",
     "data": {
      "text/plain": [
       "(-0.5, 63.5, 35.5, -0.5)"
      ]
     },
     "metadata": {},
     "execution_count": 9
    },
    {
     "output_type": "display_data",
     "data": {
      "text/plain": [
       "<Figure size 432x288 with 1 Axes>"
      ],
      "image/png": "[encoded data removed]"
     },
     "metadata": {
      "needs_background": "light"
     }
    }
   ],
   "metadata": {}
  },
  {
   "cell_type": "markdown",
   "source": [
    "In contrast, the shape of `trial_response` is simply the number of neurons"
   ],
   "metadata": {}
  },
  {
   "cell_type": "code",
   "execution_count": 12,
   "source": [
    "trial_responses.shape"
   ],
   "outputs": [
    {
     "output_type": "execute_result",
     "data": {
      "text/plain": [
       "(5335,)"
      ]
     },
     "metadata": {},
     "execution_count": 12
    }
   ],
   "metadata": {}
  },
  {
   "cell_type": "code",
   "execution_count": 13,
   "source": [
    "trial_responses.min() # responses are practically always >= 0"
   ],
   "outputs": [
    {
     "output_type": "execute_result",
     "data": {
      "text/plain": [
       "-5.409307320414307e-10"
      ]
     },
     "metadata": {},
     "execution_count": 13
    }
   ],
   "metadata": {}
  },
  {
   "cell_type": "code",
   "execution_count": 14,
   "source": [
    "trial_responses.max()"
   ],
   "outputs": [
    {
     "output_type": "execute_result",
     "data": {
      "text/plain": [
       "53.39189366955226"
      ]
     },
     "metadata": {},
     "execution_count": 14
    }
   ],
   "metadata": {}
  },
  {
   "cell_type": "code",
   "execution_count": 41,
   "source": [
    "fig, ax = plt.subplots(1, 1, dpi=150)\n",
    "ax.hist(trial_responses, 100);\n",
    "ax.set_title('Neural activity over all neurons responding to an image')\n",
    "ax.set_xlabel('Neuron activity')\n",
    "ax.set_ylabel('Neuron counts')\n",
    "sns.despine()"
   ],
   "outputs": [
    {
     "output_type": "display_data",
     "data": {
      "text/plain": [
       "<Figure size 900x600 with 1 Axes>"
      ],
      "image/png": "[encoded data removed]"
     },
     "metadata": {
      "needs_background": "light"
     }
    }
   ],
   "metadata": {}
  },
  {
   "cell_type": "markdown",
   "source": [
    "You can see most neuron's responses stay very close to 0 - signifying no activity."
   ],
   "metadata": {}
  },
  {
   "cell_type": "markdown",
   "source": [
    "### Loading the entire dataset"
   ],
   "metadata": {}
  },
  {
   "cell_type": "markdown",
   "source": [
    "While we can inspect the image and the corresponding neural population responses one image at a time, this is quite cumbersome and also impractical for use in network training. Fortunately, the `lviv` package provides us with a convenience function that will help to load the entire dataset as PyTorch dataloaders."
   ],
   "metadata": {}
  },
  {
   "cell_type": "code",
   "execution_count": 2,
   "source": [
    "from lviv.dataset import load_dataset"
   ],
   "outputs": [],
   "metadata": {}
  },
  {
   "cell_type": "markdown",
   "source": [
    "As we prepare the dataloaders, we get to specify the batch size."
   ],
   "metadata": {}
  },
  {
   "cell_type": "code",
   "execution_count": 3,
   "source": [
    "dataloaders = load_dataset(path = './data/static20457-5-9-preproc0', batch_size=60)"
   ],
   "outputs": [],
   "metadata": {}
  },
  {
   "cell_type": "markdown",
   "source": [
    "The function returns a dictionary consisting of three dataloaders for training, validation, and test set."
   ],
   "metadata": {}
  },
  {
   "cell_type": "code",
   "execution_count": 20,
   "source": [
    "dataloaders"
   ],
   "outputs": [
    {
     "output_type": "execute_result",
     "data": {
      "text/plain": [
       "{'train': <torch.utils.data.dataloader.DataLoader at 0x7f1100aeee80>,\n",
       " 'validation': <torch.utils.data.dataloader.DataLoader at 0x7f1100879400>,\n",
       " 'test': <torch.utils.data.dataloader.DataLoader at 0x7f1100879310>}"
      ]
     },
     "metadata": {},
     "execution_count": 20
    }
   ],
   "metadata": {}
  },
  {
   "cell_type": "markdown",
   "source": [
    "Let's specifically look at the trainset dataloader"
   ],
   "metadata": {}
  },
  {
   "cell_type": "code",
   "execution_count": 21,
   "source": [
    "train_loader = dataloaders['train']"
   ],
   "outputs": [],
   "metadata": {}
  },
  {
   "cell_type": "markdown",
   "source": [
    "Total number of images can be checked as follows:"
   ],
   "metadata": {}
  },
  {
   "cell_type": "code",
   "execution_count": 22,
   "source": [
    "len(train_loader.sampler)"
   ],
   "outputs": [
    {
     "output_type": "execute_result",
     "data": {
      "text/plain": [
       "4472"
      ]
     },
     "metadata": {},
     "execution_count": 22
    }
   ],
   "metadata": {}
  },
  {
   "cell_type": "markdown",
   "source": [
    "We can inspect what it returns per batch:"
   ],
   "metadata": {}
  },
  {
   "cell_type": "code",
   "execution_count": 23,
   "source": [
    "images, responses = next(iter(train_loader))"
   ],
   "outputs": [],
   "metadata": {}
  },
  {
   "cell_type": "code",
   "execution_count": 24,
   "source": [
    "images.shape"
   ],
   "outputs": [
    {
     "output_type": "execute_result",
     "data": {
      "text/plain": [
       "torch.Size([60, 1, 36, 64])"
      ]
     },
     "metadata": {},
     "execution_count": 24
    }
   ],
   "metadata": {}
  },
  {
   "cell_type": "code",
   "execution_count": 25,
   "source": [
    "responses.shape"
   ],
   "outputs": [
    {
     "output_type": "execute_result",
     "data": {
      "text/plain": [
       "torch.Size([60, 5335])"
      ]
     },
     "metadata": {},
     "execution_count": 25
    }
   ],
   "metadata": {}
  },
  {
   "cell_type": "markdown",
   "source": [
    "As expected, you can see it returns a batch size of 60 images and responses for all neurons."
   ],
   "metadata": {}
  },
  {
   "cell_type": "markdown",
   "source": [
    "Similar inspection can be done on the **validation** and **testing** dataloaders."
   ],
   "metadata": {}
  },
  {
   "cell_type": "code",
   "execution_count": 26,
   "source": [
    "# number of images in validation set\n",
    "len(dataloaders['validation'].sampler)"
   ],
   "outputs": [
    {
     "output_type": "execute_result",
     "data": {
      "text/plain": [
       "522"
      ]
     },
     "metadata": {},
     "execution_count": 26
    }
   ],
   "metadata": {}
  },
  {
   "cell_type": "code",
   "execution_count": 27,
   "source": [
    "# number of images in test set\n",
    "len(dataloaders['test'].sampler)"
   ],
   "outputs": [
    {
     "output_type": "execute_result",
     "data": {
      "text/plain": [
       "999"
      ]
     },
     "metadata": {},
     "execution_count": 27
    }
   ],
   "metadata": {}
  },
  {
   "cell_type": "markdown",
   "source": [
    "You might think that we have a lot of images in test set, but this is because test set consists of repeated images."
   ],
   "metadata": {}
  },
  {
   "cell_type": "markdown",
   "source": [
    "Some additional trial information can be observed by accessing the underlying PyTorch dataset object and looking at the `trial_info`. Note that this is not part of the standard PyTorch dataset/dataloader interface, but rather a feature specifically provided by our `lviv` library!"
   ],
   "metadata": {}
  },
  {
   "cell_type": "code",
   "execution_count": 14,
   "source": [
    "# Access to the dataset object that underlies all dataloaders\n",
    "dataset = dataloaders['test'].dataset"
   ],
   "outputs": [],
   "metadata": {}
  },
  {
   "cell_type": "code",
   "execution_count": 30,
   "source": [
    "# get trials that are marked as \"test\" set\n",
    "test_trials = np.where(dataset.trial_info.tiers == 'test')[0]"
   ],
   "outputs": [],
   "metadata": {}
  },
  {
   "cell_type": "code",
   "execution_count": 229,
   "source": [
    "# get information about the presented image for ALL trials\n",
    "image_ids = dataset.trial_info.frame_image_id"
   ],
   "outputs": [],
   "metadata": {}
  },
  {
   "cell_type": "code",
   "execution_count": 230,
   "source": [
    "# find IDs of all unique images presented during test trials\n",
    "unique_test_images = np.unique(image_ids[test_trials])\n",
    "unique_test_images"
   ],
   "outputs": [
    {
     "output_type": "execute_result",
     "data": {
      "text/plain": [
       "array([ 104,  128,  183,  355,  479,  483,  656,  803,  830,  936, 1201,\n",
       "       1494, 1596, 1652, 1656, 1682, 1731, 1756, 1796, 2005, 2008, 2014,\n",
       "       2159, 2214, 2389, 2586, 2710, 2746, 2747, 2803, 2816, 2825, 2954,\n",
       "       3018, 3107, 3144, 3163, 3372, 3427, 3438, 3487, 3507, 3562, 3702,\n",
       "       3847, 3924, 4231, 4295, 4373, 4397, 4400, 4430, 4594, 4619, 4667,\n",
       "       4674, 4717, 4739, 4782, 4812, 4814, 4821, 4923, 4953, 5034, 5128,\n",
       "       5166, 5225, 5264, 5288, 5322, 5334, 5399, 5402, 5504, 5640, 5671,\n",
       "       5679, 5754, 5782, 6013, 6034, 6066, 6082, 6205, 6238, 6248, 6490,\n",
       "       6562, 6773, 6790, 6831, 6886, 7017, 7028, 7107, 7119, 7120, 7154,\n",
       "       7495])"
      ]
     },
     "metadata": {},
     "execution_count": 230
    }
   ],
   "metadata": {}
  },
  {
   "cell_type": "code",
   "execution_count": 231,
   "source": [
    "len(unique_test_images)"
   ],
   "outputs": [
    {
     "output_type": "execute_result",
     "data": {
      "text/plain": [
       "100"
      ]
     },
     "metadata": {},
     "execution_count": 231
    }
   ],
   "metadata": {}
  },
  {
   "cell_type": "markdown",
   "source": [
    "We can see that the test set consists of 100 unique images, each repeated up to 10 times."
   ],
   "metadata": {}
  },
  {
   "cell_type": "markdown",
   "source": [
    "Let's now take a look at how a neuron responds to these repeated presentations of an identical image."
   ],
   "metadata": {}
  },
  {
   "cell_type": "code",
   "execution_count": 261,
   "source": [
    "from tqdm import tqdm\n",
    "# gather the responses to the repeated image presentations\n",
    "repeated_image_responses = []\n",
    "for unique_test_image_id in tqdm(unique_test_images):\n",
    "    repeated_image_trials = test_trials[image_ids[test_trials] == unique_test_image_id]\n",
    "    responses = np.stack([dataset[trial][1].cpu().numpy() for trial in repeated_image_trials])\n",
    "    repeated_image_responses.append((unique_test_image_id, responses))"
   ],
   "outputs": [
    {
     "output_type": "stream",
     "name": "stderr",
     "text": [
      "100%|██████████| 100/100 [00:00<00:00, 456.96it/s]\n"
     ]
    }
   ],
   "metadata": {}
  },
  {
   "cell_type": "code",
   "execution_count": 264,
   "source": [
    "neuron_idx = 3 # choose one neuron to inspect its responses\n",
    "\n",
    "fig, ax = plt.subplots(1, 1, dpi=150)\n",
    "labels = []\n",
    "for i, (image_id, responses) in enumerate(repeated_image_responses[:20]):\n",
    "    ax.scatter(np.ones(len(responses)) * i, responses[:, neuron_idx], c='k', s=0.5)\n",
    "    labels.append(image_id)\n",
    "\n",
    "ax.set_xticks(range(len(labels)))\n",
    "ax.set_xticklabels(labels, rotation=60)\n",
    "ax.set_title(f'Neuron {neuron_idx} responses to repeated image presentations')\n",
    "ax.set_xlabel('Image IDs')\n",
    "ax.set_ylabel('Responses')\n",
    "sns.despine()"
   ],
   "outputs": [
    {
     "output_type": "display_data",
     "data": {
      "text/plain": [
       "<Figure size 900x600 with 1 Axes>"
      ],
      "image/png": "[encoded data removed]"
     },
     "metadata": {
      "needs_background": "light"
     }
    }
   ],
   "metadata": {}
  },
  {
   "cell_type": "markdown",
   "source": [
    "You can see that indeed a single neuorn's responses vary widely even to repeated presentations of an identical stimulus! This **noiseness** of neural responses make predicting the respones of the neurons to images fundamentally challenging and also esssentially make it impossible to yield perfect fit! Instead, we would often try to fit the **distribution of responses** the best we can, and we will briefly visit this point later."
   ],
   "metadata": {}
  },
  {
   "cell_type": "markdown",
   "source": [
    "# Modeling the neuronal responses"
   ],
   "metadata": {}
  },
  {
   "cell_type": "markdown",
   "source": [
    "Now that we have successfully loaded the dataset and inspected its contents, it's time for us to start **modeling** the responses.\n",
    "\n",
    "We will start by building a very basic **Linear-Nonlinear model** - which is nothing more than a shallow neural network with single linear layer followed by an activation function."
   ],
   "metadata": {}
  },
  {
   "cell_type": "markdown",
   "source": [
    "## Linear-Nonlinear (LN) model"
   ],
   "metadata": {
    "id": "TcVMbaG9xXNY"
   }
  },
  {
   "cell_type": "markdown",
   "source": [
    "### Background"
   ],
   "metadata": {}
  },
  {
   "cell_type": "markdown",
   "source": [
    "Arguably one of the simplest model of a neuron's response to a stimulus is the **linear-nonlinear (LN) model**. \n",
    "\n",
    "Given an image $I \\in \\mathbb{R}^{h\\,\\times\\,w}$ where $h$ and $w$ are the height and the width of the image, respectively, let us collapse the image into a vector $x \\in \\mathbb{R}^{hw}$.\n",
    "\n",
    "A single neuron's response $r$ under linear-nonlinear model can then be expressed as:\n",
    "$$\n",
    "r = a(\\mathbf{w}^\\top x + b),\n",
    "$$\n",
    "where $\\mathbf{w} \\in \\mathbb{R}^{hw}$ and $b \\in \\mathbb{R}$ are **weight** and **bias**, and $a:\\mathbb{R}\\mapsto\\mathbb{R}$ is a scalar **activating function**.\n",
    "\n",
    "We can in fact extend to capture the responses of all $N$ neurons simultaneously as:\n",
    "\n",
    "$$\n",
    "\\mathbf{r} = a(\\mathbf{W} x + \\mathbf{b}),\n",
    "$$\n",
    "where $\\mathbf{r} \\in \\mathbb{R}^{N}$, $\\mathbf{W} \\in \\mathbb{R}^{N\\,\\times\\,hw}$ and $\\mathbf{b} \\in \\mathbb{R}^{N}$.\n",
    "\n",
    "Hence, each neuron weighs each pixel of the image according to the weight $\\mathbf{w}$ (corresopnds to a row of $\\mathbf{W}$) and thus characterizes how much the each neuron \"cares\" about a specific pixel.\n",
    "\n",
    "The weight $\\mathbf{w}$ can be thought of as a **filter** that's the same size as the image and is overlaid on top of the image to determine what pixel would contribute to the neuron's response. \n",
    "\n",
    "This *image filter* is typically referred to as the **receptive field** of the neuron!"
   ],
   "metadata": {}
  },
  {
   "cell_type": "markdown",
   "source": [
    "The nonlinear activation function $a(\\cdot)$ ensures, among other things, that the output of the network stays above 0. In fitting neuronal responses, we tend to use $a(x) = ELU(x) + 1$ where ELU (Exponential Linear Unit) is defined as follows:\n",
    "\n",
    "$$\n",
    "    ELU(x) = \n",
    "\\begin{cases}\n",
    "    e^x - 1, & x \\lt 0 \\\\\n",
    "    x,   & x \\ge 0\n",
    "\\end{cases}\n",
    "$$"
   ],
   "metadata": {}
  },
  {
   "cell_type": "code",
   "execution_count": 49,
   "source": [
    "# Plotting ELU function\n",
    "fig, ax = plt.subplots(1, 1, dpi=150)\n",
    "x = np.linspace(-2, 2)\n",
    "ax.plot(x, F.elu(torch.Tensor(x)))\n",
    "ax.axhline(0, c='r', ls='--')\n",
    "ax.set_xlabel(r'Input, $x$')\n",
    "ax.set_ylabel(r'Activation, $ELU(x)$')\n",
    "ax.set_ylim([-1, 3])\n",
    "sns.despine()"
   ],
   "outputs": [
    {
     "output_type": "display_data",
     "data": {
      "text/plain": [
       "<Figure size 900x600 with 1 Axes>"
      ],
      "image/png": "[encoded data removed]"
     },
     "metadata": {
      "needs_background": "light"
     }
    }
   ],
   "metadata": {}
  },
  {
   "cell_type": "markdown",
   "source": [
    "We shift it by 1 to ensure it will always remain positive"
   ],
   "metadata": {}
  },
  {
   "cell_type": "code",
   "execution_count": 50,
   "source": [
    "# Plotting ELU+1 function\n",
    "fig, ax = plt.subplots(1, 1, dpi=150)\n",
    "x = np.linspace(-2, 2)\n",
    "ax.plot(x, F.elu(torch.Tensor(x))+1)\n",
    "ax.axhline(0, c='r', ls='--')\n",
    "ax.axhline(0, c='r', ls='--')\n",
    "ax.set_xlabel(r'Input, $x$')\n",
    "ax.set_ylabel(r'Activation, $ELU(x) + 1$')\n",
    "ax.set_ylim([-1, 3.0])\n",
    "sns.despine()"
   ],
   "outputs": [
    {
     "output_type": "display_data",
     "data": {
      "text/plain": [
       "<Figure size 900x600 with 1 Axes>"
      ],
      "image/png": "[encoded data removed]"
     },
     "metadata": {
      "needs_background": "light"
     }
    }
   ],
   "metadata": {}
  },
  {
   "cell_type": "markdown",
   "source": [
    "Overall, it can be seen that a linear-nonlinear (LN) model is nothing more than a single linear layer applied on a flattened image input, followed by a nonlinear activation function (i.e. $ELU(x)+1$). \n",
    "\n",
    "Now let's go ahead and implment our LN model in PyTorch!"
   ],
   "metadata": {}
  },
  {
   "cell_type": "markdown",
   "source": [
    "### Implementation"
   ],
   "metadata": {}
  },
  {
   "cell_type": "markdown",
   "source": [
    "We implement a simple network consisting of a linear layer followed by ELU + 1 activation"
   ],
   "metadata": {}
  },
  {
   "cell_type": "code",
   "execution_count": 78,
   "source": [
    "class Linear(nn.Module):\n",
    "    def __init__(\n",
    "        self,\n",
    "        input_height,\n",
    "        input_width,\n",
    "        n_neurons,\n",
    "        momentum=0.1,\n",
    "        init_std=1e-3,\n",
    "        gamma=0.0,\n",
    "    ):\n",
    "        super().__init__()\n",
    "        self.bn = nn.BatchNorm2d(1, momentum=momentum, affine=False)\n",
    "        self.linear = nn.Linear(input_height * input_width, n_neurons)\n",
    "        self.gamma = gamma\n",
    "        self.init_std = init_std\n",
    "        self.initialize()\n",
    "        \n",
    "    \n",
    "    def forward(self, x):\n",
    "        x = self.bn(x)\n",
    "        x = self.linear(x.flatten(1))\n",
    "        return nn.functional.elu(x) + 1\n",
    "        \n",
    "\n",
    "    def initialize(self, std=None):\n",
    "        if std is None:\n",
    "            std = self.init_std\n",
    "        nn.init.normal_(self.linear.weight.data, std=std)\n",
    "\n",
    "\n",
    "    def regularizer(self):\n",
    "        return self.gamma * self.linear.weight.abs().sum()\n"
   ],
   "outputs": [],
   "metadata": {}
  },
  {
   "cell_type": "markdown",
   "source": [
    "And that's it! We have now designed our first network model of the neuron's responses!"
   ],
   "metadata": {}
  },
  {
   "cell_type": "markdown",
   "source": [
    "**BONUS**: notice that we used batch normalization (BN) layer right before the linear layer? This empirically helps to stabilize the training, allowing us to be not too sensitive to the weight and bias initialization. You could totally implement and train a LN network without such BN layer and you are more than welcome to try! However if you do, be very aware of the network weight initializations and the chocie of learning rate during the training."
   ],
   "metadata": {}
  },
  {
   "cell_type": "markdown",
   "source": [
    "Finally, let's instantiate the model before we move onto the next step of training the model!"
   ],
   "metadata": {}
  },
  {
   "cell_type": "code",
   "execution_count": 79,
   "source": [
    "ln_model = Linear(input_height=64, input_width=36, n_neurons=5335, gamma=0.1)"
   ],
   "outputs": [],
   "metadata": {}
  },
  {
   "cell_type": "markdown",
   "source": [
    "### Training the network"
   ],
   "metadata": {}
  },
  {
   "cell_type": "markdown",
   "source": [
    "Now that we have a candidate model designed, it's time to train it. While we could use standard set of optimizers as provided by PyTorch to implement our training routine, here we are provided with a convenience function `train_model` that would handle a lot of the training boiler plate."
   ],
   "metadata": {}
  },
  {
   "cell_type": "code",
   "execution_count": 6,
   "source": [
    "from lviv.trainers import train_model"
   ],
   "outputs": [],
   "metadata": {}
  },
  {
   "cell_type": "markdown",
   "source": [
    "Critically, `train_model` sets up the training based on **Poisson loss** and also perform early stopping based on **correlation** of the predicted neuronal responses with the actual neuronal responses on the **validation set**. Let's now talk briefly about our objective (loss) function of choice in training neuron response models - the Poisson loss."
   ],
   "metadata": {}
  },
  {
   "cell_type": "markdown",
   "source": [
    "### Mathematical aside: Poisson Loss"
   ],
   "metadata": {}
  },
  {
   "cell_type": "markdown",
   "source": [
    "#### How we are **actually** modeling the noisy neuronal responses"
   ],
   "metadata": {}
  },
  {
   "cell_type": "markdown",
   "source": [
    "The use of **Poisson loss** follows from the assumption that, *conditioned on the stimulus*, the neurons' responses follow an **independent Poisson** distribution. That is, given an input image $x$, the population response $\\mathbf{r}$ is distributed as:\n",
    "\n",
    "$$\n",
    "p(\\mathbf{r} | x) = \\prod_i^N \\text{Poiss}(r_i; \\lambda_i(x))\n",
    "$$"
   ],
   "metadata": {}
  },
  {
   "cell_type": "markdown",
   "source": [
    "where $r_i$ is the $i^\\text{th}$ neuron in the population $\\mathbf{r}$. The $\\lambda_i$ is the parameter for Poisson distribution that controls its **average value**. Here we express $\\lambda_i(x)$ to indicate the fact that the average response for each neuron is expected to vary *as a function of the input image*. We can express this average matching as:\n",
    "\n",
    "$$\n",
    "\\mathbb{E}[r_i|x] = \\lambda_i(x)\n",
    "$$"
   ],
   "metadata": {}
  },
  {
   "cell_type": "markdown",
   "source": [
    "In fact, it is precisely this function $\\lambda_i(x)$ that we are modeling using LN models and, in the next step, more complex neural networks. In otherwords, we are learning $\\lambda_i(x) = f_i(x, \\theta)$, where $\\theta$ is the trainable parameters of the model."
   ],
   "metadata": {}
  },
  {
   "cell_type": "markdown",
   "source": [
    "Putting all together, this means that, our model $f(x, \\theta)$ is really modeling the average activity of the neurons,\n",
    "\n",
    "$$\n",
    "\\mathbb{E}[\\mathbf{r}|x] = \\mathbf{f}(x, \\theta)\n",
    "$$\n",
    "\n",
    "while we are assuming that the neurons are distributed according to **independent Poisson** distribution around the average responses predicted by our model $\\mathbf{f}(x, \\theta)$."
   ],
   "metadata": {}
  },
  {
   "cell_type": "markdown",
   "source": [
    "#### Deriving the objective function"
   ],
   "metadata": {}
  },
  {
   "cell_type": "markdown",
   "source": [
    "Poisson distribution is defined as follows:\n",
    "\n",
    "$$\n",
    "p(r) = \\text{Poiss}(r; \\lambda) = \\frac{e^{-\\lambda}\\lambda^{r}}{r!}\n",
    "$$\n",
    "\n",
    "During the training, we would want to adjust the model parameter $\\theta$ to maximize the chance of observing the response $\\mathbf{r}$ to a known image $x$. This is achieved by **maximizing** the log-likelihood function $\\log p(\\mathbf{r}|x, \\theta)$, or equivalently by **minimzing the negative log-likelihood function** as the objective function $L(x, \\mathbf{r}, \\theta)$:\n",
    "\n",
    "$$\n",
    "\\begin{align}\n",
    "L(x, \\mathbf{r}, \\theta) &= -\\log p(\\mathbf{r}|x, \\theta) \\\\\n",
    "&= -\\log \\prod_i \\text{Poiss}(r_i; f_i(x, \\theta)) \\\\\n",
    "&= -\\sum_i \\log \\frac{e^{-f_i(x, \\theta)}f_i(x, \\theta)^{r_i}}{r_i!} \\\\\n",
    "&= \\sum_i \\left(f_i(x, \\theta) - r_i \\log f_i(x, \\theta) + \\log r_i! \\right)\n",
    "\\end{align}\n",
    "$$\n"
   ],
   "metadata": {}
  },
  {
   "cell_type": "markdown",
   "source": [
    "During the optimization, we seek for $\\theta$ that would minimize the loss $L$. Note that since the term $\\log r_i!$ does not depend on $\\theta$, it can be safely dropped from Poisson loss. Hence you would commonly see the following expression as the definition of the **Poisson loss**\n",
    "\n",
    "$$\n",
    "L_\\text{Poiss}(x, \\mathbf{r}, \\theta) = \\sum_i \\left(f_i(x, \\theta) - r_i \\log f_i(x, \\theta)\\right)\n",
    "$$"
   ],
   "metadata": {}
  },
  {
   "cell_type": "markdown",
   "source": [
    "### Performing the training"
   ],
   "metadata": {}
  },
  {
   "cell_type": "markdown",
   "source": [
    "Now that we have the theoretical foundation for the training and the choice of the objective function under our belt, let's go ahead and train the network. Because the function `train_model` handles a lot underneath the hood, training a model is just as easy as invoking the function by passing it the model to be trained and the dataloaders!"
   ],
   "metadata": {}
  },
  {
   "cell_type": "code",
   "execution_count": 5,
   "source": [
    "from lviv.trainers import train_model"
   ],
   "outputs": [],
   "metadata": {}
  },
  {
   "cell_type": "code",
   "execution_count": 82,
   "source": [
    "score, output, model_state = train_model(model=ln_model, dataloader=dataloaders)"
   ],
   "outputs": [
    {
     "output_type": "stream",
     "name": "stdout",
     "text": [
      "=======================================\n",
      "correlation -0.0028376007\n",
      "poisson_loss 9536425.0\n"
     ]
    },
    {
     "output_type": "stream",
     "name": "stderr",
     "text": [
      "Epoch 1: 100%|██████████| 75/75 [00:04<00:00, 15.25it/s]\n"
     ]
    },
    {
     "output_type": "stream",
     "name": "stdout",
     "text": [
      "[001|00/05] ---> 0.06291262805461884\n",
      "=======================================\n",
      "correlation 0.06291263\n",
      "poisson_loss 3233414.0\n"
     ]
    },
    {
     "output_type": "stream",
     "name": "stderr",
     "text": [
      "Epoch 2: 100%|██████████| 75/75 [00:00<00:00, 82.23it/s]\n"
     ]
    },
    {
     "output_type": "stream",
     "name": "stdout",
     "text": [
      "[002|00/05] ---> 0.07530715316534042\n",
      "=======================================\n",
      "correlation 0.07530715\n",
      "poisson_loss 2823158.8\n"
     ]
    },
    {
     "output_type": "stream",
     "name": "stderr",
     "text": [
      "Epoch 3: 100%|██████████| 75/75 [00:00<00:00, 84.48it/s]\n"
     ]
    },
    {
     "output_type": "stream",
     "name": "stdout",
     "text": [
      "[003|00/05] ---> 0.08148764073848724\n",
      "=======================================\n",
      "correlation 0.08148764\n",
      "poisson_loss 2646291.5\n"
     ]
    },
    {
     "output_type": "stream",
     "name": "stderr",
     "text": [
      "Epoch 4: 100%|██████████| 75/75 [00:00<00:00, 79.08it/s]\n"
     ]
    },
    {
     "output_type": "stream",
     "name": "stdout",
     "text": [
      "[004|01/05] -/-> 0.07675723731517792\n",
      "=======================================\n",
      "correlation 0.07675724\n",
      "poisson_loss 2614737.5\n"
     ]
    },
    {
     "output_type": "stream",
     "name": "stderr",
     "text": [
      "Epoch 5: 100%|██████████| 75/75 [00:00<00:00, 84.55it/s]\n"
     ]
    },
    {
     "output_type": "stream",
     "name": "stdout",
     "text": [
      "[005|01/05] ---> 0.0831238180398941\n",
      "=======================================\n",
      "correlation 0.08312382\n",
      "poisson_loss 2618676.0\n"
     ]
    },
    {
     "output_type": "stream",
     "name": "stderr",
     "text": [
      "Epoch 6: 100%|██████████| 75/75 [00:00<00:00, 84.46it/s]\n"
     ]
    },
    {
     "output_type": "stream",
     "name": "stdout",
     "text": [
      "[006|00/05] ---> 0.08651387691497803\n",
      "=======================================\n",
      "correlation 0.08651388\n",
      "poisson_loss 2535143.0\n"
     ]
    },
    {
     "output_type": "stream",
     "name": "stderr",
     "text": [
      "Epoch 7: 100%|██████████| 75/75 [00:00<00:00, 84.79it/s]\n"
     ]
    },
    {
     "output_type": "stream",
     "name": "stdout",
     "text": [
      "[007|00/05] ---> 0.08859601616859436\n",
      "=======================================\n",
      "correlation 0.088596016\n",
      "poisson_loss 2492160.0\n"
     ]
    },
    {
     "output_type": "stream",
     "name": "stderr",
     "text": [
      "Epoch 8: 100%|██████████| 75/75 [00:00<00:00, 82.08it/s]\n"
     ]
    },
    {
     "output_type": "stream",
     "name": "stdout",
     "text": [
      "[008|00/05] ---> 0.0907663106918335\n",
      "=======================================\n",
      "correlation 0.09076631\n",
      "poisson_loss 2553214.2\n"
     ]
    },
    {
     "output_type": "stream",
     "name": "stderr",
     "text": [
      "Epoch 9: 100%|██████████| 75/75 [00:01<00:00, 74.58it/s]\n"
     ]
    },
    {
     "output_type": "stream",
     "name": "stdout",
     "text": [
      "[009|01/05] -/-> 0.08925200253725052\n",
      "=======================================\n",
      "correlation 0.089252\n",
      "poisson_loss 2550302.2\n"
     ]
    },
    {
     "output_type": "stream",
     "name": "stderr",
     "text": [
      "Epoch 10: 100%|██████████| 75/75 [00:00<00:00, 83.80it/s]\n"
     ]
    },
    {
     "output_type": "stream",
     "name": "stdout",
     "text": [
      "[010|02/05] -/-> 0.08571925759315491\n",
      "=======================================\n",
      "correlation 0.08571926\n",
      "poisson_loss 2573360.5\n"
     ]
    },
    {
     "output_type": "stream",
     "name": "stderr",
     "text": [
      "Epoch 11: 100%|██████████| 75/75 [00:00<00:00, 80.87it/s]\n"
     ]
    },
    {
     "output_type": "stream",
     "name": "stdout",
     "text": [
      "[011|03/05] -/-> 0.08661939948797226\n",
      "=======================================\n",
      "correlation 0.0866194\n",
      "poisson_loss 2674216.0\n"
     ]
    },
    {
     "output_type": "stream",
     "name": "stderr",
     "text": [
      "Epoch 12: 100%|██████████| 75/75 [00:00<00:00, 78.25it/s]\n"
     ]
    },
    {
     "output_type": "stream",
     "name": "stdout",
     "text": [
      "[012|04/05] -/-> 0.08475182950496674\n",
      "=======================================\n",
      "correlation 0.08475183\n",
      "poisson_loss 2640827.0\n"
     ]
    },
    {
     "output_type": "stream",
     "name": "stderr",
     "text": [
      "Epoch 13: 100%|██████████| 75/75 [00:00<00:00, 84.00it/s]\n"
     ]
    },
    {
     "output_type": "stream",
     "name": "stdout",
     "text": [
      "[013|05/05] -/-> 0.08563712239265442\n",
      "Restoring best model after lr decay! 0.085637 ---> 0.090766\n",
      "=======================================\n",
      "correlation 0.09076631\n",
      "poisson_loss 2553214.2\n"
     ]
    },
    {
     "output_type": "stream",
     "name": "stderr",
     "text": [
      "Epoch 14: 100%|██████████| 75/75 [00:00<00:00, 83.38it/s]\n"
     ]
    },
    {
     "output_type": "stream",
     "name": "stdout",
     "text": [
      "Epoch    14: reducing learning rate of group 0 to 1.5000e-03.\n",
      "[014|01/05] -/-> 0.08135292679071426\n",
      "=======================================\n",
      "correlation 0.08135293\n",
      "poisson_loss 2619570.5\n"
     ]
    },
    {
     "output_type": "stream",
     "name": "stderr",
     "text": [
      "Epoch 15: 100%|██████████| 75/75 [00:00<00:00, 78.23it/s]\n"
     ]
    },
    {
     "output_type": "stream",
     "name": "stdout",
     "text": [
      "[015|01/05] ---> 0.1087164357304573\n",
      "=======================================\n",
      "correlation 0.108716436\n",
      "poisson_loss 2224880.0\n"
     ]
    },
    {
     "output_type": "stream",
     "name": "stderr",
     "text": [
      "Epoch 16: 100%|██████████| 75/75 [00:00<00:00, 83.09it/s]\n"
     ]
    },
    {
     "output_type": "stream",
     "name": "stdout",
     "text": [
      "[016|01/05] -/-> 0.10778597742319107\n",
      "=======================================\n",
      "correlation 0.10778598\n",
      "poisson_loss 2203862.2\n"
     ]
    },
    {
     "output_type": "stream",
     "name": "stderr",
     "text": [
      "Epoch 17: 100%|██████████| 75/75 [00:00<00:00, 81.61it/s]\n"
     ]
    },
    {
     "output_type": "stream",
     "name": "stdout",
     "text": [
      "[017|02/05] -/-> 0.10817896574735641\n",
      "=======================================\n",
      "correlation 0.108178966\n",
      "poisson_loss 2206134.0\n"
     ]
    },
    {
     "output_type": "stream",
     "name": "stderr",
     "text": [
      "Epoch 18: 100%|██████████| 75/75 [00:00<00:00, 79.73it/s]\n"
     ]
    },
    {
     "output_type": "stream",
     "name": "stdout",
     "text": [
      "[018|03/05] -/-> 0.10457243025302887\n",
      "=======================================\n",
      "correlation 0.10457243\n",
      "poisson_loss 2235500.5\n"
     ]
    },
    {
     "output_type": "stream",
     "name": "stderr",
     "text": [
      "Epoch 19: 100%|██████████| 75/75 [00:00<00:00, 83.66it/s]\n"
     ]
    },
    {
     "output_type": "stream",
     "name": "stdout",
     "text": [
      "[019|04/05] -/-> 0.10566174983978271\n",
      "=======================================\n",
      "correlation 0.10566175\n",
      "poisson_loss 2214932.5\n"
     ]
    },
    {
     "output_type": "stream",
     "name": "stderr",
     "text": [
      "Epoch 20: 100%|██████████| 75/75 [00:00<00:00, 76.61it/s]\n"
     ]
    },
    {
     "output_type": "stream",
     "name": "stdout",
     "text": [
      "[020|05/05] -/-> 0.10366460680961609\n",
      "Restoring best model after lr decay! 0.103665 ---> 0.108716\n",
      "=======================================\n",
      "correlation 0.108716436\n",
      "poisson_loss 2224880.0\n"
     ]
    },
    {
     "output_type": "stream",
     "name": "stderr",
     "text": [
      "Epoch 21: 100%|██████████| 75/75 [00:00<00:00, 84.06it/s]\n"
     ]
    },
    {
     "output_type": "stream",
     "name": "stdout",
     "text": [
      "Epoch    21: reducing learning rate of group 0 to 4.5000e-04.\n",
      "[021|01/05] -/-> 0.10407443344593048\n",
      "=======================================\n",
      "correlation 0.10407443\n",
      "poisson_loss 2212213.8\n"
     ]
    },
    {
     "output_type": "stream",
     "name": "stderr",
     "text": [
      "Epoch 22: 100%|██████████| 75/75 [00:00<00:00, 83.28it/s]\n"
     ]
    },
    {
     "output_type": "stream",
     "name": "stdout",
     "text": [
      "[022|01/05] ---> 0.1141660287976265\n",
      "=======================================\n",
      "correlation 0.11416603\n",
      "poisson_loss 2135080.5\n"
     ]
    },
    {
     "output_type": "stream",
     "name": "stderr",
     "text": [
      "Epoch 23: 100%|██████████| 75/75 [00:00<00:00, 79.38it/s]\n"
     ]
    },
    {
     "output_type": "stream",
     "name": "stdout",
     "text": [
      "[023|00/05] ---> 0.1154339537024498\n",
      "=======================================\n",
      "correlation 0.11543395\n",
      "poisson_loss 2140812.5\n"
     ]
    },
    {
     "output_type": "stream",
     "name": "stderr",
     "text": [
      "Epoch 24: 100%|██████████| 75/75 [00:00<00:00, 83.30it/s]\n"
     ]
    },
    {
     "output_type": "stream",
     "name": "stdout",
     "text": [
      "[024|01/05] -/-> 0.11267277598381042\n",
      "=======================================\n",
      "correlation 0.112672776\n",
      "poisson_loss 2145623.5\n"
     ]
    },
    {
     "output_type": "stream",
     "name": "stderr",
     "text": [
      "Epoch 25: 100%|██████████| 75/75 [00:00<00:00, 84.19it/s]\n"
     ]
    },
    {
     "output_type": "stream",
     "name": "stdout",
     "text": [
      "[025|02/05] -/-> 0.11420059949159622\n",
      "=======================================\n",
      "correlation 0.1142006\n",
      "poisson_loss 2142161.2\n"
     ]
    },
    {
     "output_type": "stream",
     "name": "stderr",
     "text": [
      "Epoch 26: 100%|██████████| 75/75 [00:00<00:00, 84.52it/s]\n"
     ]
    },
    {
     "output_type": "stream",
     "name": "stdout",
     "text": [
      "[026|03/05] -/-> 0.11442482471466064\n",
      "=======================================\n",
      "correlation 0.114424825\n",
      "poisson_loss 2131446.8\n"
     ]
    },
    {
     "output_type": "stream",
     "name": "stderr",
     "text": [
      "Epoch 27: 100%|██████████| 75/75 [00:00<00:00, 83.87it/s]\n"
     ]
    },
    {
     "output_type": "stream",
     "name": "stdout",
     "text": [
      "[027|04/05] -/-> 0.11402616649866104\n",
      "=======================================\n",
      "correlation 0.11402617\n",
      "poisson_loss 2143431.0\n"
     ]
    },
    {
     "output_type": "stream",
     "name": "stderr",
     "text": [
      "Epoch 28: 100%|██████████| 75/75 [00:00<00:00, 83.13it/s]\n"
     ]
    },
    {
     "output_type": "stream",
     "name": "stdout",
     "text": [
      "[028|05/05] -/-> 0.11184372752904892\n",
      "Restoring best model after lr decay! 0.111844 ---> 0.115434\n",
      "Restoring best model! 0.115434 ---> 0.115434\n"
     ]
    }
   ],
   "metadata": {
    "colab": {
     "base_uri": "https://localhost:8080/"
    },
    "collapsed": true,
    "id": "vnIjtCeERCjk",
    "jupyter": {
     "outputs_hidden": true
    },
    "outputId": "569f4934-9cb5-4253-ae02-001b6a9d7828"
   }
  },
  {
   "cell_type": "markdown",
   "source": [
    "### Analyzing the trained network"
   ],
   "metadata": {}
  },
  {
   "cell_type": "markdown",
   "source": [
    "Woohoo! We have now successfully trained our very first LN model on real neuronal responses! But really, how good is the model?\n",
    "\n",
    "During the training, the `train_model` function iteratively reported two values: the loss function (Poisson loss) value and the average correlation. \n",
    "\n",
    "But what is this correlation? It's simply the correlation computed between our predicted neuronal responses $\\hat{r}_i$ and the actual neuronal responses $r_i$ across images in the validation set. We then take the average correlation value **across neurons** to get average correlation."
   ],
   "metadata": {}
  },
  {
   "cell_type": "markdown",
   "source": [
    "Being a correlation, the highest possible value is of course 1.0. Practically speaking, this is never reached both due to 1) imperfection of our model and more fundamentally due to 2) the noiseness of the neuron's responses. Because of the noise, even a perfect model would never reach a correlation of 1.0."
   ],
   "metadata": {}
  },
  {
   "cell_type": "markdown",
   "source": [
    "Let's actually go ahead and look at the model's predicted responses on the test set and compare them against the actual responses. The package `lviv` provides for a convenient function to quickly gather the model's responses and the actual responses."
   ],
   "metadata": {}
  },
  {
   "cell_type": "code",
   "execution_count": 173,
   "source": [
    "from lviv.utility import measures\n",
    "from scipy.stats import pearsonr\n",
    "\n",
    "actual_responses, model_responses = measures.model_predictions(ln_model, dataloaders['test'], device='cuda')"
   ],
   "outputs": [],
   "metadata": {}
  },
  {
   "cell_type": "code",
   "execution_count": 176,
   "source": [
    "# pick a neuron to generate the plot for\n",
    "neuron_idx = 988\n",
    "\n",
    "# compute Pearson correlation\n",
    "r, _ = pearsonr(model_responses[:, neuron_idx], actual_responses[:, neuron_idx])\n",
    "fig, ax = plt.subplots(1, 1, dpi=150)\n",
    "ax.scatter(model_responses[:, neuron_idx], actual_responses[:, neuron_idx], c='k', s=1.0)\n",
    "ax.set_title(f'Responses for neuron {neuron_idx}: $\\\\rho = {r:.3f}$')\n",
    "ax.set_xlabel('Model responses')\n",
    "ax.set_ylabel('Actual responses')\n",
    "sns.despine()"
   ],
   "outputs": [
    {
     "output_type": "display_data",
     "data": {
      "text/plain": [
       "<Figure size 900x600 with 1 Axes>"
      ],
      "image/png": "[encoded data removed]"
     },
     "metadata": {
      "needs_background": "light"
     }
    }
   ],
   "metadata": {}
  },
  {
   "cell_type": "markdown",
   "source": [
    "Let's take a look at how this correlation is distributed across neurons. This time, we'll use `get_gorrelations` function to compute correation for all neurons quickly."
   ],
   "metadata": {}
  },
  {
   "cell_type": "code",
   "execution_count": 186,
   "source": [
    "# compute correlation on test set\n",
    "ln_test_correlations = measures.get_correlations(\n",
    "    ln_model, dataloaders[\"test\"], device=\"cuda\", per_neuron=True\n",
    ")\n",
    "\n",
    "fig, ax = plt.subplots(1, 1, dpi=150)\n",
    "n, bins, _ = ax.hist(ln_test_correlations, bins=100, color='k')\n",
    "ax.axvline(np.mean(ln_test_correlations), color=\"r\")\n",
    "ax.text(\n",
    "    x=np.mean(ln_test_correlations) + 0.01,\n",
    "    y=np.max(n),\n",
    "    s=\"mean = {:.3f}\".format(np.mean(ln_test_correlations)),\n",
    ")\n",
    "ax.set_title('Testset correlation of LN model')\n",
    "ax.set_xlabel('Correlation')\n",
    "sns.despine()"
   ],
   "outputs": [
    {
     "output_type": "display_data",
     "data": {
      "text/plain": [
       "<Figure size 900x600 with 1 Axes>"
      ],
      "image/png": "[encoded data removed]"
     },
     "metadata": {
      "needs_background": "light"
     }
    }
   ],
   "metadata": {}
  },
  {
   "cell_type": "markdown",
   "source": [
    "You can see that value of achieved correlation on the test set widely varies among the neurons. Some neurons are quite well predicted, reaching correlation above 0.6, where as many neurons have correlation well below 0.1."
   ],
   "metadata": {}
  },
  {
   "cell_type": "markdown",
   "source": [
    "## Going beyond Linear-Nonlinear model by using CNN"
   ],
   "metadata": {}
  },
  {
   "cell_type": "markdown",
   "source": [
    "We saw that a simple LN model can be trained to achieve above chance performance in predicting the responses of mouse V1 neurons to natural images. But we certainly must be able to do better than that, right?\n",
    "\n",
    "In the past decase, what has really driven system identification of visual neurons has been the use of convolutional neural networks (CNN). Below, we will try out a very simple CNN to see if we can already reach better performance than LN."
   ],
   "metadata": {}
  },
  {
   "cell_type": "code",
   "execution_count": 179,
   "source": [
    "from collections import OrderedDict\n",
    "class CNN(nn.Module):\n",
    "    def __init__(\n",
    "        self,\n",
    "        input_height,\n",
    "        input_width,\n",
    "        n_neurons,\n",
    "        momentum=0.1,\n",
    "        init_std=1e-3,\n",
    "        gamma=0.1,\n",
    "        hidden_channels=8,\n",
    "    ):\n",
    "        super(CNN, self).__init__()\n",
    "        self.init_std = init_std\n",
    "        self.gamma = gamma\n",
    "\n",
    "        # CNN core\n",
    "        self.cnn_core = nn.Sequential(\n",
    "            OrderedDict(\n",
    "                [\n",
    "                    (\"conv1\", nn.Conv2d(1, hidden_channels, 15, padding=15 // 2, bias=False)),\n",
    "                    (\"bn1\", nn.BatchNorm2d(hidden_channels, momentum=momentum)),\n",
    "                    (\"elu1\", nn.ELU()),\n",
    "                    (\"conv2\", nn.Conv2d(hidden_channels, hidden_channels, 13, padding=13 // 2, bias=False)),\n",
    "                    (\"bn2\", nn.BatchNorm2d(hidden_channels, momentum=momentum)),\n",
    "                    (\"elu2\", nn.ELU()),\n",
    "                    (\"conv3\", nn.Conv2d(hidden_channels, hidden_channels, 13, padding=13 // 2, bias=False)),\n",
    "                    (\"bn3\", nn.BatchNorm2d(hidden_channels, momentum=momentum)),\n",
    "                    (\"elu3\", nn.ELU()),\n",
    "                    (\"conv4\", nn.Conv2d(hidden_channels, hidden_channels, 13, padding=13 // 2, bias=False)),\n",
    "                    (\"bn4\", nn.BatchNorm2d(hidden_channels, momentum=momentum)),\n",
    "                    (\"elu4\", nn.ELU()),\n",
    "                ]\n",
    "            )\n",
    "        )\n",
    "\n",
    "        # Fully connected readout\n",
    "        self.readout = nn.Sequential(\n",
    "            OrderedDict(\n",
    "                [\n",
    "                    ('fc_ro', nn.Linear(input_height * input_width * hidden_channels, n_neurons)),\n",
    "                    ('bn_ro', nn.BatchNorm1d(n_neurons, momentum=momentum)),\n",
    "                ]\n",
    "            )\n",
    "        )\n",
    "\n",
    "\n",
    "    def initialize(self, std=None):\n",
    "        if std is None:\n",
    "            std = self.init_std\n",
    "        for m in self.modules():\n",
    "            if isinstance(m, nn.Conv2d) or isinstance(m, nn.Linear):\n",
    "                nn.init.normal_(m.weight.data, std=std)\n",
    "\n",
    "    def forward(self, x):\n",
    "        x = self.cnn_core(x)\n",
    "        x = x.view(x.size(0), -1)\n",
    "        x = self.readout(x)\n",
    "        return nn.functional.elu(x) + 1\n",
    "    \n",
    "    def regularizer(self):\n",
    "        return self.readout[0].weight.abs().sum() * self.gamma\n"
   ],
   "outputs": [],
   "metadata": {}
  },
  {
   "cell_type": "markdown",
   "source": [
    "Let us now instantiate the model and train it!"
   ],
   "metadata": {}
  },
  {
   "cell_type": "code",
   "execution_count": 88,
   "source": [
    "cnn_model = CNN(input_height=64, input_width=36, n_neurons=5335)\n",
    "score, output, model_state = train_model(model=cnn_model, dataloader=dataloaders)"
   ],
   "outputs": [
    {
     "output_type": "stream",
     "name": "stdout",
     "text": [
      "=======================================\n",
      "correlation -0.00045015095\n",
      "poisson_loss 4177012.8\n"
     ]
    },
    {
     "output_type": "stream",
     "name": "stderr",
     "text": [
      "Epoch 1: 100%|██████████| 75/75 [00:04<00:00, 15.26it/s]\n"
     ]
    },
    {
     "output_type": "stream",
     "name": "stdout",
     "text": [
      "[001|00/05] ---> 0.053945496678352356\n",
      "=======================================\n",
      "correlation 0.053945497\n",
      "poisson_loss 2966264.5\n"
     ]
    },
    {
     "output_type": "stream",
     "name": "stderr",
     "text": [
      "Epoch 2: 100%|██████████| 75/75 [00:04<00:00, 15.51it/s]\n"
     ]
    },
    {
     "output_type": "stream",
     "name": "stdout",
     "text": [
      "[002|00/05] ---> 0.10886244475841522\n",
      "=======================================\n",
      "correlation 0.108862445\n",
      "poisson_loss 2061814.6\n"
     ]
    },
    {
     "output_type": "stream",
     "name": "stderr",
     "text": [
      "Epoch 3: 100%|██████████| 75/75 [00:04<00:00, 15.41it/s]\n"
     ]
    },
    {
     "output_type": "stream",
     "name": "stdout",
     "text": [
      "[003|00/05] ---> 0.14153477549552917\n",
      "=======================================\n",
      "correlation 0.14153478\n",
      "poisson_loss 1919906.2\n"
     ]
    },
    {
     "output_type": "stream",
     "name": "stderr",
     "text": [
      "Epoch 4: 100%|██████████| 75/75 [00:04<00:00, 15.29it/s]\n"
     ]
    },
    {
     "output_type": "stream",
     "name": "stdout",
     "text": [
      "[004|00/05] ---> 0.1499428153038025\n",
      "=======================================\n",
      "correlation 0.14994282\n",
      "poisson_loss 1901764.0\n"
     ]
    },
    {
     "output_type": "stream",
     "name": "stderr",
     "text": [
      "Epoch 5: 100%|██████████| 75/75 [00:04<00:00, 15.34it/s]\n"
     ]
    },
    {
     "output_type": "stream",
     "name": "stdout",
     "text": [
      "[005|00/05] ---> 0.16296586394309998\n",
      "=======================================\n",
      "correlation 0.16296586\n",
      "poisson_loss 1864801.8\n"
     ]
    },
    {
     "output_type": "stream",
     "name": "stderr",
     "text": [
      "Epoch 6: 100%|██████████| 75/75 [00:04<00:00, 15.50it/s]\n"
     ]
    },
    {
     "output_type": "stream",
     "name": "stdout",
     "text": [
      "[006|00/05] ---> 0.18991662561893463\n",
      "=======================================\n",
      "correlation 0.18991663\n",
      "poisson_loss 1816717.0\n"
     ]
    },
    {
     "output_type": "stream",
     "name": "stderr",
     "text": [
      "Epoch 7: 100%|██████████| 75/75 [00:04<00:00, 15.33it/s]\n"
     ]
    },
    {
     "output_type": "stream",
     "name": "stdout",
     "text": [
      "[007|00/05] ---> 0.19636401534080505\n",
      "=======================================\n",
      "correlation 0.19636402\n",
      "poisson_loss 1824522.8\n"
     ]
    },
    {
     "output_type": "stream",
     "name": "stderr",
     "text": [
      "Epoch 8: 100%|██████████| 75/75 [00:04<00:00, 15.37it/s]\n"
     ]
    },
    {
     "output_type": "stream",
     "name": "stdout",
     "text": [
      "[008|00/05] ---> 0.20466706156730652\n",
      "=======================================\n",
      "correlation 0.20466706\n",
      "poisson_loss 1804877.4\n"
     ]
    },
    {
     "output_type": "stream",
     "name": "stderr",
     "text": [
      "Epoch 9: 100%|██████████| 75/75 [00:04<00:00, 15.37it/s]\n"
     ]
    },
    {
     "output_type": "stream",
     "name": "stdout",
     "text": [
      "[009|00/05] ---> 0.20793630182743073\n",
      "=======================================\n",
      "correlation 0.2079363\n",
      "poisson_loss 1799221.1\n"
     ]
    },
    {
     "output_type": "stream",
     "name": "stderr",
     "text": [
      "Epoch 10: 100%|██████████| 75/75 [00:04<00:00, 15.38it/s]\n"
     ]
    },
    {
     "output_type": "stream",
     "name": "stdout",
     "text": [
      "[010|01/05] -/-> 0.20705397427082062\n",
      "=======================================\n",
      "correlation 0.20705397\n",
      "poisson_loss 1806472.5\n"
     ]
    },
    {
     "output_type": "stream",
     "name": "stderr",
     "text": [
      "Epoch 11: 100%|██████████| 75/75 [00:04<00:00, 15.41it/s]\n"
     ]
    },
    {
     "output_type": "stream",
     "name": "stdout",
     "text": [
      "[011|02/05] -/-> 0.2040378600358963\n",
      "=======================================\n",
      "correlation 0.20403786\n",
      "poisson_loss 1846206.5\n"
     ]
    },
    {
     "output_type": "stream",
     "name": "stderr",
     "text": [
      "Epoch 12: 100%|██████████| 75/75 [00:04<00:00, 15.48it/s]\n"
     ]
    },
    {
     "output_type": "stream",
     "name": "stdout",
     "text": [
      "[012|03/05] -/-> 0.1922161877155304\n",
      "=======================================\n",
      "correlation 0.19221619\n",
      "poisson_loss 1884127.5\n"
     ]
    },
    {
     "output_type": "stream",
     "name": "stderr",
     "text": [
      "Epoch 13: 100%|██████████| 75/75 [00:04<00:00, 15.21it/s]\n"
     ]
    },
    {
     "output_type": "stream",
     "name": "stdout",
     "text": [
      "[013|04/05] -/-> 0.18458996713161469\n",
      "=======================================\n",
      "correlation 0.18458997\n",
      "poisson_loss 1897588.4\n"
     ]
    },
    {
     "output_type": "stream",
     "name": "stderr",
     "text": [
      "Epoch 14: 100%|██████████| 75/75 [00:04<00:00, 15.51it/s]\n"
     ]
    },
    {
     "output_type": "stream",
     "name": "stdout",
     "text": [
      "[014|05/05] -/-> 0.17324768006801605\n",
      "Restoring best model after lr decay! 0.173248 ---> 0.207936\n",
      "=======================================\n",
      "correlation 0.2079363\n",
      "poisson_loss 1799221.1\n"
     ]
    },
    {
     "output_type": "stream",
     "name": "stderr",
     "text": [
      "Epoch 15: 100%|██████████| 75/75 [00:04<00:00, 15.49it/s]\n"
     ]
    },
    {
     "output_type": "stream",
     "name": "stdout",
     "text": [
      "Epoch    15: reducing learning rate of group 0 to 1.5000e-03.\n",
      "[015|01/05] -/-> 0.20133435726165771\n",
      "=======================================\n",
      "correlation 0.20133436\n",
      "poisson_loss 1817016.5\n"
     ]
    },
    {
     "output_type": "stream",
     "name": "stderr",
     "text": [
      "Epoch 16: 100%|██████████| 75/75 [00:04<00:00, 15.39it/s]\n"
     ]
    },
    {
     "output_type": "stream",
     "name": "stdout",
     "text": [
      "[016|02/05] -/-> 0.20695102214813232\n",
      "=======================================\n",
      "correlation 0.20695102\n",
      "poisson_loss 1803929.9\n"
     ]
    },
    {
     "output_type": "stream",
     "name": "stderr",
     "text": [
      "Epoch 17: 100%|██████████| 75/75 [00:04<00:00, 15.60it/s]\n"
     ]
    },
    {
     "output_type": "stream",
     "name": "stdout",
     "text": [
      "[017|03/05] -/-> 0.20145919919013977\n",
      "=======================================\n",
      "correlation 0.2014592\n",
      "poisson_loss 1822813.8\n"
     ]
    },
    {
     "output_type": "stream",
     "name": "stderr",
     "text": [
      "Epoch 18: 100%|██████████| 75/75 [00:04<00:00, 15.49it/s]\n"
     ]
    },
    {
     "output_type": "stream",
     "name": "stdout",
     "text": [
      "[018|04/05] -/-> 0.1929115504026413\n",
      "=======================================\n",
      "correlation 0.19291155\n",
      "poisson_loss 1847443.2\n"
     ]
    },
    {
     "output_type": "stream",
     "name": "stderr",
     "text": [
      "Epoch 19: 100%|██████████| 75/75 [00:04<00:00, 15.57it/s]\n"
     ]
    },
    {
     "output_type": "stream",
     "name": "stdout",
     "text": [
      "[019|05/05] -/-> 0.18579795956611633\n",
      "Restoring best model after lr decay! 0.185798 ---> 0.207936\n",
      "=======================================\n",
      "correlation 0.2079363\n",
      "poisson_loss 1799221.1\n"
     ]
    },
    {
     "output_type": "stream",
     "name": "stderr",
     "text": [
      "Epoch 20: 100%|██████████| 75/75 [00:04<00:00, 15.60it/s]\n"
     ]
    },
    {
     "output_type": "stream",
     "name": "stdout",
     "text": [
      "[020|00/05] ---> 0.21430984139442444\n",
      "=======================================\n",
      "correlation 0.21430984\n",
      "poisson_loss 1789777.2\n"
     ]
    },
    {
     "output_type": "stream",
     "name": "stderr",
     "text": [
      "Epoch 21: 100%|██████████| 75/75 [00:04<00:00, 15.55it/s]\n"
     ]
    },
    {
     "output_type": "stream",
     "name": "stdout",
     "text": [
      "[021|01/05] -/-> 0.20966924726963043\n",
      "=======================================\n",
      "correlation 0.20966925\n",
      "poisson_loss 1800760.5\n"
     ]
    },
    {
     "output_type": "stream",
     "name": "stderr",
     "text": [
      "Epoch 22: 100%|██████████| 75/75 [00:04<00:00, 15.41it/s]\n"
     ]
    },
    {
     "output_type": "stream",
     "name": "stdout",
     "text": [
      "[022|02/05] -/-> 0.20322349667549133\n",
      "=======================================\n",
      "correlation 0.2032235\n",
      "poisson_loss 1815298.0\n"
     ]
    },
    {
     "output_type": "stream",
     "name": "stderr",
     "text": [
      "Epoch 23: 100%|██████████| 75/75 [00:04<00:00, 15.57it/s]\n"
     ]
    },
    {
     "output_type": "stream",
     "name": "stdout",
     "text": [
      "[023|03/05] -/-> 0.19595438241958618\n",
      "=======================================\n",
      "correlation 0.19595438\n",
      "poisson_loss 1833899.8\n"
     ]
    },
    {
     "output_type": "stream",
     "name": "stderr",
     "text": [
      "Epoch 24: 100%|██████████| 75/75 [00:04<00:00, 15.35it/s]\n"
     ]
    },
    {
     "output_type": "stream",
     "name": "stdout",
     "text": [
      "[024|04/05] -/-> 0.1888420134782791\n",
      "=======================================\n",
      "correlation 0.18884201\n",
      "poisson_loss 1869610.0\n"
     ]
    },
    {
     "output_type": "stream",
     "name": "stderr",
     "text": [
      "Epoch 25: 100%|██████████| 75/75 [00:04<00:00, 15.31it/s]\n"
     ]
    },
    {
     "output_type": "stream",
     "name": "stdout",
     "text": [
      "[025|05/05] -/-> 0.18056949973106384\n",
      "Restoring best model after lr decay! 0.180569 ---> 0.214310\n",
      "Restoring best model! 0.214310 ---> 0.214310\n"
     ]
    }
   ],
   "metadata": {}
  },
  {
   "cell_type": "code",
   "execution_count": 184,
   "source": [
    "# compute correlation on test set\n",
    "cnn_test_correlations = measures.get_correlations(\n",
    "    cnn_model, dataloaders[\"test\"], device=\"cuda\", per_neuron=True\n",
    ")\n",
    "\n",
    "fig, ax = plt.subplots(1, 1, dpi=150)\n",
    "n, bins, _ = ax.hist(cnn_test_correlations, bins=100, color='k')\n",
    "mean_corr = np.mean(cnn_test_correlations)\n",
    "ax.axvline(mean_corr, color=\"r\")\n",
    "ax.text(\n",
    "    x=mean_corr + 0.01,\n",
    "    y=np.max(n),\n",
    "    s=\"mean = {:.3f}\".format(mean_corr),\n",
    ")\n",
    "ax.set_title('Testset correlation of CNN model')\n",
    "ax.set_xlabel('Correlation')\n",
    "sns.despine()"
   ],
   "outputs": [
    {
     "output_type": "display_data",
     "data": {
      "text/plain": [
       "<Figure size 900x600 with 1 Axes>"
      ],
      "image/png": "[encoded data removed]"
     },
     "metadata": {
      "needs_background": "light"
     }
    }
   ],
   "metadata": {}
  },
  {
   "cell_type": "markdown",
   "source": [
    "So on average, it seems to do better than our simple LN model. Let's compare the performance for each neuron between the two models."
   ],
   "metadata": {}
  },
  {
   "cell_type": "code",
   "execution_count": 188,
   "source": [
    "# compare model performance\n",
    "fig, ax = plt.subplots(1, 1, dpi=150)\n",
    "ax.scatter(ln_test_correlations, cnn_test_correlations, color=\"k\", s=1)\n",
    "ax.set_xlabel('LN correlation')\n",
    "ax.set_ylabel('CNN correlation')\n",
    "ax.set_title('LN vs CNN model performance comparison')\n",
    "ax.plot([0, 1], [0, 1], color='r')\n",
    "ax.axis('square')\n",
    "sns.despine()"
   ],
   "outputs": [
    {
     "output_type": "display_data",
     "data": {
      "text/plain": [
       "<Figure size 900x600 with 1 Axes>"
      ],
      "image/png": "[encoded data removed]"
     },
     "metadata": {
      "needs_background": "light"
     }
    }
   ],
   "metadata": {}
  },
  {
   "cell_type": "markdown",
   "source": [
    "You can appreciate that for vast majority of neurons (each black point), the CNN model yields better predictive performance than the LN model."
   ],
   "metadata": {}
  },
  {
   "cell_type": "markdown",
   "source": [
    "## Trying out the State-of-the-Art (SOTA) model"
   ],
   "metadata": {}
  },
  {
   "cell_type": "markdown",
   "source": [
    "Now that we got some sense on how we could go about training linear and nonlinear network models to predict V1 neuron responses to natural images, and we just saw how using a CNN model brings significant improvement to the performance beyond the LN model.\n",
    "\n",
    "You might now be wondering, how good can we get? To get a sense of this, let's go ahead and train a state-of-the-art (SOTA) CNN model for mouse V1 responses to natual images as published in our recent work in [Lurz et al. ICLR 2021](https://github.com/sinzlab/Lurz_2020_code).\n",
    "\n",
    "To keep things simple, I have provided for the network implementation in the `lviv` package, so you can build the model just by invoking a function!"
   ],
   "metadata": {}
  },
  {
   "cell_type": "code",
   "execution_count": 21,
   "source": [
    "from lviv.models import build_lurz2020_model\n",
    "model_config = {'init_mu_range': 0.55,\n",
    "                'init_sigma': 0.4,\n",
    "                'input_kern': 15,\n",
    "                'hidden_kern': 13,\n",
    "                'gamma_input': 1.0,\n",
    "                'grid_mean_predictor': {'type': 'cortex',\n",
    "                                        'input_dimensions': 2,\n",
    "                                        'hidden_layers': 0,\n",
    "                                        'hidden_features': 0,\n",
    "                                        'final_tanh': False},\n",
    "                'gamma_readout': 2.439\n",
    "               }\n",
    "\n",
    "sota_cnn_model = build_lurz2020_model(**model_config, dataloaders=dataloaders, seed=1234)"
   ],
   "outputs": [],
   "metadata": {}
  },
  {
   "cell_type": "code",
   "execution_count": 22,
   "source": [
    "score, output, model_state = train_model(model=sota_cnn_model, dataloader=dataloaders)"
   ],
   "outputs": [
    {
     "output_type": "stream",
     "name": "stdout",
     "text": [
      "=======================================\n",
      "correlation 0.00034036028\n",
      "poisson_loss 3467926.2\n"
     ]
    },
    {
     "output_type": "stream",
     "name": "stderr",
     "text": [
      "Epoch 1: 100%|██████████| 75/75 [00:03<00:00, 24.90it/s]\n"
     ]
    },
    {
     "output_type": "stream",
     "name": "stdout",
     "text": [
      "[001|00/05] ---> 0.0680275559425354\n",
      "=======================================\n",
      "correlation 0.068027556\n",
      "poisson_loss 1933858.6\n"
     ]
    },
    {
     "output_type": "stream",
     "name": "stderr",
     "text": [
      "Epoch 2: 100%|██████████| 75/75 [00:02<00:00, 25.01it/s]\n"
     ]
    },
    {
     "output_type": "stream",
     "name": "stdout",
     "text": [
      "[002|00/05] ---> 0.09929622709751129\n",
      "=======================================\n",
      "correlation 0.09929623\n",
      "poisson_loss 1907483.5\n"
     ]
    },
    {
     "output_type": "stream",
     "name": "stderr",
     "text": [
      "Epoch 3: 100%|██████████| 75/75 [00:02<00:00, 25.01it/s]\n"
     ]
    },
    {
     "output_type": "stream",
     "name": "stdout",
     "text": [
      "[003|00/05] ---> 0.13518217206001282\n",
      "=======================================\n",
      "correlation 0.13518217\n",
      "poisson_loss 1867110.0\n"
     ]
    },
    {
     "output_type": "stream",
     "name": "stderr",
     "text": [
      "Epoch 4: 100%|██████████| 75/75 [00:03<00:00, 25.00it/s]\n"
     ]
    },
    {
     "output_type": "stream",
     "name": "stdout",
     "text": [
      "[004|00/05] ---> 0.1598946452140808\n",
      "=======================================\n",
      "correlation 0.15989465\n",
      "poisson_loss 1841945.0\n"
     ]
    },
    {
     "output_type": "stream",
     "name": "stderr",
     "text": [
      "Epoch 5: 100%|██████████| 75/75 [00:03<00:00, 24.97it/s]\n"
     ]
    },
    {
     "output_type": "stream",
     "name": "stdout",
     "text": [
      "[005|00/05] ---> 0.18218474090099335\n",
      "=======================================\n",
      "correlation 0.18218474\n",
      "poisson_loss 1817149.9\n"
     ]
    },
    {
     "output_type": "stream",
     "name": "stderr",
     "text": [
      "Epoch 6: 100%|██████████| 75/75 [00:02<00:00, 25.03it/s]\n"
     ]
    },
    {
     "output_type": "stream",
     "name": "stdout",
     "text": [
      "[006|00/05] ---> 0.20660726726055145\n",
      "=======================================\n",
      "correlation 0.20660727\n",
      "poisson_loss 1790352.0\n"
     ]
    },
    {
     "output_type": "stream",
     "name": "stderr",
     "text": [
      "Epoch 7: 100%|██████████| 75/75 [00:03<00:00, 24.97it/s]\n"
     ]
    },
    {
     "output_type": "stream",
     "name": "stdout",
     "text": [
      "[007|00/05] ---> 0.22382909059524536\n",
      "=======================================\n",
      "correlation 0.22382909\n",
      "poisson_loss 1772525.0\n"
     ]
    },
    {
     "output_type": "stream",
     "name": "stderr",
     "text": [
      "Epoch 8: 100%|██████████| 75/75 [00:03<00:00, 24.91it/s]\n"
     ]
    },
    {
     "output_type": "stream",
     "name": "stdout",
     "text": [
      "[008|00/05] ---> 0.22999538481235504\n",
      "=======================================\n",
      "correlation 0.22999538\n",
      "poisson_loss 1773642.2\n"
     ]
    },
    {
     "output_type": "stream",
     "name": "stderr",
     "text": [
      "Epoch 9: 100%|██████████| 75/75 [00:03<00:00, 24.82it/s]\n"
     ]
    },
    {
     "output_type": "stream",
     "name": "stdout",
     "text": [
      "[009|00/05] ---> 0.24508711695671082\n",
      "=======================================\n",
      "correlation 0.24508712\n",
      "poisson_loss 1747728.8\n"
     ]
    },
    {
     "output_type": "stream",
     "name": "stderr",
     "text": [
      "Epoch 10: 100%|██████████| 75/75 [00:03<00:00, 24.83it/s]\n"
     ]
    },
    {
     "output_type": "stream",
     "name": "stdout",
     "text": [
      "[010|00/05] ---> 0.25037065148353577\n",
      "=======================================\n",
      "correlation 0.25037065\n",
      "poisson_loss 1738160.4\n"
     ]
    },
    {
     "output_type": "stream",
     "name": "stderr",
     "text": [
      "Epoch 11: 100%|██████████| 75/75 [00:03<00:00, 24.83it/s]\n"
     ]
    },
    {
     "output_type": "stream",
     "name": "stdout",
     "text": [
      "[011|00/05] ---> 0.2633332312107086\n",
      "=======================================\n",
      "correlation 0.26333323\n",
      "poisson_loss 1725654.0\n"
     ]
    },
    {
     "output_type": "stream",
     "name": "stderr",
     "text": [
      "Epoch 12: 100%|██████████| 75/75 [00:03<00:00, 24.82it/s]\n"
     ]
    },
    {
     "output_type": "stream",
     "name": "stdout",
     "text": [
      "[012|01/05] -/-> 0.2629813849925995\n",
      "=======================================\n",
      "correlation 0.26298138\n",
      "poisson_loss 1730108.0\n"
     ]
    },
    {
     "output_type": "stream",
     "name": "stderr",
     "text": [
      "Epoch 13: 100%|██████████| 75/75 [00:03<00:00, 24.81it/s]\n"
     ]
    },
    {
     "output_type": "stream",
     "name": "stdout",
     "text": [
      "[013|01/05] ---> 0.2683899700641632\n",
      "=======================================\n",
      "correlation 0.26838997\n",
      "poisson_loss 1716678.5\n"
     ]
    },
    {
     "output_type": "stream",
     "name": "stderr",
     "text": [
      "Epoch 14: 100%|██████████| 75/75 [00:03<00:00, 24.79it/s]\n"
     ]
    },
    {
     "output_type": "stream",
     "name": "stdout",
     "text": [
      "[014|00/05] ---> 0.27141842246055603\n",
      "=======================================\n",
      "correlation 0.27141842\n",
      "poisson_loss 1719357.9\n"
     ]
    },
    {
     "output_type": "stream",
     "name": "stderr",
     "text": [
      "Epoch 15: 100%|██████████| 75/75 [00:03<00:00, 24.78it/s]\n"
     ]
    },
    {
     "output_type": "stream",
     "name": "stdout",
     "text": [
      "[015|00/05] ---> 0.27544060349464417\n",
      "=======================================\n",
      "correlation 0.2754406\n",
      "poisson_loss 1706908.8\n"
     ]
    },
    {
     "output_type": "stream",
     "name": "stderr",
     "text": [
      "Epoch 16: 100%|██████████| 75/75 [00:03<00:00, 24.76it/s]\n"
     ]
    },
    {
     "output_type": "stream",
     "name": "stdout",
     "text": [
      "[016|00/05] ---> 0.2799447178840637\n",
      "=======================================\n",
      "correlation 0.27994472\n",
      "poisson_loss 1706215.8\n"
     ]
    },
    {
     "output_type": "stream",
     "name": "stderr",
     "text": [
      "Epoch 17: 100%|██████████| 75/75 [00:03<00:00, 24.86it/s]\n"
     ]
    },
    {
     "output_type": "stream",
     "name": "stdout",
     "text": [
      "[017|01/05] -/-> 0.2778717875480652\n",
      "=======================================\n",
      "correlation 0.2778718\n",
      "poisson_loss 1704406.2\n"
     ]
    },
    {
     "output_type": "stream",
     "name": "stderr",
     "text": [
      "Epoch 18: 100%|██████████| 75/75 [00:03<00:00, 24.89it/s]\n"
     ]
    },
    {
     "output_type": "stream",
     "name": "stdout",
     "text": [
      "[018|01/05] ---> 0.28171613812446594\n",
      "=======================================\n",
      "correlation 0.28171614\n",
      "poisson_loss 1699294.4\n"
     ]
    },
    {
     "output_type": "stream",
     "name": "stderr",
     "text": [
      "Epoch 19: 100%|██████████| 75/75 [00:03<00:00, 24.76it/s]\n"
     ]
    },
    {
     "output_type": "stream",
     "name": "stdout",
     "text": [
      "[019|00/05] ---> 0.28334832191467285\n",
      "=======================================\n",
      "correlation 0.28334832\n",
      "poisson_loss 1700168.6\n"
     ]
    },
    {
     "output_type": "stream",
     "name": "stderr",
     "text": [
      "Epoch 20: 100%|██████████| 75/75 [00:03<00:00, 24.73it/s]\n"
     ]
    },
    {
     "output_type": "stream",
     "name": "stdout",
     "text": [
      "[020|01/05] -/-> 0.28233516216278076\n",
      "=======================================\n",
      "correlation 0.28233516\n",
      "poisson_loss 1703476.0\n"
     ]
    },
    {
     "output_type": "stream",
     "name": "stderr",
     "text": [
      "Epoch 21: 100%|██████████| 75/75 [00:03<00:00, 24.78it/s]\n"
     ]
    },
    {
     "output_type": "stream",
     "name": "stdout",
     "text": [
      "[021|01/05] ---> 0.28639575839042664\n",
      "=======================================\n",
      "correlation 0.28639576\n",
      "poisson_loss 1695269.2\n"
     ]
    },
    {
     "output_type": "stream",
     "name": "stderr",
     "text": [
      "Epoch 22: 100%|██████████| 75/75 [00:03<00:00, 24.80it/s]\n"
     ]
    },
    {
     "output_type": "stream",
     "name": "stdout",
     "text": [
      "[022|01/05] -/-> 0.2859424650669098\n",
      "=======================================\n",
      "correlation 0.28594247\n",
      "poisson_loss 1698494.0\n"
     ]
    },
    {
     "output_type": "stream",
     "name": "stderr",
     "text": [
      "Epoch 23: 100%|██████████| 75/75 [00:03<00:00, 24.76it/s]\n"
     ]
    },
    {
     "output_type": "stream",
     "name": "stdout",
     "text": [
      "[023|01/05] ---> 0.2886219620704651\n",
      "=======================================\n",
      "correlation 0.28862196\n",
      "poisson_loss 1692460.9\n"
     ]
    },
    {
     "output_type": "stream",
     "name": "stderr",
     "text": [
      "Epoch 24: 100%|██████████| 75/75 [00:03<00:00, 24.67it/s]\n"
     ]
    },
    {
     "output_type": "stream",
     "name": "stdout",
     "text": [
      "[024|01/05] -/-> 0.28071242570877075\n",
      "=======================================\n",
      "correlation 0.28071243\n",
      "poisson_loss 1711751.9\n"
     ]
    },
    {
     "output_type": "stream",
     "name": "stderr",
     "text": [
      "Epoch 25: 100%|██████████| 75/75 [00:03<00:00, 24.67it/s]\n"
     ]
    },
    {
     "output_type": "stream",
     "name": "stdout",
     "text": [
      "[025|02/05] -/-> 0.28673169016838074\n",
      "=======================================\n",
      "correlation 0.2867317\n",
      "poisson_loss 1700509.0\n"
     ]
    },
    {
     "output_type": "stream",
     "name": "stderr",
     "text": [
      "Epoch 26: 100%|██████████| 75/75 [00:03<00:00, 24.77it/s]\n"
     ]
    },
    {
     "output_type": "stream",
     "name": "stdout",
     "text": [
      "[026|02/05] ---> 0.28893551230430603\n",
      "=======================================\n",
      "correlation 0.2889355\n",
      "poisson_loss 1693557.0\n"
     ]
    },
    {
     "output_type": "stream",
     "name": "stderr",
     "text": [
      "Epoch 27: 100%|██████████| 75/75 [00:03<00:00, 24.64it/s]\n"
     ]
    },
    {
     "output_type": "stream",
     "name": "stdout",
     "text": [
      "[027|01/05] -/-> 0.28601011633872986\n",
      "=======================================\n",
      "correlation 0.28601012\n",
      "poisson_loss 1698208.0\n"
     ]
    },
    {
     "output_type": "stream",
     "name": "stderr",
     "text": [
      "Epoch 28: 100%|██████████| 75/75 [00:03<00:00, 24.73it/s]\n"
     ]
    },
    {
     "output_type": "stream",
     "name": "stdout",
     "text": [
      "[028|01/05] ---> 0.28958719968795776\n",
      "=======================================\n",
      "correlation 0.2895872\n",
      "poisson_loss 1692636.0\n"
     ]
    },
    {
     "output_type": "stream",
     "name": "stderr",
     "text": [
      "Epoch 29: 100%|██████████| 75/75 [00:03<00:00, 24.54it/s]\n"
     ]
    },
    {
     "output_type": "stream",
     "name": "stdout",
     "text": [
      "[029|01/05] -/-> 0.28838568925857544\n",
      "=======================================\n",
      "correlation 0.2883857\n",
      "poisson_loss 1694810.4\n"
     ]
    },
    {
     "output_type": "stream",
     "name": "stderr",
     "text": [
      "Epoch 30: 100%|██████████| 75/75 [00:03<00:00, 24.57it/s]\n"
     ]
    },
    {
     "output_type": "stream",
     "name": "stdout",
     "text": [
      "[030|02/05] -/-> 0.28596487641334534\n",
      "=======================================\n",
      "correlation 0.28596488\n",
      "poisson_loss 1698947.9\n"
     ]
    },
    {
     "output_type": "stream",
     "name": "stderr",
     "text": [
      "Epoch 31: 100%|██████████| 75/75 [00:03<00:00, 24.46it/s]\n"
     ]
    },
    {
     "output_type": "stream",
     "name": "stdout",
     "text": [
      "[031|03/05] -/-> 0.28742775321006775\n",
      "=======================================\n",
      "correlation 0.28742775\n",
      "poisson_loss 1699829.5\n"
     ]
    },
    {
     "output_type": "stream",
     "name": "stderr",
     "text": [
      "Epoch 32: 100%|██████████| 75/75 [00:03<00:00, 24.57it/s]\n"
     ]
    },
    {
     "output_type": "stream",
     "name": "stdout",
     "text": [
      "[032|03/05] ---> 0.2918780744075775\n",
      "=======================================\n",
      "correlation 0.29187807\n",
      "poisson_loss 1687537.6\n"
     ]
    },
    {
     "output_type": "stream",
     "name": "stderr",
     "text": [
      "Epoch 33: 100%|██████████| 75/75 [00:03<00:00, 24.59it/s]\n"
     ]
    },
    {
     "output_type": "stream",
     "name": "stdout",
     "text": [
      "[033|01/05] -/-> 0.2894161641597748\n",
      "=======================================\n",
      "correlation 0.28941616\n",
      "poisson_loss 1691721.5\n"
     ]
    },
    {
     "output_type": "stream",
     "name": "stderr",
     "text": [
      "Epoch 34: 100%|██████████| 75/75 [00:03<00:00, 24.58it/s]\n"
     ]
    },
    {
     "output_type": "stream",
     "name": "stdout",
     "text": [
      "[034|02/05] -/-> 0.28705477714538574\n",
      "=======================================\n",
      "correlation 0.28705478\n",
      "poisson_loss 1693822.8\n"
     ]
    },
    {
     "output_type": "stream",
     "name": "stderr",
     "text": [
      "Epoch 35: 100%|██████████| 75/75 [00:03<00:00, 24.61it/s]\n"
     ]
    },
    {
     "output_type": "stream",
     "name": "stdout",
     "text": [
      "[035|03/05] -/-> 0.28763920068740845\n",
      "=======================================\n",
      "correlation 0.2876392\n",
      "poisson_loss 1697323.0\n"
     ]
    },
    {
     "output_type": "stream",
     "name": "stderr",
     "text": [
      "Epoch 36: 100%|██████████| 75/75 [00:03<00:00, 24.62it/s]\n"
     ]
    },
    {
     "output_type": "stream",
     "name": "stdout",
     "text": [
      "[036|04/05] -/-> 0.29025959968566895\n",
      "=======================================\n",
      "correlation 0.2902596\n",
      "poisson_loss 1694309.6\n"
     ]
    },
    {
     "output_type": "stream",
     "name": "stderr",
     "text": [
      "Epoch 37: 100%|██████████| 75/75 [00:03<00:00, 24.62it/s]\n"
     ]
    },
    {
     "output_type": "stream",
     "name": "stdout",
     "text": [
      "[037|05/05] -/-> 0.2860703468322754\n",
      "Restoring best model after lr decay! 0.286070 ---> 0.291878\n",
      "=======================================\n",
      "correlation 0.29187807\n",
      "poisson_loss 1687537.6\n"
     ]
    },
    {
     "output_type": "stream",
     "name": "stderr",
     "text": [
      "Epoch 38: 100%|██████████| 75/75 [00:03<00:00, 24.57it/s]\n"
     ]
    },
    {
     "output_type": "stream",
     "name": "stdout",
     "text": [
      "Epoch    38: reducing learning rate of group 0 to 1.5000e-03.\n",
      "[038|01/05] -/-> 0.2864190638065338\n",
      "=======================================\n",
      "correlation 0.28641906\n",
      "poisson_loss 1699188.4\n"
     ]
    },
    {
     "output_type": "stream",
     "name": "stderr",
     "text": [
      "Epoch 39: 100%|██████████| 75/75 [00:03<00:00, 24.28it/s]\n"
     ]
    },
    {
     "output_type": "stream",
     "name": "stdout",
     "text": [
      "[039|01/05] ---> 0.29661256074905396\n",
      "=======================================\n",
      "correlation 0.29661256\n",
      "poisson_loss 1677973.2\n"
     ]
    },
    {
     "output_type": "stream",
     "name": "stderr",
     "text": [
      "Epoch 40: 100%|██████████| 75/75 [00:03<00:00, 24.58it/s]\n"
     ]
    },
    {
     "output_type": "stream",
     "name": "stdout",
     "text": [
      "[040|01/05] -/-> 0.2954838275909424\n",
      "=======================================\n",
      "correlation 0.29548383\n",
      "poisson_loss 1679961.8\n"
     ]
    },
    {
     "output_type": "stream",
     "name": "stderr",
     "text": [
      "Epoch 41: 100%|██████████| 75/75 [00:03<00:00, 24.50it/s]\n"
     ]
    },
    {
     "output_type": "stream",
     "name": "stdout",
     "text": [
      "[041|02/05] -/-> 0.2956898808479309\n",
      "=======================================\n",
      "correlation 0.29568988\n",
      "poisson_loss 1680874.1\n"
     ]
    },
    {
     "output_type": "stream",
     "name": "stderr",
     "text": [
      "Epoch 42: 100%|██████████| 75/75 [00:03<00:00, 24.51it/s]\n"
     ]
    },
    {
     "output_type": "stream",
     "name": "stdout",
     "text": [
      "[042|03/05] -/-> 0.29176387190818787\n",
      "=======================================\n",
      "correlation 0.29176387\n",
      "poisson_loss 1694208.0\n"
     ]
    },
    {
     "output_type": "stream",
     "name": "stderr",
     "text": [
      "Epoch 43: 100%|██████████| 75/75 [00:03<00:00, 24.52it/s]\n"
     ]
    },
    {
     "output_type": "stream",
     "name": "stdout",
     "text": [
      "[043|04/05] -/-> 0.29101210832595825\n",
      "=======================================\n",
      "correlation 0.2910121\n",
      "poisson_loss 1692490.6\n"
     ]
    },
    {
     "output_type": "stream",
     "name": "stderr",
     "text": [
      "Epoch 44: 100%|██████████| 75/75 [00:03<00:00, 24.51it/s]\n"
     ]
    },
    {
     "output_type": "stream",
     "name": "stdout",
     "text": [
      "[044|05/05] -/-> 0.2914881408214569\n",
      "Restoring best model after lr decay! 0.291488 ---> 0.296613\n",
      "=======================================\n",
      "correlation 0.29661256\n",
      "poisson_loss 1677973.2\n"
     ]
    },
    {
     "output_type": "stream",
     "name": "stderr",
     "text": [
      "Epoch 45: 100%|██████████| 75/75 [00:03<00:00, 24.53it/s]\n"
     ]
    },
    {
     "output_type": "stream",
     "name": "stdout",
     "text": [
      "Epoch    45: reducing learning rate of group 0 to 4.5000e-04.\n",
      "[045|01/05] -/-> 0.295950710773468\n",
      "=======================================\n",
      "correlation 0.2959507\n",
      "poisson_loss 1680209.0\n"
     ]
    },
    {
     "output_type": "stream",
     "name": "stderr",
     "text": [
      "Epoch 46: 100%|██████████| 75/75 [00:03<00:00, 24.53it/s]\n"
     ]
    },
    {
     "output_type": "stream",
     "name": "stdout",
     "text": [
      "[046|01/05] ---> 0.29676511883735657\n",
      "=======================================\n",
      "correlation 0.29676512\n",
      "poisson_loss 1679979.0\n"
     ]
    },
    {
     "output_type": "stream",
     "name": "stderr",
     "text": [
      "Epoch 47: 100%|██████████| 75/75 [00:03<00:00, 24.51it/s]\n"
     ]
    },
    {
     "output_type": "stream",
     "name": "stdout",
     "text": [
      "[047|01/05] -/-> 0.29602012038230896\n",
      "=======================================\n",
      "correlation 0.29602012\n",
      "poisson_loss 1682869.2\n"
     ]
    },
    {
     "output_type": "stream",
     "name": "stderr",
     "text": [
      "Epoch 48: 100%|██████████| 75/75 [00:03<00:00, 24.49it/s]\n"
     ]
    },
    {
     "output_type": "stream",
     "name": "stdout",
     "text": [
      "[048|02/05] -/-> 0.29338088631629944\n",
      "=======================================\n",
      "correlation 0.2933809\n",
      "poisson_loss 1690477.6\n"
     ]
    },
    {
     "output_type": "stream",
     "name": "stderr",
     "text": [
      "Epoch 49: 100%|██████████| 75/75 [00:03<00:00, 24.51it/s]\n"
     ]
    },
    {
     "output_type": "stream",
     "name": "stdout",
     "text": [
      "[049|03/05] -/-> 0.29538264870643616\n",
      "=======================================\n",
      "correlation 0.29538265\n",
      "poisson_loss 1680648.0\n"
     ]
    },
    {
     "output_type": "stream",
     "name": "stderr",
     "text": [
      "Epoch 50: 100%|██████████| 75/75 [00:03<00:00, 24.49it/s]\n"
     ]
    },
    {
     "output_type": "stream",
     "name": "stdout",
     "text": [
      "[050|04/05] -/-> 0.2931114435195923\n",
      "=======================================\n",
      "correlation 0.29311144\n",
      "poisson_loss 1687856.5\n"
     ]
    },
    {
     "output_type": "stream",
     "name": "stderr",
     "text": [
      "Epoch 51: 100%|██████████| 75/75 [00:03<00:00, 24.50it/s]\n"
     ]
    },
    {
     "output_type": "stream",
     "name": "stdout",
     "text": [
      "[051|05/05] -/-> 0.29385605454444885\n",
      "Restoring best model after lr decay! 0.293856 ---> 0.296765\n",
      "Restoring best model! 0.296765 ---> 0.296765\n"
     ]
    }
   ],
   "metadata": {}
  },
  {
   "cell_type": "markdown",
   "source": [
    "As usual, let's take a look at the testset performance."
   ],
   "metadata": {}
  },
  {
   "cell_type": "code",
   "execution_count": 194,
   "source": [
    "# compute correlation on test set\n",
    "sota_cnn_test_correlations = measures.get_correlations(\n",
    "    sota_cnn_model, dataloaders[\"test\"], device=\"cuda\", per_neuron=True\n",
    ")\n",
    "\n",
    "fig, ax = plt.subplots(1, 1, dpi=150)\n",
    "n, bins, _ = ax.hist(sota_cnn_test_correlations, bins=100, color='k')\n",
    "mean_corr = np.mean(sota_cnn_test_correlations)\n",
    "ax.axvline(mean_corr, color=\"r\")\n",
    "ax.text(\n",
    "    x=mean_corr + 0.01,\n",
    "    y=np.max(n),\n",
    "    s=\"mean = {:.3f}\".format(mean_corr),\n",
    ")\n",
    "ax.set_title('Testset correlation of SOTA CNN model')\n",
    "ax.set_xlabel('Correlation')\n",
    "sns.despine()"
   ],
   "outputs": [
    {
     "output_type": "display_data",
     "data": {
      "text/plain": [
       "<Figure size 900x600 with 1 Axes>"
      ],
      "image/png": "[encoded data removed]"
     },
     "metadata": {
      "needs_background": "light"
     }
    }
   ],
   "metadata": {}
  },
  {
   "cell_type": "markdown",
   "source": [
    "It turns out that we can have *linearized* version of the SOTA model. This effectively removes all nonlinear operations within the network except for the very last nonlinear activation, rendering the network into a **LN model** but with more complex architecture."
   ],
   "metadata": {}
  },
  {
   "cell_type": "code",
   "execution_count": 7,
   "source": [
    "linear_model_config = dict(model_config) # copy the config\n",
    "linear_model_config['linear'] = True # set linear to True to make it a LN model!\n",
    "\n",
    "sota_ln_model = build_lurz2020_model(**linear_model_config, dataloaders=dataloaders, seed=1234)"
   ],
   "outputs": [],
   "metadata": {}
  },
  {
   "cell_type": "code",
   "execution_count": 8,
   "source": [
    "score, output, model_state = train_model(model=sota_ln_model, dataloader=dataloaders)"
   ],
   "outputs": [
    {
     "output_type": "stream",
     "name": "stdout",
     "text": [
      "=======================================\n",
      "correlation 0.0003725943\n",
      "poisson_loss 3467901.0\n"
     ]
    },
    {
     "output_type": "stream",
     "name": "stderr",
     "text": [
      "Epoch 1: 100%|██████████| 75/75 [00:05<00:00, 14.08it/s]\n"
     ]
    },
    {
     "output_type": "stream",
     "name": "stdout",
     "text": [
      "[001|00/05] ---> 0.03264817222952843\n",
      "=======================================\n",
      "correlation 0.032648172\n",
      "poisson_loss 1995768.0\n"
     ]
    },
    {
     "output_type": "stream",
     "name": "stderr",
     "text": [
      "Epoch 2: 100%|██████████| 75/75 [00:02<00:00, 25.52it/s]\n"
     ]
    },
    {
     "output_type": "stream",
     "name": "stdout",
     "text": [
      "[002|00/05] ---> 0.07385799288749695\n",
      "=======================================\n",
      "correlation 0.07385799\n",
      "poisson_loss 1920868.8\n"
     ]
    },
    {
     "output_type": "stream",
     "name": "stderr",
     "text": [
      "Epoch 3: 100%|██████████| 75/75 [00:02<00:00, 25.61it/s]\n"
     ]
    },
    {
     "output_type": "stream",
     "name": "stdout",
     "text": [
      "[003|00/05] ---> 0.10280311852693558\n",
      "=======================================\n",
      "correlation 0.10280312\n",
      "poisson_loss 1890175.0\n"
     ]
    },
    {
     "output_type": "stream",
     "name": "stderr",
     "text": [
      "Epoch 4: 100%|██████████| 75/75 [00:02<00:00, 25.53it/s]\n"
     ]
    },
    {
     "output_type": "stream",
     "name": "stdout",
     "text": [
      "[004|00/05] ---> 0.119008369743824\n",
      "=======================================\n",
      "correlation 0.11900837\n",
      "poisson_loss 1881780.0\n"
     ]
    },
    {
     "output_type": "stream",
     "name": "stderr",
     "text": [
      "Epoch 5: 100%|██████████| 75/75 [00:02<00:00, 25.48it/s]\n"
     ]
    },
    {
     "output_type": "stream",
     "name": "stdout",
     "text": [
      "[005|00/05] ---> 0.13928116858005524\n",
      "=======================================\n",
      "correlation 0.13928117\n",
      "poisson_loss 1867511.8\n"
     ]
    },
    {
     "output_type": "stream",
     "name": "stderr",
     "text": [
      "Epoch 6: 100%|██████████| 75/75 [00:02<00:00, 25.50it/s]\n"
     ]
    },
    {
     "output_type": "stream",
     "name": "stdout",
     "text": [
      "[006|00/05] ---> 0.155312180519104\n",
      "=======================================\n",
      "correlation 0.15531218\n",
      "poisson_loss 1849152.9\n"
     ]
    },
    {
     "output_type": "stream",
     "name": "stderr",
     "text": [
      "Epoch 7: 100%|██████████| 75/75 [00:02<00:00, 25.44it/s]\n"
     ]
    },
    {
     "output_type": "stream",
     "name": "stdout",
     "text": [
      "[007|00/05] ---> 0.16527961194515228\n",
      "=======================================\n",
      "correlation 0.16527961\n",
      "poisson_loss 1843706.0\n"
     ]
    },
    {
     "output_type": "stream",
     "name": "stderr",
     "text": [
      "Epoch 8: 100%|██████████| 75/75 [00:02<00:00, 25.38it/s]\n"
     ]
    },
    {
     "output_type": "stream",
     "name": "stdout",
     "text": [
      "[008|00/05] ---> 0.17541857063770294\n",
      "=======================================\n",
      "correlation 0.17541857\n",
      "poisson_loss 1828310.5\n"
     ]
    },
    {
     "output_type": "stream",
     "name": "stderr",
     "text": [
      "Epoch 9: 100%|██████████| 75/75 [00:02<00:00, 25.32it/s]\n"
     ]
    },
    {
     "output_type": "stream",
     "name": "stdout",
     "text": [
      "[009|00/05] ---> 0.18246866762638092\n",
      "=======================================\n",
      "correlation 0.18246867\n",
      "poisson_loss 1821006.2\n"
     ]
    },
    {
     "output_type": "stream",
     "name": "stderr",
     "text": [
      "Epoch 10: 100%|██████████| 75/75 [00:02<00:00, 25.38it/s]\n"
     ]
    },
    {
     "output_type": "stream",
     "name": "stdout",
     "text": [
      "[010|00/05] ---> 0.19085784256458282\n",
      "=======================================\n",
      "correlation 0.19085784\n",
      "poisson_loss 1813584.0\n"
     ]
    },
    {
     "output_type": "stream",
     "name": "stderr",
     "text": [
      "Epoch 11: 100%|██████████| 75/75 [00:02<00:00, 25.33it/s]\n"
     ]
    },
    {
     "output_type": "stream",
     "name": "stdout",
     "text": [
      "[011|00/05] ---> 0.196898952126503\n",
      "=======================================\n",
      "correlation 0.19689895\n",
      "poisson_loss 1808833.2\n"
     ]
    },
    {
     "output_type": "stream",
     "name": "stderr",
     "text": [
      "Epoch 12: 100%|██████████| 75/75 [00:02<00:00, 25.27it/s]\n"
     ]
    },
    {
     "output_type": "stream",
     "name": "stdout",
     "text": [
      "[012|00/05] ---> 0.19789183139801025\n",
      "=======================================\n",
      "correlation 0.19789183\n",
      "poisson_loss 1812027.8\n"
     ]
    },
    {
     "output_type": "stream",
     "name": "stderr",
     "text": [
      "Epoch 13: 100%|██████████| 75/75 [00:02<00:00, 25.22it/s]\n"
     ]
    },
    {
     "output_type": "stream",
     "name": "stdout",
     "text": [
      "[013|00/05] ---> 0.2013990432024002\n",
      "=======================================\n",
      "correlation 0.20139904\n",
      "poisson_loss 1801582.5\n"
     ]
    },
    {
     "output_type": "stream",
     "name": "stderr",
     "text": [
      "Epoch 14: 100%|██████████| 75/75 [00:02<00:00, 25.26it/s]\n"
     ]
    },
    {
     "output_type": "stream",
     "name": "stdout",
     "text": [
      "[014|01/05] -/-> 0.1987954080104828\n",
      "=======================================\n",
      "correlation 0.19879541\n",
      "poisson_loss 1811106.0\n"
     ]
    },
    {
     "output_type": "stream",
     "name": "stderr",
     "text": [
      "Epoch 15: 100%|██████████| 75/75 [00:02<00:00, 25.29it/s]\n"
     ]
    },
    {
     "output_type": "stream",
     "name": "stdout",
     "text": [
      "[015|01/05] ---> 0.20188070833683014\n",
      "=======================================\n",
      "correlation 0.20188071\n",
      "poisson_loss 1802814.2\n"
     ]
    },
    {
     "output_type": "stream",
     "name": "stderr",
     "text": [
      "Epoch 16: 100%|██████████| 75/75 [00:02<00:00, 25.24it/s]\n"
     ]
    },
    {
     "output_type": "stream",
     "name": "stdout",
     "text": [
      "[016|00/05] ---> 0.20617102086544037\n",
      "=======================================\n",
      "correlation 0.20617102\n",
      "poisson_loss 1800652.8\n"
     ]
    },
    {
     "output_type": "stream",
     "name": "stderr",
     "text": [
      "Epoch 17: 100%|██████████| 75/75 [00:02<00:00, 25.23it/s]\n"
     ]
    },
    {
     "output_type": "stream",
     "name": "stdout",
     "text": [
      "[017|01/05] -/-> 0.2059662789106369\n",
      "=======================================\n",
      "correlation 0.20596628\n",
      "poisson_loss 1797902.5\n"
     ]
    },
    {
     "output_type": "stream",
     "name": "stderr",
     "text": [
      "Epoch 18: 100%|██████████| 75/75 [00:03<00:00, 24.95it/s]\n"
     ]
    },
    {
     "output_type": "stream",
     "name": "stdout",
     "text": [
      "[018|01/05] ---> 0.20806053280830383\n",
      "=======================================\n",
      "correlation 0.20806053\n",
      "poisson_loss 1794937.1\n"
     ]
    },
    {
     "output_type": "stream",
     "name": "stderr",
     "text": [
      "Epoch 19: 100%|██████████| 75/75 [00:02<00:00, 25.21it/s]\n"
     ]
    },
    {
     "output_type": "stream",
     "name": "stdout",
     "text": [
      "[019|01/05] -/-> 0.20631732046604156\n",
      "=======================================\n",
      "correlation 0.20631732\n",
      "poisson_loss 1798377.9\n"
     ]
    },
    {
     "output_type": "stream",
     "name": "stderr",
     "text": [
      "Epoch 20: 100%|██████████| 75/75 [00:02<00:00, 25.12it/s]\n"
     ]
    },
    {
     "output_type": "stream",
     "name": "stdout",
     "text": [
      "[020|02/05] -/-> 0.20738708972930908\n",
      "=======================================\n",
      "correlation 0.20738709\n",
      "poisson_loss 1795764.0\n"
     ]
    },
    {
     "output_type": "stream",
     "name": "stderr",
     "text": [
      "Epoch 21: 100%|██████████| 75/75 [00:02<00:00, 25.16it/s]\n"
     ]
    },
    {
     "output_type": "stream",
     "name": "stdout",
     "text": [
      "[021|02/05] ---> 0.21108558773994446\n",
      "=======================================\n",
      "correlation 0.21108559\n",
      "poisson_loss 1793347.9\n"
     ]
    },
    {
     "output_type": "stream",
     "name": "stderr",
     "text": [
      "Epoch 22: 100%|██████████| 75/75 [00:02<00:00, 25.02it/s]\n"
     ]
    },
    {
     "output_type": "stream",
     "name": "stdout",
     "text": [
      "[022|01/05] -/-> 0.20856666564941406\n",
      "=======================================\n",
      "correlation 0.20856667\n",
      "poisson_loss 1797049.5\n"
     ]
    },
    {
     "output_type": "stream",
     "name": "stderr",
     "text": [
      "Epoch 23: 100%|██████████| 75/75 [00:03<00:00, 24.99it/s]\n"
     ]
    },
    {
     "output_type": "stream",
     "name": "stdout",
     "text": [
      "[023|02/05] -/-> 0.20851819217205048\n",
      "=======================================\n",
      "correlation 0.20851819\n",
      "poisson_loss 1796151.5\n"
     ]
    },
    {
     "output_type": "stream",
     "name": "stderr",
     "text": [
      "Epoch 24: 100%|██████████| 75/75 [00:02<00:00, 25.04it/s]\n"
     ]
    },
    {
     "output_type": "stream",
     "name": "stdout",
     "text": [
      "[024|03/05] -/-> 0.20422649383544922\n",
      "=======================================\n",
      "correlation 0.2042265\n",
      "poisson_loss 1799048.5\n"
     ]
    },
    {
     "output_type": "stream",
     "name": "stderr",
     "text": [
      "Epoch 25: 100%|██████████| 75/75 [00:02<00:00, 25.08it/s]\n"
     ]
    },
    {
     "output_type": "stream",
     "name": "stdout",
     "text": [
      "[025|03/05] ---> 0.21223492920398712\n",
      "=======================================\n",
      "correlation 0.21223493\n",
      "poisson_loss 1790819.4\n"
     ]
    },
    {
     "output_type": "stream",
     "name": "stderr",
     "text": [
      "Epoch 26: 100%|██████████| 75/75 [00:02<00:00, 25.09it/s]\n"
     ]
    },
    {
     "output_type": "stream",
     "name": "stdout",
     "text": [
      "[026|01/05] -/-> 0.2060323804616928\n",
      "=======================================\n",
      "correlation 0.20603238\n",
      "poisson_loss 1797437.2\n"
     ]
    },
    {
     "output_type": "stream",
     "name": "stderr",
     "text": [
      "Epoch 27: 100%|██████████| 75/75 [00:02<00:00, 25.03it/s]\n"
     ]
    },
    {
     "output_type": "stream",
     "name": "stdout",
     "text": [
      "[027|02/05] -/-> 0.20969833433628082\n",
      "=======================================\n",
      "correlation 0.20969833\n",
      "poisson_loss 1792595.6\n"
     ]
    },
    {
     "output_type": "stream",
     "name": "stderr",
     "text": [
      "Epoch 28: 100%|██████████| 75/75 [00:02<00:00, 25.03it/s]\n"
     ]
    },
    {
     "output_type": "stream",
     "name": "stdout",
     "text": [
      "[028|03/05] -/-> 0.20987549424171448\n",
      "=======================================\n",
      "correlation 0.2098755\n",
      "poisson_loss 1792965.8\n"
     ]
    },
    {
     "output_type": "stream",
     "name": "stderr",
     "text": [
      "Epoch 29: 100%|██████████| 75/75 [00:02<00:00, 25.03it/s]\n"
     ]
    },
    {
     "output_type": "stream",
     "name": "stdout",
     "text": [
      "[029|04/05] -/-> 0.2119886577129364\n",
      "=======================================\n",
      "correlation 0.21198866\n",
      "poisson_loss 1793984.2\n"
     ]
    },
    {
     "output_type": "stream",
     "name": "stderr",
     "text": [
      "Epoch 30: 100%|██████████| 75/75 [00:02<00:00, 25.05it/s]\n"
     ]
    },
    {
     "output_type": "stream",
     "name": "stdout",
     "text": [
      "[030|05/05] -/-> 0.2065286934375763\n",
      "Restoring best model after lr decay! 0.206529 ---> 0.212235\n",
      "=======================================\n",
      "correlation 0.21223493\n",
      "poisson_loss 1790819.4\n"
     ]
    },
    {
     "output_type": "stream",
     "name": "stderr",
     "text": [
      "Epoch 31: 100%|██████████| 75/75 [00:02<00:00, 25.05it/s]\n"
     ]
    },
    {
     "output_type": "stream",
     "name": "stdout",
     "text": [
      "Epoch    31: reducing learning rate of group 0 to 1.5000e-03.\n",
      "[031|01/05] -/-> 0.2080124169588089\n",
      "=======================================\n",
      "correlation 0.20801242\n",
      "poisson_loss 1799330.2\n"
     ]
    },
    {
     "output_type": "stream",
     "name": "stderr",
     "text": [
      "Epoch 32: 100%|██████████| 75/75 [00:03<00:00, 25.00it/s]\n"
     ]
    },
    {
     "output_type": "stream",
     "name": "stdout",
     "text": [
      "[032|01/05] ---> 0.21621014177799225\n",
      "=======================================\n",
      "correlation 0.21621014\n",
      "poisson_loss 1784467.4\n"
     ]
    },
    {
     "output_type": "stream",
     "name": "stderr",
     "text": [
      "Epoch 33: 100%|██████████| 75/75 [00:03<00:00, 24.90it/s]\n"
     ]
    },
    {
     "output_type": "stream",
     "name": "stdout",
     "text": [
      "[033|01/05] -/-> 0.21508656442165375\n",
      "=======================================\n",
      "correlation 0.21508656\n",
      "poisson_loss 1782818.0\n"
     ]
    },
    {
     "output_type": "stream",
     "name": "stderr",
     "text": [
      "Epoch 34: 100%|██████████| 75/75 [00:03<00:00, 24.90it/s]\n"
     ]
    },
    {
     "output_type": "stream",
     "name": "stdout",
     "text": [
      "[034|02/05] -/-> 0.21568970382213593\n",
      "=======================================\n",
      "correlation 0.2156897\n",
      "poisson_loss 1784149.5\n"
     ]
    },
    {
     "output_type": "stream",
     "name": "stderr",
     "text": [
      "Epoch 35: 100%|██████████| 75/75 [00:03<00:00, 24.87it/s]\n"
     ]
    },
    {
     "output_type": "stream",
     "name": "stdout",
     "text": [
      "[035|03/05] -/-> 0.21554909646511078\n",
      "=======================================\n",
      "correlation 0.2155491\n",
      "poisson_loss 1782804.8\n"
     ]
    },
    {
     "output_type": "stream",
     "name": "stderr",
     "text": [
      "Epoch 36: 100%|██████████| 75/75 [00:03<00:00, 24.97it/s]\n"
     ]
    },
    {
     "output_type": "stream",
     "name": "stdout",
     "text": [
      "[036|04/05] -/-> 0.2138994038105011\n",
      "=======================================\n",
      "correlation 0.2138994\n",
      "poisson_loss 1784304.8\n"
     ]
    },
    {
     "output_type": "stream",
     "name": "stderr",
     "text": [
      "Epoch 37: 100%|██████████| 75/75 [00:03<00:00, 24.85it/s]\n"
     ]
    },
    {
     "output_type": "stream",
     "name": "stdout",
     "text": [
      "[037|05/05] -/-> 0.21570609509944916\n",
      "Restoring best model after lr decay! 0.215706 ---> 0.216210\n",
      "=======================================\n",
      "correlation 0.21621014\n",
      "poisson_loss 1784467.4\n"
     ]
    },
    {
     "output_type": "stream",
     "name": "stderr",
     "text": [
      "Epoch 38: 100%|██████████| 75/75 [00:03<00:00, 24.90it/s]\n"
     ]
    },
    {
     "output_type": "stream",
     "name": "stdout",
     "text": [
      "Epoch    38: reducing learning rate of group 0 to 4.5000e-04.\n",
      "[038|01/05] -/-> 0.21482974290847778\n",
      "=======================================\n",
      "correlation 0.21482974\n",
      "poisson_loss 1784736.0\n"
     ]
    },
    {
     "output_type": "stream",
     "name": "stderr",
     "text": [
      "Epoch 39: 100%|██████████| 75/75 [00:03<00:00, 24.96it/s]\n"
     ]
    },
    {
     "output_type": "stream",
     "name": "stdout",
     "text": [
      "[039|02/05] -/-> 0.21620075404644012\n",
      "=======================================\n",
      "correlation 0.21620075\n",
      "poisson_loss 1780881.6\n"
     ]
    },
    {
     "output_type": "stream",
     "name": "stderr",
     "text": [
      "Epoch 40: 100%|██████████| 75/75 [00:03<00:00, 24.97it/s]\n"
     ]
    },
    {
     "output_type": "stream",
     "name": "stdout",
     "text": [
      "[040|02/05] ---> 0.21641814708709717\n",
      "=======================================\n",
      "correlation 0.21641815\n",
      "poisson_loss 1782926.5\n"
     ]
    },
    {
     "output_type": "stream",
     "name": "stderr",
     "text": [
      "Epoch 41: 100%|██████████| 75/75 [00:03<00:00, 24.46it/s]\n"
     ]
    },
    {
     "output_type": "stream",
     "name": "stdout",
     "text": [
      "[041|01/05] -/-> 0.21474385261535645\n",
      "=======================================\n",
      "correlation 0.21474385\n",
      "poisson_loss 1782494.2\n"
     ]
    },
    {
     "output_type": "stream",
     "name": "stderr",
     "text": [
      "Epoch 42: 100%|██████████| 75/75 [00:03<00:00, 24.81it/s]\n"
     ]
    },
    {
     "output_type": "stream",
     "name": "stdout",
     "text": [
      "[042|02/05] -/-> 0.21550948917865753\n",
      "=======================================\n",
      "correlation 0.21550949\n",
      "poisson_loss 1781389.0\n"
     ]
    },
    {
     "output_type": "stream",
     "name": "stderr",
     "text": [
      "Epoch 43: 100%|██████████| 75/75 [00:03<00:00, 24.93it/s]\n"
     ]
    },
    {
     "output_type": "stream",
     "name": "stdout",
     "text": [
      "[043|03/05] -/-> 0.21515703201293945\n",
      "=======================================\n",
      "correlation 0.21515703\n",
      "poisson_loss 1782010.9\n"
     ]
    },
    {
     "output_type": "stream",
     "name": "stderr",
     "text": [
      "Epoch 44: 100%|██████████| 75/75 [00:03<00:00, 24.59it/s]\n"
     ]
    },
    {
     "output_type": "stream",
     "name": "stdout",
     "text": [
      "[044|04/05] -/-> 0.216171532869339\n",
      "=======================================\n",
      "correlation 0.21617153\n",
      "poisson_loss 1781607.1\n"
     ]
    },
    {
     "output_type": "stream",
     "name": "stderr",
     "text": [
      "Epoch 45: 100%|██████████| 75/75 [00:03<00:00, 24.99it/s]\n"
     ]
    },
    {
     "output_type": "stream",
     "name": "stdout",
     "text": [
      "[045|05/05] -/-> 0.2159837931394577\n",
      "Restoring best model after lr decay! 0.215984 ---> 0.216418\n",
      "Restoring best model! 0.216418 ---> 0.216418\n"
     ]
    }
   ],
   "metadata": {}
  },
  {
   "cell_type": "code",
   "execution_count": 198,
   "source": [
    "# compute correlation on test set\n",
    "sota_ln_test_correlations = measures.get_correlations(\n",
    "    sota_ln_model, dataloaders[\"test\"], device=\"cuda\", per_neuron=True\n",
    ")\n",
    "\n",
    "fig, ax = plt.subplots(1, 1, dpi=150)\n",
    "n, bins, _ = ax.hist(sota_ln_test_correlations, bins=100, color='k')\n",
    "mean_corr = np.mean(sota_ln_test_correlations)\n",
    "ax.axvline(mean_corr, color=\"r\")\n",
    "ax.text(\n",
    "    x=mean_corr + 0.01,\n",
    "    y=np.max(n),\n",
    "    s=\"mean = {:.3f}\".format(mean_corr),\n",
    ")\n",
    "ax.set_title('Testset correlation of SOTA LN model')\n",
    "ax.set_xlabel('Correlation')\n",
    "sns.despine()"
   ],
   "outputs": [
    {
     "output_type": "display_data",
     "data": {
      "text/plain": [
       "<Figure size 900x600 with 1 Axes>"
      ],
      "image/png": "[encoded data removed]"
     },
     "metadata": {
      "needs_background": "light"
     }
    }
   ],
   "metadata": {}
  },
  {
   "cell_type": "markdown",
   "source": [
    "Interestingly, you can see that compared to our simple LN model, the SOTA LN model actually attains much better performance. This, among other things, reflects the **ease of training** the CNN based network compared to our *fully-connected* simple linear model. Despite the architectural complexity of the SOTA LN model, it is still a LN model as was described mathematically as:\n",
    "\n",
    "$$\n",
    "\\mathbf{r} = a(\\mathbf{W} x + \\mathbf{b})\n",
    "$$"
   ],
   "metadata": {}
  },
  {
   "cell_type": "markdown",
   "source": [
    "### Compare model performance between SOTA CNN and SOTA LN model"
   ],
   "metadata": {}
  },
  {
   "cell_type": "markdown",
   "source": [
    "Just as before, let's compare the performanc of SOTA CNN vs SOTA LN."
   ],
   "metadata": {}
  },
  {
   "cell_type": "code",
   "execution_count": 200,
   "source": [
    "# compare model performance\n",
    "fig, ax = plt.subplots(1, 1, dpi=150)\n",
    "ax.scatter(sota_ln_test_correlations, sota_cnn_test_correlations, color=\"k\", s=1)\n",
    "ax.set_xlabel('SOTA LN correlation')\n",
    "ax.set_ylabel('SOTA CNN correlation')\n",
    "ax.set_title('SOTA LN vs CNN model performance comparison')\n",
    "ax.plot([0, 1], [0, 1], color='r')\n",
    "ax.axis('square')\n",
    "sns.despine()"
   ],
   "outputs": [
    {
     "output_type": "display_data",
     "data": {
      "text/plain": [
       "<Figure size 900x600 with 1 Axes>"
      ],
      "image/png": "[encoded data removed]"
     },
     "metadata": {
      "needs_background": "light"
     }
    }
   ],
   "metadata": {}
  },
  {
   "cell_type": "markdown",
   "source": [
    "We can see that SOTA CNN model still performans better than the SOTA LN model across most of the neurons."
   ],
   "metadata": {}
  },
  {
   "cell_type": "markdown",
   "source": [
    "# Analyzing the trained models to gain insights into the brain"
   ],
   "metadata": {}
  },
  {
   "cell_type": "markdown",
   "source": [
    "Now that we have trained some models successfully with decent predictive performances, you might be wondering what can we do with these models?\n",
    "\n",
    "Ideally, we could use these models to gain insights into the modeled neurons, and even potentially derive new predictions that can then be tested with new set of experiments.\n",
    "\n",
    "Let's first analyze the **gradient receptive field (RF)** of the modeled neurons to get a rough sense of what is it that each neuron is *looking for* in the image when they respond."
   ],
   "metadata": {}
  },
  {
   "cell_type": "markdown",
   "source": [
    "## Gradient Receptive Fields (RF)"
   ],
   "metadata": {}
  },
  {
   "cell_type": "markdown",
   "source": [
    "Let's consider our simple linear-nonlinear (LN) model. Recall from above that for each neuron, the response of the model to an image $x$ can be captured as follows:\n",
    "\n",
    "$$\n",
    "r = a(\\mathbf{w}^\\top x + b)\n",
    "$$\n",
    "\n",
    "and I already mentioned that the $\\mathbf{w}$ can be thought of as a image filter that selects out pixels that the neuron cares about. This filter is typically referred to as the **receptive field** of the (LN) neuron.\n",
    "\n",
    "It can actually be seen that we can **compute** the receptive field $\\mathbf{w}$ by simply taking the **gradient of the response with respect to the input image**:\n",
    "\n",
    "$$\n",
    "\\nabla_x r = a^\\prime(\\mathbf{w}^\\top x + b) \\cdot \\mathbf{w}\n",
    "$$\n",
    "\n",
    "You could see that $a^\\prime(\\mathbf{w}^\\top x + b)$ is still a scalar function that will evalute to some scalar value, and therefore,\n",
    "\n",
    "$$\n",
    "\\nabla_x r \\propto \\mathbf{w}\n",
    "$$\n",
    "\n",
    "Therefore, you can compute the gradient of the model with respect to the input image to get the receptive field $\\mathbf{w}$ up to some scalar constant. This method of obtaining the receptive field is commonly referred to as the **gradient receptive field (RF)**.\n",
    "\n",
    "Note that for LN model, gradient RF correctly approximates the weight $\\mathbf{w}$. However when this is applied to more highly nonlinear models like CNNs, the gradient RF can be thought of as giving a locally linear approximation to the CNN model, and still provide some rough insight into what is it that each neuron is looking for when they respond to an image."
   ],
   "metadata": {}
  },
  {
   "cell_type": "markdown",
   "source": [
    "Let's now go ahead and compute the gradient RF for our models. We will make use of the PyTorch automatic differentiation system to easily compute the gradient with respect to the image."
   ],
   "metadata": {}
  },
  {
   "cell_type": "markdown",
   "source": [
    "**DETAILS**: For LN model, it actually doesn't matter too much *where* you compute the gradient at (that is, what value of input image $x$ you will feed in). However the where can matter quite a bit more when evaluting grad RF for highly nonlinear models such as our CNN model. For this reason, we are going to feed in an *average image* which will be a gray image with intensity set to the average value across all images in the training set. This value has been precomputed and provided as part of the `dataset` that underlies our data loaders."
   ],
   "metadata": {}
  },
  {
   "cell_type": "markdown",
   "source": [
    "Let us define a function that, when given a model, neuron index, and the image at which point you want to evaluate the gradient, returns the gradient RF."
   ],
   "metadata": {}
  },
  {
   "cell_type": "code",
   "execution_count": 15,
   "source": [
    "def generate_grad_rf(model, neuron_idx, input_image):\n",
    "    assert input_image.ndim == 2\n",
    "    # prepare input image with requires_grad = True so that gradient will be computed\n",
    "    x = torch.tensor(\n",
    "        input_image.copy()[None, None, ...],\n",
    "        dtype=torch.float,\n",
    "        device=\"cuda\",\n",
    "        requires_grad=True,\n",
    "    )\n",
    "    # be sure to put the model on eval mode\n",
    "    model.eval()\n",
    "    # get the response of the target neuron\n",
    "    model_activation = model(x)[:, neuron_idx]\n",
    "    # compute gradient with respect to the input\n",
    "    model_activation.backward()\n",
    "    \n",
    "    # prepare the gradient RF\n",
    "    grad_rf = x.grad.data.cpu().numpy().squeeze()\n",
    "    return grad_rf"
   ],
   "outputs": [],
   "metadata": {}
  },
  {
   "cell_type": "code",
   "execution_count": 16,
   "source": [
    "# choose input mean as starting point\n",
    "input_mean = dataset.statistics.images.all.mean\n",
    "input_std = dataset.statistics.images.all.std"
   ],
   "outputs": [],
   "metadata": {}
  },
  {
   "cell_type": "markdown",
   "source": [
    "Let's go ahead and genearte and visualize the grad RF for both our SOTA CNN and SOTA LN models."
   ],
   "metadata": {}
  },
  {
   "cell_type": "code",
   "execution_count": 17,
   "source": [
    "# select neuron to compute RFs\n",
    "neuron_idx = 1"
   ],
   "outputs": [],
   "metadata": {}
  },
  {
   "cell_type": "code",
   "execution_count": 18,
   "source": [
    "# generate a gradient receptive field from the sota_model and the sota_ln_model\n",
    "input_image = np.zeros((36, 64)) + input_mean\n",
    "\n",
    "grad_rf_sota_cnn = generate_grad_rf(\n",
    "    sota_cnn_model, neuron_idx=neuron_idx, input_image=input_image\n",
    ")\n",
    "grad_rf_sota_ln = generate_grad_rf(\n",
    "    sota_ln_model, neuron_idx=neuron_idx, input_image=input_image\n",
    ")\n",
    "\n",
    "# visualize the two gradient RFs side by side\n",
    "fig, axes = plt.subplots(nrows=1, ncols=2, figsize=(10, 5), dpi=150)\n",
    "\n",
    "scale = np.max([np.max(np.abs(img)) for img in [grad_rf_sota_cnn, grad_rf_sota_ln]])\n",
    "\n",
    "axes[0].imshow(grad_rf_sota_cnn, cmap=\"gray\")\n",
    "axes[0].set_title(\"SOTA CNN model\")\n",
    "axes[0].axis(\"off\")\n",
    "\n",
    "axes[1].imshow(grad_rf_sota_ln, cmap=\"gray\")\n",
    "axes[1].set_title(\"SOTA LN model\")\n",
    "axes[1].axis(\"off\")\n",
    "\n",
    "fig.suptitle(\"Gradient receptive fields\", y=0.8)"
   ],
   "outputs": [
    {
     "output_type": "execute_result",
     "data": {
      "text/plain": [
       "Text(0.5, 0.8, 'Gradient receptive fields')"
      ]
     },
     "metadata": {},
     "execution_count": 18
    },
    {
     "output_type": "display_data",
     "data": {
      "text/plain": [
       "<Figure size 1500x750 with 2 Axes>"
      ],
      "image/png": "[encoded data removed]",
      "image/svg+xml": "<?xml version=\"1.0\" encoding=\"utf-8\" standalone=\"no\"?>\n<!DOCTYPE svg PUBLIC \"-//W3C//DTD SVG 1.1//EN\"\n  \"http://www.w3.org/Graphics/SVG/1.1/DTD/svg11.dtd\">\n<!-- Created with matplotlib (https://matplotlib.org/) -->\n<svg height=\"192.835227pt\" version=\"1.1\" viewBox=\"0 0 572.4 192.835227\" width=\"572.4pt\" xmlns=\"http://www.w3.org/2000/svg\" xmlns:xlink=\"http://www.w3.org/1999/xlink\">\n <metadata>\n  <rdf:RDF xmlns:cc=\"http://creativecommons.org/ns#\" xmlns:dc=\"http://purl.org/dc/elements/1.1/\" xmlns:rdf=\"http://www.w3.org/1999/02/22-rdf-syntax-ns#\">\n   <cc:Work>\n    <dc:type rdf:resource=\"http://purl.org/dc/dcmitype/StillImage\"/>\n    <dc:date>2021-07-28T06:30:16.447638</dc:date>\n    <dc:format>image/svg+xml</dc:format>\n    <dc:creator>\n     <cc:Agent>\n      <dc:title>Matplotlib v3.3.2, https://matplotlib.org/</dc:title>\n     </cc:Agent>\n    </dc:creator>\n   </cc:Work>\n  </rdf:RDF>\n </metadata>\n <defs>\n  <style type=\"text/css\">*{stroke-linecap:butt;stroke-linejoin:round;}</style>\n </defs>\n <g id=\"figure_1\">\n  <g id=\"patch_1\">\n   <path d=\"M 0 192.835227 \nL 572.4 192.835227 \nL 572.4 -0 \nL 0 -0 \nz\n\" style=\"fill:none;\"/>\n  </g>\n  <g id=\"axes_1\">\n   <g clip-path=\"url(#pc35cb9baa2)\">\n    <image height=\"143.04\" id=\"image66c02df63a\" transform=\"scale(1 -1)translate(0 -143.04)\" width=\"253.92\" x=\"7.2\" xlink:href=\"data:image/png;base64,\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\" y=\"-42.595227\"/>\n   </g>\n   <g id=\"text_1\">\n    <!-- SOTA CNN model -->\n    <g transform=\"translate(82.517557 36.964773)scale(0.12 -0.12)\">\n     <defs>\n      <path d=\"M 53.515625 70.515625 \nL 53.515625 60.890625 \nQ 47.90625 63.578125 42.921875 64.890625 \nQ 37.9375 66.21875 33.296875 66.21875 \nQ 25.25 66.21875 20.875 63.09375 \nQ 16.5 59.96875 16.5 54.203125 \nQ 16.5 49.359375 19.40625 46.890625 \nQ 22.3125 44.4375 30.421875 42.921875 \nL 36.375 41.703125 \nQ 47.40625 39.59375 52.65625 34.296875 \nQ 57.90625 29 57.90625 20.125 \nQ 57.90625 9.515625 50.796875 4.046875 \nQ 43.703125 -1.421875 29.984375 -1.421875 \nQ 24.8125 -1.421875 18.96875 -0.25 \nQ 13.140625 0.921875 6.890625 3.21875 \nL 6.890625 13.375 \nQ 12.890625 10.015625 18.65625 8.296875 \nQ 24.421875 6.59375 29.984375 6.59375 \nQ 38.421875 6.59375 43.015625 9.90625 \nQ 47.609375 13.234375 47.609375 19.390625 \nQ 47.609375 24.75 44.3125 27.78125 \nQ 41.015625 30.8125 33.5 32.328125 \nL 27.484375 33.5 \nQ 16.453125 35.6875 11.515625 40.375 \nQ 6.59375 45.0625 6.59375 53.421875 \nQ 6.59375 63.09375 13.40625 68.65625 \nQ 20.21875 74.21875 32.171875 74.21875 \nQ 37.3125 74.21875 42.625 73.28125 \nQ 47.953125 72.359375 53.515625 70.515625 \nz\n\" id=\"DejaVuSans-83\"/>\n      <path d=\"M 39.40625 66.21875 \nQ 28.65625 66.21875 22.328125 58.203125 \nQ 16.015625 50.203125 16.015625 36.375 \nQ 16.015625 22.609375 22.328125 14.59375 \nQ 28.65625 6.59375 39.40625 6.59375 \nQ 50.140625 6.59375 56.421875 14.59375 \nQ 62.703125 22.609375 62.703125 36.375 \nQ 62.703125 50.203125 56.421875 58.203125 \nQ 50.140625 66.21875 39.40625 66.21875 \nz\nM 39.40625 74.21875 \nQ 54.734375 74.21875 63.90625 63.9375 \nQ 73.09375 53.65625 73.09375 36.375 \nQ 73.09375 19.140625 63.90625 8.859375 \nQ 54.734375 -1.421875 39.40625 -1.421875 \nQ 24.03125 -1.421875 14.8125 8.828125 \nQ 5.609375 19.09375 5.609375 36.375 \nQ 5.609375 53.65625 14.8125 63.9375 \nQ 24.03125 74.21875 39.40625 74.21875 \nz\n\" id=\"DejaVuSans-79\"/>\n      <path d=\"M -0.296875 72.90625 \nL 61.375 72.90625 \nL 61.375 64.59375 \nL 35.5 64.59375 \nL 35.5 0 \nL 25.59375 0 \nL 25.59375 64.59375 \nL -0.296875 64.59375 \nz\n\" id=\"DejaVuSans-84\"/>\n      <path d=\"M 34.1875 63.1875 \nL 20.796875 26.90625 \nL 47.609375 26.90625 \nz\nM 28.609375 72.90625 \nL 39.796875 72.90625 \nL 67.578125 0 \nL 57.328125 0 \nL 50.6875 18.703125 \nL 17.828125 18.703125 \nL 11.1875 0 \nL 0.78125 0 \nz\n\" id=\"DejaVuSans-65\"/>\n      <path id=\"DejaVuSans-32\"/>\n      <path d=\"M 64.40625 67.28125 \nL 64.40625 56.890625 \nQ 59.421875 61.53125 53.78125 63.8125 \nQ 48.140625 66.109375 41.796875 66.109375 \nQ 29.296875 66.109375 22.65625 58.46875 \nQ 16.015625 50.828125 16.015625 36.375 \nQ 16.015625 21.96875 22.65625 14.328125 \nQ 29.296875 6.6875 41.796875 6.6875 \nQ 48.140625 6.6875 53.78125 8.984375 \nQ 59.421875 11.28125 64.40625 15.921875 \nL 64.40625 5.609375 \nQ 59.234375 2.09375 53.4375 0.328125 \nQ 47.65625 -1.421875 41.21875 -1.421875 \nQ 24.65625 -1.421875 15.125 8.703125 \nQ 5.609375 18.84375 5.609375 36.375 \nQ 5.609375 53.953125 15.125 64.078125 \nQ 24.65625 74.21875 41.21875 74.21875 \nQ 47.75 74.21875 53.53125 72.484375 \nQ 59.328125 70.75 64.40625 67.28125 \nz\n\" id=\"DejaVuSans-67\"/>\n      <path d=\"M 9.8125 72.90625 \nL 23.09375 72.90625 \nL 55.421875 11.921875 \nL 55.421875 72.90625 \nL 64.984375 72.90625 \nL 64.984375 0 \nL 51.703125 0 \nL 19.390625 60.984375 \nL 19.390625 0 \nL 9.8125 0 \nz\n\" id=\"DejaVuSans-78\"/>\n      <path d=\"M 52 44.1875 \nQ 55.375 50.25 60.0625 53.125 \nQ 64.75 56 71.09375 56 \nQ 79.640625 56 84.28125 50.015625 \nQ 88.921875 44.046875 88.921875 33.015625 \nL 88.921875 0 \nL 79.890625 0 \nL 79.890625 32.71875 \nQ 79.890625 40.578125 77.09375 44.375 \nQ 74.3125 48.1875 68.609375 48.1875 \nQ 61.625 48.1875 57.5625 43.546875 \nQ 53.515625 38.921875 53.515625 30.90625 \nL 53.515625 0 \nL 44.484375 0 \nL 44.484375 32.71875 \nQ 44.484375 40.625 41.703125 44.40625 \nQ 38.921875 48.1875 33.109375 48.1875 \nQ 26.21875 48.1875 22.15625 43.53125 \nQ 18.109375 38.875 18.109375 30.90625 \nL 18.109375 0 \nL 9.078125 0 \nL 9.078125 54.6875 \nL 18.109375 54.6875 \nL 18.109375 46.1875 \nQ 21.1875 51.21875 25.484375 53.609375 \nQ 29.78125 56 35.6875 56 \nQ 41.65625 56 45.828125 52.96875 \nQ 50 49.953125 52 44.1875 \nz\n\" id=\"DejaVuSans-109\"/>\n      <path d=\"M 30.609375 48.390625 \nQ 23.390625 48.390625 19.1875 42.75 \nQ 14.984375 37.109375 14.984375 27.296875 \nQ 14.984375 17.484375 19.15625 11.84375 \nQ 23.34375 6.203125 30.609375 6.203125 \nQ 37.796875 6.203125 41.984375 11.859375 \nQ 46.1875 17.53125 46.1875 27.296875 \nQ 46.1875 37.015625 41.984375 42.703125 \nQ 37.796875 48.390625 30.609375 48.390625 \nz\nM 30.609375 56 \nQ 42.328125 56 49.015625 48.375 \nQ 55.71875 40.765625 55.71875 27.296875 \nQ 55.71875 13.875 49.015625 6.21875 \nQ 42.328125 -1.421875 30.609375 -1.421875 \nQ 18.84375 -1.421875 12.171875 6.21875 \nQ 5.515625 13.875 5.515625 27.296875 \nQ 5.515625 40.765625 12.171875 48.375 \nQ 18.84375 56 30.609375 56 \nz\n\" id=\"DejaVuSans-111\"/>\n      <path d=\"M 45.40625 46.390625 \nL 45.40625 75.984375 \nL 54.390625 75.984375 \nL 54.390625 0 \nL 45.40625 0 \nL 45.40625 8.203125 \nQ 42.578125 3.328125 38.25 0.953125 \nQ 33.9375 -1.421875 27.875 -1.421875 \nQ 17.96875 -1.421875 11.734375 6.484375 \nQ 5.515625 14.40625 5.515625 27.296875 \nQ 5.515625 40.1875 11.734375 48.09375 \nQ 17.96875 56 27.875 56 \nQ 33.9375 56 38.25 53.625 \nQ 42.578125 51.265625 45.40625 46.390625 \nz\nM 14.796875 27.296875 \nQ 14.796875 17.390625 18.875 11.75 \nQ 22.953125 6.109375 30.078125 6.109375 \nQ 37.203125 6.109375 41.296875 11.75 \nQ 45.40625 17.390625 45.40625 27.296875 \nQ 45.40625 37.203125 41.296875 42.84375 \nQ 37.203125 48.484375 30.078125 48.484375 \nQ 22.953125 48.484375 18.875 42.84375 \nQ 14.796875 37.203125 14.796875 27.296875 \nz\n\" id=\"DejaVuSans-100\"/>\n      <path d=\"M 56.203125 29.59375 \nL 56.203125 25.203125 \nL 14.890625 25.203125 \nQ 15.484375 15.921875 20.484375 11.0625 \nQ 25.484375 6.203125 34.421875 6.203125 \nQ 39.59375 6.203125 44.453125 7.46875 \nQ 49.3125 8.734375 54.109375 11.28125 \nL 54.109375 2.78125 \nQ 49.265625 0.734375 44.1875 -0.34375 \nQ 39.109375 -1.421875 33.890625 -1.421875 \nQ 20.796875 -1.421875 13.15625 6.1875 \nQ 5.515625 13.8125 5.515625 26.8125 \nQ 5.515625 40.234375 12.765625 48.109375 \nQ 20.015625 56 32.328125 56 \nQ 43.359375 56 49.78125 48.890625 \nQ 56.203125 41.796875 56.203125 29.59375 \nz\nM 47.21875 32.234375 \nQ 47.125 39.59375 43.09375 43.984375 \nQ 39.0625 48.390625 32.421875 48.390625 \nQ 24.90625 48.390625 20.390625 44.140625 \nQ 15.875 39.890625 15.1875 32.171875 \nz\n\" id=\"DejaVuSans-101\"/>\n      <path d=\"M 9.421875 75.984375 \nL 18.40625 75.984375 \nL 18.40625 0 \nL 9.421875 0 \nz\n\" id=\"DejaVuSans-108\"/>\n     </defs>\n     <use xlink:href=\"#DejaVuSans-83\"/>\n     <use x=\"63.476562\" xlink:href=\"#DejaVuSans-79\"/>\n     <use x=\"142.1875\" xlink:href=\"#DejaVuSans-84\"/>\n     <use x=\"195.521484\" xlink:href=\"#DejaVuSans-65\"/>\n     <use x=\"263.929688\" xlink:href=\"#DejaVuSans-32\"/>\n     <use x=\"295.716797\" xlink:href=\"#DejaVuSans-67\"/>\n     <use x=\"365.541016\" xlink:href=\"#DejaVuSans-78\"/>\n     <use x=\"440.345703\" xlink:href=\"#DejaVuSans-78\"/>\n     <use x=\"515.150391\" xlink:href=\"#DejaVuSans-32\"/>\n     <use x=\"546.9375\" xlink:href=\"#DejaVuSans-109\"/>\n     <use x=\"644.349609\" xlink:href=\"#DejaVuSans-111\"/>\n     <use x=\"705.53125\" xlink:href=\"#DejaVuSans-100\"/>\n     <use x=\"769.007812\" xlink:href=\"#DejaVuSans-101\"/>\n     <use x=\"830.53125\" xlink:href=\"#DejaVuSans-108\"/>\n    </g>\n   </g>\n  </g>\n  <g id=\"axes_2\">\n   <g clip-path=\"url(#pd80e43a082)\">\n    <image height=\"143.04\" id=\"image2bca39ca06\" transform=\"scale(1 -1)translate(0 -143.04)\" width=\"253.92\" x=\"311.563636\" xlink:href=\"data:image/png;base64,\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\" y=\"-42.595227\"/>\n   </g>\n   <g id=\"text_2\">\n    <!-- SOTA LN model -->\n    <g transform=\"translate(392.216506 36.964773)scale(0.12 -0.12)\">\n     <defs>\n      <path d=\"M 9.8125 72.90625 \nL 19.671875 72.90625 \nL 19.671875 8.296875 \nL 55.171875 8.296875 \nL 55.171875 0 \nL 9.8125 0 \nz\n\" id=\"DejaVuSans-76\"/>\n     </defs>\n     <use xlink:href=\"#DejaVuSans-83\"/>\n     <use x=\"63.476562\" xlink:href=\"#DejaVuSans-79\"/>\n     <use x=\"142.1875\" xlink:href=\"#DejaVuSans-84\"/>\n     <use x=\"195.521484\" xlink:href=\"#DejaVuSans-65\"/>\n     <use x=\"263.929688\" xlink:href=\"#DejaVuSans-32\"/>\n     <use x=\"295.716797\" xlink:href=\"#DejaVuSans-76\"/>\n     <use x=\"351.429688\" xlink:href=\"#DejaVuSans-78\"/>\n     <use x=\"426.234375\" xlink:href=\"#DejaVuSans-32\"/>\n     <use x=\"458.021484\" xlink:href=\"#DejaVuSans-109\"/>\n     <use x=\"555.433594\" xlink:href=\"#DejaVuSans-111\"/>\n     <use x=\"616.615234\" xlink:href=\"#DejaVuSans-100\"/>\n     <use x=\"680.091797\" xlink:href=\"#DejaVuSans-101\"/>\n     <use x=\"741.615234\" xlink:href=\"#DejaVuSans-108\"/>\n    </g>\n   </g>\n  </g>\n  <g id=\"text_3\">\n   <!-- Gradient receptive fields -->\n   <g transform=\"translate(203.113125 16.318125)scale(0.12 -0.12)\">\n    <defs>\n     <path d=\"M 59.515625 10.40625 \nL 59.515625 29.984375 \nL 43.40625 29.984375 \nL 43.40625 38.09375 \nL 69.28125 38.09375 \nL 69.28125 6.78125 \nQ 63.578125 2.734375 56.6875 0.65625 \nQ 49.8125 -1.421875 42 -1.421875 \nQ 24.90625 -1.421875 15.25 8.5625 \nQ 5.609375 18.5625 5.609375 36.375 \nQ 5.609375 54.25 15.25 64.234375 \nQ 24.90625 74.21875 42 74.21875 \nQ 49.125 74.21875 55.546875 72.453125 \nQ 61.96875 70.703125 67.390625 67.28125 \nL 67.390625 56.78125 \nQ 61.921875 61.421875 55.765625 63.765625 \nQ 49.609375 66.109375 42.828125 66.109375 \nQ 29.4375 66.109375 22.71875 58.640625 \nQ 16.015625 51.171875 16.015625 36.375 \nQ 16.015625 21.625 22.71875 14.15625 \nQ 29.4375 6.6875 42.828125 6.6875 \nQ 48.046875 6.6875 52.140625 7.59375 \nQ 56.25 8.5 59.515625 10.40625 \nz\n\" id=\"DejaVuSans-71\"/>\n     <path d=\"M 41.109375 46.296875 \nQ 39.59375 47.171875 37.8125 47.578125 \nQ 36.03125 48 33.890625 48 \nQ 26.265625 48 22.1875 43.046875 \nQ 18.109375 38.09375 18.109375 28.8125 \nL 18.109375 0 \nL 9.078125 0 \nL 9.078125 54.6875 \nL 18.109375 54.6875 \nL 18.109375 46.1875 \nQ 20.953125 51.171875 25.484375 53.578125 \nQ 30.03125 56 36.53125 56 \nQ 37.453125 56 38.578125 55.875 \nQ 39.703125 55.765625 41.0625 55.515625 \nz\n\" id=\"DejaVuSans-114\"/>\n     <path d=\"M 34.28125 27.484375 \nQ 23.390625 27.484375 19.1875 25 \nQ 14.984375 22.515625 14.984375 16.5 \nQ 14.984375 11.71875 18.140625 8.90625 \nQ 21.296875 6.109375 26.703125 6.109375 \nQ 34.1875 6.109375 38.703125 11.40625 \nQ 43.21875 16.703125 43.21875 25.484375 \nL 43.21875 27.484375 \nz\nM 52.203125 31.203125 \nL 52.203125 0 \nL 43.21875 0 \nL 43.21875 8.296875 \nQ 40.140625 3.328125 35.546875 0.953125 \nQ 30.953125 -1.421875 24.3125 -1.421875 \nQ 15.921875 -1.421875 10.953125 3.296875 \nQ 6 8.015625 6 15.921875 \nQ 6 25.140625 12.171875 29.828125 \nQ 18.359375 34.515625 30.609375 34.515625 \nL 43.21875 34.515625 \nL 43.21875 35.40625 \nQ 43.21875 41.609375 39.140625 45 \nQ 35.0625 48.390625 27.6875 48.390625 \nQ 23 48.390625 18.546875 47.265625 \nQ 14.109375 46.140625 10.015625 43.890625 \nL 10.015625 52.203125 \nQ 14.9375 54.109375 19.578125 55.046875 \nQ 24.21875 56 28.609375 56 \nQ 40.484375 56 46.34375 49.84375 \nQ 52.203125 43.703125 52.203125 31.203125 \nz\n\" id=\"DejaVuSans-97\"/>\n     <path d=\"M 9.421875 54.6875 \nL 18.40625 54.6875 \nL 18.40625 0 \nL 9.421875 0 \nz\nM 9.421875 75.984375 \nL 18.40625 75.984375 \nL 18.40625 64.59375 \nL 9.421875 64.59375 \nz\n\" id=\"DejaVuSans-105\"/>\n     <path d=\"M 54.890625 33.015625 \nL 54.890625 0 \nL 45.90625 0 \nL 45.90625 32.71875 \nQ 45.90625 40.484375 42.875 44.328125 \nQ 39.84375 48.1875 33.796875 48.1875 \nQ 26.515625 48.1875 22.3125 43.546875 \nQ 18.109375 38.921875 18.109375 30.90625 \nL 18.109375 0 \nL 9.078125 0 \nL 9.078125 54.6875 \nL 18.109375 54.6875 \nL 18.109375 46.1875 \nQ 21.34375 51.125 25.703125 53.5625 \nQ 30.078125 56 35.796875 56 \nQ 45.21875 56 50.046875 50.171875 \nQ 54.890625 44.34375 54.890625 33.015625 \nz\n\" id=\"DejaVuSans-110\"/>\n     <path d=\"M 18.3125 70.21875 \nL 18.3125 54.6875 \nL 36.8125 54.6875 \nL 36.8125 47.703125 \nL 18.3125 47.703125 \nL 18.3125 18.015625 \nQ 18.3125 11.328125 20.140625 9.421875 \nQ 21.96875 7.515625 27.59375 7.515625 \nL 36.8125 7.515625 \nL 36.8125 0 \nL 27.59375 0 \nQ 17.1875 0 13.234375 3.875 \nQ 9.28125 7.765625 9.28125 18.015625 \nL 9.28125 47.703125 \nL 2.6875 47.703125 \nL 2.6875 54.6875 \nL 9.28125 54.6875 \nL 9.28125 70.21875 \nz\n\" id=\"DejaVuSans-116\"/>\n     <path d=\"M 48.78125 52.59375 \nL 48.78125 44.1875 \nQ 44.96875 46.296875 41.140625 47.34375 \nQ 37.3125 48.390625 33.40625 48.390625 \nQ 24.65625 48.390625 19.8125 42.84375 \nQ 14.984375 37.3125 14.984375 27.296875 \nQ 14.984375 17.28125 19.8125 11.734375 \nQ 24.65625 6.203125 33.40625 6.203125 \nQ 37.3125 6.203125 41.140625 7.25 \nQ 44.96875 8.296875 48.78125 10.40625 \nL 48.78125 2.09375 \nQ 45.015625 0.34375 40.984375 -0.53125 \nQ 36.96875 -1.421875 32.421875 -1.421875 \nQ 20.0625 -1.421875 12.78125 6.34375 \nQ 5.515625 14.109375 5.515625 27.296875 \nQ 5.515625 40.671875 12.859375 48.328125 \nQ 20.21875 56 33.015625 56 \nQ 37.15625 56 41.109375 55.140625 \nQ 45.0625 54.296875 48.78125 52.59375 \nz\n\" id=\"DejaVuSans-99\"/>\n     <path d=\"M 18.109375 8.203125 \nL 18.109375 -20.796875 \nL 9.078125 -20.796875 \nL 9.078125 54.6875 \nL 18.109375 54.6875 \nL 18.109375 46.390625 \nQ 20.953125 51.265625 25.265625 53.625 \nQ 29.59375 56 35.59375 56 \nQ 45.5625 56 51.78125 48.09375 \nQ 58.015625 40.1875 58.015625 27.296875 \nQ 58.015625 14.40625 51.78125 6.484375 \nQ 45.5625 -1.421875 35.59375 -1.421875 \nQ 29.59375 -1.421875 25.265625 0.953125 \nQ 20.953125 3.328125 18.109375 8.203125 \nz\nM 48.6875 27.296875 \nQ 48.6875 37.203125 44.609375 42.84375 \nQ 40.53125 48.484375 33.40625 48.484375 \nQ 26.265625 48.484375 22.1875 42.84375 \nQ 18.109375 37.203125 18.109375 27.296875 \nQ 18.109375 17.390625 22.1875 11.75 \nQ 26.265625 6.109375 33.40625 6.109375 \nQ 40.53125 6.109375 44.609375 11.75 \nQ 48.6875 17.390625 48.6875 27.296875 \nz\n\" id=\"DejaVuSans-112\"/>\n     <path d=\"M 2.984375 54.6875 \nL 12.5 54.6875 \nL 29.59375 8.796875 \nL 46.6875 54.6875 \nL 56.203125 54.6875 \nL 35.6875 0 \nL 23.484375 0 \nz\n\" id=\"DejaVuSans-118\"/>\n     <path d=\"M 37.109375 75.984375 \nL 37.109375 68.5 \nL 28.515625 68.5 \nQ 23.6875 68.5 21.796875 66.546875 \nQ 19.921875 64.59375 19.921875 59.515625 \nL 19.921875 54.6875 \nL 34.71875 54.6875 \nL 34.71875 47.703125 \nL 19.921875 47.703125 \nL 19.921875 0 \nL 10.890625 0 \nL 10.890625 47.703125 \nL 2.296875 47.703125 \nL 2.296875 54.6875 \nL 10.890625 54.6875 \nL 10.890625 58.5 \nQ 10.890625 67.625 15.140625 71.796875 \nQ 19.390625 75.984375 28.609375 75.984375 \nz\n\" id=\"DejaVuSans-102\"/>\n     <path d=\"M 44.28125 53.078125 \nL 44.28125 44.578125 \nQ 40.484375 46.53125 36.375 47.5 \nQ 32.28125 48.484375 27.875 48.484375 \nQ 21.1875 48.484375 17.84375 46.4375 \nQ 14.5 44.390625 14.5 40.28125 \nQ 14.5 37.15625 16.890625 35.375 \nQ 19.28125 33.59375 26.515625 31.984375 \nL 29.59375 31.296875 \nQ 39.15625 29.25 43.1875 25.515625 \nQ 47.21875 21.78125 47.21875 15.09375 \nQ 47.21875 7.46875 41.1875 3.015625 \nQ 35.15625 -1.421875 24.609375 -1.421875 \nQ 20.21875 -1.421875 15.453125 -0.5625 \nQ 10.6875 0.296875 5.421875 2 \nL 5.421875 11.28125 \nQ 10.40625 8.6875 15.234375 7.390625 \nQ 20.0625 6.109375 24.8125 6.109375 \nQ 31.15625 6.109375 34.5625 8.28125 \nQ 37.984375 10.453125 37.984375 14.40625 \nQ 37.984375 18.0625 35.515625 20.015625 \nQ 33.0625 21.96875 24.703125 23.78125 \nL 21.578125 24.515625 \nQ 13.234375 26.265625 9.515625 29.90625 \nQ 5.8125 33.546875 5.8125 39.890625 \nQ 5.8125 47.609375 11.28125 51.796875 \nQ 16.75 56 26.8125 56 \nQ 31.78125 56 36.171875 55.265625 \nQ 40.578125 54.546875 44.28125 53.078125 \nz\n\" id=\"DejaVuSans-115\"/>\n    </defs>\n    <use xlink:href=\"#DejaVuSans-71\"/>\n    <use x=\"77.490234\" xlink:href=\"#DejaVuSans-114\"/>\n    <use x=\"118.603516\" xlink:href=\"#DejaVuSans-97\"/>\n    <use x=\"179.882812\" xlink:href=\"#DejaVuSans-100\"/>\n    <use x=\"243.359375\" xlink:href=\"#DejaVuSans-105\"/>\n    <use x=\"271.142578\" xlink:href=\"#DejaVuSans-101\"/>\n    <use x=\"332.666016\" xlink:href=\"#DejaVuSans-110\"/>\n    <use x=\"396.044922\" xlink:href=\"#DejaVuSans-116\"/>\n    <use x=\"435.253906\" xlink:href=\"#DejaVuSans-32\"/>\n    <use x=\"467.041016\" xlink:href=\"#DejaVuSans-114\"/>\n    <use x=\"505.904297\" xlink:href=\"#DejaVuSans-101\"/>\n    <use x=\"567.427734\" xlink:href=\"#DejaVuSans-99\"/>\n    <use x=\"622.408203\" xlink:href=\"#DejaVuSans-101\"/>\n    <use x=\"683.931641\" xlink:href=\"#DejaVuSans-112\"/>\n    <use x=\"747.408203\" xlink:href=\"#DejaVuSans-116\"/>\n    <use x=\"786.617188\" xlink:href=\"#DejaVuSans-105\"/>\n    <use x=\"814.400391\" xlink:href=\"#DejaVuSans-118\"/>\n    <use x=\"873.580078\" xlink:href=\"#DejaVuSans-101\"/>\n    <use x=\"935.103516\" xlink:href=\"#DejaVuSans-32\"/>\n    <use x=\"966.890625\" xlink:href=\"#DejaVuSans-102\"/>\n    <use x=\"1002.095703\" xlink:href=\"#DejaVuSans-105\"/>\n    <use x=\"1029.878906\" xlink:href=\"#DejaVuSans-101\"/>\n    <use x=\"1091.402344\" xlink:href=\"#DejaVuSans-108\"/>\n    <use x=\"1119.185547\" xlink:href=\"#DejaVuSans-100\"/>\n    <use x=\"1182.662109\" xlink:href=\"#DejaVuSans-115\"/>\n   </g>\n  </g>\n </g>\n <defs>\n  <clipPath id=\"pc35cb9baa2\">\n   <rect height=\"142.670455\" width=\"253.636364\" x=\"7.2\" y=\"42.964773\"/>\n  </clipPath>\n  <clipPath id=\"pd80e43a082\">\n   <rect height=\"142.670455\" width=\"253.636364\" x=\"311.563636\" y=\"42.964773\"/>\n  </clipPath>\n </defs>\n</svg>\n"
     },
     "metadata": {
      "needs_background": "light"
     }
    }
   ],
   "metadata": {}
  },
  {
   "cell_type": "markdown",
   "source": [
    "It can be seen that, the gradient RF look grossly similar between the CNN model and LN model."
   ],
   "metadata": {}
  },
  {
   "cell_type": "markdown",
   "source": [
    "## Most Exciting Inputs"
   ],
   "metadata": {}
  },
  {
   "cell_type": "markdown",
   "source": [
    "As we have mentioned above, the gradient RF is a local linear approximation of the CNN model and could vary a lot when computed with different input image. To gain a global insight of the modeled neuron's feature selectivity, we will then analyze their **Most Exciting Inputs (MEIs)**.\n",
    "As the name implies, the MEIs are the inputs $x$ that maximizes the model responses. To generate the MEI of a targeted neuron $i$, we optimize the model-predicted activation $f_i$ with respect to the input image $x$, yielding:\n",
    "$$\n",
    "x_i = {\\argmax}_x f_i(x, \\theta)\n",
    "$$\n",
    "We will be using the SGD optimizer in PyTorch to solve this optimization problem. Since the optimization algorithms implemented in PyTorch are all designed to minimize the loss function, we use negative model activation as the loss function.\n",
    "\n",
    "We are working with modeled neurons that do not necessarily have a 'maximal firing rate' unlike the biological neurons, thus it is common to compute the MEIs with certain constraints to ensure $x$ maintains roughly in the input space that the model is trained on. A common approach is to fix the mean and standard deviation of $x$ during optimization at reasonable values. In the following experiment, we fix the mean at the mean of the training set and std at 1/10th of the std of the training set. Feel free to explore MEIs generated with different constraints!\n",
    "\n",
    "The input image used as the starting point of the optimization in theory should not affect the MEI if the optimization finds the global maximum every time and there exists only one global maximum. To help the SGD algorithm we used in MEI optimization, we chose an input image randomly initiated with a normal distibution. You are encouraged to try out different input images and explore the differences in the resulting MEIs.\n"
   ],
   "metadata": {}
  },
  {
   "cell_type": "code",
   "execution_count": 19,
   "source": [
    "from tqdm import tqdm\n",
    "\n",
    "\n",
    "def generate_mei(\n",
    "    model,\n",
    "    input_image,\n",
    "    neuron_idx,\n",
    "    iterations,\n",
    "    mean_constr,\n",
    "    std_constr,\n",
    "    lr=1,\n",
    "    disable_progress_bar=False,\n",
    "):\n",
    "    assert input_image.ndim == 2\n",
    "    std_constr = torch.tensor(std_constr).cuda()\n",
    "    mean_constr = torch.tensor(mean_constr).cuda()\n",
    "\n",
    "    # be sure to put the model on eval mode\n",
    "    model.eval()\n",
    "    \n",
    "    # prepare input image with requires_grad = True so that gradient will be computed\n",
    "    x = torch.tensor(\n",
    "        input_image.copy()[None, None, ...],\n",
    "        dtype=torch.float,\n",
    "        device=\"cuda\",\n",
    "        requires_grad=True,\n",
    "    )\n",
    "\n",
    "    optimizer = torch.optim.SGD([x], lr=lr, momentum=0.9)\n",
    "    model_activations = []\n",
    "    for i in tqdm(range(iterations), disable=disable_progress_bar):\n",
    "        # fix the mean and std of the input image\n",
    "        transformed_x = (x - x.mean()) / (x.std() + 1e-4) * std_constr + mean_constr  # 1e-4 is added to avoid division by zero\n",
    "        model_activation = model(transformed_x)[:, neuron_idx]\n",
    "        (-model_activation).backward()\n",
    "        model_activations.append(model_activation.detach().cpu().numpy())\n",
    "        optimizer.step()\n",
    "    x = (x - x.mean()) / (x.std() + 1e-4) * std_constr + mean_constr\n",
    "    return np.array(model_activations), x.detach().cpu().numpy().squeeze()\n",
    "\n"
   ],
   "outputs": [],
   "metadata": {}
  },
  {
   "cell_type": "code",
   "execution_count": 24,
   "source": [
    "# generate a gradient receptive field from the sota_model and the sota_ln_model\n",
    "activation_sota_cnn, mei_sota_cnn = generate_mei(\n",
    "    sota_cnn_model,\n",
    "    input_image=np.random.normal(input_mean, 0.1, (36, 64)),\n",
    "    neuron_idx=neuron_idx,\n",
    "    iterations=2000,\n",
    "    mean_constr=input_mean,\n",
    "    std_constr=input_std / 10,\n",
    "    lr=100,\n",
    ")\n",
    "\n",
    "activation_sota_ln, mei_sota_ln = generate_mei(\n",
    "    sota_ln_model,\n",
    "    input_image=np.random.normal(input_mean, 0.1, (36, 64)),\n",
    "    neuron_idx=neuron_idx,\n",
    "    iterations=2000,\n",
    "    mean_constr=input_mean,\n",
    "    std_constr=input_std / 10,\n",
    "    lr=100,\n",
    ")\n"
   ],
   "outputs": [
    {
     "output_type": "stream",
     "name": "stderr",
     "text": [
      "100%|██████████| 2000/2000 [00:13<00:00, 144.66it/s]\n",
      "100%|██████████| 2000/2000 [00:13<00:00, 149.52it/s]\n"
     ]
    }
   ],
   "metadata": {}
  },
  {
   "cell_type": "code",
   "execution_count": 26,
   "source": [
    "# compare the two meis\n",
    "fig, axes = plt.subplots(nrows=2, ncols=2, figsize=(10, 5))\n",
    "axes[0,0].imshow(mei_sota_cnn, cmap='gray')\n",
    "axes[0,0].axis('off')\n",
    "axes[0,0].set_title('SOTA')\n",
    "axes[1,0].plot(activation_sota_cnn)\n",
    "axes[1,0].set_ylabel('SOTA cnn model activation')\n",
    "axes[1,0].set_xlabel('Iterations')\n",
    "axes[0,1].imshow(mei_sota_ln, cmap='gray')\n",
    "axes[0,1].axis('off')\n",
    "axes[0,1].set_title('SOTA_ln')\n",
    "axes[1,1].plot(activation_sota_ln)\n",
    "axes[1,1].set_ylabel('SOTA linear model activation')\n",
    "axes[1,1].set_xlabel('Iterations')\n",
    "plt.suptitle('MEIs', y=1.02)"
   ],
   "outputs": [
    {
     "output_type": "execute_result",
     "data": {
      "text/plain": [
       "Text(0.5, 1.02, 'MEIs')"
      ]
     },
     "metadata": {},
     "execution_count": 26
    },
    {
     "output_type": "display_data",
     "data": {
      "text/plain": [
       "<Figure size 720x360 with 4 Axes>"
      ],
      "image/png": "[encoded data removed]",
      "image/svg+xml": "<?xml version=\"1.0\" encoding=\"utf-8\" standalone=\"no\"?>\n<!DOCTYPE svg PUBLIC \"-//W3C//DTD SVG 1.1//EN\"\n  \"http://www.w3.org/Graphics/SVG/1.1/DTD/svg11.dtd\">\n<!-- Created with matplotlib (https://matplotlib.org/) -->\n<svg height=\"366.95625pt\" version=\"1.1\" viewBox=\"0 0 600.752046 366.95625\" width=\"600.752046pt\" xmlns=\"http://www.w3.org/2000/svg\" xmlns:xlink=\"http://www.w3.org/1999/xlink\">\n <metadata>\n  <rdf:RDF xmlns:cc=\"http://creativecommons.org/ns#\" xmlns:dc=\"http://purl.org/dc/elements/1.1/\" xmlns:rdf=\"http://www.w3.org/1999/02/22-rdf-syntax-ns#\">\n   <cc:Work>\n    <dc:type rdf:resource=\"http://purl.org/dc/dcmitype/StillImage\"/>\n    <dc:date>2021-07-28T06:35:35.396682</dc:date>\n    <dc:format>image/svg+xml</dc:format>\n    <dc:creator>\n     <cc:Agent>\n      <dc:title>Matplotlib v3.3.2, https://matplotlib.org/</dc:title>\n     </cc:Agent>\n    </dc:creator>\n   </cc:Work>\n  </rdf:RDF>\n </metadata>\n <defs>\n  <style type=\"text/css\">*{stroke-linecap:butt;stroke-linejoin:round;}</style>\n </defs>\n <g id=\"figure_1\">\n  <g id=\"patch_1\">\n   <path d=\"M 0 366.95625 \nL 600.752046 366.95625 \nL 600.752046 -0 \nL 0 -0 \nz\n\" style=\"fill:none;\"/>\n  </g>\n  <g id=\"axes_1\">\n   <g clip-path=\"url(#paaff50ee71)\">\n    <image height=\"124\" id=\"image014c74cec0\" transform=\"scale(1 -1)translate(0 -124)\" width=\"220\" x=\"51.240625\" xlink:href=\"data:image/png;base64,\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\" y=\"-57.145455\"/>\n   </g>\n   <g id=\"text_1\">\n    <!-- SOTA -->\n    <g transform=\"translate(145.222557 51.6)scale(0.12 -0.12)\">\n     <defs>\n      <path d=\"M 53.515625 70.515625 \nL 53.515625 60.890625 \nQ 47.90625 63.578125 42.921875 64.890625 \nQ 37.9375 66.21875 33.296875 66.21875 \nQ 25.25 66.21875 20.875 63.09375 \nQ 16.5 59.96875 16.5 54.203125 \nQ 16.5 49.359375 19.40625 46.890625 \nQ 22.3125 44.4375 30.421875 42.921875 \nL 36.375 41.703125 \nQ 47.40625 39.59375 52.65625 34.296875 \nQ 57.90625 29 57.90625 20.125 \nQ 57.90625 9.515625 50.796875 4.046875 \nQ 43.703125 -1.421875 29.984375 -1.421875 \nQ 24.8125 -1.421875 18.96875 -0.25 \nQ 13.140625 0.921875 6.890625 3.21875 \nL 6.890625 13.375 \nQ 12.890625 10.015625 18.65625 8.296875 \nQ 24.421875 6.59375 29.984375 6.59375 \nQ 38.421875 6.59375 43.015625 9.90625 \nQ 47.609375 13.234375 47.609375 19.390625 \nQ 47.609375 24.75 44.3125 27.78125 \nQ 41.015625 30.8125 33.5 32.328125 \nL 27.484375 33.5 \nQ 16.453125 35.6875 11.515625 40.375 \nQ 6.59375 45.0625 6.59375 53.421875 \nQ 6.59375 63.09375 13.40625 68.65625 \nQ 20.21875 74.21875 32.171875 74.21875 \nQ 37.3125 74.21875 42.625 73.28125 \nQ 47.953125 72.359375 53.515625 70.515625 \nz\n\" id=\"DejaVuSans-83\"/>\n      <path d=\"M 39.40625 66.21875 \nQ 28.65625 66.21875 22.328125 58.203125 \nQ 16.015625 50.203125 16.015625 36.375 \nQ 16.015625 22.609375 22.328125 14.59375 \nQ 28.65625 6.59375 39.40625 6.59375 \nQ 50.140625 6.59375 56.421875 14.59375 \nQ 62.703125 22.609375 62.703125 36.375 \nQ 62.703125 50.203125 56.421875 58.203125 \nQ 50.140625 66.21875 39.40625 66.21875 \nz\nM 39.40625 74.21875 \nQ 54.734375 74.21875 63.90625 63.9375 \nQ 73.09375 53.65625 73.09375 36.375 \nQ 73.09375 19.140625 63.90625 8.859375 \nQ 54.734375 -1.421875 39.40625 -1.421875 \nQ 24.03125 -1.421875 14.8125 8.828125 \nQ 5.609375 19.09375 5.609375 36.375 \nQ 5.609375 53.65625 14.8125 63.9375 \nQ 24.03125 74.21875 39.40625 74.21875 \nz\n\" id=\"DejaVuSans-79\"/>\n      <path d=\"M -0.296875 72.90625 \nL 61.375 72.90625 \nL 61.375 64.59375 \nL 35.5 64.59375 \nL 35.5 0 \nL 25.59375 0 \nL 25.59375 64.59375 \nL -0.296875 64.59375 \nz\n\" id=\"DejaVuSans-84\"/>\n      <path d=\"M 34.1875 63.1875 \nL 20.796875 26.90625 \nL 47.609375 26.90625 \nz\nM 28.609375 72.90625 \nL 39.796875 72.90625 \nL 67.578125 0 \nL 57.328125 0 \nL 50.6875 18.703125 \nL 17.828125 18.703125 \nL 11.1875 0 \nL 0.78125 0 \nz\n\" id=\"DejaVuSans-65\"/>\n     </defs>\n     <use xlink:href=\"#DejaVuSans-83\"/>\n     <use x=\"63.476562\" xlink:href=\"#DejaVuSans-79\"/>\n     <use x=\"142.1875\" xlink:href=\"#DejaVuSans-84\"/>\n     <use x=\"195.521484\" xlink:href=\"#DejaVuSans-65\"/>\n    </g>\n   </g>\n  </g>\n  <g id=\"axes_2\">\n   <g clip-path=\"url(#p5f5afe59ca)\">\n    <image height=\"124\" id=\"image514e98b924\" transform=\"scale(1 -1)translate(0 -124)\" width=\"220\" x=\"355.604261\" xlink:href=\"data:image/png;base64,\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\" y=\"-57.145455\"/>\n   </g>\n   <g id=\"text_2\">\n    <!-- SOTA_ln -->\n    <g transform=\"translate(441.116818 51.6)scale(0.12 -0.12)\">\n     <defs>\n      <path d=\"M 50.984375 -16.609375 \nL 50.984375 -23.578125 \nL -0.984375 -23.578125 \nL -0.984375 -16.609375 \nz\n\" id=\"DejaVuSans-95\"/>\n      <path d=\"M 9.421875 75.984375 \nL 18.40625 75.984375 \nL 18.40625 0 \nL 9.421875 0 \nz\n\" id=\"DejaVuSans-108\"/>\n      <path d=\"M 54.890625 33.015625 \nL 54.890625 0 \nL 45.90625 0 \nL 45.90625 32.71875 \nQ 45.90625 40.484375 42.875 44.328125 \nQ 39.84375 48.1875 33.796875 48.1875 \nQ 26.515625 48.1875 22.3125 43.546875 \nQ 18.109375 38.921875 18.109375 30.90625 \nL 18.109375 0 \nL 9.078125 0 \nL 9.078125 54.6875 \nL 18.109375 54.6875 \nL 18.109375 46.1875 \nQ 21.34375 51.125 25.703125 53.5625 \nQ 30.078125 56 35.796875 56 \nQ 45.21875 56 50.046875 50.171875 \nQ 54.890625 44.34375 54.890625 33.015625 \nz\n\" id=\"DejaVuSans-110\"/>\n     </defs>\n     <use xlink:href=\"#DejaVuSans-83\"/>\n     <use x=\"63.476562\" xlink:href=\"#DejaVuSans-79\"/>\n     <use x=\"142.1875\" xlink:href=\"#DejaVuSans-84\"/>\n     <use x=\"195.521484\" xlink:href=\"#DejaVuSans-65\"/>\n     <use x=\"263.929688\" xlink:href=\"#DejaVuSans-95\"/>\n     <use x=\"313.929688\" xlink:href=\"#DejaVuSans-108\"/>\n     <use x=\"341.712891\" xlink:href=\"#DejaVuSans-110\"/>\n    </g>\n   </g>\n  </g>\n  <g id=\"axes_3\">\n   <g id=\"patch_2\">\n    <path d=\"M 34.240625 329.4 \nL 287.876989 329.4 \nL 287.876989 205.854545 \nL 34.240625 205.854545 \nz\n\" style=\"fill:#ffffff;\"/>\n   </g>\n   <g id=\"matplotlib.axis_1\">\n    <g id=\"xtick_1\">\n     <g id=\"line2d_1\">\n      <defs>\n       <path d=\"M 0 0 \nL 0 3.5 \n\" id=\"md12ca65600\" style=\"stroke:#000000;stroke-width:0.8;\"/>\n      </defs>\n      <g>\n       <use style=\"stroke:#000000;stroke-width:0.8;\" x=\"45.769551\" xlink:href=\"#md12ca65600\" y=\"329.4\"/>\n      </g>\n     </g>\n     <g id=\"text_3\">\n      <!-- 0 -->\n      <g transform=\"translate(42.588301 343.998437)scale(0.1 -0.1)\">\n       <defs>\n        <path d=\"M 31.78125 66.40625 \nQ 24.171875 66.40625 20.328125 58.90625 \nQ 16.5 51.421875 16.5 36.375 \nQ 16.5 21.390625 20.328125 13.890625 \nQ 24.171875 6.390625 31.78125 6.390625 \nQ 39.453125 6.390625 43.28125 13.890625 \nQ 47.125 21.390625 47.125 36.375 \nQ 47.125 51.421875 43.28125 58.90625 \nQ 39.453125 66.40625 31.78125 66.40625 \nz\nM 31.78125 74.21875 \nQ 44.046875 74.21875 50.515625 64.515625 \nQ 56.984375 54.828125 56.984375 36.375 \nQ 56.984375 17.96875 50.515625 8.265625 \nQ 44.046875 -1.421875 31.78125 -1.421875 \nQ 19.53125 -1.421875 13.0625 8.265625 \nQ 6.59375 17.96875 6.59375 36.375 \nQ 6.59375 54.828125 13.0625 64.515625 \nQ 19.53125 74.21875 31.78125 74.21875 \nz\n\" id=\"DejaVuSans-48\"/>\n       </defs>\n       <use xlink:href=\"#DejaVuSans-48\"/>\n      </g>\n     </g>\n    </g>\n    <g id=\"xtick_2\">\n     <g id=\"line2d_2\">\n      <g>\n       <use style=\"stroke:#000000;stroke-width:0.8;\" x=\"103.443015\" xlink:href=\"#md12ca65600\" y=\"329.4\"/>\n      </g>\n     </g>\n     <g id=\"text_4\">\n      <!-- 500 -->\n      <g transform=\"translate(93.899265 343.998437)scale(0.1 -0.1)\">\n       <defs>\n        <path d=\"M 10.796875 72.90625 \nL 49.515625 72.90625 \nL 49.515625 64.59375 \nL 19.828125 64.59375 \nL 19.828125 46.734375 \nQ 21.96875 47.46875 24.109375 47.828125 \nQ 26.265625 48.1875 28.421875 48.1875 \nQ 40.625 48.1875 47.75 41.5 \nQ 54.890625 34.8125 54.890625 23.390625 \nQ 54.890625 11.625 47.5625 5.09375 \nQ 40.234375 -1.421875 26.90625 -1.421875 \nQ 22.3125 -1.421875 17.546875 -0.640625 \nQ 12.796875 0.140625 7.71875 1.703125 \nL 7.71875 11.625 \nQ 12.109375 9.234375 16.796875 8.0625 \nQ 21.484375 6.890625 26.703125 6.890625 \nQ 35.15625 6.890625 40.078125 11.328125 \nQ 45.015625 15.765625 45.015625 23.390625 \nQ 45.015625 31 40.078125 35.4375 \nQ 35.15625 39.890625 26.703125 39.890625 \nQ 22.75 39.890625 18.8125 39.015625 \nQ 14.890625 38.140625 10.796875 36.28125 \nz\n\" id=\"DejaVuSans-53\"/>\n       </defs>\n       <use xlink:href=\"#DejaVuSans-53\"/>\n       <use x=\"63.623047\" xlink:href=\"#DejaVuSans-48\"/>\n       <use x=\"127.246094\" xlink:href=\"#DejaVuSans-48\"/>\n      </g>\n     </g>\n    </g>\n    <g id=\"xtick_3\">\n     <g id=\"line2d_3\">\n      <g>\n       <use style=\"stroke:#000000;stroke-width:0.8;\" x=\"161.11648\" xlink:href=\"#md12ca65600\" y=\"329.4\"/>\n      </g>\n     </g>\n     <g id=\"text_5\">\n      <!-- 1000 -->\n      <g transform=\"translate(148.39148 343.998437)scale(0.1 -0.1)\">\n       <defs>\n        <path d=\"M 12.40625 8.296875 \nL 28.515625 8.296875 \nL 28.515625 63.921875 \nL 10.984375 60.40625 \nL 10.984375 69.390625 \nL 28.421875 72.90625 \nL 38.28125 72.90625 \nL 38.28125 8.296875 \nL 54.390625 8.296875 \nL 54.390625 0 \nL 12.40625 0 \nz\n\" id=\"DejaVuSans-49\"/>\n       </defs>\n       <use xlink:href=\"#DejaVuSans-49\"/>\n       <use x=\"63.623047\" xlink:href=\"#DejaVuSans-48\"/>\n       <use x=\"127.246094\" xlink:href=\"#DejaVuSans-48\"/>\n       <use x=\"190.869141\" xlink:href=\"#DejaVuSans-48\"/>\n      </g>\n     </g>\n    </g>\n    <g id=\"xtick_4\">\n     <g id=\"line2d_4\">\n      <g>\n       <use style=\"stroke:#000000;stroke-width:0.8;\" x=\"218.789945\" xlink:href=\"#md12ca65600\" y=\"329.4\"/>\n      </g>\n     </g>\n     <g id=\"text_6\">\n      <!-- 1500 -->\n      <g transform=\"translate(206.064945 343.998437)scale(0.1 -0.1)\">\n       <use xlink:href=\"#DejaVuSans-49\"/>\n       <use x=\"63.623047\" xlink:href=\"#DejaVuSans-53\"/>\n       <use x=\"127.246094\" xlink:href=\"#DejaVuSans-48\"/>\n       <use x=\"190.869141\" xlink:href=\"#DejaVuSans-48\"/>\n      </g>\n     </g>\n    </g>\n    <g id=\"xtick_5\">\n     <g id=\"line2d_5\">\n      <g>\n       <use style=\"stroke:#000000;stroke-width:0.8;\" x=\"276.46341\" xlink:href=\"#md12ca65600\" y=\"329.4\"/>\n      </g>\n     </g>\n     <g id=\"text_7\">\n      <!-- 2000 -->\n      <g transform=\"translate(263.73841 343.998437)scale(0.1 -0.1)\">\n       <defs>\n        <path d=\"M 19.1875 8.296875 \nL 53.609375 8.296875 \nL 53.609375 0 \nL 7.328125 0 \nL 7.328125 8.296875 \nQ 12.9375 14.109375 22.625 23.890625 \nQ 32.328125 33.6875 34.8125 36.53125 \nQ 39.546875 41.84375 41.421875 45.53125 \nQ 43.3125 49.21875 43.3125 52.78125 \nQ 43.3125 58.59375 39.234375 62.25 \nQ 35.15625 65.921875 28.609375 65.921875 \nQ 23.96875 65.921875 18.8125 64.3125 \nQ 13.671875 62.703125 7.8125 59.421875 \nL 7.8125 69.390625 \nQ 13.765625 71.78125 18.9375 73 \nQ 24.125 74.21875 28.421875 74.21875 \nQ 39.75 74.21875 46.484375 68.546875 \nQ 53.21875 62.890625 53.21875 53.421875 \nQ 53.21875 48.921875 51.53125 44.890625 \nQ 49.859375 40.875 45.40625 35.40625 \nQ 44.1875 33.984375 37.640625 27.21875 \nQ 31.109375 20.453125 19.1875 8.296875 \nz\n\" id=\"DejaVuSans-50\"/>\n       </defs>\n       <use xlink:href=\"#DejaVuSans-50\"/>\n       <use x=\"63.623047\" xlink:href=\"#DejaVuSans-48\"/>\n       <use x=\"127.246094\" xlink:href=\"#DejaVuSans-48\"/>\n       <use x=\"190.869141\" xlink:href=\"#DejaVuSans-48\"/>\n      </g>\n     </g>\n    </g>\n    <g id=\"text_8\">\n     <!-- Iterations -->\n     <g transform=\"translate(137.245526 357.676562)scale(0.1 -0.1)\">\n      <defs>\n       <path d=\"M 9.8125 72.90625 \nL 19.671875 72.90625 \nL 19.671875 0 \nL 9.8125 0 \nz\n\" id=\"DejaVuSans-73\"/>\n       <path d=\"M 18.3125 70.21875 \nL 18.3125 54.6875 \nL 36.8125 54.6875 \nL 36.8125 47.703125 \nL 18.3125 47.703125 \nL 18.3125 18.015625 \nQ 18.3125 11.328125 20.140625 9.421875 \nQ 21.96875 7.515625 27.59375 7.515625 \nL 36.8125 7.515625 \nL 36.8125 0 \nL 27.59375 0 \nQ 17.1875 0 13.234375 3.875 \nQ 9.28125 7.765625 9.28125 18.015625 \nL 9.28125 47.703125 \nL 2.6875 47.703125 \nL 2.6875 54.6875 \nL 9.28125 54.6875 \nL 9.28125 70.21875 \nz\n\" id=\"DejaVuSans-116\"/>\n       <path d=\"M 56.203125 29.59375 \nL 56.203125 25.203125 \nL 14.890625 25.203125 \nQ 15.484375 15.921875 20.484375 11.0625 \nQ 25.484375 6.203125 34.421875 6.203125 \nQ 39.59375 6.203125 44.453125 7.46875 \nQ 49.3125 8.734375 54.109375 11.28125 \nL 54.109375 2.78125 \nQ 49.265625 0.734375 44.1875 -0.34375 \nQ 39.109375 -1.421875 33.890625 -1.421875 \nQ 20.796875 -1.421875 13.15625 6.1875 \nQ 5.515625 13.8125 5.515625 26.8125 \nQ 5.515625 40.234375 12.765625 48.109375 \nQ 20.015625 56 32.328125 56 \nQ 43.359375 56 49.78125 48.890625 \nQ 56.203125 41.796875 56.203125 29.59375 \nz\nM 47.21875 32.234375 \nQ 47.125 39.59375 43.09375 43.984375 \nQ 39.0625 48.390625 32.421875 48.390625 \nQ 24.90625 48.390625 20.390625 44.140625 \nQ 15.875 39.890625 15.1875 32.171875 \nz\n\" id=\"DejaVuSans-101\"/>\n       <path d=\"M 41.109375 46.296875 \nQ 39.59375 47.171875 37.8125 47.578125 \nQ 36.03125 48 33.890625 48 \nQ 26.265625 48 22.1875 43.046875 \nQ 18.109375 38.09375 18.109375 28.8125 \nL 18.109375 0 \nL 9.078125 0 \nL 9.078125 54.6875 \nL 18.109375 54.6875 \nL 18.109375 46.1875 \nQ 20.953125 51.171875 25.484375 53.578125 \nQ 30.03125 56 36.53125 56 \nQ 37.453125 56 38.578125 55.875 \nQ 39.703125 55.765625 41.0625 55.515625 \nz\n\" id=\"DejaVuSans-114\"/>\n       <path d=\"M 34.28125 27.484375 \nQ 23.390625 27.484375 19.1875 25 \nQ 14.984375 22.515625 14.984375 16.5 \nQ 14.984375 11.71875 18.140625 8.90625 \nQ 21.296875 6.109375 26.703125 6.109375 \nQ 34.1875 6.109375 38.703125 11.40625 \nQ 43.21875 16.703125 43.21875 25.484375 \nL 43.21875 27.484375 \nz\nM 52.203125 31.203125 \nL 52.203125 0 \nL 43.21875 0 \nL 43.21875 8.296875 \nQ 40.140625 3.328125 35.546875 0.953125 \nQ 30.953125 -1.421875 24.3125 -1.421875 \nQ 15.921875 -1.421875 10.953125 3.296875 \nQ 6 8.015625 6 15.921875 \nQ 6 25.140625 12.171875 29.828125 \nQ 18.359375 34.515625 30.609375 34.515625 \nL 43.21875 34.515625 \nL 43.21875 35.40625 \nQ 43.21875 41.609375 39.140625 45 \nQ 35.0625 48.390625 27.6875 48.390625 \nQ 23 48.390625 18.546875 47.265625 \nQ 14.109375 46.140625 10.015625 43.890625 \nL 10.015625 52.203125 \nQ 14.9375 54.109375 19.578125 55.046875 \nQ 24.21875 56 28.609375 56 \nQ 40.484375 56 46.34375 49.84375 \nQ 52.203125 43.703125 52.203125 31.203125 \nz\n\" id=\"DejaVuSans-97\"/>\n       <path d=\"M 9.421875 54.6875 \nL 18.40625 54.6875 \nL 18.40625 0 \nL 9.421875 0 \nz\nM 9.421875 75.984375 \nL 18.40625 75.984375 \nL 18.40625 64.59375 \nL 9.421875 64.59375 \nz\n\" id=\"DejaVuSans-105\"/>\n       <path d=\"M 30.609375 48.390625 \nQ 23.390625 48.390625 19.1875 42.75 \nQ 14.984375 37.109375 14.984375 27.296875 \nQ 14.984375 17.484375 19.15625 11.84375 \nQ 23.34375 6.203125 30.609375 6.203125 \nQ 37.796875 6.203125 41.984375 11.859375 \nQ 46.1875 17.53125 46.1875 27.296875 \nQ 46.1875 37.015625 41.984375 42.703125 \nQ 37.796875 48.390625 30.609375 48.390625 \nz\nM 30.609375 56 \nQ 42.328125 56 49.015625 48.375 \nQ 55.71875 40.765625 55.71875 27.296875 \nQ 55.71875 13.875 49.015625 6.21875 \nQ 42.328125 -1.421875 30.609375 -1.421875 \nQ 18.84375 -1.421875 12.171875 6.21875 \nQ 5.515625 13.875 5.515625 27.296875 \nQ 5.515625 40.765625 12.171875 48.375 \nQ 18.84375 56 30.609375 56 \nz\n\" id=\"DejaVuSans-111\"/>\n       <path d=\"M 44.28125 53.078125 \nL 44.28125 44.578125 \nQ 40.484375 46.53125 36.375 47.5 \nQ 32.28125 48.484375 27.875 48.484375 \nQ 21.1875 48.484375 17.84375 46.4375 \nQ 14.5 44.390625 14.5 40.28125 \nQ 14.5 37.15625 16.890625 35.375 \nQ 19.28125 33.59375 26.515625 31.984375 \nL 29.59375 31.296875 \nQ 39.15625 29.25 43.1875 25.515625 \nQ 47.21875 21.78125 47.21875 15.09375 \nQ 47.21875 7.46875 41.1875 3.015625 \nQ 35.15625 -1.421875 24.609375 -1.421875 \nQ 20.21875 -1.421875 15.453125 -0.5625 \nQ 10.6875 0.296875 5.421875 2 \nL 5.421875 11.28125 \nQ 10.40625 8.6875 15.234375 7.390625 \nQ 20.0625 6.109375 24.8125 6.109375 \nQ 31.15625 6.109375 34.5625 8.28125 \nQ 37.984375 10.453125 37.984375 14.40625 \nQ 37.984375 18.0625 35.515625 20.015625 \nQ 33.0625 21.96875 24.703125 23.78125 \nL 21.578125 24.515625 \nQ 13.234375 26.265625 9.515625 29.90625 \nQ 5.8125 33.546875 5.8125 39.890625 \nQ 5.8125 47.609375 11.28125 51.796875 \nQ 16.75 56 26.8125 56 \nQ 31.78125 56 36.171875 55.265625 \nQ 40.578125 54.546875 44.28125 53.078125 \nz\n\" id=\"DejaVuSans-115\"/>\n      </defs>\n      <use xlink:href=\"#DejaVuSans-73\"/>\n      <use x=\"29.492188\" xlink:href=\"#DejaVuSans-116\"/>\n      <use x=\"68.701172\" xlink:href=\"#DejaVuSans-101\"/>\n      <use x=\"130.224609\" xlink:href=\"#DejaVuSans-114\"/>\n      <use x=\"171.337891\" xlink:href=\"#DejaVuSans-97\"/>\n      <use x=\"232.617188\" xlink:href=\"#DejaVuSans-116\"/>\n      <use x=\"271.826172\" xlink:href=\"#DejaVuSans-105\"/>\n      <use x=\"299.609375\" xlink:href=\"#DejaVuSans-111\"/>\n      <use x=\"360.791016\" xlink:href=\"#DejaVuSans-110\"/>\n      <use x=\"424.169922\" xlink:href=\"#DejaVuSans-115\"/>\n     </g>\n    </g>\n   </g>\n   <g id=\"matplotlib.axis_2\">\n    <g id=\"ytick_1\">\n     <g id=\"line2d_6\">\n      <defs>\n       <path d=\"M 0 0 \nL -3.5 0 \n\" id=\"m0fc0b6b496\" style=\"stroke:#000000;stroke-width:0.8;\"/>\n      </defs>\n      <g>\n       <use style=\"stroke:#000000;stroke-width:0.8;\" x=\"34.240625\" xlink:href=\"#m0fc0b6b496\" y=\"294.127014\"/>\n      </g>\n     </g>\n     <g id=\"text_9\">\n      <!-- 1 -->\n      <g transform=\"translate(20.878125 297.926233)scale(0.1 -0.1)\">\n       <use xlink:href=\"#DejaVuSans-49\"/>\n      </g>\n     </g>\n    </g>\n    <g id=\"ytick_2\">\n     <g id=\"line2d_7\">\n      <g>\n       <use style=\"stroke:#000000;stroke-width:0.8;\" x=\"34.240625\" xlink:href=\"#m0fc0b6b496\" y=\"257.785047\"/>\n      </g>\n     </g>\n     <g id=\"text_10\">\n      <!-- 2 -->\n      <g transform=\"translate(20.878125 261.584266)scale(0.1 -0.1)\">\n       <use xlink:href=\"#DejaVuSans-50\"/>\n      </g>\n     </g>\n    </g>\n    <g id=\"ytick_3\">\n     <g id=\"line2d_8\">\n      <g>\n       <use style=\"stroke:#000000;stroke-width:0.8;\" x=\"34.240625\" xlink:href=\"#m0fc0b6b496\" y=\"221.443081\"/>\n      </g>\n     </g>\n     <g id=\"text_11\">\n      <!-- 3 -->\n      <g transform=\"translate(20.878125 225.2423)scale(0.1 -0.1)\">\n       <defs>\n        <path d=\"M 40.578125 39.3125 \nQ 47.65625 37.796875 51.625 33 \nQ 55.609375 28.21875 55.609375 21.1875 \nQ 55.609375 10.40625 48.1875 4.484375 \nQ 40.765625 -1.421875 27.09375 -1.421875 \nQ 22.515625 -1.421875 17.65625 -0.515625 \nQ 12.796875 0.390625 7.625 2.203125 \nL 7.625 11.71875 \nQ 11.71875 9.328125 16.59375 8.109375 \nQ 21.484375 6.890625 26.8125 6.890625 \nQ 36.078125 6.890625 40.9375 10.546875 \nQ 45.796875 14.203125 45.796875 21.1875 \nQ 45.796875 27.640625 41.28125 31.265625 \nQ 36.765625 34.90625 28.71875 34.90625 \nL 20.21875 34.90625 \nL 20.21875 43.015625 \nL 29.109375 43.015625 \nQ 36.375 43.015625 40.234375 45.921875 \nQ 44.09375 48.828125 44.09375 54.296875 \nQ 44.09375 59.90625 40.109375 62.90625 \nQ 36.140625 65.921875 28.71875 65.921875 \nQ 24.65625 65.921875 20.015625 65.03125 \nQ 15.375 64.15625 9.8125 62.3125 \nL 9.8125 71.09375 \nQ 15.4375 72.65625 20.34375 73.4375 \nQ 25.25 74.21875 29.59375 74.21875 \nQ 40.828125 74.21875 47.359375 69.109375 \nQ 53.90625 64.015625 53.90625 55.328125 \nQ 53.90625 49.265625 50.4375 45.09375 \nQ 46.96875 40.921875 40.578125 39.3125 \nz\n\" id=\"DejaVuSans-51\"/>\n       </defs>\n       <use xlink:href=\"#DejaVuSans-51\"/>\n      </g>\n     </g>\n    </g>\n    <g id=\"text_12\">\n     <!-- SOTA model activation -->\n     <g transform=\"translate(14.798438 324.335085)rotate(-90)scale(0.1 -0.1)\">\n      <defs>\n       <path id=\"DejaVuSans-32\"/>\n       <path d=\"M 52 44.1875 \nQ 55.375 50.25 60.0625 53.125 \nQ 64.75 56 71.09375 56 \nQ 79.640625 56 84.28125 50.015625 \nQ 88.921875 44.046875 88.921875 33.015625 \nL 88.921875 0 \nL 79.890625 0 \nL 79.890625 32.71875 \nQ 79.890625 40.578125 77.09375 44.375 \nQ 74.3125 48.1875 68.609375 48.1875 \nQ 61.625 48.1875 57.5625 43.546875 \nQ 53.515625 38.921875 53.515625 30.90625 \nL 53.515625 0 \nL 44.484375 0 \nL 44.484375 32.71875 \nQ 44.484375 40.625 41.703125 44.40625 \nQ 38.921875 48.1875 33.109375 48.1875 \nQ 26.21875 48.1875 22.15625 43.53125 \nQ 18.109375 38.875 18.109375 30.90625 \nL 18.109375 0 \nL 9.078125 0 \nL 9.078125 54.6875 \nL 18.109375 54.6875 \nL 18.109375 46.1875 \nQ 21.1875 51.21875 25.484375 53.609375 \nQ 29.78125 56 35.6875 56 \nQ 41.65625 56 45.828125 52.96875 \nQ 50 49.953125 52 44.1875 \nz\n\" id=\"DejaVuSans-109\"/>\n       <path d=\"M 45.40625 46.390625 \nL 45.40625 75.984375 \nL 54.390625 75.984375 \nL 54.390625 0 \nL 45.40625 0 \nL 45.40625 8.203125 \nQ 42.578125 3.328125 38.25 0.953125 \nQ 33.9375 -1.421875 27.875 -1.421875 \nQ 17.96875 -1.421875 11.734375 6.484375 \nQ 5.515625 14.40625 5.515625 27.296875 \nQ 5.515625 40.1875 11.734375 48.09375 \nQ 17.96875 56 27.875 56 \nQ 33.9375 56 38.25 53.625 \nQ 42.578125 51.265625 45.40625 46.390625 \nz\nM 14.796875 27.296875 \nQ 14.796875 17.390625 18.875 11.75 \nQ 22.953125 6.109375 30.078125 6.109375 \nQ 37.203125 6.109375 41.296875 11.75 \nQ 45.40625 17.390625 45.40625 27.296875 \nQ 45.40625 37.203125 41.296875 42.84375 \nQ 37.203125 48.484375 30.078125 48.484375 \nQ 22.953125 48.484375 18.875 42.84375 \nQ 14.796875 37.203125 14.796875 27.296875 \nz\n\" id=\"DejaVuSans-100\"/>\n       <path d=\"M 48.78125 52.59375 \nL 48.78125 44.1875 \nQ 44.96875 46.296875 41.140625 47.34375 \nQ 37.3125 48.390625 33.40625 48.390625 \nQ 24.65625 48.390625 19.8125 42.84375 \nQ 14.984375 37.3125 14.984375 27.296875 \nQ 14.984375 17.28125 19.8125 11.734375 \nQ 24.65625 6.203125 33.40625 6.203125 \nQ 37.3125 6.203125 41.140625 7.25 \nQ 44.96875 8.296875 48.78125 10.40625 \nL 48.78125 2.09375 \nQ 45.015625 0.34375 40.984375 -0.53125 \nQ 36.96875 -1.421875 32.421875 -1.421875 \nQ 20.0625 -1.421875 12.78125 6.34375 \nQ 5.515625 14.109375 5.515625 27.296875 \nQ 5.515625 40.671875 12.859375 48.328125 \nQ 20.21875 56 33.015625 56 \nQ 37.15625 56 41.109375 55.140625 \nQ 45.0625 54.296875 48.78125 52.59375 \nz\n\" id=\"DejaVuSans-99\"/>\n       <path d=\"M 2.984375 54.6875 \nL 12.5 54.6875 \nL 29.59375 8.796875 \nL 46.6875 54.6875 \nL 56.203125 54.6875 \nL 35.6875 0 \nL 23.484375 0 \nz\n\" id=\"DejaVuSans-118\"/>\n      </defs>\n      <use xlink:href=\"#DejaVuSans-83\"/>\n      <use x=\"63.476562\" xlink:href=\"#DejaVuSans-79\"/>\n      <use x=\"142.1875\" xlink:href=\"#DejaVuSans-84\"/>\n      <use x=\"195.521484\" xlink:href=\"#DejaVuSans-65\"/>\n      <use x=\"263.929688\" xlink:href=\"#DejaVuSans-32\"/>\n      <use x=\"295.716797\" xlink:href=\"#DejaVuSans-109\"/>\n      <use x=\"393.128906\" xlink:href=\"#DejaVuSans-111\"/>\n      <use x=\"454.310547\" xlink:href=\"#DejaVuSans-100\"/>\n      <use x=\"517.787109\" xlink:href=\"#DejaVuSans-101\"/>\n      <use x=\"579.310547\" xlink:href=\"#DejaVuSans-108\"/>\n      <use x=\"607.09375\" xlink:href=\"#DejaVuSans-32\"/>\n      <use x=\"638.880859\" xlink:href=\"#DejaVuSans-97\"/>\n      <use x=\"700.160156\" xlink:href=\"#DejaVuSans-99\"/>\n      <use x=\"755.140625\" xlink:href=\"#DejaVuSans-116\"/>\n      <use x=\"794.349609\" xlink:href=\"#DejaVuSans-105\"/>\n      <use x=\"822.132812\" xlink:href=\"#DejaVuSans-118\"/>\n      <use x=\"881.3125\" xlink:href=\"#DejaVuSans-97\"/>\n      <use x=\"942.591797\" xlink:href=\"#DejaVuSans-116\"/>\n      <use x=\"981.800781\" xlink:href=\"#DejaVuSans-105\"/>\n      <use x=\"1009.583984\" xlink:href=\"#DejaVuSans-111\"/>\n      <use x=\"1070.765625\" xlink:href=\"#DejaVuSans-110\"/>\n     </g>\n    </g>\n   </g>\n   <g id=\"line2d_9\">\n    <path clip-path=\"url(#p455d556fc5)\" d=\"M 45.769551 323.784298 \nL 46.000244 230.34075 \nL 46.230938 224.104578 \nL 47.269061 221.321058 \nL 48.076489 219.775657 \nL 48.883918 218.698916 \nL 49.806693 217.82172 \nL 50.960162 217.043579 \nL 52.344326 216.385901 \nL 54.189876 215.774847 \nL 56.612162 215.224896 \nL 59.957223 214.709933 \nL 64.686447 214.223676 \nL 71.491916 213.763031 \nL 81.642446 213.31871 \nL 96.86824 212.895375 \nL 120.052973 212.491882 \nL 155.925868 212.106645 \nL 212.445864 211.737663 \nL 276.348063 211.470248 \nL 276.348063 211.470248 \n\" style=\"fill:none;stroke:#1f77b4;stroke-linecap:square;stroke-width:1.5;\"/>\n   </g>\n   <g id=\"patch_3\">\n    <path d=\"M 34.240625 329.4 \nL 34.240625 205.854545 \n\" style=\"fill:none;stroke:#000000;stroke-linecap:square;stroke-linejoin:miter;stroke-width:0.8;\"/>\n   </g>\n   <g id=\"patch_4\">\n    <path d=\"M 287.876989 329.4 \nL 287.876989 205.854545 \n\" style=\"fill:none;stroke:#000000;stroke-linecap:square;stroke-linejoin:miter;stroke-width:0.8;\"/>\n   </g>\n   <g id=\"patch_5\">\n    <path d=\"M 34.240625 329.4 \nL 287.876989 329.4 \n\" style=\"fill:none;stroke:#000000;stroke-linecap:square;stroke-linejoin:miter;stroke-width:0.8;\"/>\n   </g>\n   <g id=\"patch_6\">\n    <path d=\"M 34.240625 205.854545 \nL 287.876989 205.854545 \n\" style=\"fill:none;stroke:#000000;stroke-linecap:square;stroke-linejoin:miter;stroke-width:0.8;\"/>\n   </g>\n  </g>\n  <g id=\"axes_4\">\n   <g id=\"patch_7\">\n    <path d=\"M 338.604261 329.4 \nL 592.240625 329.4 \nL 592.240625 205.854545 \nL 338.604261 205.854545 \nz\n\" style=\"fill:#ffffff;\"/>\n   </g>\n   <g id=\"matplotlib.axis_3\">\n    <g id=\"xtick_6\">\n     <g id=\"line2d_10\">\n      <g>\n       <use style=\"stroke:#000000;stroke-width:0.8;\" x=\"350.133187\" xlink:href=\"#md12ca65600\" y=\"329.4\"/>\n      </g>\n     </g>\n     <g id=\"text_13\">\n      <!-- 0 -->\n      <g transform=\"translate(346.951937 343.998437)scale(0.1 -0.1)\">\n       <use xlink:href=\"#DejaVuSans-48\"/>\n      </g>\n     </g>\n    </g>\n    <g id=\"xtick_7\">\n     <g id=\"line2d_11\">\n      <g>\n       <use style=\"stroke:#000000;stroke-width:0.8;\" x=\"407.806652\" xlink:href=\"#md12ca65600\" y=\"329.4\"/>\n      </g>\n     </g>\n     <g id=\"text_14\">\n      <!-- 500 -->\n      <g transform=\"translate(398.262902 343.998437)scale(0.1 -0.1)\">\n       <use xlink:href=\"#DejaVuSans-53\"/>\n       <use x=\"63.623047\" xlink:href=\"#DejaVuSans-48\"/>\n       <use x=\"127.246094\" xlink:href=\"#DejaVuSans-48\"/>\n      </g>\n     </g>\n    </g>\n    <g id=\"xtick_8\">\n     <g id=\"line2d_12\">\n      <g>\n       <use style=\"stroke:#000000;stroke-width:0.8;\" x=\"465.480117\" xlink:href=\"#md12ca65600\" y=\"329.4\"/>\n      </g>\n     </g>\n     <g id=\"text_15\">\n      <!-- 1000 -->\n      <g transform=\"translate(452.755117 343.998437)scale(0.1 -0.1)\">\n       <use xlink:href=\"#DejaVuSans-49\"/>\n       <use x=\"63.623047\" xlink:href=\"#DejaVuSans-48\"/>\n       <use x=\"127.246094\" xlink:href=\"#DejaVuSans-48\"/>\n       <use x=\"190.869141\" xlink:href=\"#DejaVuSans-48\"/>\n      </g>\n     </g>\n    </g>\n    <g id=\"xtick_9\">\n     <g id=\"line2d_13\">\n      <g>\n       <use style=\"stroke:#000000;stroke-width:0.8;\" x=\"523.153581\" xlink:href=\"#md12ca65600\" y=\"329.4\"/>\n      </g>\n     </g>\n     <g id=\"text_16\">\n      <!-- 1500 -->\n      <g transform=\"translate(510.428581 343.998437)scale(0.1 -0.1)\">\n       <use xlink:href=\"#DejaVuSans-49\"/>\n       <use x=\"63.623047\" xlink:href=\"#DejaVuSans-53\"/>\n       <use x=\"127.246094\" xlink:href=\"#DejaVuSans-48\"/>\n       <use x=\"190.869141\" xlink:href=\"#DejaVuSans-48\"/>\n      </g>\n     </g>\n    </g>\n    <g id=\"xtick_10\">\n     <g id=\"line2d_14\">\n      <g>\n       <use style=\"stroke:#000000;stroke-width:0.8;\" x=\"580.827046\" xlink:href=\"#md12ca65600\" y=\"329.4\"/>\n      </g>\n     </g>\n     <g id=\"text_17\">\n      <!-- 2000 -->\n      <g transform=\"translate(568.102046 343.998437)scale(0.1 -0.1)\">\n       <use xlink:href=\"#DejaVuSans-50\"/>\n       <use x=\"63.623047\" xlink:href=\"#DejaVuSans-48\"/>\n       <use x=\"127.246094\" xlink:href=\"#DejaVuSans-48\"/>\n       <use x=\"190.869141\" xlink:href=\"#DejaVuSans-48\"/>\n      </g>\n     </g>\n    </g>\n    <g id=\"text_18\">\n     <!-- Iterations -->\n     <g transform=\"translate(441.609162 357.676562)scale(0.1 -0.1)\">\n      <use xlink:href=\"#DejaVuSans-73\"/>\n      <use x=\"29.492188\" xlink:href=\"#DejaVuSans-116\"/>\n      <use x=\"68.701172\" xlink:href=\"#DejaVuSans-101\"/>\n      <use x=\"130.224609\" xlink:href=\"#DejaVuSans-114\"/>\n      <use x=\"171.337891\" xlink:href=\"#DejaVuSans-97\"/>\n      <use x=\"232.617188\" xlink:href=\"#DejaVuSans-116\"/>\n      <use x=\"271.826172\" xlink:href=\"#DejaVuSans-105\"/>\n      <use x=\"299.609375\" xlink:href=\"#DejaVuSans-111\"/>\n      <use x=\"360.791016\" xlink:href=\"#DejaVuSans-110\"/>\n      <use x=\"424.169922\" xlink:href=\"#DejaVuSans-115\"/>\n     </g>\n    </g>\n   </g>\n   <g id=\"matplotlib.axis_4\">\n    <g id=\"ytick_4\">\n     <g id=\"line2d_15\">\n      <g>\n       <use style=\"stroke:#000000;stroke-width:0.8;\" x=\"338.604261\" xlink:href=\"#m0fc0b6b496\" y=\"316.55401\"/>\n      </g>\n     </g>\n     <g id=\"text_19\">\n      <!-- 0.50 -->\n      <g transform=\"translate(309.338636 320.353229)scale(0.1 -0.1)\">\n       <defs>\n        <path d=\"M 10.6875 12.40625 \nL 21 12.40625 \nL 21 0 \nL 10.6875 0 \nz\n\" id=\"DejaVuSans-46\"/>\n       </defs>\n       <use xlink:href=\"#DejaVuSans-48\"/>\n       <use x=\"63.623047\" xlink:href=\"#DejaVuSans-46\"/>\n       <use x=\"95.410156\" xlink:href=\"#DejaVuSans-53\"/>\n       <use x=\"159.033203\" xlink:href=\"#DejaVuSans-48\"/>\n      </g>\n     </g>\n    </g>\n    <g id=\"ytick_5\">\n     <g id=\"line2d_16\">\n      <g>\n       <use style=\"stroke:#000000;stroke-width:0.8;\" x=\"338.604261\" xlink:href=\"#m0fc0b6b496\" y=\"294.26297\"/>\n      </g>\n     </g>\n     <g id=\"text_20\">\n      <!-- 0.75 -->\n      <g transform=\"translate(309.338636 298.062189)scale(0.1 -0.1)\">\n       <defs>\n        <path d=\"M 8.203125 72.90625 \nL 55.078125 72.90625 \nL 55.078125 68.703125 \nL 28.609375 0 \nL 18.3125 0 \nL 43.21875 64.59375 \nL 8.203125 64.59375 \nz\n\" id=\"DejaVuSans-55\"/>\n       </defs>\n       <use xlink:href=\"#DejaVuSans-48\"/>\n       <use x=\"63.623047\" xlink:href=\"#DejaVuSans-46\"/>\n       <use x=\"95.410156\" xlink:href=\"#DejaVuSans-55\"/>\n       <use x=\"159.033203\" xlink:href=\"#DejaVuSans-53\"/>\n      </g>\n     </g>\n    </g>\n    <g id=\"ytick_6\">\n     <g id=\"line2d_17\">\n      <g>\n       <use style=\"stroke:#000000;stroke-width:0.8;\" x=\"338.604261\" xlink:href=\"#m0fc0b6b496\" y=\"271.97193\"/>\n      </g>\n     </g>\n     <g id=\"text_21\">\n      <!-- 1.00 -->\n      <g transform=\"translate(309.338636 275.771149)scale(0.1 -0.1)\">\n       <use xlink:href=\"#DejaVuSans-49\"/>\n       <use x=\"63.623047\" xlink:href=\"#DejaVuSans-46\"/>\n       <use x=\"95.410156\" xlink:href=\"#DejaVuSans-48\"/>\n       <use x=\"159.033203\" xlink:href=\"#DejaVuSans-48\"/>\n      </g>\n     </g>\n    </g>\n    <g id=\"ytick_7\">\n     <g id=\"line2d_18\">\n      <g>\n       <use style=\"stroke:#000000;stroke-width:0.8;\" x=\"338.604261\" xlink:href=\"#m0fc0b6b496\" y=\"249.68089\"/>\n      </g>\n     </g>\n     <g id=\"text_22\">\n      <!-- 1.25 -->\n      <g transform=\"translate(309.338636 253.480109)scale(0.1 -0.1)\">\n       <use xlink:href=\"#DejaVuSans-49\"/>\n       <use x=\"63.623047\" xlink:href=\"#DejaVuSans-46\"/>\n       <use x=\"95.410156\" xlink:href=\"#DejaVuSans-50\"/>\n       <use x=\"159.033203\" xlink:href=\"#DejaVuSans-53\"/>\n      </g>\n     </g>\n    </g>\n    <g id=\"ytick_8\">\n     <g id=\"line2d_19\">\n      <g>\n       <use style=\"stroke:#000000;stroke-width:0.8;\" x=\"338.604261\" xlink:href=\"#m0fc0b6b496\" y=\"227.38985\"/>\n      </g>\n     </g>\n     <g id=\"text_23\">\n      <!-- 1.50 -->\n      <g transform=\"translate(309.338636 231.189069)scale(0.1 -0.1)\">\n       <use xlink:href=\"#DejaVuSans-49\"/>\n       <use x=\"63.623047\" xlink:href=\"#DejaVuSans-46\"/>\n       <use x=\"95.410156\" xlink:href=\"#DejaVuSans-53\"/>\n       <use x=\"159.033203\" xlink:href=\"#DejaVuSans-48\"/>\n      </g>\n     </g>\n    </g>\n    <g id=\"text_24\">\n     <!-- SOTA_ln model activation -->\n     <g transform=\"translate(302.980824 331.392898)rotate(-90)scale(0.1 -0.1)\">\n      <use xlink:href=\"#DejaVuSans-83\"/>\n      <use x=\"63.476562\" xlink:href=\"#DejaVuSans-79\"/>\n      <use x=\"142.1875\" xlink:href=\"#DejaVuSans-84\"/>\n      <use x=\"195.521484\" xlink:href=\"#DejaVuSans-65\"/>\n      <use x=\"263.929688\" xlink:href=\"#DejaVuSans-95\"/>\n      <use x=\"313.929688\" xlink:href=\"#DejaVuSans-108\"/>\n      <use x=\"341.712891\" xlink:href=\"#DejaVuSans-110\"/>\n      <use x=\"405.091797\" xlink:href=\"#DejaVuSans-32\"/>\n      <use x=\"436.878906\" xlink:href=\"#DejaVuSans-109\"/>\n      <use x=\"534.291016\" xlink:href=\"#DejaVuSans-111\"/>\n      <use x=\"595.472656\" xlink:href=\"#DejaVuSans-100\"/>\n      <use x=\"658.949219\" xlink:href=\"#DejaVuSans-101\"/>\n      <use x=\"720.472656\" xlink:href=\"#DejaVuSans-108\"/>\n      <use x=\"748.255859\" xlink:href=\"#DejaVuSans-32\"/>\n      <use x=\"780.042969\" xlink:href=\"#DejaVuSans-97\"/>\n      <use x=\"841.322266\" xlink:href=\"#DejaVuSans-99\"/>\n      <use x=\"896.302734\" xlink:href=\"#DejaVuSans-116\"/>\n      <use x=\"935.511719\" xlink:href=\"#DejaVuSans-105\"/>\n      <use x=\"963.294922\" xlink:href=\"#DejaVuSans-118\"/>\n      <use x=\"1022.474609\" xlink:href=\"#DejaVuSans-97\"/>\n      <use x=\"1083.753906\" xlink:href=\"#DejaVuSans-116\"/>\n      <use x=\"1122.962891\" xlink:href=\"#DejaVuSans-105\"/>\n      <use x=\"1150.746094\" xlink:href=\"#DejaVuSans-111\"/>\n      <use x=\"1211.927734\" xlink:href=\"#DejaVuSans-110\"/>\n     </g>\n    </g>\n   </g>\n   <g id=\"line2d_20\">\n    <path clip-path=\"url(#p8a272eb2b3)\" d=\"M 350.133187 323.784298 \nL 350.363881 211.470248 \nL 350.594575 212.302461 \nL 350.940615 213.190817 \nL 351.286656 213.498819 \nL 351.863391 213.628931 \nL 353.132207 213.563232 \nL 357.976778 213.226659 \nL 365.128288 213.017955 \nL 380.008042 212.836387 \nL 413.458651 212.672995 \nL 494.432196 212.52274 \nL 580.711699 212.44739 \nL 580.711699 212.44739 \n\" style=\"fill:none;stroke:#1f77b4;stroke-linecap:square;stroke-width:1.5;\"/>\n   </g>\n   <g id=\"patch_8\">\n    <path d=\"M 338.604261 329.4 \nL 338.604261 205.854545 \n\" style=\"fill:none;stroke:#000000;stroke-linecap:square;stroke-linejoin:miter;stroke-width:0.8;\"/>\n   </g>\n   <g id=\"patch_9\">\n    <path d=\"M 592.240625 329.4 \nL 592.240625 205.854545 \n\" style=\"fill:none;stroke:#000000;stroke-linecap:square;stroke-linejoin:miter;stroke-width:0.8;\"/>\n   </g>\n   <g id=\"patch_10\">\n    <path d=\"M 338.604261 329.4 \nL 592.240625 329.4 \n\" style=\"fill:none;stroke:#000000;stroke-linecap:square;stroke-linejoin:miter;stroke-width:0.8;\"/>\n   </g>\n   <g id=\"patch_11\">\n    <path d=\"M 338.604261 205.854545 \nL 592.240625 205.854545 \n\" style=\"fill:none;stroke:#000000;stroke-linecap:square;stroke-linejoin:miter;stroke-width:0.8;\"/>\n   </g>\n  </g>\n  <g id=\"text_25\">\n   <!-- MEIs -->\n   <g transform=\"translate(290.376875 16.318125)scale(0.12 -0.12)\">\n    <defs>\n     <path d=\"M 9.8125 72.90625 \nL 24.515625 72.90625 \nL 43.109375 23.296875 \nL 61.8125 72.90625 \nL 76.515625 72.90625 \nL 76.515625 0 \nL 66.890625 0 \nL 66.890625 64.015625 \nL 48.09375 14.015625 \nL 38.1875 14.015625 \nL 19.390625 64.015625 \nL 19.390625 0 \nL 9.8125 0 \nz\n\" id=\"DejaVuSans-77\"/>\n     <path d=\"M 9.8125 72.90625 \nL 55.90625 72.90625 \nL 55.90625 64.59375 \nL 19.671875 64.59375 \nL 19.671875 43.015625 \nL 54.390625 43.015625 \nL 54.390625 34.71875 \nL 19.671875 34.71875 \nL 19.671875 8.296875 \nL 56.78125 8.296875 \nL 56.78125 0 \nL 9.8125 0 \nz\n\" id=\"DejaVuSans-69\"/>\n    </defs>\n    <use xlink:href=\"#DejaVuSans-77\"/>\n    <use x=\"86.279297\" xlink:href=\"#DejaVuSans-69\"/>\n    <use x=\"149.462891\" xlink:href=\"#DejaVuSans-73\"/>\n    <use x=\"178.955078\" xlink:href=\"#DejaVuSans-115\"/>\n   </g>\n  </g>\n </g>\n <defs>\n  <clipPath id=\"paaff50ee71\">\n   <rect height=\"123.545455\" width=\"219.636364\" x=\"51.240625\" y=\"57.6\"/>\n  </clipPath>\n  <clipPath id=\"p5f5afe59ca\">\n   <rect height=\"123.545455\" width=\"219.636364\" x=\"355.604261\" y=\"57.6\"/>\n  </clipPath>\n  <clipPath id=\"p455d556fc5\">\n   <rect height=\"123.545455\" width=\"253.636364\" x=\"34.240625\" y=\"205.854545\"/>\n  </clipPath>\n  <clipPath id=\"p8a272eb2b3\">\n   <rect height=\"123.545455\" width=\"253.636364\" x=\"338.604261\" y=\"205.854545\"/>\n  </clipPath>\n </defs>\n</svg>\n"
     },
     "metadata": {
      "needs_background": "light"
     }
    }
   ],
   "metadata": {}
  },
  {
   "cell_type": "markdown",
   "source": [
    "### MEI cross activation"
   ],
   "metadata": {}
  },
  {
   "cell_type": "code",
   "execution_count": 28,
   "source": [
    "neuron_idx_ls = np.random.randint(0, high=5335, size=20)\n",
    "meis = []\n",
    "for i in tqdm(neuron_idx_ls):\n",
    "    _, mei = generate_mei(\n",
    "            sota_cnn_model,\n",
    "            input_image=np.random.normal(input_mean, input_std / 10, (36, 64)),\n",
    "            neuron_idx=i,\n",
    "            iterations=2000,\n",
    "            mean_constr=input_mean,\n",
    "            std_constr=input_std / 10,\n",
    "            disable_progress_bar=True,\n",
    "    )\n",
    "    meis.append(mei)\n"
   ],
   "outputs": [
    {
     "output_type": "stream",
     "name": "stderr",
     "text": [
      "100%|██████████| 20/20 [04:25<00:00, 13.25s/it]\n"
     ]
    }
   ],
   "metadata": {}
  },
  {
   "cell_type": "code",
   "execution_count": 29,
   "source": [
    "meis = torch.tensor(np.stack(meis))[:, None, ...].cuda()\n",
    "activations = sota_cnn_model(meis).cpu().detach().numpy().squeeze()[:, neuron_idx_ls]\n",
    "activations = activations / activations.max(axis=0, keepdims=True)\n",
    "plt.imshow(activations, cmap='gray')\n",
    "plt.ylabel('MEIs')\n",
    "plt.xlabel('Neurons')"
   ],
   "outputs": [
    {
     "output_type": "execute_result",
     "data": {
      "text/plain": [
       "Text(0.5, 0, 'Neurons')"
      ]
     },
     "metadata": {},
     "execution_count": 29
    },
    {
     "output_type": "display_data",
     "data": {
      "text/plain": [
       "<Figure size 432x288 with 1 Axes>"
      ],
      "image/png": "[encoded data removed]",
      "image/svg+xml": "<?xml version=\"1.0\" encoding=\"utf-8\" standalone=\"no\"?>\n<!DOCTYPE svg PUBLIC \"-//W3C//DTD SVG 1.1//EN\"\n  \"http://www.w3.org/Graphics/SVG/1.1/DTD/svg11.dtd\">\n<!-- Created with matplotlib (https://matplotlib.org/) -->\n<svg height=\"262.19625pt\" version=\"1.1\" viewBox=\"0 0 274.78375 262.19625\" width=\"274.78375pt\" xmlns=\"http://www.w3.org/2000/svg\" xmlns:xlink=\"http://www.w3.org/1999/xlink\">\n <metadata>\n  <rdf:RDF xmlns:cc=\"http://creativecommons.org/ns#\" xmlns:dc=\"http://purl.org/dc/elements/1.1/\" xmlns:rdf=\"http://www.w3.org/1999/02/22-rdf-syntax-ns#\">\n   <cc:Work>\n    <dc:type rdf:resource=\"http://purl.org/dc/dcmitype/StillImage\"/>\n    <dc:date>2021-07-28T06:44:14.301021</dc:date>\n    <dc:format>image/svg+xml</dc:format>\n    <dc:creator>\n     <cc:Agent>\n      <dc:title>Matplotlib v3.3.2, https://matplotlib.org/</dc:title>\n     </cc:Agent>\n    </dc:creator>\n   </cc:Work>\n  </rdf:RDF>\n </metadata>\n <defs>\n  <style type=\"text/css\">*{stroke-linecap:butt;stroke-linejoin:round;}</style>\n </defs>\n <g id=\"figure_1\">\n  <g id=\"patch_1\">\n   <path d=\"M 0 262.19625 \nL 274.78375 262.19625 \nL 274.78375 0 \nL 0 0 \nz\n\" style=\"fill:none;\"/>\n  </g>\n  <g id=\"axes_1\">\n   <g id=\"patch_2\">\n    <path d=\"M 50.14375 224.64 \nL 267.58375 224.64 \nL 267.58375 7.2 \nL 50.14375 7.2 \nz\n\" style=\"fill:#ffffff;\"/>\n   </g>\n   <g clip-path=\"url(#p42f0632c15)\">\n    <image height=\"218\" id=\"image21a73d8876\" transform=\"scale(1 -1)translate(0 -218)\" width=\"218\" x=\"50.14375\" xlink:href=\"data:image/png;base64,\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\" y=\"-6.64\"/>\n   </g>\n   <g id=\"matplotlib.axis_1\">\n    <g id=\"xtick_1\">\n     <g id=\"line2d_1\">\n      <defs>\n       <path d=\"M 0 0 \nL 0 3.5 \n\" id=\"m2b890558da\" style=\"stroke:#000000;stroke-width:0.8;\"/>\n      </defs>\n      <g>\n       <use style=\"stroke:#000000;stroke-width:0.8;\" x=\"55.57975\" xlink:href=\"#m2b890558da\" y=\"224.64\"/>\n      </g>\n     </g>\n     <g id=\"text_1\">\n      <!-- 0 -->\n      <g transform=\"translate(52.3985 239.238438)scale(0.1 -0.1)\">\n       <defs>\n        <path d=\"M 31.78125 66.40625 \nQ 24.171875 66.40625 20.328125 58.90625 \nQ 16.5 51.421875 16.5 36.375 \nQ 16.5 21.390625 20.328125 13.890625 \nQ 24.171875 6.390625 31.78125 6.390625 \nQ 39.453125 6.390625 43.28125 13.890625 \nQ 47.125 21.390625 47.125 36.375 \nQ 47.125 51.421875 43.28125 58.90625 \nQ 39.453125 66.40625 31.78125 66.40625 \nz\nM 31.78125 74.21875 \nQ 44.046875 74.21875 50.515625 64.515625 \nQ 56.984375 54.828125 56.984375 36.375 \nQ 56.984375 17.96875 50.515625 8.265625 \nQ 44.046875 -1.421875 31.78125 -1.421875 \nQ 19.53125 -1.421875 13.0625 8.265625 \nQ 6.59375 17.96875 6.59375 36.375 \nQ 6.59375 54.828125 13.0625 64.515625 \nQ 19.53125 74.21875 31.78125 74.21875 \nz\n\" id=\"DejaVuSans-48\"/>\n       </defs>\n       <use xlink:href=\"#DejaVuSans-48\"/>\n      </g>\n     </g>\n    </g>\n    <g id=\"xtick_2\">\n     <g id=\"line2d_2\">\n      <g>\n       <use style=\"stroke:#000000;stroke-width:0.8;\" x=\"109.93975\" xlink:href=\"#m2b890558da\" y=\"224.64\"/>\n      </g>\n     </g>\n     <g id=\"text_2\">\n      <!-- 5 -->\n      <g transform=\"translate(106.7585 239.238438)scale(0.1 -0.1)\">\n       <defs>\n        <path d=\"M 10.796875 72.90625 \nL 49.515625 72.90625 \nL 49.515625 64.59375 \nL 19.828125 64.59375 \nL 19.828125 46.734375 \nQ 21.96875 47.46875 24.109375 47.828125 \nQ 26.265625 48.1875 28.421875 48.1875 \nQ 40.625 48.1875 47.75 41.5 \nQ 54.890625 34.8125 54.890625 23.390625 \nQ 54.890625 11.625 47.5625 5.09375 \nQ 40.234375 -1.421875 26.90625 -1.421875 \nQ 22.3125 -1.421875 17.546875 -0.640625 \nQ 12.796875 0.140625 7.71875 1.703125 \nL 7.71875 11.625 \nQ 12.109375 9.234375 16.796875 8.0625 \nQ 21.484375 6.890625 26.703125 6.890625 \nQ 35.15625 6.890625 40.078125 11.328125 \nQ 45.015625 15.765625 45.015625 23.390625 \nQ 45.015625 31 40.078125 35.4375 \nQ 35.15625 39.890625 26.703125 39.890625 \nQ 22.75 39.890625 18.8125 39.015625 \nQ 14.890625 38.140625 10.796875 36.28125 \nz\n\" id=\"DejaVuSans-53\"/>\n       </defs>\n       <use xlink:href=\"#DejaVuSans-53\"/>\n      </g>\n     </g>\n    </g>\n    <g id=\"xtick_3\">\n     <g id=\"line2d_3\">\n      <g>\n       <use style=\"stroke:#000000;stroke-width:0.8;\" x=\"164.29975\" xlink:href=\"#m2b890558da\" y=\"224.64\"/>\n      </g>\n     </g>\n     <g id=\"text_3\">\n      <!-- 10 -->\n      <g transform=\"translate(157.93725 239.238438)scale(0.1 -0.1)\">\n       <defs>\n        <path d=\"M 12.40625 8.296875 \nL 28.515625 8.296875 \nL 28.515625 63.921875 \nL 10.984375 60.40625 \nL 10.984375 69.390625 \nL 28.421875 72.90625 \nL 38.28125 72.90625 \nL 38.28125 8.296875 \nL 54.390625 8.296875 \nL 54.390625 0 \nL 12.40625 0 \nz\n\" id=\"DejaVuSans-49\"/>\n       </defs>\n       <use xlink:href=\"#DejaVuSans-49\"/>\n       <use x=\"63.623047\" xlink:href=\"#DejaVuSans-48\"/>\n      </g>\n     </g>\n    </g>\n    <g id=\"xtick_4\">\n     <g id=\"line2d_4\">\n      <g>\n       <use style=\"stroke:#000000;stroke-width:0.8;\" x=\"218.65975\" xlink:href=\"#m2b890558da\" y=\"224.64\"/>\n      </g>\n     </g>\n     <g id=\"text_4\">\n      <!-- 15 -->\n      <g transform=\"translate(212.29725 239.238438)scale(0.1 -0.1)\">\n       <use xlink:href=\"#DejaVuSans-49\"/>\n       <use x=\"63.623047\" xlink:href=\"#DejaVuSans-53\"/>\n      </g>\n     </g>\n    </g>\n    <g id=\"text_5\">\n     <!-- Neurons -->\n     <g transform=\"translate(138.102031 252.916563)scale(0.1 -0.1)\">\n      <defs>\n       <path d=\"M 9.8125 72.90625 \nL 23.09375 72.90625 \nL 55.421875 11.921875 \nL 55.421875 72.90625 \nL 64.984375 72.90625 \nL 64.984375 0 \nL 51.703125 0 \nL 19.390625 60.984375 \nL 19.390625 0 \nL 9.8125 0 \nz\n\" id=\"DejaVuSans-78\"/>\n       <path d=\"M 56.203125 29.59375 \nL 56.203125 25.203125 \nL 14.890625 25.203125 \nQ 15.484375 15.921875 20.484375 11.0625 \nQ 25.484375 6.203125 34.421875 6.203125 \nQ 39.59375 6.203125 44.453125 7.46875 \nQ 49.3125 8.734375 54.109375 11.28125 \nL 54.109375 2.78125 \nQ 49.265625 0.734375 44.1875 -0.34375 \nQ 39.109375 -1.421875 33.890625 -1.421875 \nQ 20.796875 -1.421875 13.15625 6.1875 \nQ 5.515625 13.8125 5.515625 26.8125 \nQ 5.515625 40.234375 12.765625 48.109375 \nQ 20.015625 56 32.328125 56 \nQ 43.359375 56 49.78125 48.890625 \nQ 56.203125 41.796875 56.203125 29.59375 \nz\nM 47.21875 32.234375 \nQ 47.125 39.59375 43.09375 43.984375 \nQ 39.0625 48.390625 32.421875 48.390625 \nQ 24.90625 48.390625 20.390625 44.140625 \nQ 15.875 39.890625 15.1875 32.171875 \nz\n\" id=\"DejaVuSans-101\"/>\n       <path d=\"M 8.5 21.578125 \nL 8.5 54.6875 \nL 17.484375 54.6875 \nL 17.484375 21.921875 \nQ 17.484375 14.15625 20.5 10.265625 \nQ 23.53125 6.390625 29.59375 6.390625 \nQ 36.859375 6.390625 41.078125 11.03125 \nQ 45.3125 15.671875 45.3125 23.6875 \nL 45.3125 54.6875 \nL 54.296875 54.6875 \nL 54.296875 0 \nL 45.3125 0 \nL 45.3125 8.40625 \nQ 42.046875 3.421875 37.71875 1 \nQ 33.40625 -1.421875 27.6875 -1.421875 \nQ 18.265625 -1.421875 13.375 4.4375 \nQ 8.5 10.296875 8.5 21.578125 \nz\nM 31.109375 56 \nz\n\" id=\"DejaVuSans-117\"/>\n       <path d=\"M 41.109375 46.296875 \nQ 39.59375 47.171875 37.8125 47.578125 \nQ 36.03125 48 33.890625 48 \nQ 26.265625 48 22.1875 43.046875 \nQ 18.109375 38.09375 18.109375 28.8125 \nL 18.109375 0 \nL 9.078125 0 \nL 9.078125 54.6875 \nL 18.109375 54.6875 \nL 18.109375 46.1875 \nQ 20.953125 51.171875 25.484375 53.578125 \nQ 30.03125 56 36.53125 56 \nQ 37.453125 56 38.578125 55.875 \nQ 39.703125 55.765625 41.0625 55.515625 \nz\n\" id=\"DejaVuSans-114\"/>\n       <path d=\"M 30.609375 48.390625 \nQ 23.390625 48.390625 19.1875 42.75 \nQ 14.984375 37.109375 14.984375 27.296875 \nQ 14.984375 17.484375 19.15625 11.84375 \nQ 23.34375 6.203125 30.609375 6.203125 \nQ 37.796875 6.203125 41.984375 11.859375 \nQ 46.1875 17.53125 46.1875 27.296875 \nQ 46.1875 37.015625 41.984375 42.703125 \nQ 37.796875 48.390625 30.609375 48.390625 \nz\nM 30.609375 56 \nQ 42.328125 56 49.015625 48.375 \nQ 55.71875 40.765625 55.71875 27.296875 \nQ 55.71875 13.875 49.015625 6.21875 \nQ 42.328125 -1.421875 30.609375 -1.421875 \nQ 18.84375 -1.421875 12.171875 6.21875 \nQ 5.515625 13.875 5.515625 27.296875 \nQ 5.515625 40.765625 12.171875 48.375 \nQ 18.84375 56 30.609375 56 \nz\n\" id=\"DejaVuSans-111\"/>\n       <path d=\"M 54.890625 33.015625 \nL 54.890625 0 \nL 45.90625 0 \nL 45.90625 32.71875 \nQ 45.90625 40.484375 42.875 44.328125 \nQ 39.84375 48.1875 33.796875 48.1875 \nQ 26.515625 48.1875 22.3125 43.546875 \nQ 18.109375 38.921875 18.109375 30.90625 \nL 18.109375 0 \nL 9.078125 0 \nL 9.078125 54.6875 \nL 18.109375 54.6875 \nL 18.109375 46.1875 \nQ 21.34375 51.125 25.703125 53.5625 \nQ 30.078125 56 35.796875 56 \nQ 45.21875 56 50.046875 50.171875 \nQ 54.890625 44.34375 54.890625 33.015625 \nz\n\" id=\"DejaVuSans-110\"/>\n       <path d=\"M 44.28125 53.078125 \nL 44.28125 44.578125 \nQ 40.484375 46.53125 36.375 47.5 \nQ 32.28125 48.484375 27.875 48.484375 \nQ 21.1875 48.484375 17.84375 46.4375 \nQ 14.5 44.390625 14.5 40.28125 \nQ 14.5 37.15625 16.890625 35.375 \nQ 19.28125 33.59375 26.515625 31.984375 \nL 29.59375 31.296875 \nQ 39.15625 29.25 43.1875 25.515625 \nQ 47.21875 21.78125 47.21875 15.09375 \nQ 47.21875 7.46875 41.1875 3.015625 \nQ 35.15625 -1.421875 24.609375 -1.421875 \nQ 20.21875 -1.421875 15.453125 -0.5625 \nQ 10.6875 0.296875 5.421875 2 \nL 5.421875 11.28125 \nQ 10.40625 8.6875 15.234375 7.390625 \nQ 20.0625 6.109375 24.8125 6.109375 \nQ 31.15625 6.109375 34.5625 8.28125 \nQ 37.984375 10.453125 37.984375 14.40625 \nQ 37.984375 18.0625 35.515625 20.015625 \nQ 33.0625 21.96875 24.703125 23.78125 \nL 21.578125 24.515625 \nQ 13.234375 26.265625 9.515625 29.90625 \nQ 5.8125 33.546875 5.8125 39.890625 \nQ 5.8125 47.609375 11.28125 51.796875 \nQ 16.75 56 26.8125 56 \nQ 31.78125 56 36.171875 55.265625 \nQ 40.578125 54.546875 44.28125 53.078125 \nz\n\" id=\"DejaVuSans-115\"/>\n      </defs>\n      <use xlink:href=\"#DejaVuSans-78\"/>\n      <use x=\"74.804688\" xlink:href=\"#DejaVuSans-101\"/>\n      <use x=\"136.328125\" xlink:href=\"#DejaVuSans-117\"/>\n      <use x=\"199.707031\" xlink:href=\"#DejaVuSans-114\"/>\n      <use x=\"238.570312\" xlink:href=\"#DejaVuSans-111\"/>\n      <use x=\"299.751953\" xlink:href=\"#DejaVuSans-110\"/>\n      <use x=\"363.130859\" xlink:href=\"#DejaVuSans-115\"/>\n     </g>\n    </g>\n   </g>\n   <g id=\"matplotlib.axis_2\">\n    <g id=\"ytick_1\">\n     <g id=\"line2d_5\">\n      <defs>\n       <path d=\"M 0 0 \nL -3.5 0 \n\" id=\"m26f441693a\" style=\"stroke:#000000;stroke-width:0.8;\"/>\n      </defs>\n      <g>\n       <use style=\"stroke:#000000;stroke-width:0.8;\" x=\"50.14375\" xlink:href=\"#m26f441693a\" y=\"12.636\"/>\n      </g>\n     </g>\n     <g id=\"text_6\">\n      <!-- 0.0 -->\n      <g transform=\"translate(27.240625 16.435219)scale(0.1 -0.1)\">\n       <defs>\n        <path d=\"M 10.6875 12.40625 \nL 21 12.40625 \nL 21 0 \nL 10.6875 0 \nz\n\" id=\"DejaVuSans-46\"/>\n       </defs>\n       <use xlink:href=\"#DejaVuSans-48\"/>\n       <use x=\"63.623047\" xlink:href=\"#DejaVuSans-46\"/>\n       <use x=\"95.410156\" xlink:href=\"#DejaVuSans-48\"/>\n      </g>\n     </g>\n    </g>\n    <g id=\"ytick_2\">\n     <g id=\"line2d_6\">\n      <g>\n       <use style=\"stroke:#000000;stroke-width:0.8;\" x=\"50.14375\" xlink:href=\"#m26f441693a\" y=\"39.816\"/>\n      </g>\n     </g>\n     <g id=\"text_7\">\n      <!-- 2.5 -->\n      <g transform=\"translate(27.240625 43.615219)scale(0.1 -0.1)\">\n       <defs>\n        <path d=\"M 19.1875 8.296875 \nL 53.609375 8.296875 \nL 53.609375 0 \nL 7.328125 0 \nL 7.328125 8.296875 \nQ 12.9375 14.109375 22.625 23.890625 \nQ 32.328125 33.6875 34.8125 36.53125 \nQ 39.546875 41.84375 41.421875 45.53125 \nQ 43.3125 49.21875 43.3125 52.78125 \nQ 43.3125 58.59375 39.234375 62.25 \nQ 35.15625 65.921875 28.609375 65.921875 \nQ 23.96875 65.921875 18.8125 64.3125 \nQ 13.671875 62.703125 7.8125 59.421875 \nL 7.8125 69.390625 \nQ 13.765625 71.78125 18.9375 73 \nQ 24.125 74.21875 28.421875 74.21875 \nQ 39.75 74.21875 46.484375 68.546875 \nQ 53.21875 62.890625 53.21875 53.421875 \nQ 53.21875 48.921875 51.53125 44.890625 \nQ 49.859375 40.875 45.40625 35.40625 \nQ 44.1875 33.984375 37.640625 27.21875 \nQ 31.109375 20.453125 19.1875 8.296875 \nz\n\" id=\"DejaVuSans-50\"/>\n       </defs>\n       <use xlink:href=\"#DejaVuSans-50\"/>\n       <use x=\"63.623047\" xlink:href=\"#DejaVuSans-46\"/>\n       <use x=\"95.410156\" xlink:href=\"#DejaVuSans-53\"/>\n      </g>\n     </g>\n    </g>\n    <g id=\"ytick_3\">\n     <g id=\"line2d_7\">\n      <g>\n       <use style=\"stroke:#000000;stroke-width:0.8;\" x=\"50.14375\" xlink:href=\"#m26f441693a\" y=\"66.996\"/>\n      </g>\n     </g>\n     <g id=\"text_8\">\n      <!-- 5.0 -->\n      <g transform=\"translate(27.240625 70.795219)scale(0.1 -0.1)\">\n       <use xlink:href=\"#DejaVuSans-53\"/>\n       <use x=\"63.623047\" xlink:href=\"#DejaVuSans-46\"/>\n       <use x=\"95.410156\" xlink:href=\"#DejaVuSans-48\"/>\n      </g>\n     </g>\n    </g>\n    <g id=\"ytick_4\">\n     <g id=\"line2d_8\">\n      <g>\n       <use style=\"stroke:#000000;stroke-width:0.8;\" x=\"50.14375\" xlink:href=\"#m26f441693a\" y=\"94.176\"/>\n      </g>\n     </g>\n     <g id=\"text_9\">\n      <!-- 7.5 -->\n      <g transform=\"translate(27.240625 97.975219)scale(0.1 -0.1)\">\n       <defs>\n        <path d=\"M 8.203125 72.90625 \nL 55.078125 72.90625 \nL 55.078125 68.703125 \nL 28.609375 0 \nL 18.3125 0 \nL 43.21875 64.59375 \nL 8.203125 64.59375 \nz\n\" id=\"DejaVuSans-55\"/>\n       </defs>\n       <use xlink:href=\"#DejaVuSans-55\"/>\n       <use x=\"63.623047\" xlink:href=\"#DejaVuSans-46\"/>\n       <use x=\"95.410156\" xlink:href=\"#DejaVuSans-53\"/>\n      </g>\n     </g>\n    </g>\n    <g id=\"ytick_5\">\n     <g id=\"line2d_9\">\n      <g>\n       <use style=\"stroke:#000000;stroke-width:0.8;\" x=\"50.14375\" xlink:href=\"#m26f441693a\" y=\"121.356\"/>\n      </g>\n     </g>\n     <g id=\"text_10\">\n      <!-- 10.0 -->\n      <g transform=\"translate(20.878125 125.155219)scale(0.1 -0.1)\">\n       <use xlink:href=\"#DejaVuSans-49\"/>\n       <use x=\"63.623047\" xlink:href=\"#DejaVuSans-48\"/>\n       <use x=\"127.246094\" xlink:href=\"#DejaVuSans-46\"/>\n       <use x=\"159.033203\" xlink:href=\"#DejaVuSans-48\"/>\n      </g>\n     </g>\n    </g>\n    <g id=\"ytick_6\">\n     <g id=\"line2d_10\">\n      <g>\n       <use style=\"stroke:#000000;stroke-width:0.8;\" x=\"50.14375\" xlink:href=\"#m26f441693a\" y=\"148.536\"/>\n      </g>\n     </g>\n     <g id=\"text_11\">\n      <!-- 12.5 -->\n      <g transform=\"translate(20.878125 152.335219)scale(0.1 -0.1)\">\n       <use xlink:href=\"#DejaVuSans-49\"/>\n       <use x=\"63.623047\" xlink:href=\"#DejaVuSans-50\"/>\n       <use x=\"127.246094\" xlink:href=\"#DejaVuSans-46\"/>\n       <use x=\"159.033203\" xlink:href=\"#DejaVuSans-53\"/>\n      </g>\n     </g>\n    </g>\n    <g id=\"ytick_7\">\n     <g id=\"line2d_11\">\n      <g>\n       <use style=\"stroke:#000000;stroke-width:0.8;\" x=\"50.14375\" xlink:href=\"#m26f441693a\" y=\"175.716\"/>\n      </g>\n     </g>\n     <g id=\"text_12\">\n      <!-- 15.0 -->\n      <g transform=\"translate(20.878125 179.515219)scale(0.1 -0.1)\">\n       <use xlink:href=\"#DejaVuSans-49\"/>\n       <use x=\"63.623047\" xlink:href=\"#DejaVuSans-53\"/>\n       <use x=\"127.246094\" xlink:href=\"#DejaVuSans-46\"/>\n       <use x=\"159.033203\" xlink:href=\"#DejaVuSans-48\"/>\n      </g>\n     </g>\n    </g>\n    <g id=\"ytick_8\">\n     <g id=\"line2d_12\">\n      <g>\n       <use style=\"stroke:#000000;stroke-width:0.8;\" x=\"50.14375\" xlink:href=\"#m26f441693a\" y=\"202.896\"/>\n      </g>\n     </g>\n     <g id=\"text_13\">\n      <!-- 17.5 -->\n      <g transform=\"translate(20.878125 206.695219)scale(0.1 -0.1)\">\n       <use xlink:href=\"#DejaVuSans-49\"/>\n       <use x=\"63.623047\" xlink:href=\"#DejaVuSans-55\"/>\n       <use x=\"127.246094\" xlink:href=\"#DejaVuSans-46\"/>\n       <use x=\"159.033203\" xlink:href=\"#DejaVuSans-53\"/>\n      </g>\n     </g>\n    </g>\n    <g id=\"text_14\">\n     <!-- MEIs -->\n     <g transform=\"translate(14.798437 127.473125)rotate(-90)scale(0.1 -0.1)\">\n      <defs>\n       <path d=\"M 9.8125 72.90625 \nL 24.515625 72.90625 \nL 43.109375 23.296875 \nL 61.8125 72.90625 \nL 76.515625 72.90625 \nL 76.515625 0 \nL 66.890625 0 \nL 66.890625 64.015625 \nL 48.09375 14.015625 \nL 38.1875 14.015625 \nL 19.390625 64.015625 \nL 19.390625 0 \nL 9.8125 0 \nz\n\" id=\"DejaVuSans-77\"/>\n       <path d=\"M 9.8125 72.90625 \nL 55.90625 72.90625 \nL 55.90625 64.59375 \nL 19.671875 64.59375 \nL 19.671875 43.015625 \nL 54.390625 43.015625 \nL 54.390625 34.71875 \nL 19.671875 34.71875 \nL 19.671875 8.296875 \nL 56.78125 8.296875 \nL 56.78125 0 \nL 9.8125 0 \nz\n\" id=\"DejaVuSans-69\"/>\n       <path d=\"M 9.8125 72.90625 \nL 19.671875 72.90625 \nL 19.671875 0 \nL 9.8125 0 \nz\n\" id=\"DejaVuSans-73\"/>\n      </defs>\n      <use xlink:href=\"#DejaVuSans-77\"/>\n      <use x=\"86.279297\" xlink:href=\"#DejaVuSans-69\"/>\n      <use x=\"149.462891\" xlink:href=\"#DejaVuSans-73\"/>\n      <use x=\"178.955078\" xlink:href=\"#DejaVuSans-115\"/>\n     </g>\n    </g>\n   </g>\n   <g id=\"patch_3\">\n    <path d=\"M 50.14375 224.64 \nL 50.14375 7.2 \n\" style=\"fill:none;stroke:#000000;stroke-linecap:square;stroke-linejoin:miter;stroke-width:0.8;\"/>\n   </g>\n   <g id=\"patch_4\">\n    <path d=\"M 267.58375 224.64 \nL 267.58375 7.2 \n\" style=\"fill:none;stroke:#000000;stroke-linecap:square;stroke-linejoin:miter;stroke-width:0.8;\"/>\n   </g>\n   <g id=\"patch_5\">\n    <path d=\"M 50.14375 224.64 \nL 267.58375 224.64 \n\" style=\"fill:none;stroke:#000000;stroke-linecap:square;stroke-linejoin:miter;stroke-width:0.8;\"/>\n   </g>\n   <g id=\"patch_6\">\n    <path d=\"M 50.14375 7.2 \nL 267.58375 7.2 \n\" style=\"fill:none;stroke:#000000;stroke-linecap:square;stroke-linejoin:miter;stroke-width:0.8;\"/>\n   </g>\n  </g>\n </g>\n <defs>\n  <clipPath id=\"p42f0632c15\">\n   <rect height=\"217.44\" width=\"217.44\" x=\"50.14375\" y=\"7.2\"/>\n  </clipPath>\n </defs>\n</svg>\n"
     },
     "metadata": {
      "needs_background": "light"
     }
    }
   ],
   "metadata": {}
  }
 ],
 "metadata": {
  "accelerator": "GPU",
  "colab": {
   "collapsed_sections": [],
   "name": "IVIV_2021.ipynb",
   "provenance": []
  },
  "interpreter": {
   "hash": "df0893f56f349688326838aaeea0de204df53a132722cbd565e54b24a8fec5f6"
  },
  "kernelspec": {
   "name": "python3",
   "display_name": "Python 3.8.0 64-bit"
  },
  "language_info": {
   "codemirror_mode": {
    "name": "ipython",
    "version": 3
   },
   "file_extension": ".py",
   "mimetype": "text/x-python",
   "name": "python",
   "nbconvert_exporter": "python",
   "pygments_lexer": "ipython3",
   "version": "3.8.0"
  }
 },
 "nbformat": 4,
 "nbformat_minor": 4
}