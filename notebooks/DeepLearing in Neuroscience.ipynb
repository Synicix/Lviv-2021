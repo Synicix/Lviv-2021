{
 "cells": [
  {
   "cell_type": "markdown",
   "metadata": {
    "id": "xp0SO4gr2D7w"
   },
   "source": [
    "# Deep Learning in Neuroscience by Edgar Y. Walker"
   ]
  },
  {
   "cell_type": "markdown",
   "metadata": {},
   "source": [
    "## Preparing the environment"
   ]
  },
  {
   "cell_type": "markdown",
   "metadata": {},
   "source": [
    "### NOTE: Please run this section at the very beginning of the first session!"
   ]
  },
  {
   "cell_type": "markdown",
   "metadata": {},
   "source": [
    "Before we get to dive in and learn how deep learning is used in neuroscience and get your first neural predictive model trained, we need to install some prerequisite packages and download some neuronal data!"
   ]
  },
  {
   "cell_type": "markdown",
   "metadata": {},
   "source": [
    "### Getting the code"
   ]
  },
  {
   "cell_type": "markdown",
   "metadata": {},
   "source": [
    "We are going to primarily use [PyTorch](https://pytorch.org) to build, train and evaluate our deep learning models and I am going to assume some familiarity with PyTorch already.\n",
    "\n",
    "Also to be able to handle the dataset containing neuronal activities, we are going to make our life easier by using a few existing libraries. I have prepared a library called [lviv2021](https://github.com/eywalker/lviv2021). This library has a dependency on [neuralpredictors](https://github.com/sinzlab/neuralpredictors), which is a collection of PyTorch layers, tools and other utilities that would prove helpful to train networks to predict neuronal responses.\n",
    "\n",
    "Let's go ahead and install this inside the Colab environment."
   ]
  },
  {
   "cell_type": "code",
   "execution_count": 1,
   "metadata": {
    "colab": {
     "base_uri": "https://localhost:8080/",
     "height": 0
    },
    "id": "m7dJ_i-tSPEq",
    "outputId": "bdc3f3f8-e451-4bd3-83d5-3f126b88f431"
   },
   "outputs": [
    {
     "name": "stdout",
     "output_type": "stream",
     "text": [
      "Looking in links: https://download.pytorch.org/whl/torch_stable.html\n",
      "Requirement already satisfied: torch==1.9.0+cu102 in /usr/local/lib/python3.7/dist-packages (1.9.0+cu102)\n",
      "Requirement already satisfied: torchvision==0.10.0+cu102 in /usr/local/lib/python3.7/dist-packages (0.10.0+cu102)\n",
      "Collecting torchaudio===0.9.0\n",
      "  Downloading torchaudio-0.9.0-cp37-cp37m-manylinux1_x86_64.whl (1.9 MB)\n",
      "\u001b[K     |████████████████████████████████| 1.9 MB 7.5 MB/s \n",
      "\u001b[?25hRequirement already satisfied: typing-extensions in /usr/local/lib/python3.7/dist-packages (from torch==1.9.0+cu102) (3.7.4.3)\n",
      "Requirement already satisfied: numpy in /usr/local/lib/python3.7/dist-packages (from torchvision==0.10.0+cu102) (1.19.5)\n",
      "Requirement already satisfied: pillow>=5.3.0 in /usr/local/lib/python3.7/dist-packages (from torchvision==0.10.0+cu102) (7.1.2)\n",
      "Installing collected packages: torchaudio\n",
      "Successfully installed torchaudio-0.9.0\n",
      "Collecting git+https://github.com/sinzlab/neuralpredictors.git@v0.0\n",
      "  Cloning https://github.com/sinzlab/neuralpredictors.git (to revision v0.0) to /tmp/pip-req-build-v6c91am7\n",
      "  Running command git clone -q https://github.com/sinzlab/neuralpredictors.git /tmp/pip-req-build-v6c91am7\n",
      "  Running command git checkout -b v0.0 --track origin/v0.0\n",
      "  Switched to a new branch 'v0.0'\n",
      "  Branch 'v0.0' set up to track remote branch 'v0.0' from 'origin'.\n",
      "Requirement already satisfied: numpy in /usr/local/lib/python3.7/dist-packages (from neuralpredictors==0.0.3) (1.19.5)\n",
      "Requirement already satisfied: torch in /usr/local/lib/python3.7/dist-packages (from neuralpredictors==0.0.3) (1.9.0+cu102)\n",
      "Requirement already satisfied: tqdm in /usr/local/lib/python3.7/dist-packages (from neuralpredictors==0.0.3) (4.41.1)\n",
      "Requirement already satisfied: pandas in /usr/local/lib/python3.7/dist-packages (from neuralpredictors==0.0.3) (1.1.5)\n",
      "Requirement already satisfied: h5py in /usr/local/lib/python3.7/dist-packages (from neuralpredictors==0.0.3) (3.1.0)\n",
      "Requirement already satisfied: cached-property in /usr/local/lib/python3.7/dist-packages (from h5py->neuralpredictors==0.0.3) (1.5.2)\n",
      "Requirement already satisfied: pytz>=2017.2 in /usr/local/lib/python3.7/dist-packages (from pandas->neuralpredictors==0.0.3) (2018.9)\n",
      "Requirement already satisfied: python-dateutil>=2.7.3 in /usr/local/lib/python3.7/dist-packages (from pandas->neuralpredictors==0.0.3) (2.8.1)\n",
      "Requirement already satisfied: six>=1.5 in /usr/local/lib/python3.7/dist-packages (from python-dateutil>=2.7.3->pandas->neuralpredictors==0.0.3) (1.15.0)\n",
      "Requirement already satisfied: typing-extensions in /usr/local/lib/python3.7/dist-packages (from torch->neuralpredictors==0.0.3) (3.7.4.3)\n",
      "Building wheels for collected packages: neuralpredictors\n",
      "  Building wheel for neuralpredictors (setup.py) ... \u001b[?25l\u001b[?25hdone\n",
      "  Created wheel for neuralpredictors: filename=neuralpredictors-0.0.3-py3-none-any.whl size=56066 sha256=8b5329ddfdd5504177e8c77abcf15b941bb1abd1933fc223750bf1ff7ba86c5f\n",
      "  Stored in directory: /tmp/pip-ephem-wheel-cache-a20585dv/wheels/2b/55/61/c9d55e5d782d397dde737beea8c31e670fd96ca541b7fd3250\n",
      "Successfully built neuralpredictors\n",
      "Installing collected packages: neuralpredictors\n",
      "Successfully installed neuralpredictors-0.0.3\n"
     ]
    }
   ],
   "source": [
    "# Install PyTorch dependency\n",
    "!pip3 install torch==1.9.0+cu102 torchvision==0.10.0+cu102 -f https://download.pytorch.org/whl/torch_stable.html\n",
    "    \n",
    "# Install \n",
    "!pip3 install git+https://github.com/eywalker/lviv-2021.git"
   ]
  },
  {
   "cell_type": "code",
   "execution_count": null,
   "metadata": {},
   "outputs": [],
   "source": []
  },
  {
   "cell_type": "markdown",
   "metadata": {},
   "source": [
    "### Getting the dataset"
   ]
  },
  {
   "cell_type": "markdown",
   "metadata": {},
   "source": [
    "We are going to use the dataset made available for our recent paper [Lurz et al. ICLR 2021](https://github.com/sinzlab/Lurz_2020_code), predicting responses of mouse visual cortex to natural images. \n",
    "\n",
    "The dataset is relatively large, so please be sure to run the following at the very beginning of the session. We are going to first spend some time learning the basics of computational neuroscience in the study of system identification. It would be best that you let the download take place while we go over the neursocience primer so that it will be ready when we come back here to get our hands dirty!\n",
    "\n",
    "To download the data, simply execute the following cell, and let it run till completion."
   ]
  },
  {
   "cell_type": "code",
   "execution_count": 1,
   "metadata": {
    "colab": {
     "base_uri": "https://localhost:8080/"
    },
    "id": "tsNehEZlTSL4",
    "outputId": "8e2984ad-9f32-4dfd-b8b7-4536f2e53823"
   },
   "outputs": [
    {
     "name": "stdout",
     "output_type": "stream",
     "text": [
      "mkdir: cannot create directory ‘/data’: File exists\n",
      "Cloning into '/data'...\n",
      "remote: Enumerating objects: 23150, done.\u001b[K                                            \u001b[K\n",
      "remote: Counting objects: 100% (23150/23150), done.\u001b[K                                  \u001b[K\n",
      "remote: Compressing objects: 100% (11714/11714), done.                                  \u001b[K\n",
      "remote: Total 23150 (delta 11436), reused 23134 (delta 11434)\u001b[K    \n",
      "Receiving objects: 100% (23150/23150), 252.05 MiB | 506.00 KiB/s, done.\n",
      "Resolving deltas: 100% (11436/11436), done.\n",
      "Checking out files: 100% (24035/24035), done.\n"
     ]
    }
   ],
   "source": [
    "!mkdir /data\n",
    "!git clone https://gin.g-node.org/cajal/Lurz2020.git /data"
   ]
  },
  {
   "cell_type": "markdown",
   "metadata": {
    "id": "SXwFE_rhb239"
   },
   "source": [
    "## Install PyTorch and other dependencies"
   ]
  },
  {
   "cell_type": "code",
   "execution_count": 2,
   "metadata": {
    "colab": {
     "base_uri": "https://localhost:8080/",
     "height": 0
    },
    "id": "NBW1K-ru7_RD",
    "outputId": "eb5ff3b4-f040-4fbc-84e7-a6ec9d3f1183"
   },
   "outputs": [
    {
     "name": "stdout",
     "output_type": "stream",
     "text": [
      "Collecting git+https://github.com/ZhuokunDing/Iviv-2021\n",
      "  Cloning https://github.com/ZhuokunDing/Iviv-2021 to /tmp/pip-req-build-gdwm0nz6\n",
      "  Running command git clone -q https://github.com/ZhuokunDing/Iviv-2021 /tmp/pip-req-build-gdwm0nz6\n",
      "Requirement already satisfied: neuralpredictors in /usr/local/lib/python3.7/dist-packages (from iviv==0.1) (0.0.3)\n",
      "Requirement already satisfied: torch in /usr/local/lib/python3.7/dist-packages (from iviv==0.1) (1.9.0+cu102)\n",
      "Requirement already satisfied: numpy in /usr/local/lib/python3.7/dist-packages (from iviv==0.1) (1.19.5)\n",
      "Requirement already satisfied: h5py in /usr/local/lib/python3.7/dist-packages (from neuralpredictors->iviv==0.1) (3.1.0)\n",
      "Requirement already satisfied: tqdm in /usr/local/lib/python3.7/dist-packages (from neuralpredictors->iviv==0.1) (4.41.1)\n",
      "Requirement already satisfied: pandas in /usr/local/lib/python3.7/dist-packages (from neuralpredictors->iviv==0.1) (1.1.5)\n",
      "Requirement already satisfied: cached-property in /usr/local/lib/python3.7/dist-packages (from h5py->neuralpredictors->iviv==0.1) (1.5.2)\n",
      "Requirement already satisfied: pytz>=2017.2 in /usr/local/lib/python3.7/dist-packages (from pandas->neuralpredictors->iviv==0.1) (2018.9)\n",
      "Requirement already satisfied: python-dateutil>=2.7.3 in /usr/local/lib/python3.7/dist-packages (from pandas->neuralpredictors->iviv==0.1) (2.8.1)\n",
      "Requirement already satisfied: six>=1.5 in /usr/local/lib/python3.7/dist-packages (from python-dateutil>=2.7.3->pandas->neuralpredictors->iviv==0.1) (1.15.0)\n",
      "Requirement already satisfied: typing-extensions in /usr/local/lib/python3.7/dist-packages (from torch->iviv==0.1) (3.7.4.3)\n",
      "Building wheels for collected packages: iviv\n",
      "  Building wheel for iviv (setup.py) ... \u001b[?25l\u001b[?25hdone\n",
      "  Created wheel for iviv: filename=iviv-0.1-py3-none-any.whl size=15184 sha256=1959ec14515ffaad19ea7cd05c572670e5174234dc115c9a0f2c9ad5e71705fa\n",
      "  Stored in directory: /tmp/pip-ephem-wheel-cache-3geqjt09/wheels/6e/8a/fb/883bcd3dc8880ce76d927912d45aa5a712c4ca35d537ca168d\n",
      "Successfully built iviv\n",
      "Installing collected packages: iviv\n",
      "Successfully installed iviv-0.1\n"
     ]
    }
   ],
   "source": [
    "!pip3 install git+https://github.com/ZhuokunDing/Iviv-2021"
   ]
  },
  {
   "cell_type": "markdown",
   "metadata": {},
   "source": [
    "## Getting our hands dirty"
   ]
  },
  {
   "cell_type": "markdown",
   "metadata": {},
   "source": [
    "Now that you have been primed with just enough background neuroscience, let's get our hand dirty and try to build our first neural predictive models. First thing fi"
   ]
  },
  {
   "cell_type": "markdown",
   "metadata": {
    "id": "_lX1LO4wcIDr"
   },
   "source": [
    "## Download data\n",
    "Approximate download time: ~5 mins"
   ]
  },
  {
   "cell_type": "code",
   "execution_count": 1,
   "metadata": {
    "colab": {
     "base_uri": "https://localhost:8080/"
    },
    "id": "tsNehEZlTSL4",
    "outputId": "8e2984ad-9f32-4dfd-b8b7-4536f2e53823"
   },
   "outputs": [
    {
     "name": "stdout",
     "output_type": "stream",
     "text": [
      "mkdir: cannot create directory ‘/data’: File exists\n",
      "Cloning into '/data'...\n",
      "remote: Enumerating objects: 23150, done.\u001b[K                                            \u001b[K\n",
      "remote: Counting objects: 100% (23150/23150), done.\u001b[K                                  \u001b[K\n",
      "remote: Compressing objects: 100% (11714/11714), done.                                  \u001b[K\n",
      "remote: Total 23150 (delta 11436), reused 23134 (delta 11434)\u001b[K    \n",
      "Receiving objects: 100% (23150/23150), 252.05 MiB | 506.00 KiB/s, done.\n",
      "Resolving deltas: 100% (11436/11436), done.\n",
      "Checking out files: 100% (24035/24035), done.\n"
     ]
    }
   ],
   "source": [
    "!mkdir /data\n",
    "!git clone https://gin.g-node.org/cajal/Lurz2020.git /data"
   ]
  },
  {
   "cell_type": "markdown",
   "metadata": {
    "id": "SDqLiFsTE7Px"
   },
   "source": [
    "## Load data"
   ]
  },
  {
   "cell_type": "code",
   "execution_count": 1,
   "metadata": {
    "id": "sn6zKagT48mG"
   },
   "outputs": [],
   "source": [
    "from lviv.dataset import load_dataset"
   ]
  },
  {
   "cell_type": "code",
   "execution_count": 52,
   "metadata": {
    "id": "otrTH2IW9pcI"
   },
   "outputs": [],
   "source": [
    "neuron_n = None\n",
    "image_n = None\n",
    "dataloaders = load_dataset(path = '/data/static20457-5-9-preproc0', batch_size=60, seed=1234, image_n=image_n, neuron_n=neuron_n)"
   ]
  },
  {
   "cell_type": "code",
   "execution_count": 53,
   "metadata": {},
   "outputs": [
    {
     "data": {
      "text/plain": [
       "{'train': <torch.utils.data.dataloader.DataLoader at 0x7f621bda7970>,\n",
       " 'validation': <torch.utils.data.dataloader.DataLoader at 0x7f621bda7d90>,\n",
       " 'test': <torch.utils.data.dataloader.DataLoader at 0x7f621bda7dc0>}"
      ]
     },
     "execution_count": 53,
     "metadata": {},
     "output_type": "execute_result"
    }
   ],
   "source": [
    "dataloaders"
   ]
  },
  {
   "cell_type": "code",
   "execution_count": 54,
   "metadata": {},
   "outputs": [],
   "source": [
    "train_loader = dataloaders['train']"
   ]
  },
  {
   "cell_type": "code",
   "execution_count": 55,
   "metadata": {},
   "outputs": [
    {
     "data": {
      "text/plain": [
       "4472"
      ]
     },
     "execution_count": 55,
     "metadata": {},
     "output_type": "execute_result"
    }
   ],
   "source": [
    "len(train_loader.sampler)"
   ]
  },
  {
   "cell_type": "code",
   "execution_count": 56,
   "metadata": {},
   "outputs": [],
   "source": [
    "images, responses = next(iter(train_loader))"
   ]
  },
  {
   "cell_type": "code",
   "execution_count": 15,
   "metadata": {},
   "outputs": [
    {
     "data": {
      "text/plain": [
       "torch.Size([60, 1, 36, 64])"
      ]
     },
     "execution_count": 15,
     "metadata": {},
     "output_type": "execute_result"
    }
   ],
   "source": [
    "images.shape"
   ]
  },
  {
   "cell_type": "code",
   "execution_count": 16,
   "metadata": {},
   "outputs": [
    {
     "data": {
      "text/plain": [
       "torch.Size([60, 5335])"
      ]
     },
     "execution_count": 16,
     "metadata": {},
     "output_type": "execute_result"
    }
   ],
   "source": [
    "responses.shape"
   ]
  },
  {
   "cell_type": "markdown",
   "metadata": {
    "id": "TcVMbaG9xXNY"
   },
   "source": [
    "## Build model"
   ]
  },
  {
   "cell_type": "code",
   "execution_count": 117,
   "metadata": {},
   "outputs": [],
   "source": [
    "import torch\n",
    "from torch import nn\n",
    "from collections import OrderedDict\n",
    "from typing import Iterable\n",
    "\n",
    "class Linear(nn.Module):\n",
    "    def __init__(\n",
    "        self,\n",
    "        input_height,\n",
    "        input_width,\n",
    "        n_neurons,\n",
    "        momentum=0.1,\n",
    "        init_std=0.01,\n",
    "        gamma=0\n",
    "    ):\n",
    "\n",
    "        \"\"\"\n",
    "        Args:\n",
    "            input_channels:     Integer, number of input channels as in\n",
    "            hidden_channels:    Number of hidden channels (i.e feature maps) in each hidden layer\n",
    "            input_kern:     kernel size of the first layer (i.e. the input layer)\n",
    "            hidden_kern:    kernel size of each hidden layer's kernel\n",
    "            layers:         number of layers\n",
    "            momentum:       BN momentum\n",
    "            pad_input:      Boolean, if True, applies zero padding to all convolutions\n",
    "            batch_norm:     Boolean, if True appends a BN layer after each convolutional layer\n",
    "            hidden_dilation:   If set to > 1, will apply dilated convs for all hidden layers\n",
    "            linear:         Boolean, if True, remove all nonlinearity in the model\n",
    "            readout:\n",
    "        \"\"\"\n",
    "        super().__init__()\n",
    "        self.bn = nn.BatchNorm2d(1, momentum=momentum, affine=False)\n",
    "        self.linear = nn.Linear(input_height * input_width, n_neurons)\n",
    "        self.gamma = gamma\n",
    "        self.init_std = init_std\n",
    "        self.initialize()\n",
    "        \n",
    "\n",
    "    def initialize(self, std=None):\n",
    "        if std is None:\n",
    "            std = self.init_std\n",
    "        nn.init.normal_(self.linear.weight.data, std=std)\n",
    "\n",
    "\n",
    "    def forward(self, x):\n",
    "        #x = self.bn(x)\n",
    "        #(x - 0.1460)\n",
    "        x = self.linear(x.flatten(1))\n",
    "        return nn.functional.elu(x) + 1\n",
    "\n",
    "    def regularizer(self):\n",
    "        return self.gamma * self.linear.weight.abs().sum()\n"
   ]
  },
  {
   "cell_type": "code",
   "execution_count": 93,
   "metadata": {},
   "outputs": [
    {
     "data": {
      "text/plain": [
       "tensor(0.0505, device='cuda:0', grad_fn=<StdBackward0>)"
      ]
     },
     "execution_count": 93,
     "metadata": {},
     "output_type": "execute_result"
    }
   ],
   "source": [
    "model.linear.weight.std()"
   ]
  },
  {
   "cell_type": "code",
   "execution_count": 66,
   "metadata": {
    "id": "EWnBvqRMM2VH"
   },
   "outputs": [],
   "source": [
    "import torch\n",
    "from torch import nn\n",
    "from collections import OrderedDict\n",
    "from typing import Iterable\n",
    "\n",
    "class CNN(nn.Module):\n",
    "    def __init__(\n",
    "        self,\n",
    "        input_height,\n",
    "        input_width,\n",
    "        n_neurons,\n",
    "        input_channels,\n",
    "        hidden_channels,\n",
    "        input_kern,\n",
    "        hidden_kern,\n",
    "        layers=3,\n",
    "        momentum=0.1,\n",
    "        pad_input=True,\n",
    "        batch_norm=True,\n",
    "        hidden_dilation=1,\n",
    "        linear=False,\n",
    "        readout='fc',\n",
    "        gamma=0\n",
    "    ):\n",
    "\n",
    "        \"\"\"\n",
    "        Args:\n",
    "            input_channels:     Integer, number of input channels as in\n",
    "            hidden_channels:    Number of hidden channels (i.e feature maps) in each hidden layer\n",
    "            input_kern:     kernel size of the first layer (i.e. the input layer)\n",
    "            hidden_kern:    kernel size of each hidden layer's kernel\n",
    "            layers:         number of layers\n",
    "            momentum:       BN momentum\n",
    "            pad_input:      Boolean, if True, applies zero padding to all convolutions\n",
    "            batch_norm:     Boolean, if True appends a BN layer after each convolutional layer\n",
    "            hidden_dilation:   If set to > 1, will apply dilated convs for all hidden layers\n",
    "            linear:         Boolean, if True, remove all nonlinearity in the model\n",
    "            readout:\n",
    "        \"\"\"\n",
    "        super().__init__()\n",
    "        self.layers = layers\n",
    "        self.input_channels = input_channels\n",
    "        self.hidden_channels = hidden_channels\n",
    "        self.core = nn.Sequential()\n",
    "        self.readout_type = readout\n",
    "        self.n_neurons = n_neurons\n",
    "        self.gamma = gamma\n",
    "\n",
    "\n",
    "        # Core: --- first layer\n",
    "        layer = OrderedDict()\n",
    "        layer[\"conv\"] = nn.Conv2d(\n",
    "            input_channels, hidden_channels, input_kern, padding=input_kern // 2 if pad_input else 0, bias=False\n",
    "        )\n",
    "        if batch_norm:\n",
    "            layer[\"norm\"] = nn.BatchNorm2d(hidden_channels, momentum=momentum)\n",
    "        if not linear:\n",
    "            layer[\"nonlin\"] = nn.ELU(inplace=True)\n",
    "        self.core.add_module(\"layer0\", nn.Sequential(layer))\n",
    "        if not isinstance(hidden_kern, Iterable):\n",
    "            hidden_kern = [hidden_kern] * (self.layers - 1)\n",
    "\n",
    "        # Core: --- other layers\n",
    "        for l in range(1, self.layers):\n",
    "            layer = OrderedDict()\n",
    "            hidden_padding = ((hidden_kern[l - 1] - 1) * hidden_dilation + 1) // 2\n",
    "            layer[\"conv\"] = nn.Conv2d(\n",
    "                hidden_channels,\n",
    "                hidden_channels,\n",
    "                hidden_kern[l - 1],\n",
    "                padding=hidden_padding,\n",
    "                bias=False,\n",
    "                dilation=hidden_dilation,\n",
    "            )\n",
    "            if batch_norm:\n",
    "                layer[\"norm\"] = nn.BatchNorm2d(hidden_channels, momentum=momentum)\n",
    "            if not linear:\n",
    "                layer[\"nonlin\"] = nn.ELU(inplace=True)\n",
    "            self.core.add_module(\"layer{}\".format(l), nn.Sequential(layer))\n",
    "        self.apply(self.init_conv)\n",
    "        \n",
    "        # Readout\n",
    "        ## fully connected readout\n",
    "        if readout == 'fc':\n",
    "            in_dim = self.core_channels * input_height * input_width\n",
    "            self.readout = nn.Linear(in_dim, n_neurons, bias=True)\n",
    "        ## spatial separable readout\n",
    "        elif readout == 'spatial':\n",
    "            self.spatial = nn.Parameter(torch.Tensor(n_neurons, input_width, input_height))\n",
    "            self.features = nn.Parameter(torch.Tensor(n_neurons, self.core_channels))\n",
    "            self.readout_bias = nn.Parameter(torch.Tensor(n_neurons))\n",
    "            \n",
    "    def forward(self, input_):\n",
    "        ret = []\n",
    "        for l, feat in enumerate(self.core):\n",
    "            input_ = feat(input_)\n",
    "            ret.append(input_)\n",
    "        core_out = torch.cat(ret, dim=1)\n",
    "        \n",
    "        if self.readout_type == 'fc':\n",
    "            core_out = core_out.view([core_out.shape[0], -1])\n",
    "            readout_out = nn.functional.elu(self.readout(core_out)) + 1\n",
    "        elif self.readout_type == 'spatial':\n",
    "            readout_out = torch.einsum(\"ncwh,owh->nco\", core_out, self.spatial)\n",
    "            readout_out = torch.einsum(\"nco,oc->no\", readout_out, self.features)\n",
    "            readout_out = readout_out + self.readout_bias\n",
    "            readout_out = nn.functional.elu(readout_out) + 1\n",
    "        return readout_out\n",
    "\n",
    "    def regularizer(self):\n",
    "        if self.readout_type == 'fc':\n",
    "            return self.readout.weight.abs().sum() * self.gamma\n",
    "        elif self.readout_type == 'spatial':\n",
    "            return (\n",
    "            self.spatial.view(self.n_neurons, -1).abs().sum(dim=1, keepdim=True)\n",
    "            * self.features.view(self.n_neurons, -1).abs().sum(dim=1)\n",
    "        ).sum() * self.gamma\n",
    "\n",
    "    @property\n",
    "    def core_channels(self):\n",
    "        return len(self.core) * self.hidden_channels\n",
    "    \n",
    "    @staticmethod\n",
    "    def init_conv(m):\n",
    "        if isinstance(m, nn.Conv2d):\n",
    "            nn.init.xavier_normal_(m.weight.data)\n",
    "            if m.bias is not None:\n",
    "                m.bias.data.fill_(0)\n",
    "                \n",
    "    def initialize_readout(self):\n",
    "        if self.readout_type == 'full':\n",
    "            nn.init.xavier_normal_(self.readout.weight.data)\n",
    "            self.readout.weight.data.fill_(0)\n",
    "        elif self.readout_type == 'spatial':\n",
    "            self.spatial.data.normal_(0, 1e-3)\n",
    "            self.features.data.normal_(0, 1e-3)\n",
    "            if self.readout_bias is not None:\n",
    "                self.readout_bias.data.fill_(0)\n",
    "                \n",
    "    def initialize(self):\n",
    "        self.core.apply(self.init_conv)\n",
    "        self.initialize_readout()\n",
    "            \n"
   ]
  },
  {
   "cell_type": "code",
   "execution_count": 8,
   "metadata": {
    "colab": {
     "base_uri": "https://localhost:8080/",
     "height": 0
    },
    "id": "B_OlswuSEs5O",
    "outputId": "12569a6b-e295-4d0c-a4ba-ae361191bff6"
   },
   "outputs": [
    {
     "data": {
      "text/plain": [
       "True"
      ]
     },
     "execution_count": 8,
     "metadata": {
      "tags": []
     },
     "output_type": "execute_result"
    }
   ],
   "source": [
    "torch.cuda.is_available()"
   ]
  },
  {
   "cell_type": "code",
   "execution_count": 107,
   "metadata": {},
   "outputs": [],
   "source": []
  },
  {
   "cell_type": "code",
   "execution_count": 68,
   "metadata": {
    "colab": {
     "base_uri": "https://localhost:8080/",
     "height": 0
    },
    "id": "IuhvIccOM7hu",
    "outputId": "eb1e3ea7-3c12-4164-c190-63fd2c42dcb2"
   },
   "outputs": [
    {
     "data": {
      "text/plain": [
       "CNN(\n",
       "  (core): Sequential(\n",
       "    (layer0): Sequential(\n",
       "      (conv): Conv2d(1, 64, kernel_size=(15, 15), stride=(1, 1), padding=(7, 7), bias=False)\n",
       "      (norm): BatchNorm2d(64, eps=1e-05, momentum=0.1, affine=True, track_running_stats=True)\n",
       "      (nonlin): ELU(alpha=1.0, inplace=True)\n",
       "    )\n",
       "    (layer1): Sequential(\n",
       "      (conv): Conv2d(64, 64, kernel_size=(13, 13), stride=(1, 1), padding=(6, 6), bias=False)\n",
       "      (norm): BatchNorm2d(64, eps=1e-05, momentum=0.1, affine=True, track_running_stats=True)\n",
       "      (nonlin): ELU(alpha=1.0, inplace=True)\n",
       "    )\n",
       "    (layer2): Sequential(\n",
       "      (conv): Conv2d(64, 64, kernel_size=(13, 13), stride=(1, 1), padding=(6, 6), bias=False)\n",
       "      (norm): BatchNorm2d(64, eps=1e-05, momentum=0.1, affine=True, track_running_stats=True)\n",
       "      (nonlin): ELU(alpha=1.0, inplace=True)\n",
       "    )\n",
       "    (layer3): Sequential(\n",
       "      (conv): Conv2d(64, 64, kernel_size=(13, 13), stride=(1, 1), padding=(6, 6), bias=False)\n",
       "      (norm): BatchNorm2d(64, eps=1e-05, momentum=0.1, affine=True, track_running_stats=True)\n",
       "      (nonlin): ELU(alpha=1.0, inplace=True)\n",
       "    )\n",
       "  )\n",
       ")"
      ]
     },
     "execution_count": 68,
     "metadata": {},
     "output_type": "execute_result"
    }
   ],
   "source": [
    "neuron_n = 5335\n",
    "model_config = {\n",
    "    'input_height': 64,\n",
    "    'input_width': 36,\n",
    "    'n_neurons': neuron_n,\n",
    "    'input_channels': 1,\n",
    "    'hidden_channels': 64,\n",
    "    'input_kern': 15,\n",
    "    'hidden_kern': 13,\n",
    "    'layers': 4,\n",
    "    'readout': 'spatial',\n",
    "    'gamma': 0.001,\n",
    "}\n",
    "model = CNN(**model_config)\n",
    "model.initialize()\n",
    "\n",
    "# be sure to place it on the GPU!\n",
    "model.cuda()"
   ]
  },
  {
   "cell_type": "code",
   "execution_count": 62,
   "metadata": {
    "colab": {
     "base_uri": "https://localhost:8080/",
     "height": 538
    },
    "id": "W0P2kOwOQ4ir",
    "outputId": "f3e44885-fa52-4b29-c355-55df1cbeb95d"
   },
   "outputs": [],
   "source": [
    "from lviv.models import build_lurz2020_model\n",
    "model_config = {'init_mu_range': 0.55,\n",
    "                'init_sigma': 0.4,\n",
    "                'input_kern': 15,\n",
    "                'hidden_kern': 13,\n",
    "                'gamma_input': 1.0,\n",
    "                'grid_mean_predictor': {'type': 'cortex',\n",
    "                                        'input_dimensions': 2,\n",
    "                                        'hidden_layers': 0,\n",
    "                                        'hidden_features': 0,\n",
    "                                        'final_tanh': False},\n",
    "                'gamma_readout': 2.439,\n",
    "                'linear': False}\n",
    "\n",
    "model = build_lurz2020_model(**model_config, dataloaders=dataloaders, seed=1234)"
   ]
  },
  {
   "cell_type": "markdown",
   "metadata": {
    "id": "4bvy7NQZxbC4"
   },
   "source": [
    "## Build trainer"
   ]
  },
  {
   "cell_type": "code",
   "execution_count": 108,
   "metadata": {
    "id": "O5vtSRWsRAbY"
   },
   "outputs": [],
   "source": [
    "from lviv.trainers import train_model\n",
    "\n",
    "trainer_config = {'track_training': True,\n",
    "                  'detach_core': False}"
   ]
  },
  {
   "cell_type": "markdown",
   "metadata": {
    "id": "Mq1QwgXdxd6s"
   },
   "source": [
    "## Model training\n",
    "Approximate training time: ~15 mins"
   ]
  },
  {
   "cell_type": "code",
   "execution_count": 118,
   "metadata": {},
   "outputs": [],
   "source": [
    "model = Linear(input_height=64, input_width=36, n_neurons=5335, gamma=0.000, init_std=0.001)"
   ]
  },
  {
   "cell_type": "code",
   "execution_count": null,
   "metadata": {
    "colab": {
     "base_uri": "https://localhost:8080/"
    },
    "id": "vnIjtCeERCjk",
    "outputId": "569f4934-9cb5-4253-ae02-001b6a9d7828"
   },
   "outputs": [
    {
     "name": "stdout",
     "output_type": "stream",
     "text": [
      "=======================================\n",
      "correlation -8.0261256e-05\n",
      "poisson_loss 9588915.0\n"
     ]
    },
    {
     "name": "stderr",
     "output_type": "stream",
     "text": [
      "Epoch 1: 100%|██████████| 75/75 [00:00<00:00, 83.59it/s]\n"
     ]
    },
    {
     "name": "stdout",
     "output_type": "stream",
     "text": [
      "[001|00/05] ---> 0.005938975140452385\n",
      "=======================================\n",
      "correlation 0.005938975\n",
      "poisson_loss 3507831.2\n"
     ]
    },
    {
     "name": "stderr",
     "output_type": "stream",
     "text": [
      "Epoch 2: 100%|██████████| 75/75 [00:00<00:00, 84.14it/s]\n"
     ]
    },
    {
     "name": "stdout",
     "output_type": "stream",
     "text": [
      "[002|00/05] ---> 0.010033603757619858\n",
      "=======================================\n",
      "correlation 0.010033604\n",
      "poisson_loss 3307697.5\n"
     ]
    },
    {
     "name": "stderr",
     "output_type": "stream",
     "text": [
      "Epoch 3: 100%|██████████| 75/75 [00:00<00:00, 76.13it/s]\n"
     ]
    },
    {
     "name": "stdout",
     "output_type": "stream",
     "text": [
      "[003|00/05] ---> 0.014280364848673344\n",
      "=======================================\n",
      "correlation 0.014280365\n",
      "poisson_loss 3169816.0\n"
     ]
    },
    {
     "name": "stderr",
     "output_type": "stream",
     "text": [
      "Epoch 4: 100%|██████████| 75/75 [00:00<00:00, 81.75it/s]\n"
     ]
    },
    {
     "name": "stdout",
     "output_type": "stream",
     "text": [
      "[004|00/05] ---> 0.01792152039706707\n",
      "=======================================\n",
      "correlation 0.01792152\n",
      "poisson_loss 3062201.2\n"
     ]
    },
    {
     "name": "stderr",
     "output_type": "stream",
     "text": [
      "Epoch 5: 100%|██████████| 75/75 [00:00<00:00, 82.33it/s]\n"
     ]
    },
    {
     "name": "stdout",
     "output_type": "stream",
     "text": [
      "[005|00/05] ---> 0.021391743794083595\n",
      "=======================================\n",
      "correlation 0.021391744\n",
      "poisson_loss 2986927.5\n"
     ]
    },
    {
     "name": "stderr",
     "output_type": "stream",
     "text": [
      "Epoch 6: 100%|██████████| 75/75 [00:00<00:00, 83.91it/s]\n"
     ]
    },
    {
     "name": "stdout",
     "output_type": "stream",
     "text": [
      "[006|00/05] ---> 0.02431696094572544\n",
      "=======================================\n",
      "correlation 0.024316961\n",
      "poisson_loss 2923228.5\n"
     ]
    },
    {
     "name": "stderr",
     "output_type": "stream",
     "text": [
      "Epoch 7: 100%|██████████| 75/75 [00:00<00:00, 79.99it/s]\n"
     ]
    },
    {
     "name": "stdout",
     "output_type": "stream",
     "text": [
      "[007|00/05] ---> 0.02730812504887581\n",
      "=======================================\n",
      "correlation 0.027308125\n",
      "poisson_loss 2877410.0\n"
     ]
    },
    {
     "name": "stderr",
     "output_type": "stream",
     "text": [
      "Epoch 8: 100%|██████████| 75/75 [00:00<00:00, 82.01it/s]\n"
     ]
    },
    {
     "name": "stdout",
     "output_type": "stream",
     "text": [
      "[008|00/05] ---> 0.02922097034752369\n",
      "=======================================\n",
      "correlation 0.02922097\n",
      "poisson_loss 2835198.5\n"
     ]
    },
    {
     "name": "stderr",
     "output_type": "stream",
     "text": [
      "Epoch 9:  83%|████████▎ | 62/75 [00:00<00:00, 84.83it/s]"
     ]
    }
   ],
   "source": [
    "score, output, model_state = train_model(model=model, dataloader=dataloaders, seed=1, lr_init=1e-6, **trainer_config)"
   ]
  },
  {
   "cell_type": "code",
   "execution_count": 103,
   "metadata": {
    "id": "Y8Ouwn1YO_y_"
   },
   "outputs": [
    {
     "data": {
      "text/plain": [
       "Parameter containing:\n",
       "tensor([0.1460], device='cuda:0', requires_grad=True)"
      ]
     },
     "execution_count": 103,
     "metadata": {},
     "output_type": "execute_result"
    }
   ],
   "source": [
    "model.bn.bias"
   ]
  },
  {
   "cell_type": "code",
   "execution_count": 104,
   "metadata": {},
   "outputs": [
    {
     "data": {
      "text/plain": [
       "Parameter containing:\n",
       "tensor([0.2764], device='cuda:0', requires_grad=True)"
      ]
     },
     "execution_count": 104,
     "metadata": {},
     "output_type": "execute_result"
    }
   ],
   "source": [
    "model.bn.weight"
   ]
  },
  {
   "cell_type": "code",
   "execution_count": 105,
   "metadata": {},
   "outputs": [
    {
     "data": {
      "text/plain": [
       "\u001b[0;31mSignature:\u001b[0m      \u001b[0mmodel\u001b[0m\u001b[0;34m.\u001b[0m\u001b[0mbn\u001b[0m\u001b[0;34m(\u001b[0m\u001b[0;34m*\u001b[0m\u001b[0minput\u001b[0m\u001b[0;34m,\u001b[0m \u001b[0;34m**\u001b[0m\u001b[0mkwargs\u001b[0m\u001b[0;34m)\u001b[0m\u001b[0;34m\u001b[0m\u001b[0;34m\u001b[0m\u001b[0m\n",
       "\u001b[0;31mType:\u001b[0m           BatchNorm2d\n",
       "\u001b[0;31mString form:\u001b[0m    BatchNorm2d(1, eps=1e-05, momentum=0.1, affine=True, track_running_stats=True)\n",
       "\u001b[0;31mFile:\u001b[0m           /usr/local/lib/python3.8/dist-packages/torch/nn/modules/batchnorm.py\n",
       "\u001b[0;31mSource:\u001b[0m        \n",
       "\u001b[0;32mclass\u001b[0m \u001b[0mBatchNorm2d\u001b[0m\u001b[0;34m(\u001b[0m\u001b[0m_BatchNorm\u001b[0m\u001b[0;34m)\u001b[0m\u001b[0;34m:\u001b[0m\u001b[0;34m\u001b[0m\n",
       "\u001b[0;34m\u001b[0m    \u001b[0;34mr\"\"\"Applies Batch Normalization over a 4D input (a mini-batch of 2D inputs\u001b[0m\n",
       "\u001b[0;34m    with additional channel dimension) as described in the paper\u001b[0m\n",
       "\u001b[0;34m    `Batch Normalization: Accelerating Deep Network Training by Reducing\u001b[0m\n",
       "\u001b[0;34m    Internal Covariate Shift <https://arxiv.org/abs/1502.03167>`__ .\u001b[0m\n",
       "\u001b[0;34m\u001b[0m\n",
       "\u001b[0;34m    .. math::\u001b[0m\n",
       "\u001b[0;34m\u001b[0m\n",
       "\u001b[0;34m        y = \\frac{x - \\mathrm{E}[x]}{ \\sqrt{\\mathrm{Var}[x] + \\epsilon}} * \\gamma + \\beta\u001b[0m\n",
       "\u001b[0;34m\u001b[0m\n",
       "\u001b[0;34m    The mean and standard-deviation are calculated per-dimension over\u001b[0m\n",
       "\u001b[0;34m    the mini-batches and :math:`\\gamma` and :math:`\\beta` are learnable parameter vectors\u001b[0m\n",
       "\u001b[0;34m    of size `C` (where `C` is the input size). By default, the elements of :math:`\\gamma` are set\u001b[0m\n",
       "\u001b[0;34m    to 1 and the elements of :math:`\\beta` are set to 0. The standard-deviation is calculated\u001b[0m\n",
       "\u001b[0;34m    via the biased estimator, equivalent to `torch.var(input, unbiased=False)`.\u001b[0m\n",
       "\u001b[0;34m\u001b[0m\n",
       "\u001b[0;34m    Also by default, during training this layer keeps running estimates of its\u001b[0m\n",
       "\u001b[0;34m    computed mean and variance, which are then used for normalization during\u001b[0m\n",
       "\u001b[0;34m    evaluation. The running estimates are kept with a default :attr:`momentum`\u001b[0m\n",
       "\u001b[0;34m    of 0.1.\u001b[0m\n",
       "\u001b[0;34m\u001b[0m\n",
       "\u001b[0;34m    If :attr:`track_running_stats` is set to ``False``, this layer then does not\u001b[0m\n",
       "\u001b[0;34m    keep running estimates, and batch statistics are instead used during\u001b[0m\n",
       "\u001b[0;34m    evaluation time as well.\u001b[0m\n",
       "\u001b[0;34m\u001b[0m\n",
       "\u001b[0;34m    .. note::\u001b[0m\n",
       "\u001b[0;34m        This :attr:`momentum` argument is different from one used in optimizer\u001b[0m\n",
       "\u001b[0;34m        classes and the conventional notion of momentum. Mathematically, the\u001b[0m\n",
       "\u001b[0;34m        update rule for running statistics here is\u001b[0m\n",
       "\u001b[0;34m        :math:`\\hat{x}_\\text{new} = (1 - \\text{momentum}) \\times \\hat{x} + \\text{momentum} \\times x_t`,\u001b[0m\n",
       "\u001b[0;34m        where :math:`\\hat{x}` is the estimated statistic and :math:`x_t` is the\u001b[0m\n",
       "\u001b[0;34m        new observed value.\u001b[0m\n",
       "\u001b[0;34m\u001b[0m\n",
       "\u001b[0;34m    Because the Batch Normalization is done over the `C` dimension, computing statistics\u001b[0m\n",
       "\u001b[0;34m    on `(N, H, W)` slices, it's common terminology to call this Spatial Batch Normalization.\u001b[0m\n",
       "\u001b[0;34m\u001b[0m\n",
       "\u001b[0;34m    Args:\u001b[0m\n",
       "\u001b[0;34m        num_features: :math:`C` from an expected input of size\u001b[0m\n",
       "\u001b[0;34m            :math:`(N, C, H, W)`\u001b[0m\n",
       "\u001b[0;34m        eps: a value added to the denominator for numerical stability.\u001b[0m\n",
       "\u001b[0;34m            Default: 1e-5\u001b[0m\n",
       "\u001b[0;34m        momentum: the value used for the running_mean and running_var\u001b[0m\n",
       "\u001b[0;34m            computation. Can be set to ``None`` for cumulative moving average\u001b[0m\n",
       "\u001b[0;34m            (i.e. simple average). Default: 0.1\u001b[0m\n",
       "\u001b[0;34m        affine: a boolean value that when set to ``True``, this module has\u001b[0m\n",
       "\u001b[0;34m            learnable affine parameters. Default: ``True``\u001b[0m\n",
       "\u001b[0;34m        track_running_stats: a boolean value that when set to ``True``, this\u001b[0m\n",
       "\u001b[0;34m            module tracks the running mean and variance, and when set to ``False``,\u001b[0m\n",
       "\u001b[0;34m            this module does not track such statistics, and initializes statistics\u001b[0m\n",
       "\u001b[0;34m            buffers :attr:`running_mean` and :attr:`running_var` as ``None``.\u001b[0m\n",
       "\u001b[0;34m            When these buffers are ``None``, this module always uses batch statistics.\u001b[0m\n",
       "\u001b[0;34m            in both training and eval modes. Default: ``True``\u001b[0m\n",
       "\u001b[0;34m\u001b[0m\n",
       "\u001b[0;34m    Shape:\u001b[0m\n",
       "\u001b[0;34m        - Input: :math:`(N, C, H, W)`\u001b[0m\n",
       "\u001b[0;34m        - Output: :math:`(N, C, H, W)` (same shape as input)\u001b[0m\n",
       "\u001b[0;34m\u001b[0m\n",
       "\u001b[0;34m    Examples::\u001b[0m\n",
       "\u001b[0;34m\u001b[0m\n",
       "\u001b[0;34m        >>> # With Learnable Parameters\u001b[0m\n",
       "\u001b[0;34m        >>> m = nn.BatchNorm2d(100)\u001b[0m\n",
       "\u001b[0;34m        >>> # Without Learnable Parameters\u001b[0m\n",
       "\u001b[0;34m        >>> m = nn.BatchNorm2d(100, affine=False)\u001b[0m\n",
       "\u001b[0;34m        >>> input = torch.randn(20, 100, 35, 45)\u001b[0m\n",
       "\u001b[0;34m        >>> output = m(input)\u001b[0m\n",
       "\u001b[0;34m    \"\"\"\u001b[0m\u001b[0;34m\u001b[0m\n",
       "\u001b[0;34m\u001b[0m\u001b[0;34m\u001b[0m\n",
       "\u001b[0;34m\u001b[0m    \u001b[0;32mdef\u001b[0m \u001b[0m_check_input_dim\u001b[0m\u001b[0;34m(\u001b[0m\u001b[0mself\u001b[0m\u001b[0;34m,\u001b[0m \u001b[0minput\u001b[0m\u001b[0;34m)\u001b[0m\u001b[0;34m:\u001b[0m\u001b[0;34m\u001b[0m\n",
       "\u001b[0;34m\u001b[0m        \u001b[0;32mif\u001b[0m \u001b[0minput\u001b[0m\u001b[0;34m.\u001b[0m\u001b[0mdim\u001b[0m\u001b[0;34m(\u001b[0m\u001b[0;34m)\u001b[0m \u001b[0;34m!=\u001b[0m \u001b[0;36m4\u001b[0m\u001b[0;34m:\u001b[0m\u001b[0;34m\u001b[0m\n",
       "\u001b[0;34m\u001b[0m            \u001b[0;32mraise\u001b[0m \u001b[0mValueError\u001b[0m\u001b[0;34m(\u001b[0m\u001b[0;34m'expected 4D input (got {}D input)'\u001b[0m\u001b[0;34m\u001b[0m\n",
       "\u001b[0;34m\u001b[0m                             \u001b[0;34m.\u001b[0m\u001b[0mformat\u001b[0m\u001b[0;34m(\u001b[0m\u001b[0minput\u001b[0m\u001b[0;34m.\u001b[0m\u001b[0mdim\u001b[0m\u001b[0;34m(\u001b[0m\u001b[0;34m)\u001b[0m\u001b[0;34m)\u001b[0m\u001b[0;34m)\u001b[0m\u001b[0;34m\u001b[0m\u001b[0;34m\u001b[0m\u001b[0m\n",
       "\u001b[0;31mInit docstring:\u001b[0m Initializes internal Module state, shared by both nn.Module and ScriptModule.\n"
      ]
     },
     "metadata": {},
     "output_type": "display_data"
    }
   ],
   "source": [
    "model.bn??"
   ]
  },
  {
   "cell_type": "code",
   "execution_count": null,
   "metadata": {},
   "outputs": [],
   "source": []
  }
 ],
 "metadata": {
  "accelerator": "GPU",
  "colab": {
   "collapsed_sections": [],
   "name": "IVIV_2021.ipynb",
   "provenance": []
  },
  "kernelspec": {
   "display_name": "Python 3",
   "language": "python",
   "name": "python3"
  },
  "language_info": {
   "codemirror_mode": {
    "name": "ipython",
    "version": 3
   },
   "file_extension": ".py",
   "mimetype": "text/x-python",
   "name": "python",
   "nbconvert_exporter": "python",
   "pygments_lexer": "ipython3",
   "version": "3.8.0"
  }
 },
 "nbformat": 4,
 "nbformat_minor": 4
}
